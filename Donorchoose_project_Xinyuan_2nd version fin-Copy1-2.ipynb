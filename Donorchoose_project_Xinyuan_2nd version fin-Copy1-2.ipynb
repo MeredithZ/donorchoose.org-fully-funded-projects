{
 "cells": [
  {
   "cell_type": "code",
   "execution_count": 7,
   "metadata": {},
   "outputs": [],
   "source": [
    "import re\n",
    "import time\n",
    "\n",
    "import pandas as pd\n",
    "import numpy as np\n",
    "import pylab as plt\n",
    "%matplotlib inline\n",
    "from sklearn.tree import DecisionTreeClassifier\n",
    "from sklearn import preprocessing"
   ]
  },
  {
   "cell_type": "markdown",
   "metadata": {},
   "source": [
    "# Step 1: Read CSV"
   ]
  },
  {
   "cell_type": "markdown",
   "metadata": {},
   "source": [
    "To save typos in the future, we first convert a string that is camelcase into snake_case. Use underscores to avoid spaces in between of compound words."
   ]
  },
  {
   "cell_type": "code",
   "execution_count": 8,
   "metadata": {},
   "outputs": [],
   "source": [
    "def camel_to_snake(column_name):\n",
    "    s1 = re.sub('(.)([A-Z][a-z]+)', r'\\1_\\2', column_name)\n",
    "    return re.sub('([a-z0-9])([A-Z])', r'\\1_\\2', s1).lower()\n",
    "\n",
    "def read(file_name):\n",
    "    if not os.path.isfile(file_name):\n",
    "        raise ValueError('File Not Found')\n",
    "        \n",
    "    ext = file_name.split('.')[-1].lower()\n",
    "    if 'csv' == ext:\n",
    "        df = pd.read_csv(file_name)\n",
    "    elif 'xls' in ext:\n",
    "        df = pd.read_excel(file_name)\n",
    "    elif 'json' == ext:\n",
    "        df = pd.read_json(file_name)\n",
    "    else:\n",
    "        raise ValueError('Only support csv, xls and json')\n",
    "\n",
    "    return df"
   ]
  },
  {
   "cell_type": "markdown",
   "metadata": {},
   "source": [
    "## Merge on projectid"
   ]
  },
  {
   "cell_type": "markdown",
   "metadata": {},
   "source": [
    "Basic description: Projects data lists the demographics data of school profiles and associated socio-economic factors, and the project applications data. Outcomes data lists the outcomes(whether it is exciting or not) for each project. To be exciting, a project must meet all of the top five criteria,and meet at least one extra criteria. Donations data comprises donors information and donation details associated with each individual project. Essays data conclude all essay questions funding application materials. Resources data specifies those who requested resources. \n",
    "\n",
    "Data choosing criteria: Since the natural language processing is beyond the scope of the project, we will rule 'Essays' dataset out of our analysis.  \n",
    "\n",
    "Merging purpose: Merging is the first step to explore and pre-process data. For this step, I see Projects.csv as the master dataset, and merge outcomes, donations and resources datasets on projects dataset. By browsing the head of these dataset, we found the projectid could be used as primary key to merge data as it is the unique identification number that link all these four datasets together. "
   ]
  },
  {
   "cell_type": "code",
   "execution_count": 9,
   "metadata": {},
   "outputs": [],
   "source": [
    "df_project = pd.read_csv('./projects.csv', index_col='projectid')\n",
    "df_outcome = pd.read_csv('./outcomes.csv', index_col='projectid')\n",
    "df_donation = pd.read_csv('./donations.csv', index_col='projectid')\n",
    "df_resource = pd.read_csv('./resources.csv', index_col='projectid')"
   ]
  },
  {
   "cell_type": "code",
   "execution_count": 10,
   "metadata": {
    "scrolled": true
   },
   "outputs": [
    {
     "data": {
      "text/html": [
       "<div>\n",
       "<style scoped>\n",
       "    .dataframe tbody tr th:only-of-type {\n",
       "        vertical-align: middle;\n",
       "    }\n",
       "\n",
       "    .dataframe tbody tr th {\n",
       "        vertical-align: top;\n",
       "    }\n",
       "\n",
       "    .dataframe thead th {\n",
       "        text-align: right;\n",
       "    }\n",
       "</style>\n",
       "<table border=\"1\" class=\"dataframe\">\n",
       "  <thead>\n",
       "    <tr style=\"text-align: right;\">\n",
       "      <th></th>\n",
       "      <th>teacher_acctid</th>\n",
       "      <th>schoolid</th>\n",
       "      <th>school_ncesid</th>\n",
       "      <th>school_latitude</th>\n",
       "      <th>school_longitude</th>\n",
       "      <th>school_city</th>\n",
       "      <th>school_state</th>\n",
       "      <th>school_zip</th>\n",
       "      <th>school_metro</th>\n",
       "      <th>school_district</th>\n",
       "      <th>...</th>\n",
       "      <th>for_honoree</th>\n",
       "      <th>donation_message</th>\n",
       "      <th>resourceid</th>\n",
       "      <th>vendorid</th>\n",
       "      <th>vendor_name</th>\n",
       "      <th>project_resource_type</th>\n",
       "      <th>item_name</th>\n",
       "      <th>item_number</th>\n",
       "      <th>item_unit_price</th>\n",
       "      <th>item_quantity</th>\n",
       "    </tr>\n",
       "    <tr>\n",
       "      <th>projectid</th>\n",
       "      <th></th>\n",
       "      <th></th>\n",
       "      <th></th>\n",
       "      <th></th>\n",
       "      <th></th>\n",
       "      <th></th>\n",
       "      <th></th>\n",
       "      <th></th>\n",
       "      <th></th>\n",
       "      <th></th>\n",
       "      <th></th>\n",
       "      <th></th>\n",
       "      <th></th>\n",
       "      <th></th>\n",
       "      <th></th>\n",
       "      <th></th>\n",
       "      <th></th>\n",
       "      <th></th>\n",
       "      <th></th>\n",
       "      <th></th>\n",
       "      <th></th>\n",
       "    </tr>\n",
       "  </thead>\n",
       "  <tbody>\n",
       "    <tr>\n",
       "      <th>00001ccc0e81598c4bd86bacb94d7acb</th>\n",
       "      <td>96963218e74e10c3764a5cfb153e6fea</td>\n",
       "      <td>9f3f9f2c2da7edda5648ccd10554ed8c</td>\n",
       "      <td>1.709930e+11</td>\n",
       "      <td>41.807654</td>\n",
       "      <td>-87.673257</td>\n",
       "      <td>Chicago</td>\n",
       "      <td>IL</td>\n",
       "      <td>60609.0</td>\n",
       "      <td>urban</td>\n",
       "      <td>Pershing Elem Network</td>\n",
       "      <td>...</td>\n",
       "      <td>f</td>\n",
       "      <td>I gave because my students are AWESOME and the...</td>\n",
       "      <td>b3af2be825736f6d530314ae70e7c16c</td>\n",
       "      <td>767.0</td>\n",
       "      <td>Lakeshore Learning Materials</td>\n",
       "      <td>Supplies</td>\n",
       "      <td>CG582 - Adjustable Apron - Red</td>\n",
       "      <td>CG582</td>\n",
       "      <td>3.99</td>\n",
       "      <td>2.0</td>\n",
       "    </tr>\n",
       "    <tr>\n",
       "      <th>00001ccc0e81598c4bd86bacb94d7acb</th>\n",
       "      <td>96963218e74e10c3764a5cfb153e6fea</td>\n",
       "      <td>9f3f9f2c2da7edda5648ccd10554ed8c</td>\n",
       "      <td>1.709930e+11</td>\n",
       "      <td>41.807654</td>\n",
       "      <td>-87.673257</td>\n",
       "      <td>Chicago</td>\n",
       "      <td>IL</td>\n",
       "      <td>60609.0</td>\n",
       "      <td>urban</td>\n",
       "      <td>Pershing Elem Network</td>\n",
       "      <td>...</td>\n",
       "      <td>f</td>\n",
       "      <td>I gave because my students are AWESOME and the...</td>\n",
       "      <td>72f084e8c03ce9b3eff6e59de0476ef8</td>\n",
       "      <td>767.0</td>\n",
       "      <td>Lakeshore Learning Materials</td>\n",
       "      <td>Supplies</td>\n",
       "      <td>FF534 - Tissue Paper Squares</td>\n",
       "      <td>FF534</td>\n",
       "      <td>9.99</td>\n",
       "      <td>1.0</td>\n",
       "    </tr>\n",
       "    <tr>\n",
       "      <th>00001ccc0e81598c4bd86bacb94d7acb</th>\n",
       "      <td>96963218e74e10c3764a5cfb153e6fea</td>\n",
       "      <td>9f3f9f2c2da7edda5648ccd10554ed8c</td>\n",
       "      <td>1.709930e+11</td>\n",
       "      <td>41.807654</td>\n",
       "      <td>-87.673257</td>\n",
       "      <td>Chicago</td>\n",
       "      <td>IL</td>\n",
       "      <td>60609.0</td>\n",
       "      <td>urban</td>\n",
       "      <td>Pershing Elem Network</td>\n",
       "      <td>...</td>\n",
       "      <td>f</td>\n",
       "      <td>I gave because my students are AWESOME and the...</td>\n",
       "      <td>c2ea7ecbc583410fcec74c87ff102299</td>\n",
       "      <td>767.0</td>\n",
       "      <td>Lakeshore Learning Materials</td>\n",
       "      <td>Supplies</td>\n",
       "      <td>LM941 - Kid Counters</td>\n",
       "      <td>LM941</td>\n",
       "      <td>29.99</td>\n",
       "      <td>1.0</td>\n",
       "    </tr>\n",
       "    <tr>\n",
       "      <th>00001ccc0e81598c4bd86bacb94d7acb</th>\n",
       "      <td>96963218e74e10c3764a5cfb153e6fea</td>\n",
       "      <td>9f3f9f2c2da7edda5648ccd10554ed8c</td>\n",
       "      <td>1.709930e+11</td>\n",
       "      <td>41.807654</td>\n",
       "      <td>-87.673257</td>\n",
       "      <td>Chicago</td>\n",
       "      <td>IL</td>\n",
       "      <td>60609.0</td>\n",
       "      <td>urban</td>\n",
       "      <td>Pershing Elem Network</td>\n",
       "      <td>...</td>\n",
       "      <td>f</td>\n",
       "      <td>I gave because my students are AWESOME and the...</td>\n",
       "      <td>06d48fb6646b17eea8dd7e5fdd9a6178</td>\n",
       "      <td>767.0</td>\n",
       "      <td>Lakeshore Learning Materials</td>\n",
       "      <td>Supplies</td>\n",
       "      <td>LC987 - Newsprint Easel Paper - 16&amp;amp;#34; x ...</td>\n",
       "      <td>LC987</td>\n",
       "      <td>7.99</td>\n",
       "      <td>6.0</td>\n",
       "    </tr>\n",
       "    <tr>\n",
       "      <th>00001ccc0e81598c4bd86bacb94d7acb</th>\n",
       "      <td>96963218e74e10c3764a5cfb153e6fea</td>\n",
       "      <td>9f3f9f2c2da7edda5648ccd10554ed8c</td>\n",
       "      <td>1.709930e+11</td>\n",
       "      <td>41.807654</td>\n",
       "      <td>-87.673257</td>\n",
       "      <td>Chicago</td>\n",
       "      <td>IL</td>\n",
       "      <td>60609.0</td>\n",
       "      <td>urban</td>\n",
       "      <td>Pershing Elem Network</td>\n",
       "      <td>...</td>\n",
       "      <td>f</td>\n",
       "      <td>I gave because my students are AWESOME and the...</td>\n",
       "      <td>aac3650483a9c0a6614ebccc6c6ced90</td>\n",
       "      <td>767.0</td>\n",
       "      <td>Lakeshore Learning Materials</td>\n",
       "      <td>Supplies</td>\n",
       "      <td>LA743 - Glitter Pack - Set of 12</td>\n",
       "      <td>LA743</td>\n",
       "      <td>12.99</td>\n",
       "      <td>2.0</td>\n",
       "    </tr>\n",
       "  </tbody>\n",
       "</table>\n",
       "<p>5 rows × 73 columns</p>\n",
       "</div>"
      ],
      "text/plain": [
       "                                                    teacher_acctid  \\\n",
       "projectid                                                            \n",
       "00001ccc0e81598c4bd86bacb94d7acb  96963218e74e10c3764a5cfb153e6fea   \n",
       "00001ccc0e81598c4bd86bacb94d7acb  96963218e74e10c3764a5cfb153e6fea   \n",
       "00001ccc0e81598c4bd86bacb94d7acb  96963218e74e10c3764a5cfb153e6fea   \n",
       "00001ccc0e81598c4bd86bacb94d7acb  96963218e74e10c3764a5cfb153e6fea   \n",
       "00001ccc0e81598c4bd86bacb94d7acb  96963218e74e10c3764a5cfb153e6fea   \n",
       "\n",
       "                                                          schoolid  \\\n",
       "projectid                                                            \n",
       "00001ccc0e81598c4bd86bacb94d7acb  9f3f9f2c2da7edda5648ccd10554ed8c   \n",
       "00001ccc0e81598c4bd86bacb94d7acb  9f3f9f2c2da7edda5648ccd10554ed8c   \n",
       "00001ccc0e81598c4bd86bacb94d7acb  9f3f9f2c2da7edda5648ccd10554ed8c   \n",
       "00001ccc0e81598c4bd86bacb94d7acb  9f3f9f2c2da7edda5648ccd10554ed8c   \n",
       "00001ccc0e81598c4bd86bacb94d7acb  9f3f9f2c2da7edda5648ccd10554ed8c   \n",
       "\n",
       "                                  school_ncesid  school_latitude  \\\n",
       "projectid                                                          \n",
       "00001ccc0e81598c4bd86bacb94d7acb   1.709930e+11        41.807654   \n",
       "00001ccc0e81598c4bd86bacb94d7acb   1.709930e+11        41.807654   \n",
       "00001ccc0e81598c4bd86bacb94d7acb   1.709930e+11        41.807654   \n",
       "00001ccc0e81598c4bd86bacb94d7acb   1.709930e+11        41.807654   \n",
       "00001ccc0e81598c4bd86bacb94d7acb   1.709930e+11        41.807654   \n",
       "\n",
       "                                  school_longitude school_city school_state  \\\n",
       "projectid                                                                     \n",
       "00001ccc0e81598c4bd86bacb94d7acb        -87.673257     Chicago           IL   \n",
       "00001ccc0e81598c4bd86bacb94d7acb        -87.673257     Chicago           IL   \n",
       "00001ccc0e81598c4bd86bacb94d7acb        -87.673257     Chicago           IL   \n",
       "00001ccc0e81598c4bd86bacb94d7acb        -87.673257     Chicago           IL   \n",
       "00001ccc0e81598c4bd86bacb94d7acb        -87.673257     Chicago           IL   \n",
       "\n",
       "                                  school_zip school_metro  \\\n",
       "projectid                                                   \n",
       "00001ccc0e81598c4bd86bacb94d7acb     60609.0        urban   \n",
       "00001ccc0e81598c4bd86bacb94d7acb     60609.0        urban   \n",
       "00001ccc0e81598c4bd86bacb94d7acb     60609.0        urban   \n",
       "00001ccc0e81598c4bd86bacb94d7acb     60609.0        urban   \n",
       "00001ccc0e81598c4bd86bacb94d7acb     60609.0        urban   \n",
       "\n",
       "                                        school_district      ...       \\\n",
       "projectid                                                    ...        \n",
       "00001ccc0e81598c4bd86bacb94d7acb  Pershing Elem Network      ...        \n",
       "00001ccc0e81598c4bd86bacb94d7acb  Pershing Elem Network      ...        \n",
       "00001ccc0e81598c4bd86bacb94d7acb  Pershing Elem Network      ...        \n",
       "00001ccc0e81598c4bd86bacb94d7acb  Pershing Elem Network      ...        \n",
       "00001ccc0e81598c4bd86bacb94d7acb  Pershing Elem Network      ...        \n",
       "\n",
       "                                 for_honoree  \\\n",
       "projectid                                      \n",
       "00001ccc0e81598c4bd86bacb94d7acb           f   \n",
       "00001ccc0e81598c4bd86bacb94d7acb           f   \n",
       "00001ccc0e81598c4bd86bacb94d7acb           f   \n",
       "00001ccc0e81598c4bd86bacb94d7acb           f   \n",
       "00001ccc0e81598c4bd86bacb94d7acb           f   \n",
       "\n",
       "                                                                   donation_message  \\\n",
       "projectid                                                                             \n",
       "00001ccc0e81598c4bd86bacb94d7acb  I gave because my students are AWESOME and the...   \n",
       "00001ccc0e81598c4bd86bacb94d7acb  I gave because my students are AWESOME and the...   \n",
       "00001ccc0e81598c4bd86bacb94d7acb  I gave because my students are AWESOME and the...   \n",
       "00001ccc0e81598c4bd86bacb94d7acb  I gave because my students are AWESOME and the...   \n",
       "00001ccc0e81598c4bd86bacb94d7acb  I gave because my students are AWESOME and the...   \n",
       "\n",
       "                                                        resourceid vendorid  \\\n",
       "projectid                                                                     \n",
       "00001ccc0e81598c4bd86bacb94d7acb  b3af2be825736f6d530314ae70e7c16c    767.0   \n",
       "00001ccc0e81598c4bd86bacb94d7acb  72f084e8c03ce9b3eff6e59de0476ef8    767.0   \n",
       "00001ccc0e81598c4bd86bacb94d7acb  c2ea7ecbc583410fcec74c87ff102299    767.0   \n",
       "00001ccc0e81598c4bd86bacb94d7acb  06d48fb6646b17eea8dd7e5fdd9a6178    767.0   \n",
       "00001ccc0e81598c4bd86bacb94d7acb  aac3650483a9c0a6614ebccc6c6ced90    767.0   \n",
       "\n",
       "                                                   vendor_name  \\\n",
       "projectid                                                        \n",
       "00001ccc0e81598c4bd86bacb94d7acb  Lakeshore Learning Materials   \n",
       "00001ccc0e81598c4bd86bacb94d7acb  Lakeshore Learning Materials   \n",
       "00001ccc0e81598c4bd86bacb94d7acb  Lakeshore Learning Materials   \n",
       "00001ccc0e81598c4bd86bacb94d7acb  Lakeshore Learning Materials   \n",
       "00001ccc0e81598c4bd86bacb94d7acb  Lakeshore Learning Materials   \n",
       "\n",
       "                                 project_resource_type  \\\n",
       "projectid                                                \n",
       "00001ccc0e81598c4bd86bacb94d7acb              Supplies   \n",
       "00001ccc0e81598c4bd86bacb94d7acb              Supplies   \n",
       "00001ccc0e81598c4bd86bacb94d7acb              Supplies   \n",
       "00001ccc0e81598c4bd86bacb94d7acb              Supplies   \n",
       "00001ccc0e81598c4bd86bacb94d7acb              Supplies   \n",
       "\n",
       "                                                                          item_name  \\\n",
       "projectid                                                                             \n",
       "00001ccc0e81598c4bd86bacb94d7acb                     CG582 - Adjustable Apron - Red   \n",
       "00001ccc0e81598c4bd86bacb94d7acb                       FF534 - Tissue Paper Squares   \n",
       "00001ccc0e81598c4bd86bacb94d7acb                               LM941 - Kid Counters   \n",
       "00001ccc0e81598c4bd86bacb94d7acb  LC987 - Newsprint Easel Paper - 16&amp;#34; x ...   \n",
       "00001ccc0e81598c4bd86bacb94d7acb                   LA743 - Glitter Pack - Set of 12   \n",
       "\n",
       "                                 item_number item_unit_price item_quantity  \n",
       "projectid                                                                   \n",
       "00001ccc0e81598c4bd86bacb94d7acb       CG582            3.99           2.0  \n",
       "00001ccc0e81598c4bd86bacb94d7acb       FF534            9.99           1.0  \n",
       "00001ccc0e81598c4bd86bacb94d7acb       LM941           29.99           1.0  \n",
       "00001ccc0e81598c4bd86bacb94d7acb       LC987            7.99           6.0  \n",
       "00001ccc0e81598c4bd86bacb94d7acb       LA743           12.99           2.0  \n",
       "\n",
       "[5 rows x 73 columns]"
      ]
     },
     "execution_count": 10,
     "metadata": {},
     "output_type": "execute_result"
    }
   ],
   "source": [
    "df_origin = df_project.join(df_outcome)\n",
    "df_origin = df_origin.join(df_donation)\n",
    "df_origin = df_origin.join(df_resource)\n",
    "df_origin.columns = [camel_to_snake(col) for col in df_origin.columns]\n",
    "df_origin.head()"
   ]
  },
  {
   "cell_type": "markdown",
   "metadata": {},
   "source": [
    "# Step 2：Explore Data"
   ]
  },
  {
   "cell_type": "markdown",
   "metadata": {},
   "source": [
    "## 2.1 Basic info"
   ]
  },
  {
   "cell_type": "code",
   "execution_count": 15,
   "metadata": {
    "scrolled": true
   },
   "outputs": [
    {
     "data": {
      "text/html": [
       "<div>\n",
       "<style scoped>\n",
       "    .dataframe tbody tr th:only-of-type {\n",
       "        vertical-align: middle;\n",
       "    }\n",
       "\n",
       "    .dataframe tbody tr th {\n",
       "        vertical-align: top;\n",
       "    }\n",
       "\n",
       "    .dataframe thead th {\n",
       "        text-align: right;\n",
       "    }\n",
       "</style>\n",
       "<table border=\"1\" class=\"dataframe\">\n",
       "  <thead>\n",
       "    <tr style=\"text-align: right;\">\n",
       "      <th></th>\n",
       "      <th>teacher_acctid</th>\n",
       "      <th>schoolid</th>\n",
       "      <th>school_ncesid</th>\n",
       "      <th>school_latitude</th>\n",
       "      <th>school_longitude</th>\n",
       "      <th>school_city</th>\n",
       "      <th>school_state</th>\n",
       "      <th>school_zip</th>\n",
       "      <th>school_metro</th>\n",
       "      <th>school_district</th>\n",
       "      <th>...</th>\n",
       "      <th>for_honoree</th>\n",
       "      <th>donation_message</th>\n",
       "      <th>resourceid</th>\n",
       "      <th>vendorid</th>\n",
       "      <th>vendor_name</th>\n",
       "      <th>project_resource_type</th>\n",
       "      <th>item_name</th>\n",
       "      <th>item_number</th>\n",
       "      <th>item_unit_price</th>\n",
       "      <th>item_quantity</th>\n",
       "    </tr>\n",
       "    <tr>\n",
       "      <th>projectid</th>\n",
       "      <th></th>\n",
       "      <th></th>\n",
       "      <th></th>\n",
       "      <th></th>\n",
       "      <th></th>\n",
       "      <th></th>\n",
       "      <th></th>\n",
       "      <th></th>\n",
       "      <th></th>\n",
       "      <th></th>\n",
       "      <th></th>\n",
       "      <th></th>\n",
       "      <th></th>\n",
       "      <th></th>\n",
       "      <th></th>\n",
       "      <th></th>\n",
       "      <th></th>\n",
       "      <th></th>\n",
       "      <th></th>\n",
       "      <th></th>\n",
       "      <th></th>\n",
       "    </tr>\n",
       "  </thead>\n",
       "  <tbody>\n",
       "    <tr>\n",
       "      <th>00001ccc0e81598c4bd86bacb94d7acb</th>\n",
       "      <td>96963218e74e10c3764a5cfb153e6fea</td>\n",
       "      <td>9f3f9f2c2da7edda5648ccd10554ed8c</td>\n",
       "      <td>1.709930e+11</td>\n",
       "      <td>41.807654</td>\n",
       "      <td>-87.673257</td>\n",
       "      <td>Chicago</td>\n",
       "      <td>IL</td>\n",
       "      <td>60609.0</td>\n",
       "      <td>urban</td>\n",
       "      <td>Pershing Elem Network</td>\n",
       "      <td>...</td>\n",
       "      <td>f</td>\n",
       "      <td>I gave because my students are AWESOME and the...</td>\n",
       "      <td>b3af2be825736f6d530314ae70e7c16c</td>\n",
       "      <td>767.0</td>\n",
       "      <td>Lakeshore Learning Materials</td>\n",
       "      <td>Supplies</td>\n",
       "      <td>CG582 - Adjustable Apron - Red</td>\n",
       "      <td>CG582</td>\n",
       "      <td>3.99</td>\n",
       "      <td>2.0</td>\n",
       "    </tr>\n",
       "    <tr>\n",
       "      <th>00001ccc0e81598c4bd86bacb94d7acb</th>\n",
       "      <td>96963218e74e10c3764a5cfb153e6fea</td>\n",
       "      <td>9f3f9f2c2da7edda5648ccd10554ed8c</td>\n",
       "      <td>1.709930e+11</td>\n",
       "      <td>41.807654</td>\n",
       "      <td>-87.673257</td>\n",
       "      <td>Chicago</td>\n",
       "      <td>IL</td>\n",
       "      <td>60609.0</td>\n",
       "      <td>urban</td>\n",
       "      <td>Pershing Elem Network</td>\n",
       "      <td>...</td>\n",
       "      <td>f</td>\n",
       "      <td>I gave because my students are AWESOME and the...</td>\n",
       "      <td>72f084e8c03ce9b3eff6e59de0476ef8</td>\n",
       "      <td>767.0</td>\n",
       "      <td>Lakeshore Learning Materials</td>\n",
       "      <td>Supplies</td>\n",
       "      <td>FF534 - Tissue Paper Squares</td>\n",
       "      <td>FF534</td>\n",
       "      <td>9.99</td>\n",
       "      <td>1.0</td>\n",
       "    </tr>\n",
       "    <tr>\n",
       "      <th>00001ccc0e81598c4bd86bacb94d7acb</th>\n",
       "      <td>96963218e74e10c3764a5cfb153e6fea</td>\n",
       "      <td>9f3f9f2c2da7edda5648ccd10554ed8c</td>\n",
       "      <td>1.709930e+11</td>\n",
       "      <td>41.807654</td>\n",
       "      <td>-87.673257</td>\n",
       "      <td>Chicago</td>\n",
       "      <td>IL</td>\n",
       "      <td>60609.0</td>\n",
       "      <td>urban</td>\n",
       "      <td>Pershing Elem Network</td>\n",
       "      <td>...</td>\n",
       "      <td>f</td>\n",
       "      <td>I gave because my students are AWESOME and the...</td>\n",
       "      <td>c2ea7ecbc583410fcec74c87ff102299</td>\n",
       "      <td>767.0</td>\n",
       "      <td>Lakeshore Learning Materials</td>\n",
       "      <td>Supplies</td>\n",
       "      <td>LM941 - Kid Counters</td>\n",
       "      <td>LM941</td>\n",
       "      <td>29.99</td>\n",
       "      <td>1.0</td>\n",
       "    </tr>\n",
       "    <tr>\n",
       "      <th>00001ccc0e81598c4bd86bacb94d7acb</th>\n",
       "      <td>96963218e74e10c3764a5cfb153e6fea</td>\n",
       "      <td>9f3f9f2c2da7edda5648ccd10554ed8c</td>\n",
       "      <td>1.709930e+11</td>\n",
       "      <td>41.807654</td>\n",
       "      <td>-87.673257</td>\n",
       "      <td>Chicago</td>\n",
       "      <td>IL</td>\n",
       "      <td>60609.0</td>\n",
       "      <td>urban</td>\n",
       "      <td>Pershing Elem Network</td>\n",
       "      <td>...</td>\n",
       "      <td>f</td>\n",
       "      <td>I gave because my students are AWESOME and the...</td>\n",
       "      <td>06d48fb6646b17eea8dd7e5fdd9a6178</td>\n",
       "      <td>767.0</td>\n",
       "      <td>Lakeshore Learning Materials</td>\n",
       "      <td>Supplies</td>\n",
       "      <td>LC987 - Newsprint Easel Paper - 16&amp;amp;#34; x ...</td>\n",
       "      <td>LC987</td>\n",
       "      <td>7.99</td>\n",
       "      <td>6.0</td>\n",
       "    </tr>\n",
       "    <tr>\n",
       "      <th>00001ccc0e81598c4bd86bacb94d7acb</th>\n",
       "      <td>96963218e74e10c3764a5cfb153e6fea</td>\n",
       "      <td>9f3f9f2c2da7edda5648ccd10554ed8c</td>\n",
       "      <td>1.709930e+11</td>\n",
       "      <td>41.807654</td>\n",
       "      <td>-87.673257</td>\n",
       "      <td>Chicago</td>\n",
       "      <td>IL</td>\n",
       "      <td>60609.0</td>\n",
       "      <td>urban</td>\n",
       "      <td>Pershing Elem Network</td>\n",
       "      <td>...</td>\n",
       "      <td>f</td>\n",
       "      <td>I gave because my students are AWESOME and the...</td>\n",
       "      <td>aac3650483a9c0a6614ebccc6c6ced90</td>\n",
       "      <td>767.0</td>\n",
       "      <td>Lakeshore Learning Materials</td>\n",
       "      <td>Supplies</td>\n",
       "      <td>LA743 - Glitter Pack - Set of 12</td>\n",
       "      <td>LA743</td>\n",
       "      <td>12.99</td>\n",
       "      <td>2.0</td>\n",
       "    </tr>\n",
       "  </tbody>\n",
       "</table>\n",
       "<p>5 rows × 73 columns</p>\n",
       "</div>"
      ],
      "text/plain": [
       "                                                    teacher_acctid  \\\n",
       "projectid                                                            \n",
       "00001ccc0e81598c4bd86bacb94d7acb  96963218e74e10c3764a5cfb153e6fea   \n",
       "00001ccc0e81598c4bd86bacb94d7acb  96963218e74e10c3764a5cfb153e6fea   \n",
       "00001ccc0e81598c4bd86bacb94d7acb  96963218e74e10c3764a5cfb153e6fea   \n",
       "00001ccc0e81598c4bd86bacb94d7acb  96963218e74e10c3764a5cfb153e6fea   \n",
       "00001ccc0e81598c4bd86bacb94d7acb  96963218e74e10c3764a5cfb153e6fea   \n",
       "\n",
       "                                                          schoolid  \\\n",
       "projectid                                                            \n",
       "00001ccc0e81598c4bd86bacb94d7acb  9f3f9f2c2da7edda5648ccd10554ed8c   \n",
       "00001ccc0e81598c4bd86bacb94d7acb  9f3f9f2c2da7edda5648ccd10554ed8c   \n",
       "00001ccc0e81598c4bd86bacb94d7acb  9f3f9f2c2da7edda5648ccd10554ed8c   \n",
       "00001ccc0e81598c4bd86bacb94d7acb  9f3f9f2c2da7edda5648ccd10554ed8c   \n",
       "00001ccc0e81598c4bd86bacb94d7acb  9f3f9f2c2da7edda5648ccd10554ed8c   \n",
       "\n",
       "                                  school_ncesid  school_latitude  \\\n",
       "projectid                                                          \n",
       "00001ccc0e81598c4bd86bacb94d7acb   1.709930e+11        41.807654   \n",
       "00001ccc0e81598c4bd86bacb94d7acb   1.709930e+11        41.807654   \n",
       "00001ccc0e81598c4bd86bacb94d7acb   1.709930e+11        41.807654   \n",
       "00001ccc0e81598c4bd86bacb94d7acb   1.709930e+11        41.807654   \n",
       "00001ccc0e81598c4bd86bacb94d7acb   1.709930e+11        41.807654   \n",
       "\n",
       "                                  school_longitude school_city school_state  \\\n",
       "projectid                                                                     \n",
       "00001ccc0e81598c4bd86bacb94d7acb        -87.673257     Chicago           IL   \n",
       "00001ccc0e81598c4bd86bacb94d7acb        -87.673257     Chicago           IL   \n",
       "00001ccc0e81598c4bd86bacb94d7acb        -87.673257     Chicago           IL   \n",
       "00001ccc0e81598c4bd86bacb94d7acb        -87.673257     Chicago           IL   \n",
       "00001ccc0e81598c4bd86bacb94d7acb        -87.673257     Chicago           IL   \n",
       "\n",
       "                                  school_zip school_metro  \\\n",
       "projectid                                                   \n",
       "00001ccc0e81598c4bd86bacb94d7acb     60609.0        urban   \n",
       "00001ccc0e81598c4bd86bacb94d7acb     60609.0        urban   \n",
       "00001ccc0e81598c4bd86bacb94d7acb     60609.0        urban   \n",
       "00001ccc0e81598c4bd86bacb94d7acb     60609.0        urban   \n",
       "00001ccc0e81598c4bd86bacb94d7acb     60609.0        urban   \n",
       "\n",
       "                                        school_district      ...       \\\n",
       "projectid                                                    ...        \n",
       "00001ccc0e81598c4bd86bacb94d7acb  Pershing Elem Network      ...        \n",
       "00001ccc0e81598c4bd86bacb94d7acb  Pershing Elem Network      ...        \n",
       "00001ccc0e81598c4bd86bacb94d7acb  Pershing Elem Network      ...        \n",
       "00001ccc0e81598c4bd86bacb94d7acb  Pershing Elem Network      ...        \n",
       "00001ccc0e81598c4bd86bacb94d7acb  Pershing Elem Network      ...        \n",
       "\n",
       "                                 for_honoree  \\\n",
       "projectid                                      \n",
       "00001ccc0e81598c4bd86bacb94d7acb           f   \n",
       "00001ccc0e81598c4bd86bacb94d7acb           f   \n",
       "00001ccc0e81598c4bd86bacb94d7acb           f   \n",
       "00001ccc0e81598c4bd86bacb94d7acb           f   \n",
       "00001ccc0e81598c4bd86bacb94d7acb           f   \n",
       "\n",
       "                                                                   donation_message  \\\n",
       "projectid                                                                             \n",
       "00001ccc0e81598c4bd86bacb94d7acb  I gave because my students are AWESOME and the...   \n",
       "00001ccc0e81598c4bd86bacb94d7acb  I gave because my students are AWESOME and the...   \n",
       "00001ccc0e81598c4bd86bacb94d7acb  I gave because my students are AWESOME and the...   \n",
       "00001ccc0e81598c4bd86bacb94d7acb  I gave because my students are AWESOME and the...   \n",
       "00001ccc0e81598c4bd86bacb94d7acb  I gave because my students are AWESOME and the...   \n",
       "\n",
       "                                                        resourceid vendorid  \\\n",
       "projectid                                                                     \n",
       "00001ccc0e81598c4bd86bacb94d7acb  b3af2be825736f6d530314ae70e7c16c    767.0   \n",
       "00001ccc0e81598c4bd86bacb94d7acb  72f084e8c03ce9b3eff6e59de0476ef8    767.0   \n",
       "00001ccc0e81598c4bd86bacb94d7acb  c2ea7ecbc583410fcec74c87ff102299    767.0   \n",
       "00001ccc0e81598c4bd86bacb94d7acb  06d48fb6646b17eea8dd7e5fdd9a6178    767.0   \n",
       "00001ccc0e81598c4bd86bacb94d7acb  aac3650483a9c0a6614ebccc6c6ced90    767.0   \n",
       "\n",
       "                                                   vendor_name  \\\n",
       "projectid                                                        \n",
       "00001ccc0e81598c4bd86bacb94d7acb  Lakeshore Learning Materials   \n",
       "00001ccc0e81598c4bd86bacb94d7acb  Lakeshore Learning Materials   \n",
       "00001ccc0e81598c4bd86bacb94d7acb  Lakeshore Learning Materials   \n",
       "00001ccc0e81598c4bd86bacb94d7acb  Lakeshore Learning Materials   \n",
       "00001ccc0e81598c4bd86bacb94d7acb  Lakeshore Learning Materials   \n",
       "\n",
       "                                 project_resource_type  \\\n",
       "projectid                                                \n",
       "00001ccc0e81598c4bd86bacb94d7acb              Supplies   \n",
       "00001ccc0e81598c4bd86bacb94d7acb              Supplies   \n",
       "00001ccc0e81598c4bd86bacb94d7acb              Supplies   \n",
       "00001ccc0e81598c4bd86bacb94d7acb              Supplies   \n",
       "00001ccc0e81598c4bd86bacb94d7acb              Supplies   \n",
       "\n",
       "                                                                          item_name  \\\n",
       "projectid                                                                             \n",
       "00001ccc0e81598c4bd86bacb94d7acb                     CG582 - Adjustable Apron - Red   \n",
       "00001ccc0e81598c4bd86bacb94d7acb                       FF534 - Tissue Paper Squares   \n",
       "00001ccc0e81598c4bd86bacb94d7acb                               LM941 - Kid Counters   \n",
       "00001ccc0e81598c4bd86bacb94d7acb  LC987 - Newsprint Easel Paper - 16&amp;#34; x ...   \n",
       "00001ccc0e81598c4bd86bacb94d7acb                   LA743 - Glitter Pack - Set of 12   \n",
       "\n",
       "                                 item_number item_unit_price item_quantity  \n",
       "projectid                                                                   \n",
       "00001ccc0e81598c4bd86bacb94d7acb       CG582            3.99           2.0  \n",
       "00001ccc0e81598c4bd86bacb94d7acb       FF534            9.99           1.0  \n",
       "00001ccc0e81598c4bd86bacb94d7acb       LM941           29.99           1.0  \n",
       "00001ccc0e81598c4bd86bacb94d7acb       LC987            7.99           6.0  \n",
       "00001ccc0e81598c4bd86bacb94d7acb       LA743           12.99           2.0  \n",
       "\n",
       "[5 rows x 73 columns]"
      ]
     },
     "execution_count": 15,
     "metadata": {},
     "output_type": "execute_result"
    }
   ],
   "source": [
    "df = df_origin.sample(n=5000)\n",
    "df.head()"
   ]
  },
  {
   "cell_type": "markdown",
   "metadata": {},
   "source": [
    "## 2.2 Data discriptions"
   ]
  },
  {
   "cell_type": "markdown",
   "metadata": {},
   "source": [
    "In this section, we want know the distributions of these variables, and correlations between these variables, as well as the changes and trends over time."
   ]
  },
  {
   "cell_type": "markdown",
   "metadata": {},
   "source": [
    "## 2.2.1 Distributions of different variables"
   ]
  },
  {
   "cell_type": "markdown",
   "metadata": {},
   "source": [
    "From literature review, TFA teachers, charter schools, magnet schools and poverty level are terminologies that always appear in the paper of low income education. We would like to examine the distributions of these variables."
   ]
  },
  {
   "cell_type": "code",
   "execution_count": 18,
   "metadata": {},
   "outputs": [
    {
     "name": "stdout",
     "output_type": "stream",
     "text": [
      "mean period:  32.50186721991701\n"
     ]
    },
    {
     "data": {
      "image/png": "[encoded data removed]",
      "text/plain": [
       "<Figure size 432x288 with 1 Axes>"
      ]
     },
     "metadata": {},
     "output_type": "display_data"
    }
   ],
   "source": [
    "df['period'] = pd.to_datetime(df['donation_timestamp']) -  pd.to_datetime(df['date_posted'])\n",
    "df['period'] = df['period'].apply(lambda x: x.days)\n",
    "df[(df['period'] > -1) & (df['period'] < 101)]['period'].hist()\n",
    "print('mean period: ', np.mean(df['period'].dropna()))"
   ]
  },
  {
   "cell_type": "code",
   "execution_count": 19,
   "metadata": {},
   "outputs": [
    {
     "data": {
      "text/html": [
       "<div>\n",
       "<style scoped>\n",
       "    .dataframe tbody tr th:only-of-type {\n",
       "        vertical-align: middle;\n",
       "    }\n",
       "\n",
       "    .dataframe tbody tr th {\n",
       "        vertical-align: top;\n",
       "    }\n",
       "\n",
       "    .dataframe thead th {\n",
       "        text-align: right;\n",
       "    }\n",
       "</style>\n",
       "<table border=\"1\" class=\"dataframe\">\n",
       "  <thead>\n",
       "    <tr style=\"text-align: right;\">\n",
       "      <th></th>\n",
       "      <th>school_ncesid</th>\n",
       "      <th>school_latitude</th>\n",
       "      <th>school_longitude</th>\n",
       "      <th>school_zip</th>\n",
       "      <th>fulfillment_labor_materials</th>\n",
       "      <th>total_price_excluding_optional_support</th>\n",
       "      <th>total_price_including_optional_support</th>\n",
       "      <th>students_reached</th>\n",
       "      <th>great_messages_proportion</th>\n",
       "      <th>teacher_referred_count</th>\n",
       "      <th>non_teacher_referred_count</th>\n",
       "      <th>donor_zip</th>\n",
       "      <th>donation_to_project</th>\n",
       "      <th>donation_optional_support</th>\n",
       "      <th>donation_total</th>\n",
       "      <th>vendorid</th>\n",
       "      <th>item_unit_price</th>\n",
       "      <th>item_quantity</th>\n",
       "      <th>period</th>\n",
       "    </tr>\n",
       "  </thead>\n",
       "  <tbody>\n",
       "    <tr>\n",
       "      <th>count</th>\n",
       "      <td>9.113000e+03</td>\n",
       "      <td>10000.000000</td>\n",
       "      <td>10000.000000</td>\n",
       "      <td>10000.000000</td>\n",
       "      <td>9907.000000</td>\n",
       "      <td>10000.000000</td>\n",
       "      <td>10000.000000</td>\n",
       "      <td>10000.000000</td>\n",
       "      <td>8984.000000</td>\n",
       "      <td>9639.000000</td>\n",
       "      <td>9639.000000</td>\n",
       "      <td>4681.000000</td>\n",
       "      <td>9640.000000</td>\n",
       "      <td>9640.000000</td>\n",
       "      <td>9640.000000</td>\n",
       "      <td>9881.000000</td>\n",
       "      <td>9995.000000</td>\n",
       "      <td>9995.000000</td>\n",
       "      <td>9640.000000</td>\n",
       "    </tr>\n",
       "    <tr>\n",
       "      <th>mean</th>\n",
       "      <td>2.823786e+11</td>\n",
       "      <td>37.173456</td>\n",
       "      <td>-94.093554</td>\n",
       "      <td>51227.834700</td>\n",
       "      <td>29.587362</td>\n",
       "      <td>594.817801</td>\n",
       "      <td>702.643883</td>\n",
       "      <td>111.929000</td>\n",
       "      <td>52.995325</td>\n",
       "      <td>0.929972</td>\n",
       "      <td>15.178234</td>\n",
       "      <td>47837.155309</td>\n",
       "      <td>71.807492</td>\n",
       "      <td>11.945086</td>\n",
       "      <td>83.752578</td>\n",
       "      <td>422.257464</td>\n",
       "      <td>56.394342</td>\n",
       "      <td>2.153077</td>\n",
       "      <td>32.501867</td>\n",
       "    </tr>\n",
       "    <tr>\n",
       "      <th>std</th>\n",
       "      <td>1.611152e+11</td>\n",
       "      <td>5.041412</td>\n",
       "      <td>17.145902</td>\n",
       "      <td>30532.186426</td>\n",
       "      <td>7.511315</td>\n",
       "      <td>341.500172</td>\n",
       "      <td>401.266404</td>\n",
       "      <td>142.137921</td>\n",
       "      <td>29.333647</td>\n",
       "      <td>1.427058</td>\n",
       "      <td>15.811165</td>\n",
       "      <td>32723.250081</td>\n",
       "      <td>156.163139</td>\n",
       "      <td>27.160769</td>\n",
       "      <td>182.022430</td>\n",
       "      <td>356.555105</td>\n",
       "      <td>124.614989</td>\n",
       "      <td>5.318454</td>\n",
       "      <td>35.828698</td>\n",
       "    </tr>\n",
       "    <tr>\n",
       "      <th>min</th>\n",
       "      <td>1.000050e+10</td>\n",
       "      <td>25.714563</td>\n",
       "      <td>-149.953781</td>\n",
       "      <td>1108.000000</td>\n",
       "      <td>9.000000</td>\n",
       "      <td>72.720000</td>\n",
       "      <td>88.680000</td>\n",
       "      <td>0.000000</td>\n",
       "      <td>0.000000</td>\n",
       "      <td>0.000000</td>\n",
       "      <td>0.000000</td>\n",
       "      <td>0.000000</td>\n",
       "      <td>0.820000</td>\n",
       "      <td>0.000000</td>\n",
       "      <td>1.000000</td>\n",
       "      <td>2.000000</td>\n",
       "      <td>0.010000</td>\n",
       "      <td>1.000000</td>\n",
       "      <td>0.000000</td>\n",
       "    </tr>\n",
       "    <tr>\n",
       "      <th>25%</th>\n",
       "      <td>1.201140e+11</td>\n",
       "      <td>33.641933</td>\n",
       "      <td>-118.212428</td>\n",
       "      <td>28586.000000</td>\n",
       "      <td>30.000000</td>\n",
       "      <td>351.790000</td>\n",
       "      <td>419.510000</td>\n",
       "      <td>20.000000</td>\n",
       "      <td>28.000000</td>\n",
       "      <td>0.000000</td>\n",
       "      <td>3.000000</td>\n",
       "      <td>19468.000000</td>\n",
       "      <td>8.500000</td>\n",
       "      <td>1.500000</td>\n",
       "      <td>10.000000</td>\n",
       "      <td>21.000000</td>\n",
       "      <td>7.210000</td>\n",
       "      <td>1.000000</td>\n",
       "      <td>6.000000</td>\n",
       "    </tr>\n",
       "    <tr>\n",
       "      <th>50%</th>\n",
       "      <td>2.804470e+11</td>\n",
       "      <td>36.026976</td>\n",
       "      <td>-90.582809</td>\n",
       "      <td>39183.000000</td>\n",
       "      <td>30.000000</td>\n",
       "      <td>486.000000</td>\n",
       "      <td>586.210000</td>\n",
       "      <td>38.000000</td>\n",
       "      <td>60.000000</td>\n",
       "      <td>0.000000</td>\n",
       "      <td>7.000000</td>\n",
       "      <td>39216.000000</td>\n",
       "      <td>20.500000</td>\n",
       "      <td>3.080000</td>\n",
       "      <td>25.000000</td>\n",
       "      <td>754.000000</td>\n",
       "      <td>14.950000</td>\n",
       "      <td>1.000000</td>\n",
       "      <td>20.000000</td>\n",
       "    </tr>\n",
       "    <tr>\n",
       "      <th>75%</th>\n",
       "      <td>4.100020e+11</td>\n",
       "      <td>40.812793</td>\n",
       "      <td>-80.304710</td>\n",
       "      <td>90003.000000</td>\n",
       "      <td>35.000000</td>\n",
       "      <td>897.070000</td>\n",
       "      <td>1055.380000</td>\n",
       "      <td>150.000000</td>\n",
       "      <td>79.000000</td>\n",
       "      <td>1.000000</td>\n",
       "      <td>40.000000</td>\n",
       "      <td>85021.000000</td>\n",
       "      <td>56.100000</td>\n",
       "      <td>7.500000</td>\n",
       "      <td>63.870000</td>\n",
       "      <td>767.000000</td>\n",
       "      <td>39.950000</td>\n",
       "      <td>1.000000</td>\n",
       "      <td>44.000000</td>\n",
       "    </tr>\n",
       "    <tr>\n",
       "      <th>max</th>\n",
       "      <td>5.510920e+11</td>\n",
       "      <td>61.152924</td>\n",
       "      <td>-70.130079</td>\n",
       "      <td>99502.000000</td>\n",
       "      <td>35.000000</td>\n",
       "      <td>3356.010000</td>\n",
       "      <td>3948.250000</td>\n",
       "      <td>999.000000</td>\n",
       "      <td>100.000000</td>\n",
       "      <td>9.000000</td>\n",
       "      <td>43.000000</td>\n",
       "      <td>99517.000000</td>\n",
       "      <td>1351.770000</td>\n",
       "      <td>238.550000</td>\n",
       "      <td>1590.320000</td>\n",
       "      <td>1020.000000</td>\n",
       "      <td>2000.000000</td>\n",
       "      <td>115.000000</td>\n",
       "      <td>283.000000</td>\n",
       "    </tr>\n",
       "  </tbody>\n",
       "</table>\n",
       "</div>"
      ],
      "text/plain": [
       "       school_ncesid  school_latitude  school_longitude    school_zip  \\\n",
       "count   9.113000e+03     10000.000000      10000.000000  10000.000000   \n",
       "mean    2.823786e+11        37.173456        -94.093554  51227.834700   \n",
       "std     1.611152e+11         5.041412         17.145902  30532.186426   \n",
       "min     1.000050e+10        25.714563       -149.953781   1108.000000   \n",
       "25%     1.201140e+11        33.641933       -118.212428  28586.000000   \n",
       "50%     2.804470e+11        36.026976        -90.582809  39183.000000   \n",
       "75%     4.100020e+11        40.812793        -80.304710  90003.000000   \n",
       "max     5.510920e+11        61.152924        -70.130079  99502.000000   \n",
       "\n",
       "       fulfillment_labor_materials  total_price_excluding_optional_support  \\\n",
       "count                  9907.000000                            10000.000000   \n",
       "mean                     29.587362                              594.817801   \n",
       "std                       7.511315                              341.500172   \n",
       "min                       9.000000                               72.720000   \n",
       "25%                      30.000000                              351.790000   \n",
       "50%                      30.000000                              486.000000   \n",
       "75%                      35.000000                              897.070000   \n",
       "max                      35.000000                             3356.010000   \n",
       "\n",
       "       total_price_including_optional_support  students_reached  \\\n",
       "count                            10000.000000      10000.000000   \n",
       "mean                               702.643883        111.929000   \n",
       "std                                401.266404        142.137921   \n",
       "min                                 88.680000          0.000000   \n",
       "25%                                419.510000         20.000000   \n",
       "50%                                586.210000         38.000000   \n",
       "75%                               1055.380000        150.000000   \n",
       "max                               3948.250000        999.000000   \n",
       "\n",
       "       great_messages_proportion  teacher_referred_count  \\\n",
       "count                8984.000000             9639.000000   \n",
       "mean                   52.995325                0.929972   \n",
       "std                    29.333647                1.427058   \n",
       "min                     0.000000                0.000000   \n",
       "25%                    28.000000                0.000000   \n",
       "50%                    60.000000                0.000000   \n",
       "75%                    79.000000                1.000000   \n",
       "max                   100.000000                9.000000   \n",
       "\n",
       "       non_teacher_referred_count     donor_zip  donation_to_project  \\\n",
       "count                 9639.000000   4681.000000          9640.000000   \n",
       "mean                    15.178234  47837.155309            71.807492   \n",
       "std                     15.811165  32723.250081           156.163139   \n",
       "min                      0.000000      0.000000             0.820000   \n",
       "25%                      3.000000  19468.000000             8.500000   \n",
       "50%                      7.000000  39216.000000            20.500000   \n",
       "75%                     40.000000  85021.000000            56.100000   \n",
       "max                     43.000000  99517.000000          1351.770000   \n",
       "\n",
       "       donation_optional_support  donation_total     vendorid  \\\n",
       "count                9640.000000     9640.000000  9881.000000   \n",
       "mean                   11.945086       83.752578   422.257464   \n",
       "std                    27.160769      182.022430   356.555105   \n",
       "min                     0.000000        1.000000     2.000000   \n",
       "25%                     1.500000       10.000000    21.000000   \n",
       "50%                     3.080000       25.000000   754.000000   \n",
       "75%                     7.500000       63.870000   767.000000   \n",
       "max                   238.550000     1590.320000  1020.000000   \n",
       "\n",
       "       item_unit_price  item_quantity       period  \n",
       "count      9995.000000    9995.000000  9640.000000  \n",
       "mean         56.394342       2.153077    32.501867  \n",
       "std         124.614989       5.318454    35.828698  \n",
       "min           0.010000       1.000000     0.000000  \n",
       "25%           7.210000       1.000000     6.000000  \n",
       "50%          14.950000       1.000000    20.000000  \n",
       "75%          39.950000       1.000000    44.000000  \n",
       "max        2000.000000     115.000000   283.000000  "
      ]
     },
     "execution_count": 19,
     "metadata": {},
     "output_type": "execute_result"
    }
   ],
   "source": [
    "df.describe()"
   ]
  },
  {
   "cell_type": "markdown",
   "metadata": {},
   "source": [
    "60 days of duration to get projects completed are at around 75%. So I choose 60 for the threshold as it covers majority of the population and the intervention plan will become more meaningful."
   ]
  },
  {
   "cell_type": "code",
   "execution_count": 20,
   "metadata": {
    "scrolled": true
   },
   "outputs": [
    {
     "data": {
      "text/plain": [
       "<matplotlib.axes._subplots.AxesSubplot at 0x7fdf12ec2f60>"
      ]
     },
     "execution_count": 20,
     "metadata": {},
     "output_type": "execute_result"
    },
    {
     "data": {
      "image/png": "[encoded data removed]",
      "text/plain": [
       "<Figure size 432x288 with 1 Axes>"
      ]
     },
     "metadata": {},
     "output_type": "display_data"
    }
   ],
   "source": [
    "# if period > 60 & fully_funded == 't', then change its value to 'f'\n",
    "df.loc[(df['period'] > 60) & (df['fully_funded'] == 't'), 'fully_funded'] = 'f'\n",
    "del df['period']\n",
    "del df['donation_timestamp']\n",
    "df['fully_funded'].value_counts().plot.bar(title = \"fully_funded frequency\", color = \"steelblue\")"
   ]
  },
  {
   "cell_type": "code",
   "execution_count": 21,
   "metadata": {},
   "outputs": [
    {
     "data": {
      "text/plain": [
       "t    0.792926\n",
       "f    0.207074\n",
       "Name: fully_funded, dtype: float64"
      ]
     },
     "execution_count": 21,
     "metadata": {},
     "output_type": "execute_result"
    }
   ],
   "source": [
    "ratio = df[\"fully_funded\"].value_counts(normalize = True)\n",
    "ratio"
   ]
  },
  {
   "cell_type": "code",
   "execution_count": 22,
   "metadata": {},
   "outputs": [
    {
     "data": {
      "text/html": [
       "<div>\n",
       "<style scoped>\n",
       "    .dataframe tbody tr th:only-of-type {\n",
       "        vertical-align: middle;\n",
       "    }\n",
       "\n",
       "    .dataframe tbody tr th {\n",
       "        vertical-align: top;\n",
       "    }\n",
       "\n",
       "    .dataframe thead th {\n",
       "        text-align: right;\n",
       "    }\n",
       "</style>\n",
       "<table border=\"1\" class=\"dataframe\">\n",
       "  <thead>\n",
       "    <tr style=\"text-align: right;\">\n",
       "      <th></th>\n",
       "      <th>count</th>\n",
       "      <th>mean</th>\n",
       "      <th>std</th>\n",
       "      <th>min</th>\n",
       "      <th>25%</th>\n",
       "      <th>50%</th>\n",
       "      <th>75%</th>\n",
       "      <th>max</th>\n",
       "    </tr>\n",
       "    <tr>\n",
       "      <th>resource_type</th>\n",
       "      <th></th>\n",
       "      <th></th>\n",
       "      <th></th>\n",
       "      <th></th>\n",
       "      <th></th>\n",
       "      <th></th>\n",
       "      <th></th>\n",
       "      <th></th>\n",
       "    </tr>\n",
       "  </thead>\n",
       "  <tbody>\n",
       "    <tr>\n",
       "      <th>Books</th>\n",
       "      <td>4664.0</td>\n",
       "      <td>743.262078</td>\n",
       "      <td>441.378727</td>\n",
       "      <td>163.79</td>\n",
       "      <td>448.71</td>\n",
       "      <td>843.40</td>\n",
       "      <td>1055.38</td>\n",
       "      <td>3877.20</td>\n",
       "    </tr>\n",
       "    <tr>\n",
       "      <th>Other</th>\n",
       "      <td>932.0</td>\n",
       "      <td>485.540891</td>\n",
       "      <td>207.437447</td>\n",
       "      <td>191.46</td>\n",
       "      <td>389.73</td>\n",
       "      <td>389.73</td>\n",
       "      <td>562.06</td>\n",
       "      <td>1184.99</td>\n",
       "    </tr>\n",
       "    <tr>\n",
       "      <th>Supplies</th>\n",
       "      <td>3392.0</td>\n",
       "      <td>690.421577</td>\n",
       "      <td>359.262570</td>\n",
       "      <td>88.68</td>\n",
       "      <td>435.88</td>\n",
       "      <td>556.10</td>\n",
       "      <td>1079.89</td>\n",
       "      <td>3948.25</td>\n",
       "    </tr>\n",
       "    <tr>\n",
       "      <th>Technology</th>\n",
       "      <td>1007.0</td>\n",
       "      <td>757.289881</td>\n",
       "      <td>408.658217</td>\n",
       "      <td>150.00</td>\n",
       "      <td>527.74</td>\n",
       "      <td>647.79</td>\n",
       "      <td>908.39</td>\n",
       "      <td>3591.11</td>\n",
       "    </tr>\n",
       "    <tr>\n",
       "      <th>Trips</th>\n",
       "      <td>5.0</td>\n",
       "      <td>567.898000</td>\n",
       "      <td>385.771124</td>\n",
       "      <td>150.63</td>\n",
       "      <td>150.63</td>\n",
       "      <td>796.24</td>\n",
       "      <td>796.24</td>\n",
       "      <td>945.75</td>\n",
       "    </tr>\n",
       "  </tbody>\n",
       "</table>\n",
       "</div>"
      ],
      "text/plain": [
       "                count        mean         std     min     25%     50%  \\\n",
       "resource_type                                                           \n",
       "Books          4664.0  743.262078  441.378727  163.79  448.71  843.40   \n",
       "Other           932.0  485.540891  207.437447  191.46  389.73  389.73   \n",
       "Supplies       3392.0  690.421577  359.262570   88.68  435.88  556.10   \n",
       "Technology     1007.0  757.289881  408.658217  150.00  527.74  647.79   \n",
       "Trips             5.0  567.898000  385.771124  150.63  150.63  796.24   \n",
       "\n",
       "                   75%      max  \n",
       "resource_type                    \n",
       "Books          1055.38  3877.20  \n",
       "Other           562.06  1184.99  \n",
       "Supplies       1079.89  3948.25  \n",
       "Technology      908.39  3591.11  \n",
       "Trips           796.24   945.75  "
      ]
     },
     "execution_count": 22,
     "metadata": {},
     "output_type": "execute_result"
    }
   ],
   "source": [
    "df.groupby('resource_type')['total_price_including_optional_support'].describe()"
   ]
  },
  {
   "cell_type": "code",
   "execution_count": 23,
   "metadata": {},
   "outputs": [
    {
     "data": {
      "text/html": [
       "<div>\n",
       "<style scoped>\n",
       "    .dataframe tbody tr th:only-of-type {\n",
       "        vertical-align: middle;\n",
       "    }\n",
       "\n",
       "    .dataframe tbody tr th {\n",
       "        vertical-align: top;\n",
       "    }\n",
       "\n",
       "    .dataframe thead th {\n",
       "        text-align: right;\n",
       "    }\n",
       "</style>\n",
       "<table border=\"1\" class=\"dataframe\">\n",
       "  <thead>\n",
       "    <tr style=\"text-align: right;\">\n",
       "      <th></th>\n",
       "      <th>count</th>\n",
       "      <th>unique</th>\n",
       "      <th>top</th>\n",
       "      <th>freq</th>\n",
       "    </tr>\n",
       "    <tr>\n",
       "      <th>resource_type</th>\n",
       "      <th></th>\n",
       "      <th></th>\n",
       "      <th></th>\n",
       "      <th></th>\n",
       "    </tr>\n",
       "  </thead>\n",
       "  <tbody>\n",
       "    <tr>\n",
       "      <th>Books</th>\n",
       "      <td>4655</td>\n",
       "      <td>2</td>\n",
       "      <td>t</td>\n",
       "      <td>4207</td>\n",
       "    </tr>\n",
       "    <tr>\n",
       "      <th>Other</th>\n",
       "      <td>931</td>\n",
       "      <td>2</td>\n",
       "      <td>t</td>\n",
       "      <td>499</td>\n",
       "    </tr>\n",
       "    <tr>\n",
       "      <th>Supplies</th>\n",
       "      <td>3354</td>\n",
       "      <td>2</td>\n",
       "      <td>t</td>\n",
       "      <td>2667</td>\n",
       "    </tr>\n",
       "    <tr>\n",
       "      <th>Technology</th>\n",
       "      <td>980</td>\n",
       "      <td>2</td>\n",
       "      <td>t</td>\n",
       "      <td>494</td>\n",
       "    </tr>\n",
       "    <tr>\n",
       "      <th>Trips</th>\n",
       "      <td>4</td>\n",
       "      <td>2</td>\n",
       "      <td>f</td>\n",
       "      <td>2</td>\n",
       "    </tr>\n",
       "  </tbody>\n",
       "</table>\n",
       "</div>"
      ],
      "text/plain": [
       "              count unique top  freq\n",
       "resource_type                       \n",
       "Books          4655      2   t  4207\n",
       "Other           931      2   t   499\n",
       "Supplies       3354      2   t  2667\n",
       "Technology      980      2   t   494\n",
       "Trips             4      2   f     2"
      ]
     },
     "execution_count": 23,
     "metadata": {},
     "output_type": "execute_result"
    }
   ],
   "source": [
    "df.groupby('resource_type')['fully_funded'].describe()"
   ]
  },
  {
   "cell_type": "code",
   "execution_count": 24,
   "metadata": {},
   "outputs": [
    {
     "data": {
      "text/plain": [
       "<matplotlib.axes._subplots.AxesSubplot at 0x7fdf12bc18d0>"
      ]
     },
     "execution_count": 24,
     "metadata": {},
     "output_type": "execute_result"
    },
    {
     "data": {
      "image/png": "[encoded data removed]",
      "text/plain": [
       "<Figure size 432x288 with 1 Axes>"
      ]
     },
     "metadata": {},
     "output_type": "display_data"
    }
   ],
   "source": [
    "df['teacher_teach_for_america'].value_counts().plot.bar(title = \"TFA teachers distribution\", color = \"steelblue\")"
   ]
  },
  {
   "cell_type": "code",
   "execution_count": 25,
   "metadata": {},
   "outputs": [
    {
     "data": {
      "text/plain": [
       "<matplotlib.axes._subplots.AxesSubplot at 0x7fdf11391128>"
      ]
     },
     "execution_count": 25,
     "metadata": {},
     "output_type": "execute_result"
    },
    {
     "data": {
      "image/png": "[encoded data removed]",
      "text/plain": [
       "<Figure size 432x288 with 1 Axes>"
      ]
     },
     "metadata": {},
     "output_type": "display_data"
    }
   ],
   "source": [
    "df['school_charter'].value_counts().plot.bar(title = \"Charter school distribution\", color = \"steelblue\")"
   ]
  },
  {
   "cell_type": "code",
   "execution_count": 26,
   "metadata": {},
   "outputs": [
    {
     "data": {
      "text/plain": [
       "<matplotlib.axes._subplots.AxesSubplot at 0x7fdf1136ca20>"
      ]
     },
     "execution_count": 26,
     "metadata": {},
     "output_type": "execute_result"
    },
    {
     "data": {
      "image/png": "[encoded data removed]",
      "text/plain": [
       "<Figure size 432x288 with 1 Axes>"
      ]
     },
     "metadata": {},
     "output_type": "display_data"
    }
   ],
   "source": [
    "df['school_magnet'].value_counts().plot.bar(title = \"magnet schools distribution\", color = \"steelblue\")"
   ]
  },
  {
   "cell_type": "code",
   "execution_count": 27,
   "metadata": {},
   "outputs": [
    {
     "data": {
      "text/plain": [
       "<matplotlib.axes._subplots.AxesSubplot at 0x7fdf112cbac8>"
      ]
     },
     "execution_count": 27,
     "metadata": {},
     "output_type": "execute_result"
    },
    {
     "data": {
      "image/png": "[encoded data removed]",
      "text/plain": [
       "<Figure size 432x288 with 1 Axes>"
      ]
     },
     "metadata": {},
     "output_type": "display_data"
    }
   ],
   "source": [
    "df['school_kipp'].value_counts().plot.bar(title = \"KIPP schools distribution\", color = \"steelblue\")"
   ]
  },
  {
   "cell_type": "code",
   "execution_count": 28,
   "metadata": {
    "scrolled": true
   },
   "outputs": [
    {
     "data": {
      "text/plain": [
       "<matplotlib.axes._subplots.AxesSubplot at 0x7fdf1129af28>"
      ]
     },
     "execution_count": 28,
     "metadata": {},
     "output_type": "execute_result"
    },
    {
     "data": {
      "image/png": "[encoded data removed]",
      "text/plain": [
       "<Figure size 432x288 with 1 Axes>"
      ]
     },
     "metadata": {},
     "output_type": "display_data"
    }
   ],
   "source": [
    "df['primary_focus_subject'].value_counts().plot.bar(title = \"Funding primary focus\", color = \"steelblue\")"
   ]
  },
  {
   "cell_type": "code",
   "execution_count": 29,
   "metadata": {},
   "outputs": [
    {
     "data": {
      "text/plain": [
       "<matplotlib.axes._subplots.AxesSubplot at 0x7fdf11325a20>"
      ]
     },
     "execution_count": 29,
     "metadata": {},
     "output_type": "execute_result"
    },
    {
     "data": {
      "image/png": "[encoded data removed]",
      "text/plain": [
       "<Figure size 432x288 with 1 Axes>"
      ]
     },
     "metadata": {},
     "output_type": "display_data"
    }
   ],
   "source": [
    "df['resource_type'].value_counts().plot.bar(title = \"Resource Type Distribution\", color = \"steelblue\")"
   ]
  },
  {
   "cell_type": "code",
   "execution_count": 30,
   "metadata": {
    "scrolled": true
   },
   "outputs": [
    {
     "data": {
      "text/plain": [
       "Books         0.4664\n",
       "Supplies      0.3392\n",
       "Technology    0.1007\n",
       "Other         0.0932\n",
       "Trips         0.0005\n",
       "Name: resource_type, dtype: float64"
      ]
     },
     "execution_count": 30,
     "metadata": {},
     "output_type": "execute_result"
    }
   ],
   "source": [
    "ratio = df[\"resource_type\"].value_counts(normalize = True)\n",
    "ratio"
   ]
  },
  {
   "cell_type": "code",
   "execution_count": 31,
   "metadata": {},
   "outputs": [
    {
     "data": {
      "text/plain": [
       "highest poverty     0.5423\n",
       "high poverty        0.2683\n",
       "moderate poverty    0.1827\n",
       "low poverty         0.0067\n",
       "Name: poverty_level, dtype: float64"
      ]
     },
     "execution_count": 31,
     "metadata": {},
     "output_type": "execute_result"
    }
   ],
   "source": [
    "ratio = df[\"poverty_level\"].value_counts(normalize = True)\n",
    "ratio"
   ]
  },
  {
   "cell_type": "code",
   "execution_count": 32,
   "metadata": {},
   "outputs": [
    {
     "data": {
      "text/plain": [
       "<matplotlib.axes._subplots.AxesSubplot at 0x7fdf111510b8>"
      ]
     },
     "execution_count": 32,
     "metadata": {},
     "output_type": "execute_result"
    },
    {
     "data": {
      "image/png": "[encoded data removed]",
      "text/plain": [
       "<Figure size 432x288 with 1 Axes>"
      ]
     },
     "metadata": {},
     "output_type": "display_data"
    }
   ],
   "source": [
    "df['poverty_level'].value_counts().plot.bar(title = \"Poverty Level_distribution\", color = \"steelblue\")"
   ]
  },
  {
   "cell_type": "code",
   "execution_count": 33,
   "metadata": {
    "scrolled": true
   },
   "outputs": [
    {
     "data": {
      "text/plain": [
       "<matplotlib.axes._subplots.AxesSubplot at 0x7fdf11174438>"
      ]
     },
     "execution_count": 33,
     "metadata": {},
     "output_type": "execute_result"
    },
    {
     "data": {
      "image/png": "[encoded data removed]",
      "text/plain": [
       "<Figure size 432x288 with 1 Axes>"
      ]
     },
     "metadata": {},
     "output_type": "display_data"
    }
   ],
   "source": [
    "df['grade_level'].value_counts().plot.bar(title = \"Grade level distribution\", color = \"steelblue\")"
   ]
  },
  {
   "cell_type": "markdown",
   "metadata": {},
   "source": [
    "In general, it is noticed that the data is imbalanced for true and false values. Besides, most of the projects are concentrated in Pre-K, highest-poverty regions and for the purpose of literacy. The most funded materials are books."
   ]
  },
  {
   "cell_type": "markdown",
   "metadata": {},
   "source": [
    "## 2.2.2 Changes and trends over time"
   ]
  },
  {
   "cell_type": "markdown",
   "metadata": {},
   "source": [
    "In this section, we want to explore the landscape and trends of grantees(schools), donors and grantmaking."
   ]
  },
  {
   "cell_type": "markdown",
   "metadata": {},
   "source": [
    "### Sum and rate of fully funded projects over year"
   ]
  },
  {
   "cell_type": "markdown",
   "metadata": {},
   "source": [
    "Not only we need to learn the landscape of grantees side, we should also capture the key features of grantmaking, and donors."
   ]
  },
  {
   "cell_type": "code",
   "execution_count": 34,
   "metadata": {},
   "outputs": [],
   "source": [
    "sum_cols = ['fully_funded']\n",
    "df_by_day = df[sum_cols + ['date_posted']]\n",
    "df_by_day = df_by_day.replace('t', 1).replace('f', 0)\n",
    "df_by_day = df_by_day.set_index('date_posted')\n",
    "df_by_day.index = pd.to_datetime(df_by_day.index)\n",
    "df_by_day['year'] = df_by_day.index.year\n",
    "df_by_year_sum = df_by_day.groupby('year').sum()\n",
    "df_by_year_mean = df_by_day.groupby('year').mean()"
   ]
  },
  {
   "cell_type": "code",
   "execution_count": 35,
   "metadata": {
    "scrolled": true
   },
   "outputs": [
    {
     "data": {
      "text/plain": [
       "<Figure size 432x288 with 0 Axes>"
      ]
     },
     "metadata": {},
     "output_type": "display_data"
    },
    {
     "data": {
      "image/png": "[encoded data removed]",
      "text/plain": [
       "<Figure size 720x216 with 1 Axes>"
      ]
     },
     "metadata": {},
     "output_type": "display_data"
    },
    {
     "data": {
      "text/html": [
       "<div>\n",
       "<style scoped>\n",
       "    .dataframe tbody tr th:only-of-type {\n",
       "        vertical-align: middle;\n",
       "    }\n",
       "\n",
       "    .dataframe tbody tr th {\n",
       "        vertical-align: top;\n",
       "    }\n",
       "\n",
       "    .dataframe thead th {\n",
       "        text-align: right;\n",
       "    }\n",
       "</style>\n",
       "<table border=\"1\" class=\"dataframe\">\n",
       "  <thead>\n",
       "    <tr style=\"text-align: right;\">\n",
       "      <th></th>\n",
       "      <th>fully_funded</th>\n",
       "    </tr>\n",
       "    <tr>\n",
       "      <th>year</th>\n",
       "      <th></th>\n",
       "    </tr>\n",
       "  </thead>\n",
       "  <tbody>\n",
       "    <tr>\n",
       "      <th>2003</th>\n",
       "      <td>1.0</td>\n",
       "    </tr>\n",
       "    <tr>\n",
       "      <th>2004</th>\n",
       "      <td>2.0</td>\n",
       "    </tr>\n",
       "    <tr>\n",
       "      <th>2005</th>\n",
       "      <td>4.0</td>\n",
       "    </tr>\n",
       "    <tr>\n",
       "      <th>2006</th>\n",
       "      <td>2.0</td>\n",
       "    </tr>\n",
       "    <tr>\n",
       "      <th>2007</th>\n",
       "      <td>327.0</td>\n",
       "    </tr>\n",
       "  </tbody>\n",
       "</table>\n",
       "</div>"
      ],
      "text/plain": [
       "      fully_funded\n",
       "year              \n",
       "2003           1.0\n",
       "2004           2.0\n",
       "2005           4.0\n",
       "2006           2.0\n",
       "2007         327.0"
      ]
     },
     "execution_count": 35,
     "metadata": {},
     "output_type": "execute_result"
    }
   ],
   "source": [
    "def plot_hist(df, name='mean'):\n",
    "    for col in df.columns:\n",
    "        plt.clf()\n",
    "        plt.figure(figsize=(10, 3))\n",
    "        plt.plot(df.index, df[col],'')  \n",
    "        plt.xlabel('year')\n",
    "        plt.ylabel(col)\n",
    "        plt.title('{} {} per year'.format(name, col))\n",
    "        plt.show()\n",
    "\n",
    "plot_hist(df_by_year_sum, 'sum')\n",
    "df_by_year_sum.head()"
   ]
  },
  {
   "cell_type": "code",
   "execution_count": 36,
   "metadata": {},
   "outputs": [
    {
     "data": {
      "text/plain": [
       "<Figure size 432x288 with 0 Axes>"
      ]
     },
     "metadata": {},
     "output_type": "display_data"
    },
    {
     "data": {
      "image/png": "[encoded data removed]",
      "text/plain": [
       "<Figure size 720x216 with 1 Axes>"
      ]
     },
     "metadata": {},
     "output_type": "display_data"
    },
    {
     "data": {
      "text/html": [
       "<div>\n",
       "<style scoped>\n",
       "    .dataframe tbody tr th:only-of-type {\n",
       "        vertical-align: middle;\n",
       "    }\n",
       "\n",
       "    .dataframe tbody tr th {\n",
       "        vertical-align: top;\n",
       "    }\n",
       "\n",
       "    .dataframe thead th {\n",
       "        text-align: right;\n",
       "    }\n",
       "</style>\n",
       "<table border=\"1\" class=\"dataframe\">\n",
       "  <thead>\n",
       "    <tr style=\"text-align: right;\">\n",
       "      <th></th>\n",
       "      <th>fully_funded</th>\n",
       "    </tr>\n",
       "    <tr>\n",
       "      <th>year</th>\n",
       "      <th></th>\n",
       "    </tr>\n",
       "  </thead>\n",
       "  <tbody>\n",
       "    <tr>\n",
       "      <th>2003</th>\n",
       "      <td>1.000000</td>\n",
       "    </tr>\n",
       "    <tr>\n",
       "      <th>2004</th>\n",
       "      <td>1.000000</td>\n",
       "    </tr>\n",
       "    <tr>\n",
       "      <th>2005</th>\n",
       "      <td>0.160000</td>\n",
       "    </tr>\n",
       "    <tr>\n",
       "      <th>2006</th>\n",
       "      <td>0.029851</td>\n",
       "    </tr>\n",
       "    <tr>\n",
       "      <th>2007</th>\n",
       "      <td>0.697228</td>\n",
       "    </tr>\n",
       "  </tbody>\n",
       "</table>\n",
       "</div>"
      ],
      "text/plain": [
       "      fully_funded\n",
       "year              \n",
       "2003      1.000000\n",
       "2004      1.000000\n",
       "2005      0.160000\n",
       "2006      0.029851\n",
       "2007      0.697228"
      ]
     },
     "execution_count": 36,
     "metadata": {},
     "output_type": "execute_result"
    }
   ],
   "source": [
    "plot_hist(df_by_year_mean, 'rate')\n",
    "df_by_year_mean.head()"
   ]
  },
  {
   "cell_type": "markdown",
   "metadata": {},
   "source": [
    "In general, the sum of fully-funded projects increase year by year. Before 2009, the sum of fully-funded projects stablished at a relatively lower level compared to years after 2009. During the year of 2005 to 2008, there was a fluctuation for rate of fully-funded projects before it increased steadily after 2008. \n",
    "\n",
    "In conclusion, the years after 2007 is relatively a good duration to observe and examine funding patterns. "
   ]
  },
  {
   "cell_type": "markdown",
   "metadata": {},
   "source": [
    "### Changes and trends in grants and donors"
   ]
  },
  {
   "cell_type": "code",
   "execution_count": 37,
   "metadata": {},
   "outputs": [
    {
     "data": {
      "text/html": [
       "<div>\n",
       "<style scoped>\n",
       "    .dataframe tbody tr th:only-of-type {\n",
       "        vertical-align: middle;\n",
       "    }\n",
       "\n",
       "    .dataframe tbody tr th {\n",
       "        vertical-align: top;\n",
       "    }\n",
       "\n",
       "    .dataframe thead th {\n",
       "        text-align: right;\n",
       "    }\n",
       "</style>\n",
       "<table border=\"1\" class=\"dataframe\">\n",
       "  <thead>\n",
       "    <tr style=\"text-align: right;\">\n",
       "      <th></th>\n",
       "      <th>donation_to_project</th>\n",
       "      <th>donation_optional_support</th>\n",
       "      <th>donation_total</th>\n",
       "      <th>item_quantity</th>\n",
       "      <th>total_price_including_optional_support</th>\n",
       "    </tr>\n",
       "    <tr>\n",
       "      <th>year</th>\n",
       "      <th></th>\n",
       "      <th></th>\n",
       "      <th></th>\n",
       "      <th></th>\n",
       "      <th></th>\n",
       "    </tr>\n",
       "  </thead>\n",
       "  <tbody>\n",
       "    <tr>\n",
       "      <th>2003</th>\n",
       "      <td>123.000000</td>\n",
       "      <td>19.000000</td>\n",
       "      <td>142.000000</td>\n",
       "      <td>1.000000</td>\n",
       "      <td>150.000000</td>\n",
       "    </tr>\n",
       "    <tr>\n",
       "      <th>2004</th>\n",
       "      <td>147.500000</td>\n",
       "      <td>22.000000</td>\n",
       "      <td>169.500000</td>\n",
       "      <td>2.000000</td>\n",
       "      <td>179.250000</td>\n",
       "    </tr>\n",
       "    <tr>\n",
       "      <th>2005</th>\n",
       "      <td>297.166000</td>\n",
       "      <td>27.474000</td>\n",
       "      <td>324.640000</td>\n",
       "      <td>5.920000</td>\n",
       "      <td>1001.600000</td>\n",
       "    </tr>\n",
       "    <tr>\n",
       "      <th>2006</th>\n",
       "      <td>213.566346</td>\n",
       "      <td>26.744808</td>\n",
       "      <td>240.311154</td>\n",
       "      <td>4.215385</td>\n",
       "      <td>775.709552</td>\n",
       "    </tr>\n",
       "    <tr>\n",
       "      <th>2007</th>\n",
       "      <td>172.372863</td>\n",
       "      <td>30.489979</td>\n",
       "      <td>202.862842</td>\n",
       "      <td>2.847966</td>\n",
       "      <td>526.332857</td>\n",
       "    </tr>\n",
       "  </tbody>\n",
       "</table>\n",
       "</div>"
      ],
      "text/plain": [
       "      donation_to_project  donation_optional_support  donation_total  \\\n",
       "year                                                                   \n",
       "2003           123.000000                  19.000000      142.000000   \n",
       "2004           147.500000                  22.000000      169.500000   \n",
       "2005           297.166000                  27.474000      324.640000   \n",
       "2006           213.566346                  26.744808      240.311154   \n",
       "2007           172.372863                  30.489979      202.862842   \n",
       "\n",
       "      item_quantity  total_price_including_optional_support  \n",
       "year                                                         \n",
       "2003       1.000000                              150.000000  \n",
       "2004       2.000000                              179.250000  \n",
       "2005       5.920000                             1001.600000  \n",
       "2006       4.215385                              775.709552  \n",
       "2007       2.847966                              526.332857  "
      ]
     },
     "execution_count": 37,
     "metadata": {},
     "output_type": "execute_result"
    }
   ],
   "source": [
    "mean_cols = ['donation_to_project', 'donation_optional_support', 'donation_total', 'item_quantity', \n",
    "             'total_price_including_optional_support']\n",
    "df_by_day = df[mean_cols + ['date_posted']]\n",
    "df_by_day = df_by_day.set_index('date_posted')\n",
    "df_by_day.index = pd.to_datetime(df_by_day.index)\n",
    "df_by_day['year'] = df_by_day.index.year\n",
    "df_by_year = df_by_day.groupby('year').mean()\n",
    "df_by_year.head()"
   ]
  },
  {
   "cell_type": "code",
   "execution_count": 38,
   "metadata": {
    "scrolled": true
   },
   "outputs": [
    {
     "data": {
      "text/plain": [
       "<Figure size 432x288 with 0 Axes>"
      ]
     },
     "metadata": {},
     "output_type": "display_data"
    },
    {
     "data": {
      "image/png": "[encoded data removed]",
      "text/plain": [
       "<Figure size 720x216 with 1 Axes>"
      ]
     },
     "metadata": {},
     "output_type": "display_data"
    },
    {
     "data": {
      "text/plain": [
       "<Figure size 432x288 with 0 Axes>"
      ]
     },
     "metadata": {},
     "output_type": "display_data"
    },
    {
     "data": {
      "image/png": "[encoded data removed]",
      "text/plain": [
       "<Figure size 720x216 with 1 Axes>"
      ]
     },
     "metadata": {},
     "output_type": "display_data"
    },
    {
     "data": {
      "text/plain": [
       "<Figure size 432x288 with 0 Axes>"
      ]
     },
     "metadata": {},
     "output_type": "display_data"
    },
    {
     "data": {
      "image/png": "[encoded data removed]",
      "text/plain": [
       "<Figure size 720x216 with 1 Axes>"
      ]
     },
     "metadata": {},
     "output_type": "display_data"
    },
    {
     "data": {
      "text/plain": [
       "<Figure size 432x288 with 0 Axes>"
      ]
     },
     "metadata": {},
     "output_type": "display_data"
    },
    {
     "data": {
      "image/png": "[encoded data removed]",
      "text/plain": [
       "<Figure size 720x216 with 1 Axes>"
      ]
     },
     "metadata": {},
     "output_type": "display_data"
    },
    {
     "data": {
      "text/plain": [
       "<Figure size 432x288 with 0 Axes>"
      ]
     },
     "metadata": {},
     "output_type": "display_data"
    },
    {
     "data": {
      "image/png": "[encoded data removed]",
      "text/plain": [
       "<Figure size 720x216 with 1 Axes>"
      ]
     },
     "metadata": {},
     "output_type": "display_data"
    }
   ],
   "source": [
    "plot_hist(df_by_year)"
   ]
  },
  {
   "cell_type": "markdown",
   "metadata": {},
   "source": [
    "In general, the amount of grants decrease since 2002. Although there is a peak during the period of 2003-2004 for the items or total amount of grants, it decrease dramatically after the period."
   ]
  },
  {
   "cell_type": "markdown",
   "metadata": {},
   "source": [
    "## 2.3 Cross-tabs"
   ]
  },
  {
   "cell_type": "markdown",
   "metadata": {},
   "source": [
    "In order to further examine the relations between key factors and fully funded projects, the crosstabs would help us figure out."
   ]
  },
  {
   "cell_type": "code",
   "execution_count": 39,
   "metadata": {},
   "outputs": [
    {
     "data": {
      "image/png": "[encoded data removed]",
      "text/plain": [
       "<Figure size 432x288 with 2 Axes>"
      ]
     },
     "metadata": {},
     "output_type": "display_data"
    },
    {
     "data": {
      "image/png": "[encoded data removed]",
      "text/plain": [
       "<Figure size 432x288 with 2 Axes>"
      ]
     },
     "metadata": {},
     "output_type": "display_data"
    },
    {
     "data": {
      "image/png": "[encoded data removed]",
      "text/plain": [
       "<Figure size 432x288 with 2 Axes>"
      ]
     },
     "metadata": {},
     "output_type": "display_data"
    },
    {
     "data": {
      "image/png": "[encoded data removed]",
      "text/plain": [
       "<Figure size 432x288 with 2 Axes>"
      ]
     },
     "metadata": {},
     "output_type": "display_data"
    },
    {
     "data": {
      "image/png": "[encoded data removed]",
      "text/plain": [
       "<Figure size 432x288 with 2 Axes>"
      ]
     },
     "metadata": {},
     "output_type": "display_data"
    },
    {
     "data": {
      "image/png": "[encoded data removed]",
      "text/plain": [
       "<Figure size 432x288 with 2 Axes>"
      ]
     },
     "metadata": {},
     "output_type": "display_data"
    },
    {
     "data": {
      "image/png": "[encoded data removed]",
      "text/plain": [
       "<Figure size 432x288 with 2 Axes>"
      ]
     },
     "metadata": {},
     "output_type": "display_data"
    }
   ],
   "source": [
    "import seaborn as sns\n",
    "\n",
    "def plot_crosstab(df):\n",
    "    check_df = df.applymap(lambda x: isinstance(x, (int, float)))\n",
    "    cols = [\"teacher_teach_for_america\", \"primary_focus_area\", \"school_charter\", \"school_magnet\", \"grade_level\", \"poverty_level\", \"project_resource_type\"]\n",
    "    for col in cols:\n",
    "        plt.clf()\n",
    "        df_result = pd.crosstab(df['fully_funded'], df[col])\n",
    "        sns.heatmap(df_result, xticklabels=df_result.columns, yticklabels=df_result.index)\n",
    "        plt.show()\n",
    "        \n",
    " \n",
    "plot_crosstab(df)"
   ]
  },
  {
   "cell_type": "markdown",
   "metadata": {},
   "source": [
    "The crosstab results fit what we found in the literature review. Compared to those projects that were not fully-funded, there were more Teach for America teachers in fully funded projects. Most of the highest poverty schools were fully funded. They often received books, and supplies from donors."
   ]
  },
  {
   "cell_type": "markdown",
   "metadata": {},
   "source": [
    "### *Remove id columns, address and essay question entries"
   ]
  },
  {
   "cell_type": "markdown",
   "metadata": {},
   "source": [
    "In order to simplify the data explorations and reduce irrelevant correlations, we select cities, counties or states as representatives of geographic features and remove all the left. IDs of teachers, schools and donors are not the only variables to demonstrate identities, so we remove id columns to reduce training time. In addition, essay questions are out of project scope and we remove them from main data."
   ]
  },
  {
   "cell_type": "code",
   "execution_count": 40,
   "metadata": {},
   "outputs": [
    {
     "data": {
      "text/html": [
       "<div>\n",
       "<style scoped>\n",
       "    .dataframe tbody tr th:only-of-type {\n",
       "        vertical-align: middle;\n",
       "    }\n",
       "\n",
       "    .dataframe tbody tr th {\n",
       "        vertical-align: top;\n",
       "    }\n",
       "\n",
       "    .dataframe thead th {\n",
       "        text-align: right;\n",
       "    }\n",
       "</style>\n",
       "<table border=\"1\" class=\"dataframe\">\n",
       "  <thead>\n",
       "    <tr style=\"text-align: right;\">\n",
       "      <th></th>\n",
       "      <th>school_city</th>\n",
       "      <th>school_state</th>\n",
       "      <th>school_district</th>\n",
       "      <th>school_county</th>\n",
       "      <th>school_charter</th>\n",
       "      <th>school_magnet</th>\n",
       "      <th>school_year_round</th>\n",
       "      <th>school_nlns</th>\n",
       "      <th>school_kipp</th>\n",
       "      <th>school_charter_ready_promise</th>\n",
       "      <th>...</th>\n",
       "      <th>donation_included_optional_support</th>\n",
       "      <th>payment_included_acct_credit</th>\n",
       "      <th>payment_included_campaign_gift_card</th>\n",
       "      <th>payment_included_web_purchased_gift_card</th>\n",
       "      <th>payment_was_promo_matched</th>\n",
       "      <th>via_giving_page</th>\n",
       "      <th>for_honoree</th>\n",
       "      <th>project_resource_type</th>\n",
       "      <th>item_unit_price</th>\n",
       "      <th>item_quantity</th>\n",
       "    </tr>\n",
       "    <tr>\n",
       "      <th>projectid</th>\n",
       "      <th></th>\n",
       "      <th></th>\n",
       "      <th></th>\n",
       "      <th></th>\n",
       "      <th></th>\n",
       "      <th></th>\n",
       "      <th></th>\n",
       "      <th></th>\n",
       "      <th></th>\n",
       "      <th></th>\n",
       "      <th></th>\n",
       "      <th></th>\n",
       "      <th></th>\n",
       "      <th></th>\n",
       "      <th></th>\n",
       "      <th></th>\n",
       "      <th></th>\n",
       "      <th></th>\n",
       "      <th></th>\n",
       "      <th></th>\n",
       "      <th></th>\n",
       "    </tr>\n",
       "  </thead>\n",
       "  <tbody>\n",
       "    <tr>\n",
       "      <th>00001ccc0e81598c4bd86bacb94d7acb</th>\n",
       "      <td>Chicago</td>\n",
       "      <td>IL</td>\n",
       "      <td>Pershing Elem Network</td>\n",
       "      <td>Cook</td>\n",
       "      <td>0</td>\n",
       "      <td>0</td>\n",
       "      <td>0</td>\n",
       "      <td>0</td>\n",
       "      <td>0</td>\n",
       "      <td>0</td>\n",
       "      <td>...</td>\n",
       "      <td>1.0</td>\n",
       "      <td>0.0</td>\n",
       "      <td>0.0</td>\n",
       "      <td>0.0</td>\n",
       "      <td>1.0</td>\n",
       "      <td>0.0</td>\n",
       "      <td>0.0</td>\n",
       "      <td>Supplies</td>\n",
       "      <td>3.99</td>\n",
       "      <td>2.0</td>\n",
       "    </tr>\n",
       "    <tr>\n",
       "      <th>00001ccc0e81598c4bd86bacb94d7acb</th>\n",
       "      <td>Chicago</td>\n",
       "      <td>IL</td>\n",
       "      <td>Pershing Elem Network</td>\n",
       "      <td>Cook</td>\n",
       "      <td>0</td>\n",
       "      <td>0</td>\n",
       "      <td>0</td>\n",
       "      <td>0</td>\n",
       "      <td>0</td>\n",
       "      <td>0</td>\n",
       "      <td>...</td>\n",
       "      <td>1.0</td>\n",
       "      <td>0.0</td>\n",
       "      <td>0.0</td>\n",
       "      <td>0.0</td>\n",
       "      <td>1.0</td>\n",
       "      <td>0.0</td>\n",
       "      <td>0.0</td>\n",
       "      <td>Supplies</td>\n",
       "      <td>9.99</td>\n",
       "      <td>1.0</td>\n",
       "    </tr>\n",
       "    <tr>\n",
       "      <th>00001ccc0e81598c4bd86bacb94d7acb</th>\n",
       "      <td>Chicago</td>\n",
       "      <td>IL</td>\n",
       "      <td>Pershing Elem Network</td>\n",
       "      <td>Cook</td>\n",
       "      <td>0</td>\n",
       "      <td>0</td>\n",
       "      <td>0</td>\n",
       "      <td>0</td>\n",
       "      <td>0</td>\n",
       "      <td>0</td>\n",
       "      <td>...</td>\n",
       "      <td>1.0</td>\n",
       "      <td>0.0</td>\n",
       "      <td>0.0</td>\n",
       "      <td>0.0</td>\n",
       "      <td>1.0</td>\n",
       "      <td>0.0</td>\n",
       "      <td>0.0</td>\n",
       "      <td>Supplies</td>\n",
       "      <td>29.99</td>\n",
       "      <td>1.0</td>\n",
       "    </tr>\n",
       "    <tr>\n",
       "      <th>00001ccc0e81598c4bd86bacb94d7acb</th>\n",
       "      <td>Chicago</td>\n",
       "      <td>IL</td>\n",
       "      <td>Pershing Elem Network</td>\n",
       "      <td>Cook</td>\n",
       "      <td>0</td>\n",
       "      <td>0</td>\n",
       "      <td>0</td>\n",
       "      <td>0</td>\n",
       "      <td>0</td>\n",
       "      <td>0</td>\n",
       "      <td>...</td>\n",
       "      <td>1.0</td>\n",
       "      <td>0.0</td>\n",
       "      <td>0.0</td>\n",
       "      <td>0.0</td>\n",
       "      <td>1.0</td>\n",
       "      <td>0.0</td>\n",
       "      <td>0.0</td>\n",
       "      <td>Supplies</td>\n",
       "      <td>7.99</td>\n",
       "      <td>6.0</td>\n",
       "    </tr>\n",
       "    <tr>\n",
       "      <th>00001ccc0e81598c4bd86bacb94d7acb</th>\n",
       "      <td>Chicago</td>\n",
       "      <td>IL</td>\n",
       "      <td>Pershing Elem Network</td>\n",
       "      <td>Cook</td>\n",
       "      <td>0</td>\n",
       "      <td>0</td>\n",
       "      <td>0</td>\n",
       "      <td>0</td>\n",
       "      <td>0</td>\n",
       "      <td>0</td>\n",
       "      <td>...</td>\n",
       "      <td>1.0</td>\n",
       "      <td>0.0</td>\n",
       "      <td>0.0</td>\n",
       "      <td>0.0</td>\n",
       "      <td>1.0</td>\n",
       "      <td>0.0</td>\n",
       "      <td>0.0</td>\n",
       "      <td>Supplies</td>\n",
       "      <td>12.99</td>\n",
       "      <td>2.0</td>\n",
       "    </tr>\n",
       "  </tbody>\n",
       "</table>\n",
       "<p>5 rows × 56 columns</p>\n",
       "</div>"
      ],
      "text/plain": [
       "                                 school_city school_state  \\\n",
       "projectid                                                   \n",
       "00001ccc0e81598c4bd86bacb94d7acb     Chicago           IL   \n",
       "00001ccc0e81598c4bd86bacb94d7acb     Chicago           IL   \n",
       "00001ccc0e81598c4bd86bacb94d7acb     Chicago           IL   \n",
       "00001ccc0e81598c4bd86bacb94d7acb     Chicago           IL   \n",
       "00001ccc0e81598c4bd86bacb94d7acb     Chicago           IL   \n",
       "\n",
       "                                        school_district school_county  \\\n",
       "projectid                                                               \n",
       "00001ccc0e81598c4bd86bacb94d7acb  Pershing Elem Network          Cook   \n",
       "00001ccc0e81598c4bd86bacb94d7acb  Pershing Elem Network          Cook   \n",
       "00001ccc0e81598c4bd86bacb94d7acb  Pershing Elem Network          Cook   \n",
       "00001ccc0e81598c4bd86bacb94d7acb  Pershing Elem Network          Cook   \n",
       "00001ccc0e81598c4bd86bacb94d7acb  Pershing Elem Network          Cook   \n",
       "\n",
       "                                  school_charter  school_magnet  \\\n",
       "projectid                                                         \n",
       "00001ccc0e81598c4bd86bacb94d7acb               0              0   \n",
       "00001ccc0e81598c4bd86bacb94d7acb               0              0   \n",
       "00001ccc0e81598c4bd86bacb94d7acb               0              0   \n",
       "00001ccc0e81598c4bd86bacb94d7acb               0              0   \n",
       "00001ccc0e81598c4bd86bacb94d7acb               0              0   \n",
       "\n",
       "                                  school_year_round  school_nlns  school_kipp  \\\n",
       "projectid                                                                       \n",
       "00001ccc0e81598c4bd86bacb94d7acb                  0            0            0   \n",
       "00001ccc0e81598c4bd86bacb94d7acb                  0            0            0   \n",
       "00001ccc0e81598c4bd86bacb94d7acb                  0            0            0   \n",
       "00001ccc0e81598c4bd86bacb94d7acb                  0            0            0   \n",
       "00001ccc0e81598c4bd86bacb94d7acb                  0            0            0   \n",
       "\n",
       "                                  school_charter_ready_promise      ...       \\\n",
       "projectid                                                           ...        \n",
       "00001ccc0e81598c4bd86bacb94d7acb                             0      ...        \n",
       "00001ccc0e81598c4bd86bacb94d7acb                             0      ...        \n",
       "00001ccc0e81598c4bd86bacb94d7acb                             0      ...        \n",
       "00001ccc0e81598c4bd86bacb94d7acb                             0      ...        \n",
       "00001ccc0e81598c4bd86bacb94d7acb                             0      ...        \n",
       "\n",
       "                                 donation_included_optional_support  \\\n",
       "projectid                                                             \n",
       "00001ccc0e81598c4bd86bacb94d7acb                                1.0   \n",
       "00001ccc0e81598c4bd86bacb94d7acb                                1.0   \n",
       "00001ccc0e81598c4bd86bacb94d7acb                                1.0   \n",
       "00001ccc0e81598c4bd86bacb94d7acb                                1.0   \n",
       "00001ccc0e81598c4bd86bacb94d7acb                                1.0   \n",
       "\n",
       "                                  payment_included_acct_credit  \\\n",
       "projectid                                                        \n",
       "00001ccc0e81598c4bd86bacb94d7acb                           0.0   \n",
       "00001ccc0e81598c4bd86bacb94d7acb                           0.0   \n",
       "00001ccc0e81598c4bd86bacb94d7acb                           0.0   \n",
       "00001ccc0e81598c4bd86bacb94d7acb                           0.0   \n",
       "00001ccc0e81598c4bd86bacb94d7acb                           0.0   \n",
       "\n",
       "                                  payment_included_campaign_gift_card  \\\n",
       "projectid                                                               \n",
       "00001ccc0e81598c4bd86bacb94d7acb                                  0.0   \n",
       "00001ccc0e81598c4bd86bacb94d7acb                                  0.0   \n",
       "00001ccc0e81598c4bd86bacb94d7acb                                  0.0   \n",
       "00001ccc0e81598c4bd86bacb94d7acb                                  0.0   \n",
       "00001ccc0e81598c4bd86bacb94d7acb                                  0.0   \n",
       "\n",
       "                                 payment_included_web_purchased_gift_card  \\\n",
       "projectid                                                                   \n",
       "00001ccc0e81598c4bd86bacb94d7acb                                      0.0   \n",
       "00001ccc0e81598c4bd86bacb94d7acb                                      0.0   \n",
       "00001ccc0e81598c4bd86bacb94d7acb                                      0.0   \n",
       "00001ccc0e81598c4bd86bacb94d7acb                                      0.0   \n",
       "00001ccc0e81598c4bd86bacb94d7acb                                      0.0   \n",
       "\n",
       "                                 payment_was_promo_matched via_giving_page  \\\n",
       "projectid                                                                    \n",
       "00001ccc0e81598c4bd86bacb94d7acb                       1.0             0.0   \n",
       "00001ccc0e81598c4bd86bacb94d7acb                       1.0             0.0   \n",
       "00001ccc0e81598c4bd86bacb94d7acb                       1.0             0.0   \n",
       "00001ccc0e81598c4bd86bacb94d7acb                       1.0             0.0   \n",
       "00001ccc0e81598c4bd86bacb94d7acb                       1.0             0.0   \n",
       "\n",
       "                                 for_honoree project_resource_type  \\\n",
       "projectid                                                            \n",
       "00001ccc0e81598c4bd86bacb94d7acb         0.0              Supplies   \n",
       "00001ccc0e81598c4bd86bacb94d7acb         0.0              Supplies   \n",
       "00001ccc0e81598c4bd86bacb94d7acb         0.0              Supplies   \n",
       "00001ccc0e81598c4bd86bacb94d7acb         0.0              Supplies   \n",
       "00001ccc0e81598c4bd86bacb94d7acb         0.0              Supplies   \n",
       "\n",
       "                                 item_unit_price item_quantity  \n",
       "projectid                                                       \n",
       "00001ccc0e81598c4bd86bacb94d7acb            3.99           2.0  \n",
       "00001ccc0e81598c4bd86bacb94d7acb            9.99           1.0  \n",
       "00001ccc0e81598c4bd86bacb94d7acb           29.99           1.0  \n",
       "00001ccc0e81598c4bd86bacb94d7acb            7.99           6.0  \n",
       "00001ccc0e81598c4bd86bacb94d7acb           12.99           2.0  \n",
       "\n",
       "[5 rows x 56 columns]"
      ]
     },
     "execution_count": 40,
     "metadata": {},
     "output_type": "execute_result"
    }
   ],
   "source": [
    "df = df.replace('f', 0).replace('t', 1)\n",
    "exclude_cols = ['school_latitude', 'school_longitude', 'school_zip',\n",
    "               'donation_message', 'vendor_name', 'item_name', 'item_number', 'school_metro', 'payment_method']\n",
    "left_cols = [col for col in df.columns if (not col.endswith('id')) and col not in exclude_cols]\n",
    "df = df[left_cols]\n",
    "df.head()"
   ]
  },
  {
   "cell_type": "markdown",
   "metadata": {},
   "source": [
    "## 2.4 Correlations between variables"
   ]
  },
  {
   "cell_type": "markdown",
   "metadata": {},
   "source": [
    "In order to investigate the dependence between multiple variables at the same time, we would like to plot a table with correlation coefficients between each variable and the others. The first step is to calculate the correlation matrix, and then plot the heatmap."
   ]
  },
  {
   "cell_type": "code",
   "execution_count": 41,
   "metadata": {},
   "outputs": [
    {
     "data": {
      "text/plain": [
       "<matplotlib.axes._subplots.AxesSubplot at 0x7fdf0e708da0>"
      ]
     },
     "execution_count": 41,
     "metadata": {},
     "output_type": "execute_result"
    },
    {
     "data": {
      "image/png": "[encoded data removed]",
      "text/plain": [
       "<Figure size 720x720 with 2 Axes>"
      ]
     },
     "metadata": {},
     "output_type": "display_data"
    }
   ],
   "source": [
    "corr = df.corr()\n",
    "\n",
    "fig, ax = plt.subplots(figsize=(10,10))  \n",
    "sns.heatmap(corr, \n",
    "        xticklabels=corr.columns,\n",
    "        yticklabels=corr.columns)"
   ]
  },
  {
   "cell_type": "markdown",
   "metadata": {},
   "source": [
    "# Step 3: Pre Process Data"
   ]
  },
  {
   "cell_type": "code",
   "execution_count": 42,
   "metadata": {},
   "outputs": [
    {
     "data": {
      "text/plain": [
       "school_city                                       9905\n",
       "school_state                                      9905\n",
       "school_district                                   9899\n",
       "school_county                                     9905\n",
       "school_charter                                    9905\n",
       "school_magnet                                     9905\n",
       "school_year_round                                 9905\n",
       "school_nlns                                       9905\n",
       "school_kipp                                       9905\n",
       "school_charter_ready_promise                      9905\n",
       "teacher_prefix                                    9905\n",
       "teacher_teach_for_america                         9905\n",
       "teacher_ny_teaching_fellow                        9905\n",
       "primary_focus_subject                             9905\n",
       "primary_focus_area                                9905\n",
       "secondary_focus_subject                           7509\n",
       "secondary_focus_area                              7509\n",
       "resource_type                                     9905\n",
       "poverty_level                                     9905\n",
       "grade_level                                       9905\n",
       "fulfillment_labor_materials                       9905\n",
       "total_price_excluding_optional_support            9905\n",
       "total_price_including_optional_support            9905\n",
       "students_reached                                  9905\n",
       "eligible_double_your_impact_match                 9905\n",
       "eligible_almost_home_match                        9905\n",
       "date_posted                                       9905\n",
       "is_exciting                                       9829\n",
       "at_least_1_teacher_referred_donor                 9575\n",
       "fully_funded                                      9829\n",
       "at_least_1_green_donation                         9575\n",
       "great_chat                                        9829\n",
       "three_or_more_non_teacher_referred_donors         9575\n",
       "one_non_teacher_referred_donor_giving_100_plus    9575\n",
       "donation_from_thoughtful_donor                    9575\n",
       "great_messages_proportion                         8984\n",
       "teacher_referred_count                            9575\n",
       "non_teacher_referred_count                        9575\n",
       "donor_city                                        3911\n",
       "donor_state                                       8100\n",
       "donor_zip                                         4625\n",
       "is_teacher_acct                                   9575\n",
       "donation_to_project                               9575\n",
       "donation_optional_support                         9575\n",
       "donation_total                                    9575\n",
       "dollar_amount                                     9575\n",
       "donation_included_optional_support                9575\n",
       "payment_included_acct_credit                      9575\n",
       "payment_included_campaign_gift_card               9575\n",
       "payment_included_web_purchased_gift_card          9575\n",
       "payment_was_promo_matched                         9575\n",
       "via_giving_page                                   9575\n",
       "for_honoree                                       9575\n",
       "project_resource_type                             9905\n",
       "item_unit_price                                   9902\n",
       "item_quantity                                     9902\n",
       "dtype: int64"
      ]
     },
     "execution_count": 42,
     "metadata": {},
     "output_type": "execute_result"
    }
   ],
   "source": [
    "df = df[df['date_posted']> '2006-12-31']\n",
    "df.count()"
   ]
  },
  {
   "cell_type": "markdown",
   "metadata": {},
   "source": [
    "## Change non-numberic columns into numeric variables"
   ]
  },
  {
   "cell_type": "markdown",
   "metadata": {},
   "source": [
    "We change all of the categorical and dummy variables into numeric variables."
   ]
  },
  {
   "cell_type": "code",
   "execution_count": 43,
   "metadata": {},
   "outputs": [
    {
     "data": {
      "text/html": [
       "<div>\n",
       "<style scoped>\n",
       "    .dataframe tbody tr th:only-of-type {\n",
       "        vertical-align: middle;\n",
       "    }\n",
       "\n",
       "    .dataframe tbody tr th {\n",
       "        vertical-align: top;\n",
       "    }\n",
       "\n",
       "    .dataframe thead th {\n",
       "        text-align: right;\n",
       "    }\n",
       "</style>\n",
       "<table border=\"1\" class=\"dataframe\">\n",
       "  <thead>\n",
       "    <tr style=\"text-align: right;\">\n",
       "      <th></th>\n",
       "      <th>school_city</th>\n",
       "      <th>school_state</th>\n",
       "      <th>school_district</th>\n",
       "      <th>school_county</th>\n",
       "      <th>teacher_prefix</th>\n",
       "      <th>primary_focus_subject</th>\n",
       "      <th>primary_focus_area</th>\n",
       "      <th>secondary_focus_subject</th>\n",
       "      <th>secondary_focus_area</th>\n",
       "      <th>resource_type</th>\n",
       "      <th>poverty_level</th>\n",
       "      <th>grade_level</th>\n",
       "      <th>donor_city</th>\n",
       "      <th>donor_state</th>\n",
       "      <th>dollar_amount</th>\n",
       "      <th>project_resource_type</th>\n",
       "    </tr>\n",
       "    <tr>\n",
       "      <th>projectid</th>\n",
       "      <th></th>\n",
       "      <th></th>\n",
       "      <th></th>\n",
       "      <th></th>\n",
       "      <th></th>\n",
       "      <th></th>\n",
       "      <th></th>\n",
       "      <th></th>\n",
       "      <th></th>\n",
       "      <th></th>\n",
       "      <th></th>\n",
       "      <th></th>\n",
       "      <th></th>\n",
       "      <th></th>\n",
       "      <th></th>\n",
       "      <th></th>\n",
       "    </tr>\n",
       "  </thead>\n",
       "  <tbody>\n",
       "    <tr>\n",
       "      <th>00001ccc0e81598c4bd86bacb94d7acb</th>\n",
       "      <td>Chicago</td>\n",
       "      <td>IL</td>\n",
       "      <td>Pershing Elem Network</td>\n",
       "      <td>Cook</td>\n",
       "      <td>Mrs.</td>\n",
       "      <td>Mathematics</td>\n",
       "      <td>Math &amp; Science</td>\n",
       "      <td>Visual Arts</td>\n",
       "      <td>Music &amp; The Arts</td>\n",
       "      <td>Supplies</td>\n",
       "      <td>highest poverty</td>\n",
       "      <td>Grades PreK-2</td>\n",
       "      <td>Chicago</td>\n",
       "      <td>IL</td>\n",
       "      <td>under_10</td>\n",
       "      <td>Supplies</td>\n",
       "    </tr>\n",
       "    <tr>\n",
       "      <th>00001ccc0e81598c4bd86bacb94d7acb</th>\n",
       "      <td>Chicago</td>\n",
       "      <td>IL</td>\n",
       "      <td>Pershing Elem Network</td>\n",
       "      <td>Cook</td>\n",
       "      <td>Mrs.</td>\n",
       "      <td>Mathematics</td>\n",
       "      <td>Math &amp; Science</td>\n",
       "      <td>Visual Arts</td>\n",
       "      <td>Music &amp; The Arts</td>\n",
       "      <td>Supplies</td>\n",
       "      <td>highest poverty</td>\n",
       "      <td>Grades PreK-2</td>\n",
       "      <td>Chicago</td>\n",
       "      <td>IL</td>\n",
       "      <td>under_10</td>\n",
       "      <td>Supplies</td>\n",
       "    </tr>\n",
       "    <tr>\n",
       "      <th>00001ccc0e81598c4bd86bacb94d7acb</th>\n",
       "      <td>Chicago</td>\n",
       "      <td>IL</td>\n",
       "      <td>Pershing Elem Network</td>\n",
       "      <td>Cook</td>\n",
       "      <td>Mrs.</td>\n",
       "      <td>Mathematics</td>\n",
       "      <td>Math &amp; Science</td>\n",
       "      <td>Visual Arts</td>\n",
       "      <td>Music &amp; The Arts</td>\n",
       "      <td>Supplies</td>\n",
       "      <td>highest poverty</td>\n",
       "      <td>Grades PreK-2</td>\n",
       "      <td>Chicago</td>\n",
       "      <td>IL</td>\n",
       "      <td>under_10</td>\n",
       "      <td>Supplies</td>\n",
       "    </tr>\n",
       "    <tr>\n",
       "      <th>00001ccc0e81598c4bd86bacb94d7acb</th>\n",
       "      <td>Chicago</td>\n",
       "      <td>IL</td>\n",
       "      <td>Pershing Elem Network</td>\n",
       "      <td>Cook</td>\n",
       "      <td>Mrs.</td>\n",
       "      <td>Mathematics</td>\n",
       "      <td>Math &amp; Science</td>\n",
       "      <td>Visual Arts</td>\n",
       "      <td>Music &amp; The Arts</td>\n",
       "      <td>Supplies</td>\n",
       "      <td>highest poverty</td>\n",
       "      <td>Grades PreK-2</td>\n",
       "      <td>Chicago</td>\n",
       "      <td>IL</td>\n",
       "      <td>under_10</td>\n",
       "      <td>Supplies</td>\n",
       "    </tr>\n",
       "    <tr>\n",
       "      <th>00001ccc0e81598c4bd86bacb94d7acb</th>\n",
       "      <td>Chicago</td>\n",
       "      <td>IL</td>\n",
       "      <td>Pershing Elem Network</td>\n",
       "      <td>Cook</td>\n",
       "      <td>Mrs.</td>\n",
       "      <td>Mathematics</td>\n",
       "      <td>Math &amp; Science</td>\n",
       "      <td>Visual Arts</td>\n",
       "      <td>Music &amp; The Arts</td>\n",
       "      <td>Supplies</td>\n",
       "      <td>highest poverty</td>\n",
       "      <td>Grades PreK-2</td>\n",
       "      <td>Chicago</td>\n",
       "      <td>IL</td>\n",
       "      <td>under_10</td>\n",
       "      <td>Supplies</td>\n",
       "    </tr>\n",
       "  </tbody>\n",
       "</table>\n",
       "</div>"
      ],
      "text/plain": [
       "                                 school_city school_state  \\\n",
       "projectid                                                   \n",
       "00001ccc0e81598c4bd86bacb94d7acb     Chicago           IL   \n",
       "00001ccc0e81598c4bd86bacb94d7acb     Chicago           IL   \n",
       "00001ccc0e81598c4bd86bacb94d7acb     Chicago           IL   \n",
       "00001ccc0e81598c4bd86bacb94d7acb     Chicago           IL   \n",
       "00001ccc0e81598c4bd86bacb94d7acb     Chicago           IL   \n",
       "\n",
       "                                        school_district school_county  \\\n",
       "projectid                                                               \n",
       "00001ccc0e81598c4bd86bacb94d7acb  Pershing Elem Network          Cook   \n",
       "00001ccc0e81598c4bd86bacb94d7acb  Pershing Elem Network          Cook   \n",
       "00001ccc0e81598c4bd86bacb94d7acb  Pershing Elem Network          Cook   \n",
       "00001ccc0e81598c4bd86bacb94d7acb  Pershing Elem Network          Cook   \n",
       "00001ccc0e81598c4bd86bacb94d7acb  Pershing Elem Network          Cook   \n",
       "\n",
       "                                 teacher_prefix primary_focus_subject  \\\n",
       "projectid                                                               \n",
       "00001ccc0e81598c4bd86bacb94d7acb           Mrs.           Mathematics   \n",
       "00001ccc0e81598c4bd86bacb94d7acb           Mrs.           Mathematics   \n",
       "00001ccc0e81598c4bd86bacb94d7acb           Mrs.           Mathematics   \n",
       "00001ccc0e81598c4bd86bacb94d7acb           Mrs.           Mathematics   \n",
       "00001ccc0e81598c4bd86bacb94d7acb           Mrs.           Mathematics   \n",
       "\n",
       "                                 primary_focus_area secondary_focus_subject  \\\n",
       "projectid                                                                     \n",
       "00001ccc0e81598c4bd86bacb94d7acb     Math & Science             Visual Arts   \n",
       "00001ccc0e81598c4bd86bacb94d7acb     Math & Science             Visual Arts   \n",
       "00001ccc0e81598c4bd86bacb94d7acb     Math & Science             Visual Arts   \n",
       "00001ccc0e81598c4bd86bacb94d7acb     Math & Science             Visual Arts   \n",
       "00001ccc0e81598c4bd86bacb94d7acb     Math & Science             Visual Arts   \n",
       "\n",
       "                                 secondary_focus_area resource_type  \\\n",
       "projectid                                                             \n",
       "00001ccc0e81598c4bd86bacb94d7acb     Music & The Arts      Supplies   \n",
       "00001ccc0e81598c4bd86bacb94d7acb     Music & The Arts      Supplies   \n",
       "00001ccc0e81598c4bd86bacb94d7acb     Music & The Arts      Supplies   \n",
       "00001ccc0e81598c4bd86bacb94d7acb     Music & The Arts      Supplies   \n",
       "00001ccc0e81598c4bd86bacb94d7acb     Music & The Arts      Supplies   \n",
       "\n",
       "                                    poverty_level    grade_level donor_city  \\\n",
       "projectid                                                                     \n",
       "00001ccc0e81598c4bd86bacb94d7acb  highest poverty  Grades PreK-2    Chicago   \n",
       "00001ccc0e81598c4bd86bacb94d7acb  highest poverty  Grades PreK-2    Chicago   \n",
       "00001ccc0e81598c4bd86bacb94d7acb  highest poverty  Grades PreK-2    Chicago   \n",
       "00001ccc0e81598c4bd86bacb94d7acb  highest poverty  Grades PreK-2    Chicago   \n",
       "00001ccc0e81598c4bd86bacb94d7acb  highest poverty  Grades PreK-2    Chicago   \n",
       "\n",
       "                                 donor_state dollar_amount  \\\n",
       "projectid                                                    \n",
       "00001ccc0e81598c4bd86bacb94d7acb          IL      under_10   \n",
       "00001ccc0e81598c4bd86bacb94d7acb          IL      under_10   \n",
       "00001ccc0e81598c4bd86bacb94d7acb          IL      under_10   \n",
       "00001ccc0e81598c4bd86bacb94d7acb          IL      under_10   \n",
       "00001ccc0e81598c4bd86bacb94d7acb          IL      under_10   \n",
       "\n",
       "                                 project_resource_type  \n",
       "projectid                                               \n",
       "00001ccc0e81598c4bd86bacb94d7acb              Supplies  \n",
       "00001ccc0e81598c4bd86bacb94d7acb              Supplies  \n",
       "00001ccc0e81598c4bd86bacb94d7acb              Supplies  \n",
       "00001ccc0e81598c4bd86bacb94d7acb              Supplies  \n",
       "00001ccc0e81598c4bd86bacb94d7acb              Supplies  "
      ]
     },
     "execution_count": 43,
     "metadata": {},
     "output_type": "execute_result"
    }
   ],
   "source": [
    "def check_not_numberic(df):\n",
    "    check_df = df.applymap(lambda x: isinstance(x, (int, float)))\n",
    "    return [col for col in check_df.columns if any(check_df[col] == False) and col != 'date_posted']\n",
    "str_cols = check_not_numberic(df)\n",
    "df[str_cols].head()"
   ]
  },
  {
   "cell_type": "code",
   "execution_count": 44,
   "metadata": {},
   "outputs": [
    {
     "data": {
      "text/html": [
       "<div>\n",
       "<style scoped>\n",
       "    .dataframe tbody tr th:only-of-type {\n",
       "        vertical-align: middle;\n",
       "    }\n",
       "\n",
       "    .dataframe tbody tr th {\n",
       "        vertical-align: top;\n",
       "    }\n",
       "\n",
       "    .dataframe thead th {\n",
       "        text-align: right;\n",
       "    }\n",
       "</style>\n",
       "<table border=\"1\" class=\"dataframe\">\n",
       "  <thead>\n",
       "    <tr style=\"text-align: right;\">\n",
       "      <th></th>\n",
       "      <th>school_city</th>\n",
       "      <th>school_state</th>\n",
       "      <th>school_district</th>\n",
       "      <th>school_county</th>\n",
       "      <th>school_charter</th>\n",
       "      <th>school_magnet</th>\n",
       "      <th>school_year_round</th>\n",
       "      <th>school_nlns</th>\n",
       "      <th>school_kipp</th>\n",
       "      <th>school_charter_ready_promise</th>\n",
       "      <th>...</th>\n",
       "      <th>donation_included_optional_support</th>\n",
       "      <th>payment_included_acct_credit</th>\n",
       "      <th>payment_included_campaign_gift_card</th>\n",
       "      <th>payment_included_web_purchased_gift_card</th>\n",
       "      <th>payment_was_promo_matched</th>\n",
       "      <th>via_giving_page</th>\n",
       "      <th>for_honoree</th>\n",
       "      <th>project_resource_type</th>\n",
       "      <th>item_unit_price</th>\n",
       "      <th>item_quantity</th>\n",
       "    </tr>\n",
       "    <tr>\n",
       "      <th>projectid</th>\n",
       "      <th></th>\n",
       "      <th></th>\n",
       "      <th></th>\n",
       "      <th></th>\n",
       "      <th></th>\n",
       "      <th></th>\n",
       "      <th></th>\n",
       "      <th></th>\n",
       "      <th></th>\n",
       "      <th></th>\n",
       "      <th></th>\n",
       "      <th></th>\n",
       "      <th></th>\n",
       "      <th></th>\n",
       "      <th></th>\n",
       "      <th></th>\n",
       "      <th></th>\n",
       "      <th></th>\n",
       "      <th></th>\n",
       "      <th></th>\n",
       "      <th></th>\n",
       "    </tr>\n",
       "  </thead>\n",
       "  <tbody>\n",
       "    <tr>\n",
       "      <th>00001ccc0e81598c4bd86bacb94d7acb</th>\n",
       "      <td>36</td>\n",
       "      <td>12</td>\n",
       "      <td>167</td>\n",
       "      <td>27</td>\n",
       "      <td>0</td>\n",
       "      <td>0</td>\n",
       "      <td>0</td>\n",
       "      <td>0</td>\n",
       "      <td>0</td>\n",
       "      <td>0</td>\n",
       "      <td>...</td>\n",
       "      <td>1.0</td>\n",
       "      <td>0.0</td>\n",
       "      <td>0.0</td>\n",
       "      <td>0.0</td>\n",
       "      <td>1.0</td>\n",
       "      <td>0.0</td>\n",
       "      <td>0.0</td>\n",
       "      <td>2</td>\n",
       "      <td>3.99</td>\n",
       "      <td>2.0</td>\n",
       "    </tr>\n",
       "    <tr>\n",
       "      <th>00001ccc0e81598c4bd86bacb94d7acb</th>\n",
       "      <td>36</td>\n",
       "      <td>12</td>\n",
       "      <td>167</td>\n",
       "      <td>27</td>\n",
       "      <td>0</td>\n",
       "      <td>0</td>\n",
       "      <td>0</td>\n",
       "      <td>0</td>\n",
       "      <td>0</td>\n",
       "      <td>0</td>\n",
       "      <td>...</td>\n",
       "      <td>1.0</td>\n",
       "      <td>0.0</td>\n",
       "      <td>0.0</td>\n",
       "      <td>0.0</td>\n",
       "      <td>1.0</td>\n",
       "      <td>0.0</td>\n",
       "      <td>0.0</td>\n",
       "      <td>2</td>\n",
       "      <td>9.99</td>\n",
       "      <td>1.0</td>\n",
       "    </tr>\n",
       "    <tr>\n",
       "      <th>00001ccc0e81598c4bd86bacb94d7acb</th>\n",
       "      <td>36</td>\n",
       "      <td>12</td>\n",
       "      <td>167</td>\n",
       "      <td>27</td>\n",
       "      <td>0</td>\n",
       "      <td>0</td>\n",
       "      <td>0</td>\n",
       "      <td>0</td>\n",
       "      <td>0</td>\n",
       "      <td>0</td>\n",
       "      <td>...</td>\n",
       "      <td>1.0</td>\n",
       "      <td>0.0</td>\n",
       "      <td>0.0</td>\n",
       "      <td>0.0</td>\n",
       "      <td>1.0</td>\n",
       "      <td>0.0</td>\n",
       "      <td>0.0</td>\n",
       "      <td>2</td>\n",
       "      <td>29.99</td>\n",
       "      <td>1.0</td>\n",
       "    </tr>\n",
       "    <tr>\n",
       "      <th>00001ccc0e81598c4bd86bacb94d7acb</th>\n",
       "      <td>36</td>\n",
       "      <td>12</td>\n",
       "      <td>167</td>\n",
       "      <td>27</td>\n",
       "      <td>0</td>\n",
       "      <td>0</td>\n",
       "      <td>0</td>\n",
       "      <td>0</td>\n",
       "      <td>0</td>\n",
       "      <td>0</td>\n",
       "      <td>...</td>\n",
       "      <td>1.0</td>\n",
       "      <td>0.0</td>\n",
       "      <td>0.0</td>\n",
       "      <td>0.0</td>\n",
       "      <td>1.0</td>\n",
       "      <td>0.0</td>\n",
       "      <td>0.0</td>\n",
       "      <td>2</td>\n",
       "      <td>7.99</td>\n",
       "      <td>6.0</td>\n",
       "    </tr>\n",
       "    <tr>\n",
       "      <th>00001ccc0e81598c4bd86bacb94d7acb</th>\n",
       "      <td>36</td>\n",
       "      <td>12</td>\n",
       "      <td>167</td>\n",
       "      <td>27</td>\n",
       "      <td>0</td>\n",
       "      <td>0</td>\n",
       "      <td>0</td>\n",
       "      <td>0</td>\n",
       "      <td>0</td>\n",
       "      <td>0</td>\n",
       "      <td>...</td>\n",
       "      <td>1.0</td>\n",
       "      <td>0.0</td>\n",
       "      <td>0.0</td>\n",
       "      <td>0.0</td>\n",
       "      <td>1.0</td>\n",
       "      <td>0.0</td>\n",
       "      <td>0.0</td>\n",
       "      <td>2</td>\n",
       "      <td>12.99</td>\n",
       "      <td>2.0</td>\n",
       "    </tr>\n",
       "  </tbody>\n",
       "</table>\n",
       "<p>5 rows × 56 columns</p>\n",
       "</div>"
      ],
      "text/plain": [
       "                                  school_city  school_state  school_district  \\\n",
       "projectid                                                                      \n",
       "00001ccc0e81598c4bd86bacb94d7acb           36            12              167   \n",
       "00001ccc0e81598c4bd86bacb94d7acb           36            12              167   \n",
       "00001ccc0e81598c4bd86bacb94d7acb           36            12              167   \n",
       "00001ccc0e81598c4bd86bacb94d7acb           36            12              167   \n",
       "00001ccc0e81598c4bd86bacb94d7acb           36            12              167   \n",
       "\n",
       "                                  school_county  school_charter  \\\n",
       "projectid                                                         \n",
       "00001ccc0e81598c4bd86bacb94d7acb             27               0   \n",
       "00001ccc0e81598c4bd86bacb94d7acb             27               0   \n",
       "00001ccc0e81598c4bd86bacb94d7acb             27               0   \n",
       "00001ccc0e81598c4bd86bacb94d7acb             27               0   \n",
       "00001ccc0e81598c4bd86bacb94d7acb             27               0   \n",
       "\n",
       "                                  school_magnet  school_year_round  \\\n",
       "projectid                                                            \n",
       "00001ccc0e81598c4bd86bacb94d7acb              0                  0   \n",
       "00001ccc0e81598c4bd86bacb94d7acb              0                  0   \n",
       "00001ccc0e81598c4bd86bacb94d7acb              0                  0   \n",
       "00001ccc0e81598c4bd86bacb94d7acb              0                  0   \n",
       "00001ccc0e81598c4bd86bacb94d7acb              0                  0   \n",
       "\n",
       "                                  school_nlns  school_kipp  \\\n",
       "projectid                                                    \n",
       "00001ccc0e81598c4bd86bacb94d7acb            0            0   \n",
       "00001ccc0e81598c4bd86bacb94d7acb            0            0   \n",
       "00001ccc0e81598c4bd86bacb94d7acb            0            0   \n",
       "00001ccc0e81598c4bd86bacb94d7acb            0            0   \n",
       "00001ccc0e81598c4bd86bacb94d7acb            0            0   \n",
       "\n",
       "                                  school_charter_ready_promise      ...        \\\n",
       "projectid                                                           ...         \n",
       "00001ccc0e81598c4bd86bacb94d7acb                             0      ...         \n",
       "00001ccc0e81598c4bd86bacb94d7acb                             0      ...         \n",
       "00001ccc0e81598c4bd86bacb94d7acb                             0      ...         \n",
       "00001ccc0e81598c4bd86bacb94d7acb                             0      ...         \n",
       "00001ccc0e81598c4bd86bacb94d7acb                             0      ...         \n",
       "\n",
       "                                  donation_included_optional_support  \\\n",
       "projectid                                                              \n",
       "00001ccc0e81598c4bd86bacb94d7acb                                 1.0   \n",
       "00001ccc0e81598c4bd86bacb94d7acb                                 1.0   \n",
       "00001ccc0e81598c4bd86bacb94d7acb                                 1.0   \n",
       "00001ccc0e81598c4bd86bacb94d7acb                                 1.0   \n",
       "00001ccc0e81598c4bd86bacb94d7acb                                 1.0   \n",
       "\n",
       "                                  payment_included_acct_credit  \\\n",
       "projectid                                                        \n",
       "00001ccc0e81598c4bd86bacb94d7acb                           0.0   \n",
       "00001ccc0e81598c4bd86bacb94d7acb                           0.0   \n",
       "00001ccc0e81598c4bd86bacb94d7acb                           0.0   \n",
       "00001ccc0e81598c4bd86bacb94d7acb                           0.0   \n",
       "00001ccc0e81598c4bd86bacb94d7acb                           0.0   \n",
       "\n",
       "                                  payment_included_campaign_gift_card  \\\n",
       "projectid                                                               \n",
       "00001ccc0e81598c4bd86bacb94d7acb                                  0.0   \n",
       "00001ccc0e81598c4bd86bacb94d7acb                                  0.0   \n",
       "00001ccc0e81598c4bd86bacb94d7acb                                  0.0   \n",
       "00001ccc0e81598c4bd86bacb94d7acb                                  0.0   \n",
       "00001ccc0e81598c4bd86bacb94d7acb                                  0.0   \n",
       "\n",
       "                                  payment_included_web_purchased_gift_card  \\\n",
       "projectid                                                                    \n",
       "00001ccc0e81598c4bd86bacb94d7acb                                       0.0   \n",
       "00001ccc0e81598c4bd86bacb94d7acb                                       0.0   \n",
       "00001ccc0e81598c4bd86bacb94d7acb                                       0.0   \n",
       "00001ccc0e81598c4bd86bacb94d7acb                                       0.0   \n",
       "00001ccc0e81598c4bd86bacb94d7acb                                       0.0   \n",
       "\n",
       "                                  payment_was_promo_matched  via_giving_page  \\\n",
       "projectid                                                                      \n",
       "00001ccc0e81598c4bd86bacb94d7acb                        1.0              0.0   \n",
       "00001ccc0e81598c4bd86bacb94d7acb                        1.0              0.0   \n",
       "00001ccc0e81598c4bd86bacb94d7acb                        1.0              0.0   \n",
       "00001ccc0e81598c4bd86bacb94d7acb                        1.0              0.0   \n",
       "00001ccc0e81598c4bd86bacb94d7acb                        1.0              0.0   \n",
       "\n",
       "                                  for_honoree  project_resource_type  \\\n",
       "projectid                                                              \n",
       "00001ccc0e81598c4bd86bacb94d7acb          0.0                      2   \n",
       "00001ccc0e81598c4bd86bacb94d7acb          0.0                      2   \n",
       "00001ccc0e81598c4bd86bacb94d7acb          0.0                      2   \n",
       "00001ccc0e81598c4bd86bacb94d7acb          0.0                      2   \n",
       "00001ccc0e81598c4bd86bacb94d7acb          0.0                      2   \n",
       "\n",
       "                                  item_unit_price  item_quantity  \n",
       "projectid                                                         \n",
       "00001ccc0e81598c4bd86bacb94d7acb             3.99            2.0  \n",
       "00001ccc0e81598c4bd86bacb94d7acb             9.99            1.0  \n",
       "00001ccc0e81598c4bd86bacb94d7acb            29.99            1.0  \n",
       "00001ccc0e81598c4bd86bacb94d7acb             7.99            6.0  \n",
       "00001ccc0e81598c4bd86bacb94d7acb            12.99            2.0  \n",
       "\n",
       "[5 rows x 56 columns]"
      ]
     },
     "execution_count": 44,
     "metadata": {},
     "output_type": "execute_result"
    }
   ],
   "source": [
    "for col in str_cols:\n",
    "    df[col] = df[col].astype('category').cat.codes\n",
    "\n",
    "df.head()"
   ]
  },
  {
   "cell_type": "markdown",
   "metadata": {},
   "source": [
    "## Check and Fill out missing value"
   ]
  },
  {
   "cell_type": "markdown",
   "metadata": {},
   "source": [
    "A standard and often very good approach is to replace missing values with mean, median and zeros. For numerical values we usually go with mean. If there are some outliers, try median first since it is less sensitive to them."
   ]
  },
  {
   "cell_type": "code",
   "execution_count": 45,
   "metadata": {},
   "outputs": [
    {
     "data": {
      "text/plain": [
       "['is_exciting',\n",
       " 'at_least_1_teacher_referred_donor',\n",
       " 'fully_funded',\n",
       " 'at_least_1_green_donation',\n",
       " 'great_chat',\n",
       " 'three_or_more_non_teacher_referred_donors',\n",
       " 'one_non_teacher_referred_donor_giving_100_plus',\n",
       " 'donation_from_thoughtful_donor',\n",
       " 'great_messages_proportion',\n",
       " 'teacher_referred_count',\n",
       " 'non_teacher_referred_count',\n",
       " 'donor_zip',\n",
       " 'is_teacher_acct',\n",
       " 'donation_to_project',\n",
       " 'donation_optional_support',\n",
       " 'donation_total',\n",
       " 'donation_included_optional_support',\n",
       " 'payment_included_acct_credit',\n",
       " 'payment_included_campaign_gift_card',\n",
       " 'payment_included_web_purchased_gift_card',\n",
       " 'payment_was_promo_matched',\n",
       " 'via_giving_page',\n",
       " 'for_honoree',\n",
       " 'item_unit_price',\n",
       " 'item_quantity']"
      ]
     },
     "execution_count": 45,
     "metadata": {},
     "output_type": "execute_result"
    }
   ],
   "source": [
    "def check_missing(df):\n",
    "    return [col for col in df.columns if any(df[col].isnull()) == True]\n",
    "\n",
    "def fill_missing(df, col_name, method):\n",
    "    if method == 'mean':\n",
    "        df[col_name] = df[col_name].fillna(df[col_name].mean())\n",
    "    elif method == 'median':\n",
    "        df[col_name] = df[col_name].fillna(df[col_name].median())\n",
    "    elif method == 'zero':\n",
    "        df[col_name] = df[col_name].fillna(0)\n",
    "        \n",
    "missing_cols = check_missing(df)\n",
    "missing_cols"
   ]
  },
  {
   "cell_type": "code",
   "execution_count": 46,
   "metadata": {},
   "outputs": [
    {
     "data": {
      "text/plain": [
       "[]"
      ]
     },
     "execution_count": 46,
     "metadata": {},
     "output_type": "execute_result"
    }
   ],
   "source": [
    "for col in missing_cols:\n",
    "    fill_missing(df, col, 'mean')\n",
    "check_missing(df)"
   ]
  },
  {
   "cell_type": "markdown",
   "metadata": {},
   "source": [
    "As we can see, there is no missing values."
   ]
  },
  {
   "cell_type": "markdown",
   "metadata": {},
   "source": [
    "## Drop out outliers"
   ]
  },
  {
   "cell_type": "markdown",
   "metadata": {},
   "source": [
    "The impact of outliers could be not only seen in predictive modeling but also in statistical tests where it reduced the power of tests. Most paremetric statistics like means, standard deviations and correlations, and every statistics based on these, are highly sensitive to outliers. We care for the impact of outliers in predictivae modeling in this case.\n",
    "\n",
    "From the statistics below, in order to get a better fit and more general solutions, we first detecting outliers, and then use '(data - mean) < 3 * std' to determine whether to drop these outliers."
   ]
  },
  {
   "cell_type": "code",
   "execution_count": 47,
   "metadata": {},
   "outputs": [
    {
     "data": {
      "text/html": [
       "<div>\n",
       "<style scoped>\n",
       "    .dataframe tbody tr th:only-of-type {\n",
       "        vertical-align: middle;\n",
       "    }\n",
       "\n",
       "    .dataframe tbody tr th {\n",
       "        vertical-align: top;\n",
       "    }\n",
       "\n",
       "    .dataframe thead th {\n",
       "        text-align: right;\n",
       "    }\n",
       "</style>\n",
       "<table border=\"1\" class=\"dataframe\">\n",
       "  <thead>\n",
       "    <tr style=\"text-align: right;\">\n",
       "      <th></th>\n",
       "      <th>school_city</th>\n",
       "      <th>school_state</th>\n",
       "      <th>school_district</th>\n",
       "      <th>school_county</th>\n",
       "      <th>school_charter</th>\n",
       "      <th>school_magnet</th>\n",
       "      <th>school_year_round</th>\n",
       "      <th>school_nlns</th>\n",
       "      <th>school_kipp</th>\n",
       "      <th>school_charter_ready_promise</th>\n",
       "      <th>...</th>\n",
       "      <th>donation_included_optional_support</th>\n",
       "      <th>payment_included_acct_credit</th>\n",
       "      <th>payment_included_campaign_gift_card</th>\n",
       "      <th>payment_included_web_purchased_gift_card</th>\n",
       "      <th>payment_was_promo_matched</th>\n",
       "      <th>via_giving_page</th>\n",
       "      <th>for_honoree</th>\n",
       "      <th>project_resource_type</th>\n",
       "      <th>item_unit_price</th>\n",
       "      <th>item_quantity</th>\n",
       "    </tr>\n",
       "  </thead>\n",
       "  <tbody>\n",
       "    <tr>\n",
       "      <th>count</th>\n",
       "      <td>9905.000000</td>\n",
       "      <td>9905.000000</td>\n",
       "      <td>9905.000000</td>\n",
       "      <td>9905.000000</td>\n",
       "      <td>9905.000000</td>\n",
       "      <td>9905.000000</td>\n",
       "      <td>9905.000000</td>\n",
       "      <td>9905.000000</td>\n",
       "      <td>9905.000000</td>\n",
       "      <td>9905.000000</td>\n",
       "      <td>...</td>\n",
       "      <td>9905.000000</td>\n",
       "      <td>9905.000000</td>\n",
       "      <td>9905.000000</td>\n",
       "      <td>9905.000000</td>\n",
       "      <td>9905.000000</td>\n",
       "      <td>9905.000000</td>\n",
       "      <td>9905.000000</td>\n",
       "      <td>9905.00000</td>\n",
       "      <td>9905.00000</td>\n",
       "      <td>9905.000000</td>\n",
       "    </tr>\n",
       "    <tr>\n",
       "      <th>mean</th>\n",
       "      <td>116.659768</td>\n",
       "      <td>20.508531</td>\n",
       "      <td>129.409288</td>\n",
       "      <td>88.759112</td>\n",
       "      <td>0.047249</td>\n",
       "      <td>0.048057</td>\n",
       "      <td>0.116103</td>\n",
       "      <td>0.001212</td>\n",
       "      <td>0.001918</td>\n",
       "      <td>0.026047</td>\n",
       "      <td>...</td>\n",
       "      <td>0.927937</td>\n",
       "      <td>0.129817</td>\n",
       "      <td>0.325953</td>\n",
       "      <td>0.046266</td>\n",
       "      <td>0.109765</td>\n",
       "      <td>0.331593</td>\n",
       "      <td>0.015457</td>\n",
       "      <td>1.06633</td>\n",
       "      <td>55.94831</td>\n",
       "      <td>2.130176</td>\n",
       "    </tr>\n",
       "    <tr>\n",
       "      <th>std</th>\n",
       "      <td>72.052922</td>\n",
       "      <td>12.130914</td>\n",
       "      <td>58.603640</td>\n",
       "      <td>42.186156</td>\n",
       "      <td>0.212181</td>\n",
       "      <td>0.213897</td>\n",
       "      <td>0.320365</td>\n",
       "      <td>0.034787</td>\n",
       "      <td>0.043758</td>\n",
       "      <td>0.159284</td>\n",
       "      <td>...</td>\n",
       "      <td>0.254260</td>\n",
       "      <td>0.330473</td>\n",
       "      <td>0.460879</td>\n",
       "      <td>0.206543</td>\n",
       "      <td>0.307361</td>\n",
       "      <td>0.462900</td>\n",
       "      <td>0.121295</td>\n",
       "      <td>1.09575</td>\n",
       "      <td>124.16708</td>\n",
       "      <td>5.303960</td>\n",
       "    </tr>\n",
       "    <tr>\n",
       "      <th>min</th>\n",
       "      <td>0.000000</td>\n",
       "      <td>0.000000</td>\n",
       "      <td>-1.000000</td>\n",
       "      <td>0.000000</td>\n",
       "      <td>0.000000</td>\n",
       "      <td>0.000000</td>\n",
       "      <td>0.000000</td>\n",
       "      <td>0.000000</td>\n",
       "      <td>0.000000</td>\n",
       "      <td>0.000000</td>\n",
       "      <td>...</td>\n",
       "      <td>0.000000</td>\n",
       "      <td>0.000000</td>\n",
       "      <td>0.000000</td>\n",
       "      <td>0.000000</td>\n",
       "      <td>0.000000</td>\n",
       "      <td>0.000000</td>\n",
       "      <td>0.000000</td>\n",
       "      <td>0.00000</td>\n",
       "      <td>0.01000</td>\n",
       "      <td>1.000000</td>\n",
       "    </tr>\n",
       "    <tr>\n",
       "      <th>25%</th>\n",
       "      <td>38.000000</td>\n",
       "      <td>9.000000</td>\n",
       "      <td>95.000000</td>\n",
       "      <td>66.000000</td>\n",
       "      <td>0.000000</td>\n",
       "      <td>0.000000</td>\n",
       "      <td>0.000000</td>\n",
       "      <td>0.000000</td>\n",
       "      <td>0.000000</td>\n",
       "      <td>0.000000</td>\n",
       "      <td>...</td>\n",
       "      <td>1.000000</td>\n",
       "      <td>0.000000</td>\n",
       "      <td>0.000000</td>\n",
       "      <td>0.000000</td>\n",
       "      <td>0.000000</td>\n",
       "      <td>0.000000</td>\n",
       "      <td>0.000000</td>\n",
       "      <td>0.00000</td>\n",
       "      <td>7.19000</td>\n",
       "      <td>1.000000</td>\n",
       "    </tr>\n",
       "    <tr>\n",
       "      <th>50%</th>\n",
       "      <td>121.000000</td>\n",
       "      <td>22.000000</td>\n",
       "      <td>124.000000</td>\n",
       "      <td>85.000000</td>\n",
       "      <td>0.000000</td>\n",
       "      <td>0.000000</td>\n",
       "      <td>0.000000</td>\n",
       "      <td>0.000000</td>\n",
       "      <td>0.000000</td>\n",
       "      <td>0.000000</td>\n",
       "      <td>...</td>\n",
       "      <td>1.000000</td>\n",
       "      <td>0.000000</td>\n",
       "      <td>0.000000</td>\n",
       "      <td>0.000000</td>\n",
       "      <td>0.000000</td>\n",
       "      <td>0.000000</td>\n",
       "      <td>0.000000</td>\n",
       "      <td>1.00000</td>\n",
       "      <td>14.79000</td>\n",
       "      <td>1.000000</td>\n",
       "    </tr>\n",
       "    <tr>\n",
       "      <th>75%</th>\n",
       "      <td>180.000000</td>\n",
       "      <td>28.000000</td>\n",
       "      <td>177.000000</td>\n",
       "      <td>123.000000</td>\n",
       "      <td>0.000000</td>\n",
       "      <td>0.000000</td>\n",
       "      <td>0.000000</td>\n",
       "      <td>0.000000</td>\n",
       "      <td>0.000000</td>\n",
       "      <td>0.000000</td>\n",
       "      <td>...</td>\n",
       "      <td>1.000000</td>\n",
       "      <td>0.000000</td>\n",
       "      <td>1.000000</td>\n",
       "      <td>0.000000</td>\n",
       "      <td>0.000000</td>\n",
       "      <td>1.000000</td>\n",
       "      <td>0.000000</td>\n",
       "      <td>2.00000</td>\n",
       "      <td>38.96000</td>\n",
       "      <td>1.000000</td>\n",
       "    </tr>\n",
       "    <tr>\n",
       "      <th>max</th>\n",
       "      <td>230.000000</td>\n",
       "      <td>41.000000</td>\n",
       "      <td>221.000000</td>\n",
       "      <td>160.000000</td>\n",
       "      <td>1.000000</td>\n",
       "      <td>1.000000</td>\n",
       "      <td>1.000000</td>\n",
       "      <td>1.000000</td>\n",
       "      <td>1.000000</td>\n",
       "      <td>1.000000</td>\n",
       "      <td>...</td>\n",
       "      <td>1.000000</td>\n",
       "      <td>1.000000</td>\n",
       "      <td>1.000000</td>\n",
       "      <td>1.000000</td>\n",
       "      <td>1.000000</td>\n",
       "      <td>1.000000</td>\n",
       "      <td>1.000000</td>\n",
       "      <td>4.00000</td>\n",
       "      <td>2000.00000</td>\n",
       "      <td>115.000000</td>\n",
       "    </tr>\n",
       "  </tbody>\n",
       "</table>\n",
       "<p>8 rows × 55 columns</p>\n",
       "</div>"
      ],
      "text/plain": [
       "       school_city  school_state  school_district  school_county  \\\n",
       "count  9905.000000   9905.000000      9905.000000    9905.000000   \n",
       "mean    116.659768     20.508531       129.409288      88.759112   \n",
       "std      72.052922     12.130914        58.603640      42.186156   \n",
       "min       0.000000      0.000000        -1.000000       0.000000   \n",
       "25%      38.000000      9.000000        95.000000      66.000000   \n",
       "50%     121.000000     22.000000       124.000000      85.000000   \n",
       "75%     180.000000     28.000000       177.000000     123.000000   \n",
       "max     230.000000     41.000000       221.000000     160.000000   \n",
       "\n",
       "       school_charter  school_magnet  school_year_round  school_nlns  \\\n",
       "count     9905.000000    9905.000000        9905.000000  9905.000000   \n",
       "mean         0.047249       0.048057           0.116103     0.001212   \n",
       "std          0.212181       0.213897           0.320365     0.034787   \n",
       "min          0.000000       0.000000           0.000000     0.000000   \n",
       "25%          0.000000       0.000000           0.000000     0.000000   \n",
       "50%          0.000000       0.000000           0.000000     0.000000   \n",
       "75%          0.000000       0.000000           0.000000     0.000000   \n",
       "max          1.000000       1.000000           1.000000     1.000000   \n",
       "\n",
       "       school_kipp  school_charter_ready_promise      ...        \\\n",
       "count  9905.000000                   9905.000000      ...         \n",
       "mean      0.001918                      0.026047      ...         \n",
       "std       0.043758                      0.159284      ...         \n",
       "min       0.000000                      0.000000      ...         \n",
       "25%       0.000000                      0.000000      ...         \n",
       "50%       0.000000                      0.000000      ...         \n",
       "75%       0.000000                      0.000000      ...         \n",
       "max       1.000000                      1.000000      ...         \n",
       "\n",
       "       donation_included_optional_support  payment_included_acct_credit  \\\n",
       "count                         9905.000000                   9905.000000   \n",
       "mean                             0.927937                      0.129817   \n",
       "std                              0.254260                      0.330473   \n",
       "min                              0.000000                      0.000000   \n",
       "25%                              1.000000                      0.000000   \n",
       "50%                              1.000000                      0.000000   \n",
       "75%                              1.000000                      0.000000   \n",
       "max                              1.000000                      1.000000   \n",
       "\n",
       "       payment_included_campaign_gift_card  \\\n",
       "count                          9905.000000   \n",
       "mean                              0.325953   \n",
       "std                               0.460879   \n",
       "min                               0.000000   \n",
       "25%                               0.000000   \n",
       "50%                               0.000000   \n",
       "75%                               1.000000   \n",
       "max                               1.000000   \n",
       "\n",
       "       payment_included_web_purchased_gift_card  payment_was_promo_matched  \\\n",
       "count                               9905.000000                9905.000000   \n",
       "mean                                   0.046266                   0.109765   \n",
       "std                                    0.206543                   0.307361   \n",
       "min                                    0.000000                   0.000000   \n",
       "25%                                    0.000000                   0.000000   \n",
       "50%                                    0.000000                   0.000000   \n",
       "75%                                    0.000000                   0.000000   \n",
       "max                                    1.000000                   1.000000   \n",
       "\n",
       "       via_giving_page  for_honoree  project_resource_type  item_unit_price  \\\n",
       "count      9905.000000  9905.000000             9905.00000       9905.00000   \n",
       "mean          0.331593     0.015457                1.06633         55.94831   \n",
       "std           0.462900     0.121295                1.09575        124.16708   \n",
       "min           0.000000     0.000000                0.00000          0.01000   \n",
       "25%           0.000000     0.000000                0.00000          7.19000   \n",
       "50%           0.000000     0.000000                1.00000         14.79000   \n",
       "75%           1.000000     0.000000                2.00000         38.96000   \n",
       "max           1.000000     1.000000                4.00000       2000.00000   \n",
       "\n",
       "       item_quantity  \n",
       "count    9905.000000  \n",
       "mean        2.130176  \n",
       "std         5.303960  \n",
       "min         1.000000  \n",
       "25%         1.000000  \n",
       "50%         1.000000  \n",
       "75%         1.000000  \n",
       "max       115.000000  \n",
       "\n",
       "[8 rows x 55 columns]"
      ]
     },
     "execution_count": 47,
     "metadata": {},
     "output_type": "execute_result"
    }
   ],
   "source": [
    "df.describe()"
   ]
  },
  {
   "cell_type": "code",
   "execution_count": 48,
   "metadata": {},
   "outputs": [
    {
     "data": {
      "text/plain": [
       "[('donation_included_optional_support', 690),\n",
       " ('eligible_almost_home_match', 683)]"
      ]
     },
     "execution_count": 48,
     "metadata": {},
     "output_type": "execute_result"
    }
   ],
   "source": [
    "def find_outliers(df, col):\n",
    "    return df[((df[col] - df[col].mean()) / df[col].std()).abs() >= 3]\n",
    "\n",
    "def find_all_outliers(df):\n",
    "    counter = []\n",
    "    for f in df.columns:\n",
    "        if f != 'date_posted':\n",
    "            counter.append((f, len(find_outliers(df, f))))\n",
    "    counter.sort(key=lambda x: x[1], reverse=True)\n",
    "    counter = counter[:2]\n",
    "    return counter\n",
    "        \n",
    "cols = find_all_outliers(df)\n",
    "cols"
   ]
  },
  {
   "cell_type": "code",
   "execution_count": 49,
   "metadata": {},
   "outputs": [
    {
     "name": "stdout",
     "output_type": "stream",
     "text": [
      "drop out 1274 outliers\n"
     ]
    }
   ],
   "source": [
    "# use (data - mean) < 3 * std to determine whether to drop\n",
    "def drop_outliers(df, col):\n",
    "    return df[((df[col] - df[col].mean()) / df[col].std()).abs() < 3]\n",
    "old_len = len(df)\n",
    "for f, _ in cols:\n",
    "    df = drop_outliers(df, f)\n",
    "\n",
    "print('drop out {} outliers'.format(old_len - len(df)))"
   ]
  },
  {
   "cell_type": "markdown",
   "metadata": {},
   "source": [
    "# Step 4: Generate Features"
   ]
  },
  {
   "cell_type": "markdown",
   "metadata": {},
   "source": [
    "There are 54 variables in our data. Unneeded, irrelevant and redundant attributes from data that do not contribute to the accuracy of a predictive model or may in fact decrease the accuracy of the model. In order to find variables that most contribute to the prediction variable, we first plot and rank features importance. This step will help us reduce overfitting problem, improve accuracy and reduce training time."
   ]
  },
  {
   "cell_type": "code",
   "execution_count": 50,
   "metadata": {},
   "outputs": [
    {
     "data": {
      "image/png": "[encoded data removed]",
      "text/plain": [
       "<Figure size 576x864 with 1 Axes>"
      ]
     },
     "metadata": {},
     "output_type": "display_data"
    }
   ],
   "source": [
    "def sort_features_through_dt(df_features, df_label):\n",
    "    features = df_features.columns\n",
    "    model = DecisionTreeClassifier()\n",
    "    model.fit(df_features, df_label)\n",
    "    importances = model.feature_importances_\n",
    "    sorted_idx = np.argsort(importances)\n",
    "    padding = np.arange(len(features)) + 0.5\n",
    "    plt.figure(figsize=(8, 12))\n",
    "    plt.barh(padding, importances[sorted_idx], align='center')\n",
    "    plt.yticks(padding, np.asarray(features)[sorted_idx])\n",
    "    plt.xlabel(\"Relative Importance\")\n",
    "    plt.title(\"Features Importance Through DT\")\n",
    "    \n",
    "    return list(np.asarray(features)[sorted_idx][::-1])\n",
    "\n",
    "df['fully_funded'] = df['fully_funded'].astype('int')\n",
    "df['fully_funded'] = 1 - df['fully_funded']\n",
    "all_x= df.drop(['date_posted', 'fully_funded'], axis=1)\n",
    "all_y = df['fully_funded']\n",
    "\n",
    "sorted_train_features = sort_features_through_dt(all_x, all_y)"
   ]
  },
  {
   "cell_type": "markdown",
   "metadata": {},
   "source": [
    "Fewer attributes is desirable because it reduces the complexity of the model, and a simpler model is simpler to understand and explain. Thus, we would like to select the top 1/3 features into the predictive model.\n",
    "\n",
    "As a result there are 17 features in the analysis"
   ]
  },
  {
   "cell_type": "code",
   "execution_count": 51,
   "metadata": {},
   "outputs": [
    {
     "data": {
      "text/html": [
       "<div>\n",
       "<style scoped>\n",
       "    .dataframe tbody tr th:only-of-type {\n",
       "        vertical-align: middle;\n",
       "    }\n",
       "\n",
       "    .dataframe tbody tr th {\n",
       "        vertical-align: top;\n",
       "    }\n",
       "\n",
       "    .dataframe thead th {\n",
       "        text-align: right;\n",
       "    }\n",
       "</style>\n",
       "<table border=\"1\" class=\"dataframe\">\n",
       "  <thead>\n",
       "    <tr style=\"text-align: right;\">\n",
       "      <th></th>\n",
       "      <th>school_district</th>\n",
       "      <th>dollar_amount</th>\n",
       "      <th>school_state</th>\n",
       "      <th>school_county</th>\n",
       "      <th>great_messages_proportion</th>\n",
       "      <th>non_teacher_referred_count</th>\n",
       "      <th>total_price_including_optional_support</th>\n",
       "      <th>is_teacher_acct</th>\n",
       "      <th>donation_optional_support</th>\n",
       "      <th>donor_zip</th>\n",
       "      <th>donation_to_project</th>\n",
       "      <th>total_price_excluding_optional_support</th>\n",
       "      <th>donor_state</th>\n",
       "      <th>item_unit_price</th>\n",
       "      <th>students_reached</th>\n",
       "      <th>payment_included_campaign_gift_card</th>\n",
       "      <th>secondary_focus_subject</th>\n",
       "    </tr>\n",
       "    <tr>\n",
       "      <th>projectid</th>\n",
       "      <th></th>\n",
       "      <th></th>\n",
       "      <th></th>\n",
       "      <th></th>\n",
       "      <th></th>\n",
       "      <th></th>\n",
       "      <th></th>\n",
       "      <th></th>\n",
       "      <th></th>\n",
       "      <th></th>\n",
       "      <th></th>\n",
       "      <th></th>\n",
       "      <th></th>\n",
       "      <th></th>\n",
       "      <th></th>\n",
       "      <th></th>\n",
       "      <th></th>\n",
       "    </tr>\n",
       "  </thead>\n",
       "  <tbody>\n",
       "    <tr>\n",
       "      <th>00001ccc0e81598c4bd86bacb94d7acb</th>\n",
       "      <td>167</td>\n",
       "      <td>2</td>\n",
       "      <td>12</td>\n",
       "      <td>27</td>\n",
       "      <td>33.0</td>\n",
       "      <td>3.0</td>\n",
       "      <td>1498.61</td>\n",
       "      <td>1.0</td>\n",
       "      <td>0.75</td>\n",
       "      <td>60617.0</td>\n",
       "      <td>4.25</td>\n",
       "      <td>1273.82</td>\n",
       "      <td>15</td>\n",
       "      <td>3.99</td>\n",
       "      <td>31.0</td>\n",
       "      <td>0.0</td>\n",
       "      <td>22</td>\n",
       "    </tr>\n",
       "    <tr>\n",
       "      <th>00001ccc0e81598c4bd86bacb94d7acb</th>\n",
       "      <td>167</td>\n",
       "      <td>2</td>\n",
       "      <td>12</td>\n",
       "      <td>27</td>\n",
       "      <td>33.0</td>\n",
       "      <td>3.0</td>\n",
       "      <td>1498.61</td>\n",
       "      <td>1.0</td>\n",
       "      <td>0.75</td>\n",
       "      <td>60617.0</td>\n",
       "      <td>4.25</td>\n",
       "      <td>1273.82</td>\n",
       "      <td>15</td>\n",
       "      <td>9.99</td>\n",
       "      <td>31.0</td>\n",
       "      <td>0.0</td>\n",
       "      <td>22</td>\n",
       "    </tr>\n",
       "    <tr>\n",
       "      <th>00001ccc0e81598c4bd86bacb94d7acb</th>\n",
       "      <td>167</td>\n",
       "      <td>2</td>\n",
       "      <td>12</td>\n",
       "      <td>27</td>\n",
       "      <td>33.0</td>\n",
       "      <td>3.0</td>\n",
       "      <td>1498.61</td>\n",
       "      <td>1.0</td>\n",
       "      <td>0.75</td>\n",
       "      <td>60617.0</td>\n",
       "      <td>4.25</td>\n",
       "      <td>1273.82</td>\n",
       "      <td>15</td>\n",
       "      <td>29.99</td>\n",
       "      <td>31.0</td>\n",
       "      <td>0.0</td>\n",
       "      <td>22</td>\n",
       "    </tr>\n",
       "    <tr>\n",
       "      <th>00001ccc0e81598c4bd86bacb94d7acb</th>\n",
       "      <td>167</td>\n",
       "      <td>2</td>\n",
       "      <td>12</td>\n",
       "      <td>27</td>\n",
       "      <td>33.0</td>\n",
       "      <td>3.0</td>\n",
       "      <td>1498.61</td>\n",
       "      <td>1.0</td>\n",
       "      <td>0.75</td>\n",
       "      <td>60617.0</td>\n",
       "      <td>4.25</td>\n",
       "      <td>1273.82</td>\n",
       "      <td>15</td>\n",
       "      <td>7.99</td>\n",
       "      <td>31.0</td>\n",
       "      <td>0.0</td>\n",
       "      <td>22</td>\n",
       "    </tr>\n",
       "    <tr>\n",
       "      <th>00001ccc0e81598c4bd86bacb94d7acb</th>\n",
       "      <td>167</td>\n",
       "      <td>2</td>\n",
       "      <td>12</td>\n",
       "      <td>27</td>\n",
       "      <td>33.0</td>\n",
       "      <td>3.0</td>\n",
       "      <td>1498.61</td>\n",
       "      <td>1.0</td>\n",
       "      <td>0.75</td>\n",
       "      <td>60617.0</td>\n",
       "      <td>4.25</td>\n",
       "      <td>1273.82</td>\n",
       "      <td>15</td>\n",
       "      <td>12.99</td>\n",
       "      <td>31.0</td>\n",
       "      <td>0.0</td>\n",
       "      <td>22</td>\n",
       "    </tr>\n",
       "  </tbody>\n",
       "</table>\n",
       "</div>"
      ],
      "text/plain": [
       "                                  school_district  dollar_amount  \\\n",
       "projectid                                                          \n",
       "00001ccc0e81598c4bd86bacb94d7acb              167              2   \n",
       "00001ccc0e81598c4bd86bacb94d7acb              167              2   \n",
       "00001ccc0e81598c4bd86bacb94d7acb              167              2   \n",
       "00001ccc0e81598c4bd86bacb94d7acb              167              2   \n",
       "00001ccc0e81598c4bd86bacb94d7acb              167              2   \n",
       "\n",
       "                                  school_state  school_county  \\\n",
       "projectid                                                       \n",
       "00001ccc0e81598c4bd86bacb94d7acb            12             27   \n",
       "00001ccc0e81598c4bd86bacb94d7acb            12             27   \n",
       "00001ccc0e81598c4bd86bacb94d7acb            12             27   \n",
       "00001ccc0e81598c4bd86bacb94d7acb            12             27   \n",
       "00001ccc0e81598c4bd86bacb94d7acb            12             27   \n",
       "\n",
       "                                  great_messages_proportion  \\\n",
       "projectid                                                     \n",
       "00001ccc0e81598c4bd86bacb94d7acb                       33.0   \n",
       "00001ccc0e81598c4bd86bacb94d7acb                       33.0   \n",
       "00001ccc0e81598c4bd86bacb94d7acb                       33.0   \n",
       "00001ccc0e81598c4bd86bacb94d7acb                       33.0   \n",
       "00001ccc0e81598c4bd86bacb94d7acb                       33.0   \n",
       "\n",
       "                                  non_teacher_referred_count  \\\n",
       "projectid                                                      \n",
       "00001ccc0e81598c4bd86bacb94d7acb                         3.0   \n",
       "00001ccc0e81598c4bd86bacb94d7acb                         3.0   \n",
       "00001ccc0e81598c4bd86bacb94d7acb                         3.0   \n",
       "00001ccc0e81598c4bd86bacb94d7acb                         3.0   \n",
       "00001ccc0e81598c4bd86bacb94d7acb                         3.0   \n",
       "\n",
       "                                  total_price_including_optional_support  \\\n",
       "projectid                                                                  \n",
       "00001ccc0e81598c4bd86bacb94d7acb                                 1498.61   \n",
       "00001ccc0e81598c4bd86bacb94d7acb                                 1498.61   \n",
       "00001ccc0e81598c4bd86bacb94d7acb                                 1498.61   \n",
       "00001ccc0e81598c4bd86bacb94d7acb                                 1498.61   \n",
       "00001ccc0e81598c4bd86bacb94d7acb                                 1498.61   \n",
       "\n",
       "                                  is_teacher_acct  donation_optional_support  \\\n",
       "projectid                                                                      \n",
       "00001ccc0e81598c4bd86bacb94d7acb              1.0                       0.75   \n",
       "00001ccc0e81598c4bd86bacb94d7acb              1.0                       0.75   \n",
       "00001ccc0e81598c4bd86bacb94d7acb              1.0                       0.75   \n",
       "00001ccc0e81598c4bd86bacb94d7acb              1.0                       0.75   \n",
       "00001ccc0e81598c4bd86bacb94d7acb              1.0                       0.75   \n",
       "\n",
       "                                  donor_zip  donation_to_project  \\\n",
       "projectid                                                          \n",
       "00001ccc0e81598c4bd86bacb94d7acb    60617.0                 4.25   \n",
       "00001ccc0e81598c4bd86bacb94d7acb    60617.0                 4.25   \n",
       "00001ccc0e81598c4bd86bacb94d7acb    60617.0                 4.25   \n",
       "00001ccc0e81598c4bd86bacb94d7acb    60617.0                 4.25   \n",
       "00001ccc0e81598c4bd86bacb94d7acb    60617.0                 4.25   \n",
       "\n",
       "                                  total_price_excluding_optional_support  \\\n",
       "projectid                                                                  \n",
       "00001ccc0e81598c4bd86bacb94d7acb                                 1273.82   \n",
       "00001ccc0e81598c4bd86bacb94d7acb                                 1273.82   \n",
       "00001ccc0e81598c4bd86bacb94d7acb                                 1273.82   \n",
       "00001ccc0e81598c4bd86bacb94d7acb                                 1273.82   \n",
       "00001ccc0e81598c4bd86bacb94d7acb                                 1273.82   \n",
       "\n",
       "                                  donor_state  item_unit_price  \\\n",
       "projectid                                                        \n",
       "00001ccc0e81598c4bd86bacb94d7acb           15             3.99   \n",
       "00001ccc0e81598c4bd86bacb94d7acb           15             9.99   \n",
       "00001ccc0e81598c4bd86bacb94d7acb           15            29.99   \n",
       "00001ccc0e81598c4bd86bacb94d7acb           15             7.99   \n",
       "00001ccc0e81598c4bd86bacb94d7acb           15            12.99   \n",
       "\n",
       "                                  students_reached  \\\n",
       "projectid                                            \n",
       "00001ccc0e81598c4bd86bacb94d7acb              31.0   \n",
       "00001ccc0e81598c4bd86bacb94d7acb              31.0   \n",
       "00001ccc0e81598c4bd86bacb94d7acb              31.0   \n",
       "00001ccc0e81598c4bd86bacb94d7acb              31.0   \n",
       "00001ccc0e81598c4bd86bacb94d7acb              31.0   \n",
       "\n",
       "                                  payment_included_campaign_gift_card  \\\n",
       "projectid                                                               \n",
       "00001ccc0e81598c4bd86bacb94d7acb                                  0.0   \n",
       "00001ccc0e81598c4bd86bacb94d7acb                                  0.0   \n",
       "00001ccc0e81598c4bd86bacb94d7acb                                  0.0   \n",
       "00001ccc0e81598c4bd86bacb94d7acb                                  0.0   \n",
       "00001ccc0e81598c4bd86bacb94d7acb                                  0.0   \n",
       "\n",
       "                                  secondary_focus_subject  \n",
       "projectid                                                  \n",
       "00001ccc0e81598c4bd86bacb94d7acb                       22  \n",
       "00001ccc0e81598c4bd86bacb94d7acb                       22  \n",
       "00001ccc0e81598c4bd86bacb94d7acb                       22  \n",
       "00001ccc0e81598c4bd86bacb94d7acb                       22  \n",
       "00001ccc0e81598c4bd86bacb94d7acb                       22  "
      ]
     },
     "execution_count": 51,
     "metadata": {},
     "output_type": "execute_result"
    }
   ],
   "source": [
    "count = int(len(sorted_train_features) * 0.33)\n",
    "all_x = all_x[sorted_train_features[:count]]\n",
    "all_x.head()"
   ]
  },
  {
   "cell_type": "markdown",
   "metadata": {},
   "source": [
    "# Step 5: Split Train and Test Set\n",
    "## construct test window"
   ]
  },
  {
   "cell_type": "markdown",
   "metadata": {},
   "source": [
    "We select 2007 to 2014 as main dataframe. In general, we create the training sets for 3 years long and the test sets for the year afterwards. For example, we train 2009-2011, and test 2012. Overall, we will produce 5 train-test windows. The result for each window is also plotted behind."
   ]
  },
  {
   "cell_type": "code",
   "execution_count": 52,
   "metadata": {},
   "outputs": [
    {
     "name": "stdout",
     "output_type": "stream",
     "text": [
      "has construct 4 test window, every three years'data as one\n"
     ]
    },
    {
     "data": {
      "text/plain": [
       "array([[0.54854651, 0.38541667, 1.        , 0.58583333, 0.61275845,\n",
       "        0.08116043, 0.16150812, 0.        , 0.11870247, 0.23241883,\n",
       "        0.15359981, 0.1615023 , 0.82589286, 0.00478671, 0.04991007,\n",
       "        0.        , 0.75407609],\n",
       "       [0.54854651, 0.38541667, 1.        , 0.58583333, 0.61275845,\n",
       "        0.08116043, 0.16150812, 0.        , 0.11870247, 0.23241883,\n",
       "        0.15359981, 0.1615023 , 0.82589286, 0.00694844, 0.04991007,\n",
       "        0.        , 0.75407609],\n",
       "       [0.54854651, 0.38541667, 1.        , 0.58583333, 0.61275845,\n",
       "        0.08116043, 0.16150812, 0.        , 0.11870247, 0.23241883,\n",
       "        0.15359981, 0.1615023 , 0.82589286, 0.00478671, 0.04991007,\n",
       "        0.        , 0.75407609],\n",
       "       [0.54854651, 0.38541667, 1.        , 0.58583333, 0.61275845,\n",
       "        0.08116043, 0.16150812, 0.        , 0.29647641, 0.11622104,\n",
       "        0.38350686, 0.1615023 , 0.82589286, 0.00478671, 0.04991007,\n",
       "        0.        , 0.75407609]])"
      ]
     },
     "execution_count": 52,
     "metadata": {},
     "output_type": "execute_result"
    }
   ],
   "source": [
    "def norm(df_features):\n",
    "    # normalize\n",
    "    df_features = preprocessing.MinMaxScaler().fit_transform(df_features)\n",
    "    df_features = preprocessing.normalize(df_features, norm='max')\n",
    "    return df_features\n",
    "\n",
    "def build_test_window(df):\n",
    "    dataset = []\n",
    "    name = 'date_posted'\n",
    "    label_name = 'fully_funded'\n",
    "    start, end = 2007, 2011\n",
    "    for year in range(start, end):\n",
    "        test_year = start + 3\n",
    "        df_left = df[(df[name] >= '{}-01-01'.format(start)) & (df[name] <= '{}-12-31'.format(start+2))]\n",
    "        y_train = df_left[label_name]\n",
    "        x_train = df_left[all_x.columns]\n",
    "        \n",
    "        df_right = df[(df[name] >= '{}-01-01'.format(test_year)) & (df[name] <= '{}-12-31'.format(test_year))]\n",
    "        y_test = df_right[label_name]\n",
    "        x_test = df_right[all_x.columns]\n",
    "        \n",
    "        # normalization\n",
    "        x_train = norm(x_train)\n",
    "        x_test = norm(x_test)\n",
    "        dataset.append((x_train, y_train, x_test, y_test))\n",
    "    return dataset\n",
    "\n",
    "\n",
    "dataset = build_test_window(df)\n",
    "print(\"has construct {} test window, every three years'data as one\".format(len(dataset)))\n",
    "dataset[0][0][:4]"
   ]
  },
  {
   "cell_type": "markdown",
   "metadata": {},
   "source": [
    "# Step 6: Build Classifier"
   ]
  },
  {
   "cell_type": "markdown",
   "metadata": {},
   "source": [
    "Derived from the project descriptions, we use Logistic Regression, K-NN, Decision Trees, SVM, Random Forest, Boosting and Bagging as classifers. For each classifier, we select several default parameters into grid search"
   ]
  },
  {
   "cell_type": "code",
   "execution_count": 53,
   "metadata": {},
   "outputs": [],
   "source": [
    "from sklearn.linear_model import LogisticRegression\n",
    "from sklearn.model_selection import ParameterGrid, GridSearchCV\n",
    "from sklearn.neighbors import KNeighborsClassifier\n",
    "from sklearn.ensemble import (RandomForestClassifier,\n",
    "                              GradientBoostingClassifier,\n",
    "                              BaggingClassifier)\n",
    "from sklearn.svm import SVC\n",
    "from sklearn.model_selection import train_test_split\n",
    "from sklearn.tree import DecisionTreeClassifier\n",
    "from sklearn.dummy import DummyClassifier\n",
    "from sklearn.metrics import (precision_recall_curve, roc_auc_score, roc_curve, auc,\n",
    "                             precision_score, recall_score, f1_score)"
   ]
  },
  {
   "cell_type": "code",
   "execution_count": 85,
   "metadata": {},
   "outputs": [],
   "source": [
    "classifier_constructors = {\n",
    "    'Dummy': DummyClassifier,\n",
    "    'LR': LogisticRegression,\n",
    "    'KNN': KNeighborsClassifier,\n",
    "    'DT': DecisionTreeClassifier,\n",
    "    'SVM': SVC,\n",
    "    'RF': RandomForestClassifier,\n",
    "    'GB': GradientBoostingClassifier,\n",
    "    'BG': BaggingClassifier\n",
    "}\n",
    "\n",
    "grid = dict()\n",
    "grid['Dummy'] = {\n",
    "}\n",
    "grid['LR'] = {\n",
    "    'penalty': ['l1', 'l2'],\n",
    "    'C': [0.0001 * (10**i) for i in range(5)]\n",
    "}\n",
    "grid['DT'] = {\n",
    "    'max_depth': [10, 50, 100],\n",
    "    'criterion': ['gini', 'entropy'],\n",
    "    'min_samples_split': [2, 5, 10],\n",
    "    'min_samples_leaf': [1, 200]\n",
    "}\n",
    "grid['KNN'] = {\n",
    "    'n_neighbors': [5, 50, 100],\n",
    "    'algorithm': ['ball_tree', 'kd_tree'],\n",
    "    'weights': ['uniform', 'distance']\n",
    "}\n",
    "grid['SVM'] = {\n",
    "    'C': [0.00001,0.0001,0.001,0.01,0.1,1,10],\n",
    "    'gamma': [1e-3, 1e-4],\n",
    "    'kernel': ['rbf', 'linear']\n",
    "}\n",
    "grid['RF'] = {\n",
    "    'n_estimators': [5, 10, 100],\n",
    "    'max_depth': [10, 50, 100], \n",
    "    'max_features': ['sqrt', 'log2'],\n",
    "    'min_samples_split': [2, 5, 10]\n",
    "}\n",
    "grid['GB'] = {\n",
    "    'n_estimators': [5, 10, 100],\n",
    "    'learning_rate' : [0.1, 0.5]\n",
    "}\n",
    "grid['BG'] = {\n",
    "    'n_estimators': [5, 10, 100],\n",
    "    \"bootstrap\": [True, False],\n",
    "    \"bootstrap_features\": [True, False]\n",
    "}"
   ]
  },
  {
   "cell_type": "markdown",
   "metadata": {},
   "source": [
    "## Temporal validation\n",
    "Since our data contains time series components, we could not use KFold cross validations. We would like to use f1-score to find the best parameters."
   ]
  },
  {
   "cell_type": "code",
   "execution_count": 86,
   "metadata": {},
   "outputs": [],
   "source": [
    "import warnings\n",
    "warnings.filterwarnings('ignore')\n",
    "\n",
    "def classify(x_train, y_train, x_test, y_test, clf):\n",
    "    clf.fit(x_train, y_train)\n",
    "    y_pre = clf.predict(x_test)\n",
    "    return f1_score(y_test, y_pre)"
   ]
  },
  {
   "cell_type": "code",
   "execution_count": 87,
   "metadata": {},
   "outputs": [],
   "source": [
    "def select_best_parameters(x_train, y_train, x_test, y_test):\n",
    "    # iter three times\n",
    "    number = 3\n",
    "    # store all the scores and parameters\n",
    "    classifiers = {}\n",
    "    results = {}\n",
    "    for k, clf_constructor in classifier_constructors.items():\n",
    "        results[k] = []\n",
    "        params = grid[k]\n",
    "        for p in ParameterGrid(params):\n",
    "            clf = clf_constructor(**p)\n",
    "            f1_scores = [classify(x_train, y_train, x_test, y_test, clf) for i in range(number)]\n",
    "            f1_score_mean = sum(f1_scores) / len(f1_scores)\n",
    "            results[k].append((p, f1_score_mean))\n",
    "    return results"
   ]
  },
  {
   "cell_type": "code",
   "execution_count": 88,
   "metadata": {
    "scrolled": true
   },
   "outputs": [],
   "source": [
    "all_best = {}\n",
    "for x_train, y_train, x_test, y_test in dataset:\n",
    "    results = select_best_parameters(x_train, y_train, x_test, y_test)\n",
    "    for k, p_list in results.items():\n",
    "        p = max(p_list, key=lambda x: x[1])\n",
    "        if k not in all_best:\n",
    "            all_best[k] = [p]\n",
    "        else:\n",
    "            all_best[k].append(p)"
   ]
  },
  {
   "cell_type": "code",
   "execution_count": 89,
   "metadata": {
    "scrolled": true
   },
   "outputs": [
    {
     "name": "stdout",
     "output_type": "stream",
     "text": [
      "Dummy\n",
      "train: 2007-2009, test: 2010 ({}, 0.31446874949699805)\n",
      "train: 2008-2010, test: 2011 ({}, 0.35365625450407584)\n",
      "train: 2009-2011, test: 2012 ({}, 0.33585418339184175)\n",
      "train: 2010-2012, test: 2013 ({}, 0.3329335991156021)\n",
      "LR\n",
      "train: 2007-2009, test: 2010 ({'C': 0.1, 'penalty': 'l1'}, 0.5906735751295337)\n",
      "train: 2008-2010, test: 2011 ({'C': 0.1, 'penalty': 'l1'}, 0.5906735751295337)\n",
      "train: 2009-2011, test: 2012 ({'C': 0.1, 'penalty': 'l1'}, 0.5906735751295337)\n",
      "train: 2010-2012, test: 2013 ({'C': 0.1, 'penalty': 'l1'}, 0.5906735751295337)\n",
      "KNN\n",
      "train: 2007-2009, test: 2010 ({'algorithm': 'ball_tree', 'n_neighbors': 100, 'weights': 'uniform'}, 0.5034642032332564)\n",
      "train: 2008-2010, test: 2011 ({'algorithm': 'ball_tree', 'n_neighbors': 100, 'weights': 'uniform'}, 0.5034642032332564)\n",
      "train: 2009-2011, test: 2012 ({'algorithm': 'ball_tree', 'n_neighbors': 100, 'weights': 'uniform'}, 0.5034642032332564)\n",
      "train: 2010-2012, test: 2013 ({'algorithm': 'ball_tree', 'n_neighbors': 100, 'weights': 'uniform'}, 0.5034642032332564)\n",
      "DT\n",
      "train: 2007-2009, test: 2010 ({'criterion': 'gini', 'max_depth': 10, 'min_samples_leaf': 1, 'min_samples_split': 5}, 0.4893235257472013)\n",
      "train: 2008-2010, test: 2011 ({'criterion': 'gini', 'max_depth': 10, 'min_samples_leaf': 200, 'min_samples_split': 2}, 0.44648318042813456)\n",
      "train: 2009-2011, test: 2012 ({'criterion': 'gini', 'max_depth': 50, 'min_samples_leaf': 1, 'min_samples_split': 10}, 0.47091312111323197)\n",
      "train: 2010-2012, test: 2013 ({'criterion': 'gini', 'max_depth': 10, 'min_samples_leaf': 1, 'min_samples_split': 10}, 0.49249223789754143)\n",
      "SVM\n",
      "train: 2007-2009, test: 2010 ({'C': 0.1, 'gamma': 0.001, 'kernel': 'linear'}, 0.5274725274725275)\n",
      "train: 2008-2010, test: 2011 ({'C': 0.1, 'gamma': 0.001, 'kernel': 'linear'}, 0.5274725274725275)\n",
      "train: 2009-2011, test: 2012 ({'C': 0.1, 'gamma': 0.001, 'kernel': 'linear'}, 0.5274725274725275)\n",
      "train: 2010-2012, test: 2013 ({'C': 0.1, 'gamma': 0.001, 'kernel': 'linear'}, 0.5274725274725275)\n",
      "RF\n",
      "train: 2007-2009, test: 2010 ({'max_depth': 10, 'max_features': 'sqrt', 'min_samples_split': 5, 'n_estimators': 10}, 0.6643325450457972)\n",
      "train: 2008-2010, test: 2011 ({'max_depth': 50, 'max_features': 'sqrt', 'min_samples_split': 10, 'n_estimators': 10}, 0.6811999936999937)\n",
      "train: 2009-2011, test: 2012 ({'max_depth': 10, 'max_features': 'log2', 'min_samples_split': 2, 'n_estimators': 100}, 0.6719157366857124)\n",
      "train: 2010-2012, test: 2013 ({'max_depth': 10, 'max_features': 'log2', 'min_samples_split': 2, 'n_estimators': 100}, 0.6873032795207635)\n",
      "GB\n",
      "train: 2007-2009, test: 2010 ({'learning_rate': 0.5, 'n_estimators': 5}, 0.442077580539119)\n",
      "train: 2008-2010, test: 2011 ({'learning_rate': 0.5, 'n_estimators': 5}, 0.48520710059171596)\n",
      "train: 2009-2011, test: 2012 ({'learning_rate': 0.5, 'n_estimators': 5}, 0.442077580539119)\n",
      "train: 2010-2012, test: 2013 ({'learning_rate': 0.5, 'n_estimators': 5}, 0.4636423405654175)\n",
      "BG\n",
      "train: 2007-2009, test: 2010 ({'bootstrap': True, 'bootstrap_features': True, 'n_estimators': 100}, 0.5562581940209542)\n",
      "train: 2008-2010, test: 2011 ({'bootstrap': True, 'bootstrap_features': True, 'n_estimators': 100}, 0.5644853709508882)\n",
      "train: 2009-2011, test: 2012 ({'bootstrap': False, 'bootstrap_features': True, 'n_estimators': 5}, 0.524114368412614)\n",
      "train: 2010-2012, test: 2013 ({'bootstrap': True, 'bootstrap_features': True, 'n_estimators': 100}, 0.5757850003697315)\n"
     ]
    }
   ],
   "source": [
    "# print last 4 window value\n",
    "for k, p in all_best.items():\n",
    "    print(k)\n",
    "    print('train: 2007-2009, test: 2010', p[-4])\n",
    "    print('train: 2008-2010, test: 2011', p[-3])\n",
    "    print('train: 2009-2011, test: 2012', p[-2])\n",
    "    print('train: 2010-2012, test: 2013', p[-1])"
   ]
  },
  {
   "cell_type": "markdown",
   "metadata": {},
   "source": [
    "？？？\n",
    "As we see, when years changes, the best parameters doesn't change almostly.\n",
    "So we can use 2011-2013/2014 data to evaluate the classifier"
   ]
  },
  {
   "cell_type": "markdown",
   "metadata": {},
   "source": [
    "# Step 7: Evaluate Classifier"
   ]
  },
  {
   "cell_type": "markdown",
   "metadata": {},
   "source": [
    "In this section, in order to evaluate the classifers, we plot accuracy, precision at different levels, recall at different levels, F1, area under curve and precision-recall curves. Then we select best perform classifers based on different thresholds, and compare the results with baselines."
   ]
  },
  {
   "cell_type": "code",
   "execution_count": 125,
   "metadata": {},
   "outputs": [],
   "source": [
    "# evalute metrics\n",
    "def evaluate_classifier(y_test, y_pre, y_prob, cost_time=0):\n",
    "    ret = {\n",
    "        'precision': float(\"%.4f\" % precision_score(y_test, y_pre)),\n",
    "        'recall': float(\"%.4f\" % recall_score(y_test, y_pre)),\n",
    "        'f1': float(\"%.4f\" % f1_score(y_test, y_pre)),\n",
    "        'auc': float(\"%.4f\" % roc_auc_score(y_test, y_prob)),\n",
    "        'cost_time': float(\"%.4f\" % cost_time)\n",
    "    }\n",
    "\n",
    "    return ret\n",
    "\n",
    "def evaluate_classifiers(clfs, X_test, y_test, threshold):\n",
    "    metrics = dict()\n",
    "    probas = dict()\n",
    "    for k, clf in clfs.items():\n",
    "        start = time.time()\n",
    "        if hasattr(clf, 'predict_proba'):\n",
    "            y_prob = clf.predict_proba(X_test)[:, 1]\n",
    "        else:\n",
    "            y_prob = clf.decision_function(X_test)\n",
    "        \n",
    "        y_pre = np.asarray([1 if run >= threshold else 0 for run in y_prob])\n",
    "        cost_time = time.time() - start\n",
    "        metric = evaluate_classifier(y_test, y_pre, y_prob, cost_time)\n",
    "        probas[k] = y_prob\n",
    "        \n",
    "        number_scored = len(y_prob)\n",
    "        num_above_thresh = len(y_prob[y_prob >= threshold])\n",
    "        pct_above_thresh = num_above_thresh / float(number_scored)\n",
    "        metric['percent'] = float(\"%.4f\" % pct_above_thresh)\n",
    "        metrics[k] = metric\n",
    "    return metrics, probas"
   ]
  },
  {
   "cell_type": "code",
   "execution_count": 111,
   "metadata": {},
   "outputs": [
    {
     "data": {
      "text/plain": [
       "{'Dummy': {'precision': 0.3895,\n",
       "  'recall': 0.3454,\n",
       "  'f1': 0.3661,\n",
       "  'auc': 0.5256,\n",
       "  'cost_time': 0.0006,\n",
       "  'percent': 0.3121597096188748},\n",
       " 'LR': {'precision': 0.4084,\n",
       "  'recall': 0.9536,\n",
       "  'f1': 0.5719,\n",
       "  'auc': 0.7109,\n",
       "  'cost_time': 0.0002,\n",
       "  'percent': 0.822141560798548},\n",
       " 'KNN': {'precision': 0.3806,\n",
       "  'recall': 0.9124,\n",
       "  'f1': 0.5372,\n",
       "  'auc': 0.5449,\n",
       "  'cost_time': 0.0171,\n",
       "  'percent': 0.8439201451905626},\n",
       " 'DT': {'precision': 0.4081,\n",
       "  'recall': 0.4691,\n",
       "  'f1': 0.4365,\n",
       "  'auc': 0.5268,\n",
       "  'cost_time': 0.0002,\n",
       "  'percent': 0.4047186932849365},\n",
       " 'SVM': {'precision': 0.589,\n",
       "  'recall': 0.4433,\n",
       "  'f1': 0.5059,\n",
       "  'auc': 0.7275,\n",
       "  'cost_time': 0.0039,\n",
       "  'percent': 0.26497277676951},\n",
       " 'RF': {'precision': 0.3535,\n",
       "  'recall': 0.9948,\n",
       "  'f1': 0.5216,\n",
       "  'auc': 0.7494,\n",
       "  'cost_time': 0.0064,\n",
       "  'percent': 0.9909255898366606},\n",
       " 'GB': {'precision': 0.3533,\n",
       "  'recall': 0.8505,\n",
       "  'f1': 0.4992,\n",
       "  'auc': 0.5692,\n",
       "  'cost_time': 0.0002,\n",
       "  'percent': 0.8475499092558983},\n",
       " 'BG': {'precision': 0.354,\n",
       "  'recall': 1.0,\n",
       "  'f1': 0.5229,\n",
       "  'auc': 0.66,\n",
       "  'cost_time': 0.007,\n",
       "  'percent': 0.9945553539019963}}"
      ]
     },
     "execution_count": 111,
     "metadata": {},
     "output_type": "execute_result"
    }
   ],
   "source": [
    "#2011-2012/2013\n",
    "classifiers = {}\n",
    "x_train, y_train, x_test, y_test = dataset[-1]\n",
    "\n",
    "for k, p in all_best.items():\n",
    "    clf = classifier_constructors[k](**p[-1][0])\n",
    "    clf.fit(x_train, y_train)\n",
    "    classifiers[k] = clf\n",
    "    \n",
    "metrics, probas = evaluate_classifiers(classifiers, x_test, y_test, 0.1)\n",
    "metrics"
   ]
  },
  {
   "cell_type": "markdown",
   "metadata": {},
   "source": [
    "## 7.1 Draw AUC"
   ]
  },
  {
   "cell_type": "code",
   "execution_count": 66,
   "metadata": {},
   "outputs": [
    {
     "data": {
      "image/png": "[encoded data removed]",
      "text/plain": [
       "<Figure size 432x288 with 1 Axes>"
      ]
     },
     "metadata": {},
     "output_type": "display_data"
    }
   ],
   "source": [
    "def draw_auc(probas, y_test):\n",
    "    plt.clf()\n",
    "    auc_list = []\n",
    "    for k, prob in probas.items():\n",
    "        fpr, tpr, thresholds = roc_curve(y_test, prob)\n",
    "        roc_auc = auc(fpr, tpr)\n",
    "        auc_list.append((k, roc_auc))\n",
    "        \n",
    "    auc_list.sort(key=lambda x: x[1], reverse=True)\n",
    "    \n",
    "    for k, roc_auc in auc_list:\n",
    "        fpr, tpr, thresholds = roc_curve(y_test, probas[k])\n",
    "        plt.plot(fpr, tpr, lw=1, label=('%s AUC %.2f' % (k, roc_auc)))\n",
    "    \n",
    "    \n",
    "    plt.plot([0, 1], [0, 1], '--', color=(0.6, 0.6, 0.6), label='Luck')\n",
    "    plt.xlim([-0.05, 1.05])\n",
    "    plt.ylim([-0.05, 1.05])\n",
    "    plt.xlabel('False Positive Rate')\n",
    "    plt.ylabel('True Positive Rate')\n",
    "    plt.title('AUC Graph')\n",
    "    plt.legend(loc=\"lower right\")\n",
    "\n",
    "draw_auc(probas, y_test)"
   ]
  },
  {
   "cell_type": "markdown",
   "metadata": {},
   "source": [
    "## 7.3 Draw Precision-Recall Curves"
   ]
  },
  {
   "cell_type": "code",
   "execution_count": 124,
   "metadata": {
    "scrolled": true
   },
   "outputs": [
    {
     "name": "stdout",
     "output_type": "stream",
     "text": [
      "threshold\tpercent\t\tprecision\trecall\n"
     ]
    },
    {
     "data": {
      "text/plain": [
       "<Figure size 432x288 with 0 Axes>"
      ]
     },
     "metadata": {},
     "output_type": "display_data"
    },
    {
     "data": {
      "image/png": "[encoded data removed]",
      "text/plain": [
       "<Figure size 432x288 with 2 Axes>"
      ]
     },
     "metadata": {},
     "output_type": "display_data"
    },
    {
     "name": "stdout",
     "output_type": "stream",
     "text": [
      "threshold\tpercent\t\tprecision\trecall\n"
     ]
    },
    {
     "data": {
      "text/plain": [
       "<Figure size 432x288 with 0 Axes>"
      ]
     },
     "metadata": {},
     "output_type": "display_data"
    },
    {
     "data": {
      "image/png": "[encoded data removed]",
      "text/plain": [
       "<Figure size 432x288 with 2 Axes>"
      ]
     },
     "metadata": {},
     "output_type": "display_data"
    },
    {
     "name": "stdout",
     "output_type": "stream",
     "text": [
      "threshold\tpercent\t\tprecision\trecall\n"
     ]
    },
    {
     "data": {
      "text/plain": [
       "<Figure size 432x288 with 0 Axes>"
      ]
     },
     "metadata": {},
     "output_type": "display_data"
    },
    {
     "data": {
      "image/png": "[encoded data removed]",
      "text/plain": [
       "<Figure size 432x288 with 2 Axes>"
      ]
     },
     "metadata": {},
     "output_type": "display_data"
    },
    {
     "name": "stdout",
     "output_type": "stream",
     "text": [
      "threshold\tpercent\t\tprecision\trecall\n"
     ]
    },
    {
     "data": {
      "text/plain": [
       "<Figure size 432x288 with 0 Axes>"
      ]
     },
     "metadata": {},
     "output_type": "display_data"
    },
    {
     "data": {
      "image/png": "[encoded data removed]",
      "text/plain": [
       "<Figure size 432x288 with 2 Axes>"
      ]
     },
     "metadata": {},
     "output_type": "display_data"
    },
    {
     "name": "stdout",
     "output_type": "stream",
     "text": [
      "threshold\tpercent\t\tprecision\trecall\n"
     ]
    },
    {
     "data": {
      "text/plain": [
       "<Figure size 432x288 with 0 Axes>"
      ]
     },
     "metadata": {},
     "output_type": "display_data"
    },
    {
     "data": {
      "image/png": "[encoded data removed]",
      "text/plain": [
       "<Figure size 432x288 with 2 Axes>"
      ]
     },
     "metadata": {},
     "output_type": "display_data"
    },
    {
     "name": "stdout",
     "output_type": "stream",
     "text": [
      "threshold\tpercent\t\tprecision\trecall\n"
     ]
    },
    {
     "data": {
      "text/plain": [
       "<Figure size 432x288 with 0 Axes>"
      ]
     },
     "metadata": {},
     "output_type": "display_data"
    },
    {
     "data": {
      "image/png": "[encoded data removed]",
      "text/plain": [
       "<Figure size 432x288 with 2 Axes>"
      ]
     },
     "metadata": {},
     "output_type": "display_data"
    },
    {
     "name": "stdout",
     "output_type": "stream",
     "text": [
      "threshold\tpercent\t\tprecision\trecall\n"
     ]
    },
    {
     "data": {
      "text/plain": [
       "<Figure size 432x288 with 0 Axes>"
      ]
     },
     "metadata": {},
     "output_type": "display_data"
    },
    {
     "data": {
      "image/png": "[encoded data removed]",
      "text/plain": [
       "<Figure size 432x288 with 2 Axes>"
      ]
     },
     "metadata": {},
     "output_type": "display_data"
    },
    {
     "name": "stdout",
     "output_type": "stream",
     "text": [
      "threshold\tpercent\t\tprecision\trecall\n"
     ]
    },
    {
     "data": {
      "text/plain": [
       "<Figure size 432x288 with 0 Axes>"
      ]
     },
     "metadata": {},
     "output_type": "display_data"
    },
    {
     "data": {
      "image/png": "[encoded data removed]",
      "text/plain": [
       "<Figure size 432x288 with 2 Axes>"
      ]
     },
     "metadata": {},
     "output_type": "display_data"
    }
   ],
   "source": [
    "def plot_precision_recall(y_test, key):\n",
    "    plt.clf()\n",
    "    y_prob = probas[key]\n",
    "    precision_curve, recall_curve, pr_thresholds = precision_recall_curve(y_test, y_prob)\n",
    "    precision_curve = precision_curve[:-1]\n",
    "    recall_curve = recall_curve[:-1]\n",
    "    pct_per_thresh = []\n",
    "    number_scored = len(y_prob)\n",
    "    print(\"threshold\\tpercent\\t\\tprecision\\trecall\")\n",
    "    for i, value in enumerate(pr_thresholds):\n",
    "        num_above_thresh = len(y_prob[y_prob >= value])\n",
    "        pct_above_thresh = num_above_thresh / float(number_scored)\n",
    "        pct_per_thresh.append(pct_above_thresh)\n",
    "    \n",
    "    pct_per_thresh = np.array(pct_per_thresh)\n",
    "    plt.clf()\n",
    "    fig, ax1 = plt.subplots()\n",
    "    ax1.plot(pct_per_thresh, precision_curve, 'b')\n",
    "    ax1.set_xlabel('percent of population')\n",
    "    ax1.set_ylabel('precision', color='b')\n",
    "    ax1.set_xlim(0, max(pct_per_thresh))\n",
    "    ax2 = ax1.twinx()\n",
    "    ax2.plot(pct_per_thresh, recall_curve, 'y')\n",
    "    ax2.set_ylabel('recall', color='y')\n",
    "    ax2.set_xlim(0, max(pct_per_thresh))\n",
    "    plt.title(key)\n",
    "    plt.show()\n",
    "    \n",
    "for key in probas.keys():\n",
    "    plot_precision_recall(y_test, key)"
   ]
  },
  {
   "cell_type": "markdown",
   "metadata": {},
   "source": [
    "## 7.4 Draw Precision, Recall, Auc and F1"
   ]
  },
  {
   "cell_type": "markdown",
   "metadata": {},
   "source": [
    "### the precision, recall, AUC and F1 at the threshold of 0.001"
   ]
  },
  {
   "cell_type": "code",
   "execution_count": 68,
   "metadata": {
    "scrolled": false
   },
   "outputs": [
    {
     "data": {
      "text/html": [
       "<div>\n",
       "<style scoped>\n",
       "    .dataframe tbody tr th:only-of-type {\n",
       "        vertical-align: middle;\n",
       "    }\n",
       "\n",
       "    .dataframe tbody tr th {\n",
       "        vertical-align: top;\n",
       "    }\n",
       "\n",
       "    .dataframe thead th {\n",
       "        text-align: right;\n",
       "    }\n",
       "</style>\n",
       "<table border=\"1\" class=\"dataframe\">\n",
       "  <thead>\n",
       "    <tr style=\"text-align: right;\">\n",
       "      <th></th>\n",
       "      <th>LR</th>\n",
       "      <th>KNN</th>\n",
       "      <th>DT</th>\n",
       "      <th>SVM</th>\n",
       "      <th>RF</th>\n",
       "      <th>GB</th>\n",
       "      <th>BG</th>\n",
       "    </tr>\n",
       "    <tr>\n",
       "      <th>key</th>\n",
       "      <th></th>\n",
       "      <th></th>\n",
       "      <th></th>\n",
       "      <th></th>\n",
       "      <th></th>\n",
       "      <th></th>\n",
       "      <th></th>\n",
       "    </tr>\n",
       "  </thead>\n",
       "  <tbody>\n",
       "    <tr>\n",
       "      <th>precision</th>\n",
       "      <td>0.4084</td>\n",
       "      <td>0.3806</td>\n",
       "      <td>0.3595</td>\n",
       "      <td>0.5890</td>\n",
       "      <td>0.3541</td>\n",
       "      <td>0.3533</td>\n",
       "      <td>0.3535</td>\n",
       "    </tr>\n",
       "    <tr>\n",
       "      <th>recall</th>\n",
       "      <td>0.9536</td>\n",
       "      <td>0.9124</td>\n",
       "      <td>0.4485</td>\n",
       "      <td>0.4433</td>\n",
       "      <td>0.9948</td>\n",
       "      <td>0.8505</td>\n",
       "      <td>0.9948</td>\n",
       "    </tr>\n",
       "    <tr>\n",
       "      <th>f1</th>\n",
       "      <td>0.5719</td>\n",
       "      <td>0.5372</td>\n",
       "      <td>0.3991</td>\n",
       "      <td>0.5059</td>\n",
       "      <td>0.5223</td>\n",
       "      <td>0.4992</td>\n",
       "      <td>0.5216</td>\n",
       "    </tr>\n",
       "    <tr>\n",
       "      <th>auc</th>\n",
       "      <td>0.7109</td>\n",
       "      <td>0.5449</td>\n",
       "      <td>0.5071</td>\n",
       "      <td>0.7275</td>\n",
       "      <td>0.7640</td>\n",
       "      <td>0.5788</td>\n",
       "      <td>0.6295</td>\n",
       "    </tr>\n",
       "    <tr>\n",
       "      <th>cost_time</th>\n",
       "      <td>0.0002</td>\n",
       "      <td>0.0180</td>\n",
       "      <td>0.0002</td>\n",
       "      <td>0.0041</td>\n",
       "      <td>0.0008</td>\n",
       "      <td>0.0002</td>\n",
       "      <td>0.0073</td>\n",
       "    </tr>\n",
       "  </tbody>\n",
       "</table>\n",
       "</div>"
      ],
      "text/plain": [
       "               LR     KNN      DT     SVM      RF      GB      BG\n",
       "key                                                              \n",
       "precision  0.4084  0.3806  0.3595  0.5890  0.3541  0.3533  0.3535\n",
       "recall     0.9536  0.9124  0.4485  0.4433  0.9948  0.8505  0.9948\n",
       "f1         0.5719  0.5372  0.3991  0.5059  0.5223  0.4992  0.5216\n",
       "auc        0.7109  0.5449  0.5071  0.7275  0.7640  0.5788  0.6295\n",
       "cost_time  0.0002  0.0180  0.0002  0.0041  0.0008  0.0002  0.0073"
      ]
     },
     "execution_count": 68,
     "metadata": {},
     "output_type": "execute_result"
    }
   ],
   "source": [
    "data = dict()\n",
    "data['key'] =  ['precision', 'recall', 'f1', 'auc', 'cost_time']\n",
    "\n",
    "for k, metric in metrics.items():\n",
    "    data[k] = [metric[item] for item in data['key']]\n",
    "\n",
    "df_result = pd.DataFrame(data)\n",
    "\n",
    "df_result = df_result.set_index('key')\n",
    "df_result.head()"
   ]
  },
  {
   "cell_type": "markdown",
   "metadata": {},
   "source": [
    "As we can see, this table shows the summary of precision, recall, f1, auc, cost time of these 7 classifers."
   ]
  },
  {
   "cell_type": "code",
   "execution_count": 69,
   "metadata": {
    "scrolled": true
   },
   "outputs": [
    {
     "data": {
      "image/png": "[encoded data removed]",
      "text/plain": [
       "<Figure size 432x288 with 1 Axes>"
      ]
     },
     "metadata": {},
     "output_type": "display_data"
    }
   ],
   "source": [
    "df_result.plot.bar();\n",
    "plt.show()"
   ]
  },
  {
   "cell_type": "markdown",
   "metadata": {},
   "source": [
    "This is the graph for the table above. We can see all of the 7 classifiers maintained high level of the precision, recall, f1, and auc. However, as we compared the cost time for classifiers, the KNN and SVM model consumes much more time than the 5 classifers."
   ]
  },
  {
   "cell_type": "markdown",
   "metadata": {},
   "source": [
    "# 7.5 Select the best classifier"
   ]
  },
  {
   "cell_type": "code",
   "execution_count": 94,
   "metadata": {},
   "outputs": [
    {
     "name": "stdout",
     "output_type": "stream",
     "text": [
      "train: 2007-2009, test: 2010\n",
      "            Dummy      LR     KNN      DT     SVM      RF      GB      BG\n",
      "key                                                                      \n",
      "precision  0.3855  0.4084  0.3806  0.3710  0.5890  0.3570  0.3533  0.3541\n",
      "recall     0.3299  0.9536  0.9124  0.4742  0.4433  0.9845  0.8505  0.9948\n",
      "f1         0.3556  0.5719  0.5372  0.4163  0.5059  0.5240  0.4992  0.5223\n",
      "auc        0.5221  0.7107  0.5449  0.4916  0.7275  0.6051  0.5662  0.6693\n",
      "cost_time  0.0006  0.0002  0.0186  0.0002  0.0047  0.0011  0.0002  0.0074\n",
      "\n",
      "train: 2008-2010, test: 2011\n",
      "            Dummy      LR     KNN      DT     SVM      RF      GB      BG\n",
      "key                                                                      \n",
      "precision  0.3797  0.4084  0.3806  0.3658  0.5890  0.3517  0.3533  0.3553\n",
      "recall     0.3660  0.9536  0.9124  0.5619  0.4433  0.9845  0.8505  1.0000\n",
      "f1         0.3727  0.5719  0.5372  0.4431  0.5059  0.5183  0.4992  0.5243\n",
      "auc        0.5205  0.7107  0.5449  0.5383  0.7275  0.6352  0.5694  0.6379\n",
      "cost_time  0.0006  0.0002  0.0187  0.0002  0.0042  0.0009  0.0002  0.0077\n",
      "\n",
      "train: 2009-2011, test: 2012\n",
      "            Dummy      LR     KNN      DT     SVM      RF      GB      BG\n",
      "key                                                                      \n",
      "precision  0.3621  0.4084  0.3806  0.4595  0.5890  0.3509  0.3533  0.2943\n",
      "recall     0.3247  0.9536  0.9124  0.6134  0.4433  0.9948  0.8505  0.6340\n",
      "f1         0.3424  0.5719  0.5372  0.5254  0.5059  0.5188  0.4992  0.4020\n",
      "auc        0.5069  0.7109  0.5449  0.5864  0.7275  0.7266  0.5788  0.5645\n",
      "cost_time  0.0006  0.0002  0.0182  0.0002  0.0041  0.0073  0.0002  0.0007\n",
      "\n",
      "train: 2010-2012, test: 2013\n",
      "            Dummy      LR     KNN      DT     SVM      RF      GB      BG\n",
      "key                                                                      \n",
      "precision  0.3207  0.4084  0.3806  0.3978  0.5890  0.3540  0.3533  0.3541\n",
      "recall     0.3041  0.9536  0.9124  0.5515  0.4433  1.0000  0.8505  0.9948\n",
      "f1         0.3122  0.5719  0.5372  0.4622  0.5059  0.5229  0.4992  0.5223\n",
      "auc        0.4770  0.7107  0.5449  0.5215  0.7275  0.7236  0.5694  0.7246\n",
      "cost_time  0.0006  0.0002  0.0182  0.0002  0.0042  0.0066  0.0002  0.0073\n",
      "\n"
     ]
    }
   ],
   "source": [
    "\n",
    "for idx, (x_train, y_train, x_test, y_test) in enumerate(dataset):\n",
    "    print(data_description[idx])\n",
    "\n",
    "    metrics, probas = train_classifiers(all_best, idx)\n",
    "    data = dict()\n",
    "    data['key'] =  ['precision', 'recall', 'f1', 'auc', 'cost_time']\n",
    "\n",
    "    for k, metric in metrics.items():\n",
    "        data[k] = [metric[item] for item in data['key']]\n",
    "\n",
    "    df_result = pd.DataFrame(data)\n",
    "\n",
    "    df_result = df_result.set_index('key')\n",
    "    print(df_result)\n",
    "    print()"
   ]
  },
  {
   "cell_type": "markdown",
   "metadata": {},
   "source": [
    "### find the best classifier when the precision is 0.001"
   ]
  },
  {
   "cell_type": "code",
   "execution_count": 83,
   "metadata": {},
   "outputs": [
    {
     "data": {
      "text/plain": [
       "('SVM',\n",
       " {'precision': 0.589,\n",
       "  'recall': 0.4433,\n",
       "  'f1': 0.5059,\n",
       "  'auc': 0.7275,\n",
       "  'cost_time': 0.0041})"
      ]
     },
     "execution_count": 83,
     "metadata": {},
     "output_type": "execute_result"
    }
   ],
   "source": [
    "def find_the_best_model(target='auc'):\n",
    "    metrics_list = list(metrics.items())\n",
    "    metrics_list.sort(key=lambda x: x[1][target], reverse=True)\n",
    "    return metrics_list[0]\n",
    "\n",
    "best = find_the_best_model('precision')\n",
    "best"
   ]
  },
  {
   "cell_type": "markdown",
   "metadata": {},
   "source": [
    "We cares about precison. In general, SVM classifer competes against other 6 classifers at top 0.001, 0.01 and 0.1 percent of population."
   ]
  },
  {
   "cell_type": "markdown",
   "metadata": {},
   "source": [
    "### find the baseline when the precision is 0.001"
   ]
  },
  {
   "cell_type": "code",
   "execution_count": 84,
   "metadata": {
    "scrolled": true
   },
   "outputs": [
    {
     "data": {
      "text/plain": [
       "('Baseline',\n",
       " {'precision': 0.3584,\n",
       "  'recall': 0.3196,\n",
       "  'f1': 0.3379,\n",
       "  'auc': 0.5256,\n",
       "  'cost_time': 0.0001})"
      ]
     },
     "execution_count": 84,
     "metadata": {},
     "output_type": "execute_result"
    }
   ],
   "source": [
    "def get_baseline_metric():\n",
    "    base_clf = DummyClassifier()\n",
    "    base_clf.fit(x_train, y_train)\n",
    "    start = time.time()\n",
    "    y_pre = base_clf.predict(x_test)\n",
    "    cost_time = time.time() - start\n",
    "    y_prob = base_clf.predict_proba(x_test)[:, 1]\n",
    "    return evaluate_classifier(y_test, y_pre, y_prob, cost_time)\n",
    "\n",
    "baseline_metric = get_baseline_metric()\n",
    "('Baseline', baseline_metric)"
   ]
  },
  {
   "cell_type": "markdown",
   "metadata": {},
   "source": [
    "### find the best classifer and compare it with the baseline when the threshold is 0.01"
   ]
  },
  {
   "cell_type": "code",
   "execution_count": null,
   "metadata": {
    "scrolled": true
   },
   "outputs": [],
   "source": [
    "classifiers = {}\n",
    "x_train, y_train, x_test, y_test = dataset[-1]\n",
    "\n",
    "for k, p in all_best.items():\n",
    "    clf = classifier_constructors[k](**p[-1][0])\n",
    "    clf.fit(x_train, y_train)\n",
    "    classifiers[k] = clf\n",
    "\n",
    "metrics, probas = evaluate_classifiers(classifiers, x_test, y_test, 0.01)\n",
    "metrics"
   ]
  },
  {
   "cell_type": "code",
   "execution_count": null,
   "metadata": {
    "scrolled": true
   },
   "outputs": [],
   "source": [
    "def draw_auc(probas, y_test):\n",
    "    plt.clf()\n",
    "    auc_list = []\n",
    "    for k, prob in probas.items():\n",
    "        fpr, tpr, thresholds = roc_curve(y_test, prob)\n",
    "        roc_auc = auc(fpr, tpr)\n",
    "        auc_list.append((k, roc_auc))\n",
    "        \n",
    "    auc_list.sort(key=lambda x: x[1], reverse=True)\n",
    "    \n",
    "    for k, roc_auc in auc_list:\n",
    "        fpr, tpr, thresholds = roc_curve(y_test, probas[k])\n",
    "        plt.plot(fpr, tpr, lw=1, label=('%s AUC %.2f' % (k, roc_auc)))\n",
    "    \n",
    "    \n",
    "    plt.plot([0, 1], [0, 1], '--', color=(0.6, 0.6, 0.6), label='Luck')\n",
    "    plt.xlim([-0.05, 1.05])\n",
    "    plt.ylim([-0.05, 1.05])\n",
    "    plt.xlabel('False Positive Rate')\n",
    "    plt.ylabel('True Positive Rate')\n",
    "    plt.title('AUC Graph')\n",
    "    plt.legend(loc=\"lower right\")\n",
    "\n",
    "draw_auc(probas, y_test)"
   ]
  },
  {
   "cell_type": "code",
   "execution_count": null,
   "metadata": {},
   "outputs": [],
   "source": [
    "def plot_precision_recall(y_test, key):\n",
    "    plt.clf()\n",
    "    y_prob = probas[key]\n",
    "    precision_curve, recall_curve, pr_thresholds = precision_recall_curve(y_test, y_prob)\n",
    "    precision_curve = precision_curve[:-1]\n",
    "    recall_curve = recall_curve[:-1]\n",
    "    pct_per_thresh = []\n",
    "    number_scored = len(y_prob)\n",
    "    for value in pr_thresholds:\n",
    "        num_above_thresh = len(y_prob[y_prob >= value])\n",
    "        pct_above_thresh = num_above_thresh / float(number_scored)\n",
    "        pct_per_thresh.append(pct_above_thresh)\n",
    "    pct_per_thresh = np.array(pct_per_thresh)\n",
    "    plt.clf()\n",
    "    fig, ax1 = plt.subplots()\n",
    "    ax1.plot(pct_per_thresh, precision_curve, 'b')\n",
    "    ax1.set_xlabel('percent of population')\n",
    "    ax1.set_ylabel('precision', color='b')\n",
    "    ax1.set_xlim(0, max(pct_per_thresh))\n",
    "    ax2 = ax1.twinx()\n",
    "    ax2.plot(pct_per_thresh, recall_curve, 'y')\n",
    "    ax2.set_ylabel('recall', color='y')\n",
    "    ax2.set_xlim(0, max(pct_per_thresh))\n",
    "    plt.title(key)\n",
    "    plt.show()\n",
    "    \n",
    "for key in probas.keys():\n",
    "    plot_precision_recall(y_test, key)"
   ]
  },
  {
   "cell_type": "code",
   "execution_count": null,
   "metadata": {},
   "outputs": [],
   "source": [
    "# when precision at 0.01, the models comparison for all evaluation metrics\n",
    "data = dict()\n",
    "data['key'] =  ['precision', 'recall', 'f1', 'auc', 'cost_time']\n",
    "\n",
    "for k, metric in metrics.items():\n",
    "    data[k] = [metric[item] for item in data['key']]\n",
    "\n",
    "df_result = pd.DataFrame(data)\n",
    "\n",
    "df_result = df_result.set_index('key')\n",
    "df_result.head()"
   ]
  },
  {
   "cell_type": "code",
   "execution_count": null,
   "metadata": {},
   "outputs": [],
   "source": [
    "# find the best one when precision at 0.01\n",
    "def find_the_best_model(target='auc'):\n",
    "    metrics_list = list(metrics.items())\n",
    "    metrics_list.sort(key=lambda x: x[1][target], reverse=True)\n",
    "    return metrics_list[0]\n",
    "\n",
    "best = find_the_best_model('precision')\n",
    "best"
   ]
  },
  {
   "cell_type": "code",
   "execution_count": null,
   "metadata": {
    "scrolled": false
   },
   "outputs": [],
   "source": [
    "# get the baseline, when precision at 0.01\n",
    "def get_baseline_metric():\n",
    "    base_clf = DummyClassifier()\n",
    "    base_clf.fit(x_train, y_train)\n",
    "    start = time.time()\n",
    "    y_pre = base_clf.predict(x_test)\n",
    "    cost_time = time.time() - start\n",
    "    y_prob = base_clf.predict_proba(x_test)[:, 1]\n",
    "    return evaluate_classifier(y_test, y_pre, y_prob, cost_time)\n",
    "\n",
    "baseline_metric = get_baseline_metric()\n",
    "('Baseline', baseline_metric)"
   ]
  },
  {
   "cell_type": "markdown",
   "metadata": {},
   "source": [
    "### find the best classifer and compare it with the baseline when the threshold is 0.1"
   ]
  },
  {
   "cell_type": "code",
   "execution_count": null,
   "metadata": {},
   "outputs": [],
   "source": [
    "# at the threshold of 0.1\n",
    "classifiers = {}\n",
    "x_train, y_train, x_test, y_test = dataset[-1]\n",
    "\n",
    "for k, p in all_best.items():\n",
    "    clf = classifier_constructors[k](**p[-1][0])\n",
    "    clf.fit(x_train, y_train)\n",
    "    classifiers[k] = clf\n",
    "\n",
    "metrics, probas = evaluate_classifiers(classifiers, x_test, y_test, 0.1)\n",
    "metrics"
   ]
  },
  {
   "cell_type": "code",
   "execution_count": null,
   "metadata": {},
   "outputs": [],
   "source": [
    "# print classifiers evaluation comparision at the treshold of 0.1\n",
    "data = dict()\n",
    "data['key'] =  ['precision', 'recall', 'f1', 'auc', 'cost_time']\n",
    "\n",
    "for k, metric in metrics.items():\n",
    "    data[k] = [metric[item] for item in data['key']]\n",
    "\n",
    "df_result = pd.DataFrame(data)\n",
    "\n",
    "df_result = df_result.set_index('key')\n",
    "df_result.head()"
   ]
  },
  {
   "cell_type": "code",
   "execution_count": null,
   "metadata": {},
   "outputs": [],
   "source": [
    "# find the best one at the threshold of 0.1\n",
    "def find_the_best_model(target='auc'):\n",
    "    metrics_list = list(metrics.items())\n",
    "    metrics_list.sort(key=lambda x: x[1][target], reverse=True)\n",
    "    return metrics_list[0]\n",
    "\n",
    "best = find_the_best_model('precision')\n",
    "best"
   ]
  },
  {
   "cell_type": "code",
   "execution_count": null,
   "metadata": {},
   "outputs": [],
   "source": [
    "# find the baseline at the threshold of 0.1\n",
    "def get_baseline_metric():\n",
    "    base_clf = DummyClassifier()\n",
    "    base_clf.fit(x_train, y_train)\n",
    "    start = time.time()\n",
    "    y_pre = base_clf.predict(x_test)\n",
    "    cost_time = time.time() - start\n",
    "    y_prob = base_clf.predict_proba(x_test)[:, 1]\n",
    "    return evaluate_classifier(y_test, y_pre, y_prob, cost_time)\n",
    "\n",
    "baseline_metric = get_baseline_metric()\n",
    "('Baseline', baseline_metric)"
   ]
  },
  {
   "cell_type": "markdown",
   "metadata": {},
   "source": [
    "# Appendix: the summary for the best classifiers at different thresholds"
   ]
  },
  {
   "cell_type": "code",
   "execution_count": 126,
   "metadata": {},
   "outputs": [],
   "source": [
    "def train_classifiers(best_params, idx):\n",
    "    #2011-2012/2013\n",
    "    classifiers = {}\n",
    "    x_train, y_train, x_test, y_test = dataset[-idx]\n",
    "\n",
    "    for k, p in best_params.items():\n",
    "        clf = classifier_constructors[k](**p[idx][0])\n",
    "        clf.fit(x_train, y_train)\n",
    "        classifiers[k] = clf\n",
    "\n",
    "    return classifiers\n",
    "\n",
    "classifiers = train_classifiers(all_best, -1)\n",
    "thresholds = [0.001, 0.01, 0.02, 0.05, 0.1, 0.2, 0.3, 0.5]\n",
    "threshold_metrics = {}\n",
    "for threshold in thresholds:\n",
    "    threshold_metrics[str(threshold)] = evaluate_classifiers(classifiers, x_test, y_test, threshold)"
   ]
  },
  {
   "cell_type": "code",
   "execution_count": 128,
   "metadata": {},
   "outputs": [
    {
     "name": "stdout",
     "output_type": "stream",
     "text": [
      "--------------------------------------------------------------------------------\n",
      "Threshold:  0.001\n",
      "--------------------------------------------------------------------------------\n",
      "            Dummy      LR     KNN      DT     SVM      RF      GB      BG\n",
      "key                                                                      \n",
      "precision  0.3354  0.3521  0.3669  0.4237  0.5647  0.3521  0.3521  0.3521\n",
      "recall     0.2784  1.0000  0.9948  0.5722  0.4948  1.0000  1.0000  1.0000\n",
      "f1         0.3042  0.5208  0.5361  0.4868  0.5275  0.5208  0.5208  0.5208\n",
      "auc        0.4893  0.7107  0.5449  0.5484  0.7275  0.7148  0.5790  0.6595\n",
      "cost_time  0.0006  0.0002  0.0180  0.0002  0.0041  0.0063  0.0002  0.0073\n",
      "percent    0.2922  1.0000  0.9546  0.4755  0.3085  1.0000  1.0000  1.0000\n",
      "\n",
      "--------------------------------------------------------------------------------\n",
      "Threshold:  0.01\n",
      "--------------------------------------------------------------------------------\n",
      "            Dummy      LR     KNN      DT     SVM      RF      GB      BG\n",
      "key                                                                      \n",
      "precision  0.3772  0.3567  0.3669  0.4237  0.5647  0.3521  0.3521  0.3521\n",
      "recall     0.3247  0.9948  0.9948  0.5722  0.4948  1.0000  1.0000  1.0000\n",
      "f1         0.3490  0.5252  0.5361  0.4868  0.5275  0.5208  0.5208  0.5208\n",
      "auc        0.5167  0.7107  0.5449  0.5484  0.7275  0.7148  0.5790  0.6595\n",
      "cost_time  0.0006  0.0002  0.0180  0.0002  0.0041  0.0063  0.0002  0.0073\n",
      "percent    0.3031  0.9819  0.9546  0.4755  0.3085  1.0000  1.0000  1.0000\n",
      "\n",
      "--------------------------------------------------------------------------------\n",
      "Threshold:  0.02\n",
      "--------------------------------------------------------------------------------\n",
      "            Dummy      LR     KNN      DT     SVM      RF      GB      BG\n",
      "key                                                                      \n",
      "precision  0.3590  0.3567  0.3509  0.4237  0.5680  0.3521  0.3521  0.3521\n",
      "recall     0.2887  0.9948  0.9278  0.5722  0.4948  1.0000  1.0000  1.0000\n",
      "f1         0.3200  0.5252  0.5092  0.4868  0.5289  0.5208  0.5208  0.5208\n",
      "auc        0.5043  0.7107  0.5449  0.5484  0.7275  0.7148  0.5790  0.6595\n",
      "cost_time  0.0006  0.0002  0.0180  0.0002  0.0041  0.0063  0.0002  0.0073\n",
      "percent    0.2831  0.9819  0.9310  0.4755  0.3067  1.0000  1.0000  1.0000\n",
      "\n",
      "--------------------------------------------------------------------------------\n",
      "Threshold:  0.05\n",
      "--------------------------------------------------------------------------------\n",
      "            Dummy      LR     KNN      DT     SVM      RF      GB      BG\n",
      "key                                                                      \n",
      "precision  0.3743  0.3767  0.3538  0.4237  0.6000  0.3521  0.3704  0.3521\n",
      "recall     0.3299  0.9845  0.9227  0.5722  0.4948  1.0000  0.9948  1.0000\n",
      "f1         0.3507  0.5449  0.5114  0.4868  0.5424  0.5208  0.5399  0.5208\n",
      "auc        0.5151  0.7107  0.5449  0.5484  0.7275  0.7148  0.5790  0.6595\n",
      "cost_time  0.0007  0.0002  0.0180  0.0002  0.0041  0.0063  0.0002  0.0073\n",
      "percent    0.3103  0.9201  0.9183  0.4755  0.2904  1.0000  0.9456  1.0000\n",
      "\n",
      "--------------------------------------------------------------------------------\n",
      "Threshold:  0.1\n",
      "--------------------------------------------------------------------------------\n",
      "            Dummy      LR     KNN      DT     SVM      RF      GB      BG\n",
      "key                                                                      \n",
      "precision  0.4161  0.4084  0.3806  0.4237  0.5890  0.3522  0.3533  0.3541\n",
      "recall     0.3454  0.9536  0.9124  0.5722  0.4433  0.9948  0.8505  0.9948\n",
      "f1         0.3775  0.5719  0.5372  0.4868  0.5059  0.5202  0.4992  0.5223\n",
      "auc        0.5410  0.7107  0.5449  0.5484  0.7275  0.7148  0.5790  0.6595\n",
      "cost_time  0.0006  0.0001  0.0172  0.0002  0.0039  0.0061  0.0002  0.0071\n",
      "percent    0.2922  0.8221  0.8439  0.4755  0.2650  0.9946  0.8475  0.9891\n",
      "\n",
      "--------------------------------------------------------------------------------\n",
      "Threshold:  0.2\n",
      "--------------------------------------------------------------------------------\n",
      "            Dummy      LR     KNN      DT     SVM      RF      GB      BG\n",
      "key                                                                      \n",
      "precision  0.3836  0.4110  0.4099  0.4237  0.5639  0.3453  0.3873  0.3614\n",
      "recall     0.3144  0.8093  0.8557  0.5722  0.3866  0.9433  0.7526  0.9742\n",
      "f1         0.3456  0.5451  0.5543  0.4868  0.4587  0.5055  0.5114  0.5272\n",
      "auc        0.5200  0.7107  0.5449  0.5484  0.7275  0.7148  0.5790  0.6595\n",
      "cost_time  0.0006  0.0001  0.0172  0.0002  0.0039  0.0061  0.0002  0.0070\n",
      "percent    0.2886  0.6933  0.7350  0.4755  0.2414  0.9619  0.6842  0.9492\n",
      "\n",
      "--------------------------------------------------------------------------------\n",
      "Threshold:  0.3\n",
      "--------------------------------------------------------------------------------\n",
      "            Dummy      LR     KNN      DT     SVM      RF      GB      BG\n",
      "key                                                                      \n",
      "precision  0.3424  0.4377  0.4132  0.4237  0.5645  0.3494  0.3066  0.3791\n",
      "recall     0.3247  0.6701  0.7732  0.5722  0.3608  0.8608  0.4536  0.8969\n",
      "f1         0.3333  0.5295  0.5386  0.4868  0.4403  0.4970  0.3659  0.5329\n",
      "auc        0.4929  0.7107  0.5449  0.5484  0.7275  0.7148  0.5790  0.6595\n",
      "cost_time  0.0006  0.0001  0.0171  0.0002  0.0039  0.0061  0.0002  0.0071\n",
      "percent    0.3339  0.5390  0.6588  0.4755  0.2250  0.8675  0.5209  0.8330\n",
      "\n",
      "--------------------------------------------------------------------------------\n",
      "Threshold:  0.5\n",
      "--------------------------------------------------------------------------------\n",
      "            Dummy      LR     KNN      DT     SVM      RF      GB      BG\n",
      "key                                                                      \n",
      "precision  0.3775  0.5938  0.5019  0.4237  0.5310  0.6954  0.5694  0.3808\n",
      "recall     0.2938  0.5876  0.6753  0.5722  0.3093  0.7062  0.4227  0.4691\n",
      "f1         0.3304  0.5907  0.5758  0.4868  0.3909  0.7008  0.4852  0.4203\n",
      "auc        0.5153  0.7107  0.5449  0.5484  0.7275  0.7148  0.5790  0.6595\n",
      "cost_time  0.0006  0.0001  0.0173  0.0002  0.0039  0.0063  0.0002  0.0089\n",
      "percent    0.2740  0.3485  0.4737  0.4755  0.2051  0.3575  0.2613  0.4338\n",
      "\n"
     ]
    }
   ],
   "source": [
    "for idx, threshold in enumerate(thresholds):\n",
    "    print('-'*80)\n",
    "    print(\"Threshold: \", threshold)\n",
    "    print('-'*80)\n",
    "\n",
    "    metrics, probas = threshold_metrics[str(threshold)]\n",
    "    data = dict()\n",
    "    data['key'] =  ['precision', 'recall', 'f1', 'auc', 'cost_time', 'percent']\n",
    "\n",
    "    for k, metric in metrics.items():\n",
    "        data[k] = [metric[item] for item in data['key']]\n",
    "\n",
    "    df_result = pd.DataFrame(data)\n",
    "\n",
    "    df_result = df_result.set_index('key')\n",
    "    print(df_result)\n",
    "    print()"
   ]
  },
  {
   "cell_type": "markdown",
   "metadata": {},
   "source": [
    "As we see, when threshold equals 0.001, the SVM classifier perform best, as it has highest precision and least cost time."
   ]
  },
  {
   "cell_type": "code",
   "execution_count": null,
   "metadata": {},
   "outputs": [],
   "source": []
  }
 ],
 "metadata": {
  "kernelspec": {
   "display_name": "Python 3",
   "language": "python",
   "name": "python3"
  },
  "language_info": {
   "codemirror_mode": {
    "name": "ipython",
    "version": 3
   },
   "file_extension": ".py",
   "mimetype": "text/x-python",
   "name": "python",
   "nbconvert_exporter": "python",
   "pygments_lexer": "ipython3",
   "version": "3.6.5"
  }
 },
 "nbformat": 4,
 "nbformat_minor": 2
}
