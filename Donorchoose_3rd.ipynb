{
 "cells": [
  {
   "cell_type": "code",
   "execution_count": 1,
   "metadata": {},
   "outputs": [],
   "source": [
    "import re\n",
    "import time\n",
    "\n",
    "import pandas as pd\n",
    "import numpy as np\n",
    "import pylab as plt\n",
    "%matplotlib inline\n",
    "from sklearn.tree import DecisionTreeClassifier\n",
    "from sklearn import preprocessing"
   ]
  },
  {
   "cell_type": "markdown",
   "metadata": {},
   "source": [
    "# Step 1: Read CSV"
   ]
  },
  {
   "cell_type": "markdown",
   "metadata": {},
   "source": [
    "To save typos in the future, we first convert a string that is camelcase into snake_case. Use underscores to avoid spaces in between of compound words."
   ]
  },
  {
   "cell_type": "code",
   "execution_count": 2,
   "metadata": {},
   "outputs": [],
   "source": [
    "def camel_to_snake(column_name):\n",
    "    s1 = re.sub('(.)([A-Z][a-z]+)', r'\\1_\\2', column_name)\n",
    "    return re.sub('([a-z0-9])([A-Z])', r'\\1_\\2', s1).lower()\n",
    "\n",
    "def read(file_name):\n",
    "    if not os.path.isfile(file_name):\n",
    "        raise ValueError('File Not Found')\n",
    "        \n",
    "    ext = file_name.split('.')[-1].lower()\n",
    "    if 'csv' == ext:\n",
    "        df = pd.read_csv(file_name)\n",
    "    elif 'xls' in ext:\n",
    "        df = pd.read_excel(file_name)\n",
    "    elif 'json' == ext:\n",
    "        df = pd.read_json(file_name)\n",
    "    else:\n",
    "        raise ValueError('Only support csv, xls and json')\n",
    "\n",
    "    return df"
   ]
  },
  {
   "cell_type": "markdown",
   "metadata": {},
   "source": [
    "## Merge on projectid"
   ]
  },
  {
   "cell_type": "markdown",
   "metadata": {},
   "source": [
    "Basic description: Projects data lists the demographics data of school profiles and associated socio-economic factors, and the project applications data. Outcomes data lists the outcomes(whether it is exciting or not) for each project. To be exciting, a project must meet all of the top five criteria,and meet at least one extra criteria. Donations data comprises donors information and donation details associated with each individual project. Essays data conclude all essay questions funding application materials. Resources data specifies those who requested resources. \n",
    "\n",
    "Data choosing criteria: Since the natural language processing is beyond the scope of the project, we will rule 'Essays' dataset out of our analysis.  \n",
    "\n",
    "Merging purpose: Merging is the first step to explore and pre-process data. For this step, I see Projects.csv as the master dataset, and merge outcomes, donations and resources datasets on projects dataset. By browsing the head of these dataset, we found the projectid could be used as primary key to merge data as it is the unique identification number that link all these four datasets together. "
   ]
  },
  {
   "cell_type": "code",
   "execution_count": 3,
   "metadata": {},
   "outputs": [],
   "source": [
    "df_project = pd.read_csv('/home/xinyuan/projects.csv', index_col='projectid')\n",
    "df_outcome = pd.read_csv('/home/xinyuan/outcomes.csv', index_col='projectid')\n",
    "df_donation = pd.read_csv('/home/xinyuan/donations.csv', index_col='projectid')\n",
    "df_resource = pd.read_csv('/home/xinyuan/resources.csv', index_col='projectid')"
   ]
  },
  {
   "cell_type": "code",
   "execution_count": 4,
   "metadata": {
    "scrolled": true
   },
   "outputs": [
    {
     "data": {
      "text/html": [
       "<div>\n",
       "<style scoped>\n",
       "    .dataframe tbody tr th:only-of-type {\n",
       "        vertical-align: middle;\n",
       "    }\n",
       "\n",
       "    .dataframe tbody tr th {\n",
       "        vertical-align: top;\n",
       "    }\n",
       "\n",
       "    .dataframe thead th {\n",
       "        text-align: right;\n",
       "    }\n",
       "</style>\n",
       "<table border=\"1\" class=\"dataframe\">\n",
       "  <thead>\n",
       "    <tr style=\"text-align: right;\">\n",
       "      <th></th>\n",
       "      <th>teacher_acctid</th>\n",
       "      <th>schoolid</th>\n",
       "      <th>school_ncesid</th>\n",
       "      <th>school_latitude</th>\n",
       "      <th>school_longitude</th>\n",
       "      <th>school_city</th>\n",
       "      <th>school_state</th>\n",
       "      <th>school_zip</th>\n",
       "      <th>school_metro</th>\n",
       "      <th>school_district</th>\n",
       "      <th>...</th>\n",
       "      <th>for_honoree</th>\n",
       "      <th>donation_message</th>\n",
       "      <th>resourceid</th>\n",
       "      <th>vendorid</th>\n",
       "      <th>vendor_name</th>\n",
       "      <th>project_resource_type</th>\n",
       "      <th>item_name</th>\n",
       "      <th>item_number</th>\n",
       "      <th>item_unit_price</th>\n",
       "      <th>item_quantity</th>\n",
       "    </tr>\n",
       "    <tr>\n",
       "      <th>projectid</th>\n",
       "      <th></th>\n",
       "      <th></th>\n",
       "      <th></th>\n",
       "      <th></th>\n",
       "      <th></th>\n",
       "      <th></th>\n",
       "      <th></th>\n",
       "      <th></th>\n",
       "      <th></th>\n",
       "      <th></th>\n",
       "      <th></th>\n",
       "      <th></th>\n",
       "      <th></th>\n",
       "      <th></th>\n",
       "      <th></th>\n",
       "      <th></th>\n",
       "      <th></th>\n",
       "      <th></th>\n",
       "      <th></th>\n",
       "      <th></th>\n",
       "      <th></th>\n",
       "    </tr>\n",
       "  </thead>\n",
       "  <tbody>\n",
       "    <tr>\n",
       "      <th>00001ccc0e81598c4bd86bacb94d7acb</th>\n",
       "      <td>96963218e74e10c3764a5cfb153e6fea</td>\n",
       "      <td>9f3f9f2c2da7edda5648ccd10554ed8c</td>\n",
       "      <td>1.709930e+11</td>\n",
       "      <td>41.807654</td>\n",
       "      <td>-87.673257</td>\n",
       "      <td>Chicago</td>\n",
       "      <td>IL</td>\n",
       "      <td>60609.0</td>\n",
       "      <td>urban</td>\n",
       "      <td>Pershing Elem Network</td>\n",
       "      <td>...</td>\n",
       "      <td>f</td>\n",
       "      <td>I gave because my students are AWESOME and the...</td>\n",
       "      <td>b3af2be825736f6d530314ae70e7c16c</td>\n",
       "      <td>767.0</td>\n",
       "      <td>Lakeshore Learning Materials</td>\n",
       "      <td>Supplies</td>\n",
       "      <td>CG582 - Adjustable Apron - Red</td>\n",
       "      <td>CG582</td>\n",
       "      <td>3.99</td>\n",
       "      <td>2.0</td>\n",
       "    </tr>\n",
       "    <tr>\n",
       "      <th>00001ccc0e81598c4bd86bacb94d7acb</th>\n",
       "      <td>96963218e74e10c3764a5cfb153e6fea</td>\n",
       "      <td>9f3f9f2c2da7edda5648ccd10554ed8c</td>\n",
       "      <td>1.709930e+11</td>\n",
       "      <td>41.807654</td>\n",
       "      <td>-87.673257</td>\n",
       "      <td>Chicago</td>\n",
       "      <td>IL</td>\n",
       "      <td>60609.0</td>\n",
       "      <td>urban</td>\n",
       "      <td>Pershing Elem Network</td>\n",
       "      <td>...</td>\n",
       "      <td>f</td>\n",
       "      <td>I gave because my students are AWESOME and the...</td>\n",
       "      <td>72f084e8c03ce9b3eff6e59de0476ef8</td>\n",
       "      <td>767.0</td>\n",
       "      <td>Lakeshore Learning Materials</td>\n",
       "      <td>Supplies</td>\n",
       "      <td>FF534 - Tissue Paper Squares</td>\n",
       "      <td>FF534</td>\n",
       "      <td>9.99</td>\n",
       "      <td>1.0</td>\n",
       "    </tr>\n",
       "    <tr>\n",
       "      <th>00001ccc0e81598c4bd86bacb94d7acb</th>\n",
       "      <td>96963218e74e10c3764a5cfb153e6fea</td>\n",
       "      <td>9f3f9f2c2da7edda5648ccd10554ed8c</td>\n",
       "      <td>1.709930e+11</td>\n",
       "      <td>41.807654</td>\n",
       "      <td>-87.673257</td>\n",
       "      <td>Chicago</td>\n",
       "      <td>IL</td>\n",
       "      <td>60609.0</td>\n",
       "      <td>urban</td>\n",
       "      <td>Pershing Elem Network</td>\n",
       "      <td>...</td>\n",
       "      <td>f</td>\n",
       "      <td>I gave because my students are AWESOME and the...</td>\n",
       "      <td>c2ea7ecbc583410fcec74c87ff102299</td>\n",
       "      <td>767.0</td>\n",
       "      <td>Lakeshore Learning Materials</td>\n",
       "      <td>Supplies</td>\n",
       "      <td>LM941 - Kid Counters</td>\n",
       "      <td>LM941</td>\n",
       "      <td>29.99</td>\n",
       "      <td>1.0</td>\n",
       "    </tr>\n",
       "    <tr>\n",
       "      <th>00001ccc0e81598c4bd86bacb94d7acb</th>\n",
       "      <td>96963218e74e10c3764a5cfb153e6fea</td>\n",
       "      <td>9f3f9f2c2da7edda5648ccd10554ed8c</td>\n",
       "      <td>1.709930e+11</td>\n",
       "      <td>41.807654</td>\n",
       "      <td>-87.673257</td>\n",
       "      <td>Chicago</td>\n",
       "      <td>IL</td>\n",
       "      <td>60609.0</td>\n",
       "      <td>urban</td>\n",
       "      <td>Pershing Elem Network</td>\n",
       "      <td>...</td>\n",
       "      <td>f</td>\n",
       "      <td>I gave because my students are AWESOME and the...</td>\n",
       "      <td>06d48fb6646b17eea8dd7e5fdd9a6178</td>\n",
       "      <td>767.0</td>\n",
       "      <td>Lakeshore Learning Materials</td>\n",
       "      <td>Supplies</td>\n",
       "      <td>LC987 - Newsprint Easel Paper - 16&amp;amp;#34; x ...</td>\n",
       "      <td>LC987</td>\n",
       "      <td>7.99</td>\n",
       "      <td>6.0</td>\n",
       "    </tr>\n",
       "    <tr>\n",
       "      <th>00001ccc0e81598c4bd86bacb94d7acb</th>\n",
       "      <td>96963218e74e10c3764a5cfb153e6fea</td>\n",
       "      <td>9f3f9f2c2da7edda5648ccd10554ed8c</td>\n",
       "      <td>1.709930e+11</td>\n",
       "      <td>41.807654</td>\n",
       "      <td>-87.673257</td>\n",
       "      <td>Chicago</td>\n",
       "      <td>IL</td>\n",
       "      <td>60609.0</td>\n",
       "      <td>urban</td>\n",
       "      <td>Pershing Elem Network</td>\n",
       "      <td>...</td>\n",
       "      <td>f</td>\n",
       "      <td>I gave because my students are AWESOME and the...</td>\n",
       "      <td>aac3650483a9c0a6614ebccc6c6ced90</td>\n",
       "      <td>767.0</td>\n",
       "      <td>Lakeshore Learning Materials</td>\n",
       "      <td>Supplies</td>\n",
       "      <td>LA743 - Glitter Pack - Set of 12</td>\n",
       "      <td>LA743</td>\n",
       "      <td>12.99</td>\n",
       "      <td>2.0</td>\n",
       "    </tr>\n",
       "  </tbody>\n",
       "</table>\n",
       "<p>5 rows × 73 columns</p>\n",
       "</div>"
      ],
      "text/plain": [
       "                                                    teacher_acctid  \\\n",
       "projectid                                                            \n",
       "00001ccc0e81598c4bd86bacb94d7acb  96963218e74e10c3764a5cfb153e6fea   \n",
       "00001ccc0e81598c4bd86bacb94d7acb  96963218e74e10c3764a5cfb153e6fea   \n",
       "00001ccc0e81598c4bd86bacb94d7acb  96963218e74e10c3764a5cfb153e6fea   \n",
       "00001ccc0e81598c4bd86bacb94d7acb  96963218e74e10c3764a5cfb153e6fea   \n",
       "00001ccc0e81598c4bd86bacb94d7acb  96963218e74e10c3764a5cfb153e6fea   \n",
       "\n",
       "                                                          schoolid  \\\n",
       "projectid                                                            \n",
       "00001ccc0e81598c4bd86bacb94d7acb  9f3f9f2c2da7edda5648ccd10554ed8c   \n",
       "00001ccc0e81598c4bd86bacb94d7acb  9f3f9f2c2da7edda5648ccd10554ed8c   \n",
       "00001ccc0e81598c4bd86bacb94d7acb  9f3f9f2c2da7edda5648ccd10554ed8c   \n",
       "00001ccc0e81598c4bd86bacb94d7acb  9f3f9f2c2da7edda5648ccd10554ed8c   \n",
       "00001ccc0e81598c4bd86bacb94d7acb  9f3f9f2c2da7edda5648ccd10554ed8c   \n",
       "\n",
       "                                  school_ncesid  school_latitude  \\\n",
       "projectid                                                          \n",
       "00001ccc0e81598c4bd86bacb94d7acb   1.709930e+11        41.807654   \n",
       "00001ccc0e81598c4bd86bacb94d7acb   1.709930e+11        41.807654   \n",
       "00001ccc0e81598c4bd86bacb94d7acb   1.709930e+11        41.807654   \n",
       "00001ccc0e81598c4bd86bacb94d7acb   1.709930e+11        41.807654   \n",
       "00001ccc0e81598c4bd86bacb94d7acb   1.709930e+11        41.807654   \n",
       "\n",
       "                                  school_longitude school_city school_state  \\\n",
       "projectid                                                                     \n",
       "00001ccc0e81598c4bd86bacb94d7acb        -87.673257     Chicago           IL   \n",
       "00001ccc0e81598c4bd86bacb94d7acb        -87.673257     Chicago           IL   \n",
       "00001ccc0e81598c4bd86bacb94d7acb        -87.673257     Chicago           IL   \n",
       "00001ccc0e81598c4bd86bacb94d7acb        -87.673257     Chicago           IL   \n",
       "00001ccc0e81598c4bd86bacb94d7acb        -87.673257     Chicago           IL   \n",
       "\n",
       "                                  school_zip school_metro  \\\n",
       "projectid                                                   \n",
       "00001ccc0e81598c4bd86bacb94d7acb     60609.0        urban   \n",
       "00001ccc0e81598c4bd86bacb94d7acb     60609.0        urban   \n",
       "00001ccc0e81598c4bd86bacb94d7acb     60609.0        urban   \n",
       "00001ccc0e81598c4bd86bacb94d7acb     60609.0        urban   \n",
       "00001ccc0e81598c4bd86bacb94d7acb     60609.0        urban   \n",
       "\n",
       "                                        school_district      ...       \\\n",
       "projectid                                                    ...        \n",
       "00001ccc0e81598c4bd86bacb94d7acb  Pershing Elem Network      ...        \n",
       "00001ccc0e81598c4bd86bacb94d7acb  Pershing Elem Network      ...        \n",
       "00001ccc0e81598c4bd86bacb94d7acb  Pershing Elem Network      ...        \n",
       "00001ccc0e81598c4bd86bacb94d7acb  Pershing Elem Network      ...        \n",
       "00001ccc0e81598c4bd86bacb94d7acb  Pershing Elem Network      ...        \n",
       "\n",
       "                                 for_honoree  \\\n",
       "projectid                                      \n",
       "00001ccc0e81598c4bd86bacb94d7acb           f   \n",
       "00001ccc0e81598c4bd86bacb94d7acb           f   \n",
       "00001ccc0e81598c4bd86bacb94d7acb           f   \n",
       "00001ccc0e81598c4bd86bacb94d7acb           f   \n",
       "00001ccc0e81598c4bd86bacb94d7acb           f   \n",
       "\n",
       "                                                                   donation_message  \\\n",
       "projectid                                                                             \n",
       "00001ccc0e81598c4bd86bacb94d7acb  I gave because my students are AWESOME and the...   \n",
       "00001ccc0e81598c4bd86bacb94d7acb  I gave because my students are AWESOME and the...   \n",
       "00001ccc0e81598c4bd86bacb94d7acb  I gave because my students are AWESOME and the...   \n",
       "00001ccc0e81598c4bd86bacb94d7acb  I gave because my students are AWESOME and the...   \n",
       "00001ccc0e81598c4bd86bacb94d7acb  I gave because my students are AWESOME and the...   \n",
       "\n",
       "                                                        resourceid vendorid  \\\n",
       "projectid                                                                     \n",
       "00001ccc0e81598c4bd86bacb94d7acb  b3af2be825736f6d530314ae70e7c16c    767.0   \n",
       "00001ccc0e81598c4bd86bacb94d7acb  72f084e8c03ce9b3eff6e59de0476ef8    767.0   \n",
       "00001ccc0e81598c4bd86bacb94d7acb  c2ea7ecbc583410fcec74c87ff102299    767.0   \n",
       "00001ccc0e81598c4bd86bacb94d7acb  06d48fb6646b17eea8dd7e5fdd9a6178    767.0   \n",
       "00001ccc0e81598c4bd86bacb94d7acb  aac3650483a9c0a6614ebccc6c6ced90    767.0   \n",
       "\n",
       "                                                   vendor_name  \\\n",
       "projectid                                                        \n",
       "00001ccc0e81598c4bd86bacb94d7acb  Lakeshore Learning Materials   \n",
       "00001ccc0e81598c4bd86bacb94d7acb  Lakeshore Learning Materials   \n",
       "00001ccc0e81598c4bd86bacb94d7acb  Lakeshore Learning Materials   \n",
       "00001ccc0e81598c4bd86bacb94d7acb  Lakeshore Learning Materials   \n",
       "00001ccc0e81598c4bd86bacb94d7acb  Lakeshore Learning Materials   \n",
       "\n",
       "                                 project_resource_type  \\\n",
       "projectid                                                \n",
       "00001ccc0e81598c4bd86bacb94d7acb              Supplies   \n",
       "00001ccc0e81598c4bd86bacb94d7acb              Supplies   \n",
       "00001ccc0e81598c4bd86bacb94d7acb              Supplies   \n",
       "00001ccc0e81598c4bd86bacb94d7acb              Supplies   \n",
       "00001ccc0e81598c4bd86bacb94d7acb              Supplies   \n",
       "\n",
       "                                                                          item_name  \\\n",
       "projectid                                                                             \n",
       "00001ccc0e81598c4bd86bacb94d7acb                     CG582 - Adjustable Apron - Red   \n",
       "00001ccc0e81598c4bd86bacb94d7acb                       FF534 - Tissue Paper Squares   \n",
       "00001ccc0e81598c4bd86bacb94d7acb                               LM941 - Kid Counters   \n",
       "00001ccc0e81598c4bd86bacb94d7acb  LC987 - Newsprint Easel Paper - 16&amp;#34; x ...   \n",
       "00001ccc0e81598c4bd86bacb94d7acb                   LA743 - Glitter Pack - Set of 12   \n",
       "\n",
       "                                 item_number item_unit_price item_quantity  \n",
       "projectid                                                                   \n",
       "00001ccc0e81598c4bd86bacb94d7acb       CG582            3.99           2.0  \n",
       "00001ccc0e81598c4bd86bacb94d7acb       FF534            9.99           1.0  \n",
       "00001ccc0e81598c4bd86bacb94d7acb       LM941           29.99           1.0  \n",
       "00001ccc0e81598c4bd86bacb94d7acb       LC987            7.99           6.0  \n",
       "00001ccc0e81598c4bd86bacb94d7acb       LA743           12.99           2.0  \n",
       "\n",
       "[5 rows x 73 columns]"
      ]
     },
     "execution_count": 4,
     "metadata": {},
     "output_type": "execute_result"
    }
   ],
   "source": [
    "df_origin = df_project.join(df_outcome)\n",
    "df_origin = df_origin.join(df_donation)\n",
    "df_origin = df_origin.join(df_resource)\n",
    "df_origin.columns = [camel_to_snake(col) for col in df_origin.columns]\n",
    "df_origin.head()"
   ]
  },
  {
   "cell_type": "markdown",
   "metadata": {},
   "source": [
    "# Step 2：Explore Data"
   ]
  },
  {
   "cell_type": "markdown",
   "metadata": {},
   "source": [
    "## 2.1 Basic info"
   ]
  },
  {
   "cell_type": "code",
   "execution_count": 5,
   "metadata": {},
   "outputs": [
    {
     "data": {
      "text/plain": [
       "teacher_acctid                              19044197\n",
       "schoolid                                    19044197\n",
       "school_ncesid                               17580019\n",
       "school_latitude                             19044197\n",
       "school_longitude                            19044197\n",
       "school_city                                 19044197\n",
       "school_state                                19044197\n",
       "school_zip                                  19044182\n",
       "school_metro                                16923956\n",
       "school_district                             19014316\n",
       "school_county                               19044141\n",
       "school_charter                              19044197\n",
       "school_magnet                               19044197\n",
       "school_year_round                           19044197\n",
       "school_nlns                                 19044197\n",
       "school_kipp                                 19044197\n",
       "school_charter_ready_promise                19044197\n",
       "teacher_prefix                              19044186\n",
       "teacher_teach_for_america                   19044197\n",
       "teacher_ny_teaching_fellow                  19044197\n",
       "primary_focus_subject                       19043011\n",
       "primary_focus_area                          19043011\n",
       "secondary_focus_subject                     12841828\n",
       "secondary_focus_area                        12841828\n",
       "resource_type                               19042934\n",
       "poverty_level                               19044197\n",
       "grade_level                                 19044097\n",
       "fulfillment_labor_materials                 18710148\n",
       "total_price_excluding_optional_support      19044197\n",
       "total_price_including_optional_support      19044197\n",
       "                                              ...   \n",
       "teacher_referred_count                      18351531\n",
       "non_teacher_referred_count                  18351531\n",
       "donationid                                  18352488\n",
       "donor_acctid                                18352488\n",
       "donor_city                                   6548659\n",
       "donor_state                                 14745298\n",
       "donor_zip                                    8310948\n",
       "is_teacher_acct                             18352488\n",
       "donation_timestamp                          18352488\n",
       "donation_to_project                         18352488\n",
       "donation_optional_support                   18352488\n",
       "donation_total                              18352488\n",
       "dollar_amount                               18352488\n",
       "donation_included_optional_support          18352488\n",
       "payment_method                              18352488\n",
       "payment_included_acct_credit                18352488\n",
       "payment_included_campaign_gift_card         18352488\n",
       "payment_included_web_purchased_gift_card    18352488\n",
       "payment_was_promo_matched                   18352488\n",
       "via_giving_page                             18352488\n",
       "for_honoree                                 18352488\n",
       "donation_message                            13774612\n",
       "resourceid                                  19043808\n",
       "vendorid                                    18616371\n",
       "vendor_name                                 18616188\n",
       "project_resource_type                       19042546\n",
       "item_name                                   18987760\n",
       "item_number                                 18905416\n",
       "item_unit_price                             18988742\n",
       "item_quantity                               18998342\n",
       "Length: 73, dtype: int64"
      ]
     },
     "execution_count": 5,
     "metadata": {},
     "output_type": "execute_result"
    }
   ],
   "source": [
    "df = df_origin\n",
    "df.count()"
   ]
  },
  {
   "cell_type": "markdown",
   "metadata": {},
   "source": [
    "## 2.2 Data discriptions"
   ]
  },
  {
   "cell_type": "markdown",
   "metadata": {},
   "source": [
    "In this section, we want know the distributions of these variables, and correlations between these variables, as well as the changes and trends over time."
   ]
  },
  {
   "cell_type": "markdown",
   "metadata": {},
   "source": [
    "## 2.2.1 Distributions of different variables"
   ]
  },
  {
   "cell_type": "markdown",
   "metadata": {},
   "source": [
    "From literature review, TFA teachers, charter schools, magnet schools and poverty level are terminologies that always appear in the paper of low income education. We would like to examine the distributions of these variables."
   ]
  },
  {
   "cell_type": "code",
   "execution_count": 6,
   "metadata": {},
   "outputs": [
    {
     "name": "stdout",
     "output_type": "stream",
     "text": [
      "mean period:  37.28581258301327\n"
     ]
    },
    {
     "data": {
      "image/png": "[encoded data removed]",
      "text/plain": [
       "<Figure size 432x288 with 1 Axes>"
      ]
     },
     "metadata": {},
     "output_type": "display_data"
    }
   ],
   "source": [
    "df['period'] = pd.to_datetime(df['donation_timestamp']) -  pd.to_datetime(df['date_posted'])\n",
    "df['period'] = df['period'].apply(lambda x: x.days)\n",
    "df[(df['period'] > -1) & (df['period'] < 101)]['period'].hist()\n",
    "print('mean period: ', np.mean(df['period'].dropna()))"
   ]
  },
  {
   "cell_type": "code",
   "execution_count": 7,
   "metadata": {},
   "outputs": [
    {
     "data": {
      "text/html": [
       "<div>\n",
       "<style scoped>\n",
       "    .dataframe tbody tr th:only-of-type {\n",
       "        vertical-align: middle;\n",
       "    }\n",
       "\n",
       "    .dataframe tbody tr th {\n",
       "        vertical-align: top;\n",
       "    }\n",
       "\n",
       "    .dataframe thead th {\n",
       "        text-align: right;\n",
       "    }\n",
       "</style>\n",
       "<table border=\"1\" class=\"dataframe\">\n",
       "  <thead>\n",
       "    <tr style=\"text-align: right;\">\n",
       "      <th></th>\n",
       "      <th>school_ncesid</th>\n",
       "      <th>school_latitude</th>\n",
       "      <th>school_longitude</th>\n",
       "      <th>school_zip</th>\n",
       "      <th>fulfillment_labor_materials</th>\n",
       "      <th>total_price_excluding_optional_support</th>\n",
       "      <th>total_price_including_optional_support</th>\n",
       "      <th>students_reached</th>\n",
       "      <th>great_messages_proportion</th>\n",
       "      <th>teacher_referred_count</th>\n",
       "      <th>non_teacher_referred_count</th>\n",
       "      <th>donor_zip</th>\n",
       "      <th>donation_to_project</th>\n",
       "      <th>donation_optional_support</th>\n",
       "      <th>donation_total</th>\n",
       "      <th>vendorid</th>\n",
       "      <th>item_unit_price</th>\n",
       "      <th>item_quantity</th>\n",
       "      <th>period</th>\n",
       "    </tr>\n",
       "  </thead>\n",
       "  <tbody>\n",
       "    <tr>\n",
       "      <th>count</th>\n",
       "      <td>1.758002e+07</td>\n",
       "      <td>1.904420e+07</td>\n",
       "      <td>1.904420e+07</td>\n",
       "      <td>1.904418e+07</td>\n",
       "      <td>1.871015e+07</td>\n",
       "      <td>1.904420e+07</td>\n",
       "      <td>1.904420e+07</td>\n",
       "      <td>1.904118e+07</td>\n",
       "      <td>1.726390e+07</td>\n",
       "      <td>1.835153e+07</td>\n",
       "      <td>1.835153e+07</td>\n",
       "      <td>8.310948e+06</td>\n",
       "      <td>1.835249e+07</td>\n",
       "      <td>1.835249e+07</td>\n",
       "      <td>1.835249e+07</td>\n",
       "      <td>1.861637e+07</td>\n",
       "      <td>1.898874e+07</td>\n",
       "      <td>1.899834e+07</td>\n",
       "      <td>1.835249e+07</td>\n",
       "    </tr>\n",
       "    <tr>\n",
       "      <th>mean</th>\n",
       "      <td>2.555818e+11</td>\n",
       "      <td>3.733742e+01</td>\n",
       "      <td>-9.450415e+01</td>\n",
       "      <td>5.453665e+04</td>\n",
       "      <td>2.927995e+01</td>\n",
       "      <td>6.040844e+02</td>\n",
       "      <td>7.154270e+02</td>\n",
       "      <td>9.422115e+01</td>\n",
       "      <td>5.624667e+01</td>\n",
       "      <td>2.178887e+00</td>\n",
       "      <td>1.131106e+01</td>\n",
       "      <td>5.025699e+04</td>\n",
       "      <td>6.955396e+01</td>\n",
       "      <td>1.098474e+01</td>\n",
       "      <td>8.053700e+01</td>\n",
       "      <td>4.088562e+02</td>\n",
       "      <td>8.135608e+01</td>\n",
       "      <td>3.036285e+00</td>\n",
       "      <td>3.728581e+01</td>\n",
       "    </tr>\n",
       "    <tr>\n",
       "      <th>std</th>\n",
       "      <td>1.633250e+11</td>\n",
       "      <td>5.032572e+00</td>\n",
       "      <td>1.833371e+01</td>\n",
       "      <td>3.162554e+04</td>\n",
       "      <td>8.019937e+00</td>\n",
       "      <td>3.898604e+03</td>\n",
       "      <td>4.745673e+03</td>\n",
       "      <td>7.077699e+02</td>\n",
       "      <td>2.774719e+01</td>\n",
       "      <td>4.849054e+00</td>\n",
       "      <td>1.366981e+01</td>\n",
       "      <td>3.340080e+04</td>\n",
       "      <td>2.604724e+02</td>\n",
       "      <td>3.471341e+01</td>\n",
       "      <td>2.866598e+02</td>\n",
       "      <td>3.563131e+02</td>\n",
       "      <td>1.029324e+05</td>\n",
       "      <td>2.280887e+02</td>\n",
       "      <td>4.463085e+01</td>\n",
       "    </tr>\n",
       "    <tr>\n",
       "      <th>min</th>\n",
       "      <td>1.000050e+10</td>\n",
       "      <td>1.824914e+01</td>\n",
       "      <td>-1.766350e+02</td>\n",
       "      <td>4.100000e+02</td>\n",
       "      <td>9.000000e+00</td>\n",
       "      <td>0.000000e+00</td>\n",
       "      <td>0.000000e+00</td>\n",
       "      <td>0.000000e+00</td>\n",
       "      <td>0.000000e+00</td>\n",
       "      <td>0.000000e+00</td>\n",
       "      <td>0.000000e+00</td>\n",
       "      <td>0.000000e+00</td>\n",
       "      <td>-1.275000e+01</td>\n",
       "      <td>-2.250000e+00</td>\n",
       "      <td>-1.500000e+01</td>\n",
       "      <td>1.000000e+00</td>\n",
       "      <td>-9.960000e+01</td>\n",
       "      <td>0.000000e+00</td>\n",
       "      <td>-2.230000e+03</td>\n",
       "    </tr>\n",
       "    <tr>\n",
       "      <th>25%</th>\n",
       "      <td>8.057900e+10</td>\n",
       "      <td>3.401798e+01</td>\n",
       "      <td>-1.170882e+02</td>\n",
       "      <td>2.789300e+04</td>\n",
       "      <td>3.000000e+01</td>\n",
       "      <td>3.365300e+02</td>\n",
       "      <td>3.973100e+02</td>\n",
       "      <td>2.200000e+01</td>\n",
       "      <td>4.000000e+01</td>\n",
       "      <td>0.000000e+00</td>\n",
       "      <td>3.000000e+00</td>\n",
       "      <td>1.942600e+04</td>\n",
       "      <td>9.840000e+00</td>\n",
       "      <td>1.500000e+00</td>\n",
       "      <td>1.000000e+01</td>\n",
       "      <td>2.100000e+01</td>\n",
       "      <td>6.290000e+00</td>\n",
       "      <td>1.000000e+00</td>\n",
       "      <td>4.000000e+00</td>\n",
       "    </tr>\n",
       "    <tr>\n",
       "      <th>50%</th>\n",
       "      <td>2.400330e+11</td>\n",
       "      <td>3.775066e+01</td>\n",
       "      <td>-8.792043e+01</td>\n",
       "      <td>5.511800e+04</td>\n",
       "      <td>3.000000e+01</td>\n",
       "      <td>4.480000e+02</td>\n",
       "      <td>5.312600e+02</td>\n",
       "      <td>3.000000e+01</td>\n",
       "      <td>5.700000e+01</td>\n",
       "      <td>0.000000e+00</td>\n",
       "      <td>7.000000e+00</td>\n",
       "      <td>4.631900e+04</td>\n",
       "      <td>2.125000e+01</td>\n",
       "      <td>3.750000e+00</td>\n",
       "      <td>2.500000e+01</td>\n",
       "      <td>4.300000e+02</td>\n",
       "      <td>1.385000e+01</td>\n",
       "      <td>1.000000e+00</td>\n",
       "      <td>1.800000e+01</td>\n",
       "    </tr>\n",
       "    <tr>\n",
       "      <th>75%</th>\n",
       "      <td>3.806780e+11</td>\n",
       "      <td>4.081389e+01</td>\n",
       "      <td>-7.985607e+01</td>\n",
       "      <td>9.000500e+04</td>\n",
       "      <td>3.500000e+01</td>\n",
       "      <td>6.572400e+02</td>\n",
       "      <td>7.776700e+02</td>\n",
       "      <td>9.700000e+01</td>\n",
       "      <td>7.500000e+01</td>\n",
       "      <td>3.000000e+00</td>\n",
       "      <td>1.400000e+01</td>\n",
       "      <td>8.901100e+04</td>\n",
       "      <td>5.000000e+01</td>\n",
       "      <td>7.500000e+00</td>\n",
       "      <td>5.381000e+01</td>\n",
       "      <td>7.670000e+02</td>\n",
       "      <td>3.600000e+01</td>\n",
       "      <td>2.000000e+00</td>\n",
       "      <td>5.900000e+01</td>\n",
       "    </tr>\n",
       "    <tr>\n",
       "      <th>max</th>\n",
       "      <td>6.100009e+11</td>\n",
       "      <td>6.725816e+01</td>\n",
       "      <td>-6.662804e+01</td>\n",
       "      <td>9.995000e+04</td>\n",
       "      <td>3.500000e+01</td>\n",
       "      <td>1.025002e+07</td>\n",
       "      <td>1.250002e+07</td>\n",
       "      <td>9.999990e+05</td>\n",
       "      <td>1.000000e+02</td>\n",
       "      <td>1.510000e+02</td>\n",
       "      <td>3.040000e+02</td>\n",
       "      <td>9.999900e+04</td>\n",
       "      <td>1.472040e+05</td>\n",
       "      <td>2.199600e+04</td>\n",
       "      <td>1.692000e+05</td>\n",
       "      <td>1.020000e+03</td>\n",
       "      <td>4.484216e+08</td>\n",
       "      <td>9.931080e+05</td>\n",
       "      <td>1.474000e+03</td>\n",
       "    </tr>\n",
       "  </tbody>\n",
       "</table>\n",
       "</div>"
      ],
      "text/plain": [
       "       school_ncesid  school_latitude  school_longitude    school_zip  \\\n",
       "count   1.758002e+07     1.904420e+07      1.904420e+07  1.904418e+07   \n",
       "mean    2.555818e+11     3.733742e+01     -9.450415e+01  5.453665e+04   \n",
       "std     1.633250e+11     5.032572e+00      1.833371e+01  3.162554e+04   \n",
       "min     1.000050e+10     1.824914e+01     -1.766350e+02  4.100000e+02   \n",
       "25%     8.057900e+10     3.401798e+01     -1.170882e+02  2.789300e+04   \n",
       "50%     2.400330e+11     3.775066e+01     -8.792043e+01  5.511800e+04   \n",
       "75%     3.806780e+11     4.081389e+01     -7.985607e+01  9.000500e+04   \n",
       "max     6.100009e+11     6.725816e+01     -6.662804e+01  9.995000e+04   \n",
       "\n",
       "       fulfillment_labor_materials  total_price_excluding_optional_support  \\\n",
       "count                 1.871015e+07                            1.904420e+07   \n",
       "mean                  2.927995e+01                            6.040844e+02   \n",
       "std                   8.019937e+00                            3.898604e+03   \n",
       "min                   9.000000e+00                            0.000000e+00   \n",
       "25%                   3.000000e+01                            3.365300e+02   \n",
       "50%                   3.000000e+01                            4.480000e+02   \n",
       "75%                   3.500000e+01                            6.572400e+02   \n",
       "max                   3.500000e+01                            1.025002e+07   \n",
       "\n",
       "       total_price_including_optional_support  students_reached  \\\n",
       "count                            1.904420e+07      1.904118e+07   \n",
       "mean                             7.154270e+02      9.422115e+01   \n",
       "std                              4.745673e+03      7.077699e+02   \n",
       "min                              0.000000e+00      0.000000e+00   \n",
       "25%                              3.973100e+02      2.200000e+01   \n",
       "50%                              5.312600e+02      3.000000e+01   \n",
       "75%                              7.776700e+02      9.700000e+01   \n",
       "max                              1.250002e+07      9.999990e+05   \n",
       "\n",
       "       great_messages_proportion  teacher_referred_count  \\\n",
       "count               1.726390e+07            1.835153e+07   \n",
       "mean                5.624667e+01            2.178887e+00   \n",
       "std                 2.774719e+01            4.849054e+00   \n",
       "min                 0.000000e+00            0.000000e+00   \n",
       "25%                 4.000000e+01            0.000000e+00   \n",
       "50%                 5.700000e+01            0.000000e+00   \n",
       "75%                 7.500000e+01            3.000000e+00   \n",
       "max                 1.000000e+02            1.510000e+02   \n",
       "\n",
       "       non_teacher_referred_count     donor_zip  donation_to_project  \\\n",
       "count                1.835153e+07  8.310948e+06         1.835249e+07   \n",
       "mean                 1.131106e+01  5.025699e+04         6.955396e+01   \n",
       "std                  1.366981e+01  3.340080e+04         2.604724e+02   \n",
       "min                  0.000000e+00  0.000000e+00        -1.275000e+01   \n",
       "25%                  3.000000e+00  1.942600e+04         9.840000e+00   \n",
       "50%                  7.000000e+00  4.631900e+04         2.125000e+01   \n",
       "75%                  1.400000e+01  8.901100e+04         5.000000e+01   \n",
       "max                  3.040000e+02  9.999900e+04         1.472040e+05   \n",
       "\n",
       "       donation_optional_support  donation_total      vendorid  \\\n",
       "count               1.835249e+07    1.835249e+07  1.861637e+07   \n",
       "mean                1.098474e+01    8.053700e+01  4.088562e+02   \n",
       "std                 3.471341e+01    2.866598e+02  3.563131e+02   \n",
       "min                -2.250000e+00   -1.500000e+01  1.000000e+00   \n",
       "25%                 1.500000e+00    1.000000e+01  2.100000e+01   \n",
       "50%                 3.750000e+00    2.500000e+01  4.300000e+02   \n",
       "75%                 7.500000e+00    5.381000e+01  7.670000e+02   \n",
       "max                 2.199600e+04    1.692000e+05  1.020000e+03   \n",
       "\n",
       "       item_unit_price  item_quantity        period  \n",
       "count     1.898874e+07   1.899834e+07  1.835249e+07  \n",
       "mean      8.135608e+01   3.036285e+00  3.728581e+01  \n",
       "std       1.029324e+05   2.280887e+02  4.463085e+01  \n",
       "min      -9.960000e+01   0.000000e+00 -2.230000e+03  \n",
       "25%       6.290000e+00   1.000000e+00  4.000000e+00  \n",
       "50%       1.385000e+01   1.000000e+00  1.800000e+01  \n",
       "75%       3.600000e+01   2.000000e+00  5.900000e+01  \n",
       "max       4.484216e+08   9.931080e+05  1.474000e+03  "
      ]
     },
     "execution_count": 7,
     "metadata": {},
     "output_type": "execute_result"
    }
   ],
   "source": [
    "df.describe()"
   ]
  },
  {
   "cell_type": "markdown",
   "metadata": {},
   "source": [
    "60 days of duration to get projects completed are at around 75%. So I choose 60 for the threshold as it covers majority of the population and the intervention plan will become more meaningful."
   ]
  },
  {
   "cell_type": "code",
   "execution_count": 8,
   "metadata": {
    "scrolled": true
   },
   "outputs": [
    {
     "data": {
      "text/plain": [
       "<matplotlib.axes._subplots.AxesSubplot at 0x7f5138507940>"
      ]
     },
     "execution_count": 8,
     "metadata": {},
     "output_type": "execute_result"
    },
    {
     "data": {
      "image/png": "[encoded data removed]",
      "text/plain": [
       "<Figure size 432x288 with 1 Axes>"
      ]
     },
     "metadata": {},
     "output_type": "display_data"
    }
   ],
   "source": [
    "# if period > 60 & fully_funded == 't', then change its value to 'f'\n",
    "df.loc[(df['period'] > 60) & (df['fully_funded'] == 't'), 'fully_funded'] = 'f'\n",
    "del df['period']\n",
    "del df['donation_timestamp']\n",
    "df['fully_funded'].value_counts().plot.bar(title = \"fully_funded frequency\", color = \"steelblue\")"
   ]
  },
  {
   "cell_type": "code",
   "execution_count": 9,
   "metadata": {},
   "outputs": [
    {
     "data": {
      "text/plain": [
       "t    0.695826\n",
       "f    0.304174\n",
       "Name: fully_funded, dtype: float64"
      ]
     },
     "execution_count": 9,
     "metadata": {},
     "output_type": "execute_result"
    }
   ],
   "source": [
    "ratio = df[\"fully_funded\"].value_counts(normalize = True)\n",
    "ratio"
   ]
  },
  {
   "cell_type": "code",
   "execution_count": 10,
   "metadata": {},
   "outputs": [
    {
     "data": {
      "text/html": [
       "<div>\n",
       "<style scoped>\n",
       "    .dataframe tbody tr th:only-of-type {\n",
       "        vertical-align: middle;\n",
       "    }\n",
       "\n",
       "    .dataframe tbody tr th {\n",
       "        vertical-align: top;\n",
       "    }\n",
       "\n",
       "    .dataframe thead th {\n",
       "        text-align: right;\n",
       "    }\n",
       "</style>\n",
       "<table border=\"1\" class=\"dataframe\">\n",
       "  <thead>\n",
       "    <tr style=\"text-align: right;\">\n",
       "      <th></th>\n",
       "      <th>count</th>\n",
       "      <th>mean</th>\n",
       "      <th>std</th>\n",
       "      <th>min</th>\n",
       "      <th>25%</th>\n",
       "      <th>50%</th>\n",
       "      <th>75%</th>\n",
       "      <th>max</th>\n",
       "    </tr>\n",
       "    <tr>\n",
       "      <th>resource_type</th>\n",
       "      <th></th>\n",
       "      <th></th>\n",
       "      <th></th>\n",
       "      <th></th>\n",
       "      <th></th>\n",
       "      <th></th>\n",
       "      <th></th>\n",
       "      <th></th>\n",
       "    </tr>\n",
       "  </thead>\n",
       "  <tbody>\n",
       "    <tr>\n",
       "      <th>Books</th>\n",
       "      <td>8334537.0</td>\n",
       "      <td>624.846463</td>\n",
       "      <td>633.497443</td>\n",
       "      <td>0.00</td>\n",
       "      <td>395.87</td>\n",
       "      <td>516.73</td>\n",
       "      <td>719.52</td>\n",
       "      <td>22351.22</td>\n",
       "    </tr>\n",
       "    <tr>\n",
       "      <th>Other</th>\n",
       "      <td>1417780.0</td>\n",
       "      <td>970.388412</td>\n",
       "      <td>16957.919205</td>\n",
       "      <td>0.00</td>\n",
       "      <td>387.80</td>\n",
       "      <td>523.54</td>\n",
       "      <td>774.11</td>\n",
       "      <td>12500020.73</td>\n",
       "    </tr>\n",
       "    <tr>\n",
       "      <th>Supplies</th>\n",
       "      <td>6778301.0</td>\n",
       "      <td>652.039987</td>\n",
       "      <td>739.360981</td>\n",
       "      <td>0.00</td>\n",
       "      <td>386.16</td>\n",
       "      <td>524.54</td>\n",
       "      <td>753.47</td>\n",
       "      <td>69670.89</td>\n",
       "    </tr>\n",
       "    <tr>\n",
       "      <th>Technology</th>\n",
       "      <td>2466025.0</td>\n",
       "      <td>968.252804</td>\n",
       "      <td>1924.418468</td>\n",
       "      <td>10.98</td>\n",
       "      <td>471.19</td>\n",
       "      <td>665.20</td>\n",
       "      <td>965.55</td>\n",
       "      <td>533185.37</td>\n",
       "    </tr>\n",
       "    <tr>\n",
       "      <th>Trips</th>\n",
       "      <td>39355.0</td>\n",
       "      <td>5577.439407</td>\n",
       "      <td>9627.791085</td>\n",
       "      <td>10.98</td>\n",
       "      <td>886.01</td>\n",
       "      <td>2090.00</td>\n",
       "      <td>5148.21</td>\n",
       "      <td>100800.01</td>\n",
       "    </tr>\n",
       "    <tr>\n",
       "      <th>Visitors</th>\n",
       "      <td>6936.0</td>\n",
       "      <td>1954.618749</td>\n",
       "      <td>3237.651489</td>\n",
       "      <td>20.73</td>\n",
       "      <td>632.35</td>\n",
       "      <td>990.59</td>\n",
       "      <td>2113.06</td>\n",
       "      <td>24767.07</td>\n",
       "    </tr>\n",
       "  </tbody>\n",
       "</table>\n",
       "</div>"
      ],
      "text/plain": [
       "                   count         mean           std    min     25%      50%  \\\n",
       "resource_type                                                                 \n",
       "Books          8334537.0   624.846463    633.497443   0.00  395.87   516.73   \n",
       "Other          1417780.0   970.388412  16957.919205   0.00  387.80   523.54   \n",
       "Supplies       6778301.0   652.039987    739.360981   0.00  386.16   524.54   \n",
       "Technology     2466025.0   968.252804   1924.418468  10.98  471.19   665.20   \n",
       "Trips            39355.0  5577.439407   9627.791085  10.98  886.01  2090.00   \n",
       "Visitors          6936.0  1954.618749   3237.651489  20.73  632.35   990.59   \n",
       "\n",
       "                   75%          max  \n",
       "resource_type                        \n",
       "Books           719.52     22351.22  \n",
       "Other           774.11  12500020.73  \n",
       "Supplies        753.47     69670.89  \n",
       "Technology      965.55    533185.37  \n",
       "Trips          5148.21    100800.01  \n",
       "Visitors       2113.06     24767.07  "
      ]
     },
     "execution_count": 10,
     "metadata": {},
     "output_type": "execute_result"
    }
   ],
   "source": [
    "df.groupby('resource_type')['total_price_including_optional_support'].describe()"
   ]
  },
  {
   "cell_type": "code",
   "execution_count": 11,
   "metadata": {},
   "outputs": [
    {
     "data": {
      "text/html": [
       "<div>\n",
       "<style scoped>\n",
       "    .dataframe tbody tr th:only-of-type {\n",
       "        vertical-align: middle;\n",
       "    }\n",
       "\n",
       "    .dataframe tbody tr th {\n",
       "        vertical-align: top;\n",
       "    }\n",
       "\n",
       "    .dataframe thead th {\n",
       "        text-align: right;\n",
       "    }\n",
       "</style>\n",
       "<table border=\"1\" class=\"dataframe\">\n",
       "  <thead>\n",
       "    <tr style=\"text-align: right;\">\n",
       "      <th></th>\n",
       "      <th>count</th>\n",
       "      <th>unique</th>\n",
       "      <th>top</th>\n",
       "      <th>freq</th>\n",
       "    </tr>\n",
       "    <tr>\n",
       "      <th>resource_type</th>\n",
       "      <th></th>\n",
       "      <th></th>\n",
       "      <th></th>\n",
       "      <th></th>\n",
       "    </tr>\n",
       "  </thead>\n",
       "  <tbody>\n",
       "    <tr>\n",
       "      <th>Books</th>\n",
       "      <td>8234435</td>\n",
       "      <td>2</td>\n",
       "      <td>t</td>\n",
       "      <td>5877107</td>\n",
       "    </tr>\n",
       "    <tr>\n",
       "      <th>Other</th>\n",
       "      <td>1398280</td>\n",
       "      <td>2</td>\n",
       "      <td>t</td>\n",
       "      <td>947232</td>\n",
       "    </tr>\n",
       "    <tr>\n",
       "      <th>Supplies</th>\n",
       "      <td>6683859</td>\n",
       "      <td>2</td>\n",
       "      <td>t</td>\n",
       "      <td>4556400</td>\n",
       "    </tr>\n",
       "    <tr>\n",
       "      <th>Technology</th>\n",
       "      <td>2427116</td>\n",
       "      <td>2</td>\n",
       "      <td>t</td>\n",
       "      <td>1658032</td>\n",
       "    </tr>\n",
       "    <tr>\n",
       "      <th>Trips</th>\n",
       "      <td>38591</td>\n",
       "      <td>2</td>\n",
       "      <td>t</td>\n",
       "      <td>30262</td>\n",
       "    </tr>\n",
       "    <tr>\n",
       "      <th>Visitors</th>\n",
       "      <td>6810</td>\n",
       "      <td>2</td>\n",
       "      <td>t</td>\n",
       "      <td>4732</td>\n",
       "    </tr>\n",
       "  </tbody>\n",
       "</table>\n",
       "</div>"
      ],
      "text/plain": [
       "                 count unique top     freq\n",
       "resource_type                             \n",
       "Books          8234435      2   t  5877107\n",
       "Other          1398280      2   t   947232\n",
       "Supplies       6683859      2   t  4556400\n",
       "Technology     2427116      2   t  1658032\n",
       "Trips            38591      2   t    30262\n",
       "Visitors          6810      2   t     4732"
      ]
     },
     "execution_count": 11,
     "metadata": {},
     "output_type": "execute_result"
    }
   ],
   "source": [
    "df.groupby('resource_type')['fully_funded'].describe()"
   ]
  },
  {
   "cell_type": "code",
   "execution_count": 12,
   "metadata": {},
   "outputs": [
    {
     "data": {
      "text/plain": [
       "<matplotlib.axes._subplots.AxesSubplot at 0x7f5138480ac8>"
      ]
     },
     "execution_count": 12,
     "metadata": {},
     "output_type": "execute_result"
    },
    {
     "data": {
      "image/png": "[encoded data removed]",
      "text/plain": [
       "<Figure size 432x288 with 1 Axes>"
      ]
     },
     "metadata": {},
     "output_type": "display_data"
    }
   ],
   "source": [
    "df['teacher_teach_for_america'].value_counts().plot.bar(title = \"TFA teachers distribution\", color = \"steelblue\")"
   ]
  },
  {
   "cell_type": "code",
   "execution_count": 13,
   "metadata": {},
   "outputs": [
    {
     "data": {
      "text/plain": [
       "<matplotlib.axes._subplots.AxesSubplot at 0x7f513853b710>"
      ]
     },
     "execution_count": 13,
     "metadata": {},
     "output_type": "execute_result"
    },
    {
     "data": {
      "image/png": "[encoded data removed]",
      "text/plain": [
       "<Figure size 432x288 with 1 Axes>"
      ]
     },
     "metadata": {},
     "output_type": "display_data"
    }
   ],
   "source": [
    "df['school_charter'].value_counts().plot.bar(title = \"Charter school distribution\", color = \"steelblue\")"
   ]
  },
  {
   "cell_type": "code",
   "execution_count": 14,
   "metadata": {},
   "outputs": [
    {
     "data": {
      "text/plain": [
       "<matplotlib.axes._subplots.AxesSubplot at 0x7f5138432860>"
      ]
     },
     "execution_count": 14,
     "metadata": {},
     "output_type": "execute_result"
    },
    {
     "data": {
      "image/png": "[encoded data removed]",
      "text/plain": [
       "<Figure size 432x288 with 1 Axes>"
      ]
     },
     "metadata": {},
     "output_type": "display_data"
    }
   ],
   "source": [
    "df['school_magnet'].value_counts().plot.bar(title = \"magnet schools distribution\", color = \"steelblue\")"
   ]
  },
  {
   "cell_type": "code",
   "execution_count": 15,
   "metadata": {},
   "outputs": [
    {
     "data": {
      "text/plain": [
       "<matplotlib.axes._subplots.AxesSubplot at 0x7f513838ef28>"
      ]
     },
     "execution_count": 15,
     "metadata": {},
     "output_type": "execute_result"
    },
    {
     "data": {
      "image/png": "[encoded data removed]",
      "text/plain": [
       "<Figure size 432x288 with 1 Axes>"
      ]
     },
     "metadata": {},
     "output_type": "display_data"
    }
   ],
   "source": [
    "df['school_kipp'].value_counts().plot.bar(title = \"KIPP schools distribution\", color = \"steelblue\")"
   ]
  },
  {
   "cell_type": "code",
   "execution_count": 16,
   "metadata": {
    "scrolled": true
   },
   "outputs": [
    {
     "data": {
      "text/plain": [
       "<matplotlib.axes._subplots.AxesSubplot at 0x7f5133b686d8>"
      ]
     },
     "execution_count": 16,
     "metadata": {},
     "output_type": "execute_result"
    },
    {
     "data": {
      "image/png": "[encoded data removed]",
      "text/plain": [
       "<Figure size 432x288 with 1 Axes>"
      ]
     },
     "metadata": {},
     "output_type": "display_data"
    }
   ],
   "source": [
    "df['primary_focus_subject'].value_counts().plot.bar(title = \"Funding primary focus\", color = \"steelblue\")"
   ]
  },
  {
   "cell_type": "code",
   "execution_count": 17,
   "metadata": {},
   "outputs": [
    {
     "data": {
      "text/plain": [
       "<matplotlib.axes._subplots.AxesSubplot at 0x7f5133b68f28>"
      ]
     },
     "execution_count": 17,
     "metadata": {},
     "output_type": "execute_result"
    },
    {
     "data": {
      "image/png": "[encoded data removed]",
      "text/plain": [
       "<Figure size 432x288 with 1 Axes>"
      ]
     },
     "metadata": {},
     "output_type": "display_data"
    }
   ],
   "source": [
    "df['resource_type'].value_counts().plot.bar(title = \"Resource Type Distribution\", color = \"steelblue\")"
   ]
  },
  {
   "cell_type": "code",
   "execution_count": 18,
   "metadata": {
    "scrolled": true
   },
   "outputs": [
    {
     "data": {
      "text/plain": [
       "Books         0.437671\n",
       "Supplies      0.355948\n",
       "Technology    0.129498\n",
       "Other         0.074452\n",
       "Trips         0.002067\n",
       "Visitors      0.000364\n",
       "Name: resource_type, dtype: float64"
      ]
     },
     "execution_count": 18,
     "metadata": {},
     "output_type": "execute_result"
    }
   ],
   "source": [
    "ratio = df[\"resource_type\"].value_counts(normalize = True)\n",
    "ratio"
   ]
  },
  {
   "cell_type": "code",
   "execution_count": 19,
   "metadata": {},
   "outputs": [
    {
     "data": {
      "text/plain": [
       "highest poverty     0.605772\n",
       "high poverty        0.242633\n",
       "moderate poverty    0.127664\n",
       "low poverty         0.023932\n",
       "Name: poverty_level, dtype: float64"
      ]
     },
     "execution_count": 19,
     "metadata": {},
     "output_type": "execute_result"
    }
   ],
   "source": [
    "ratio = df[\"poverty_level\"].value_counts(normalize = True)\n",
    "ratio"
   ]
  },
  {
   "cell_type": "code",
   "execution_count": 20,
   "metadata": {},
   "outputs": [
    {
     "data": {
      "text/plain": [
       "<matplotlib.axes._subplots.AxesSubplot at 0x7f5133a247f0>"
      ]
     },
     "execution_count": 20,
     "metadata": {},
     "output_type": "execute_result"
    },
    {
     "data": {
      "image/png": "[encoded data removed]",
      "text/plain": [
       "<Figure size 432x288 with 1 Axes>"
      ]
     },
     "metadata": {},
     "output_type": "display_data"
    }
   ],
   "source": [
    "df['poverty_level'].value_counts().plot.bar(title = \"Poverty Level_distribution\", color = \"steelblue\")"
   ]
  },
  {
   "cell_type": "code",
   "execution_count": 21,
   "metadata": {
    "scrolled": true
   },
   "outputs": [
    {
     "data": {
      "text/plain": [
       "<matplotlib.axes._subplots.AxesSubplot at 0x7f513838e320>"
      ]
     },
     "execution_count": 21,
     "metadata": {},
     "output_type": "execute_result"
    },
    {
     "data": {
      "image/png": "[encoded data removed]",
      "text/plain": [
       "<Figure size 432x288 with 1 Axes>"
      ]
     },
     "metadata": {},
     "output_type": "display_data"
    }
   ],
   "source": [
    "df['grade_level'].value_counts().plot.bar(title = \"Grade level distribution\", color = \"steelblue\")"
   ]
  },
  {
   "cell_type": "markdown",
   "metadata": {},
   "source": [
    "In general, it is noticed that the data is imbalanced for true and false values. Besides, most of the projects are concentrated in Pre-K, highest-poverty regions and for the purpose of literacy. The most funded materials are books."
   ]
  },
  {
   "cell_type": "markdown",
   "metadata": {},
   "source": [
    "## 2.2.2 Changes and trends over time"
   ]
  },
  {
   "cell_type": "markdown",
   "metadata": {},
   "source": [
    "In this section, we want to explore the landscape and trends of grantees(schools), donors and grantmaking."
   ]
  },
  {
   "cell_type": "markdown",
   "metadata": {},
   "source": [
    "### Sum and rate of fully funded projects over year"
   ]
  },
  {
   "cell_type": "markdown",
   "metadata": {},
   "source": [
    "Not only we need to learn the landscape of grantees side, we should also capture the key features of grantmaking, and donors."
   ]
  },
  {
   "cell_type": "code",
   "execution_count": 22,
   "metadata": {},
   "outputs": [],
   "source": [
    "sum_cols = ['fully_funded']\n",
    "df_by_day = df[sum_cols + ['date_posted']]\n",
    "df_by_day = df_by_day.replace('t', 1).replace('f', 0)\n",
    "df_by_day = df_by_day.set_index('date_posted')\n",
    "df_by_day.index = pd.to_datetime(df_by_day.index)\n",
    "df_by_day['year'] = df_by_day.index.year\n",
    "df_by_year_sum = df_by_day.groupby('year').sum()\n",
    "df_by_year_mean = df_by_day.groupby('year').mean()"
   ]
  },
  {
   "cell_type": "code",
   "execution_count": 23,
   "metadata": {
    "scrolled": true
   },
   "outputs": [
    {
     "data": {
      "text/plain": [
       "<Figure size 432x288 with 0 Axes>"
      ]
     },
     "metadata": {},
     "output_type": "display_data"
    },
    {
     "data": {
      "image/png": "[encoded data removed]",
      "text/plain": [
       "<Figure size 720x216 with 1 Axes>"
      ]
     },
     "metadata": {},
     "output_type": "display_data"
    },
    {
     "data": {
      "text/html": [
       "<div>\n",
       "<style scoped>\n",
       "    .dataframe tbody tr th:only-of-type {\n",
       "        vertical-align: middle;\n",
       "    }\n",
       "\n",
       "    .dataframe tbody tr th {\n",
       "        vertical-align: top;\n",
       "    }\n",
       "\n",
       "    .dataframe thead th {\n",
       "        text-align: right;\n",
       "    }\n",
       "</style>\n",
       "<table border=\"1\" class=\"dataframe\">\n",
       "  <thead>\n",
       "    <tr style=\"text-align: right;\">\n",
       "      <th></th>\n",
       "      <th>fully_funded</th>\n",
       "    </tr>\n",
       "    <tr>\n",
       "      <th>year</th>\n",
       "      <th></th>\n",
       "    </tr>\n",
       "  </thead>\n",
       "  <tbody>\n",
       "    <tr>\n",
       "      <th>2002</th>\n",
       "      <td>908.0</td>\n",
       "    </tr>\n",
       "    <tr>\n",
       "      <th>2003</th>\n",
       "      <td>8181.0</td>\n",
       "    </tr>\n",
       "    <tr>\n",
       "      <th>2004</th>\n",
       "      <td>17952.0</td>\n",
       "    </tr>\n",
       "    <tr>\n",
       "      <th>2005</th>\n",
       "      <td>32701.0</td>\n",
       "    </tr>\n",
       "    <tr>\n",
       "      <th>2006</th>\n",
       "      <td>92097.0</td>\n",
       "    </tr>\n",
       "  </tbody>\n",
       "</table>\n",
       "</div>"
      ],
      "text/plain": [
       "      fully_funded\n",
       "year              \n",
       "2002         908.0\n",
       "2003        8181.0\n",
       "2004       17952.0\n",
       "2005       32701.0\n",
       "2006       92097.0"
      ]
     },
     "execution_count": 23,
     "metadata": {},
     "output_type": "execute_result"
    }
   ],
   "source": [
    "def plot_hist(df, name='mean'):\n",
    "    for col in df.columns:\n",
    "        plt.clf()\n",
    "        plt.figure(figsize=(10, 3))\n",
    "        plt.plot(df.index, df[col],'')  \n",
    "        plt.xlabel('year')\n",
    "        plt.ylabel(col)\n",
    "        plt.title('{} {} per year'.format(name, col))\n",
    "        plt.show()\n",
    "\n",
    "plot_hist(df_by_year_sum, 'sum')\n",
    "df_by_year_sum.head()"
   ]
  },
  {
   "cell_type": "code",
   "execution_count": 24,
   "metadata": {},
   "outputs": [
    {
     "data": {
      "text/plain": [
       "<Figure size 432x288 with 0 Axes>"
      ]
     },
     "metadata": {},
     "output_type": "display_data"
    },
    {
     "data": {
      "image/png": "[encoded data removed]",
      "text/plain": [
       "<Figure size 720x216 with 1 Axes>"
      ]
     },
     "metadata": {},
     "output_type": "display_data"
    },
    {
     "data": {
      "text/html": [
       "<div>\n",
       "<style scoped>\n",
       "    .dataframe tbody tr th:only-of-type {\n",
       "        vertical-align: middle;\n",
       "    }\n",
       "\n",
       "    .dataframe tbody tr th {\n",
       "        vertical-align: top;\n",
       "    }\n",
       "\n",
       "    .dataframe thead th {\n",
       "        text-align: right;\n",
       "    }\n",
       "</style>\n",
       "<table border=\"1\" class=\"dataframe\">\n",
       "  <thead>\n",
       "    <tr style=\"text-align: right;\">\n",
       "      <th></th>\n",
       "      <th>fully_funded</th>\n",
       "    </tr>\n",
       "    <tr>\n",
       "      <th>year</th>\n",
       "      <th></th>\n",
       "    </tr>\n",
       "  </thead>\n",
       "  <tbody>\n",
       "    <tr>\n",
       "      <th>2002</th>\n",
       "      <td>0.609396</td>\n",
       "    </tr>\n",
       "    <tr>\n",
       "      <th>2003</th>\n",
       "      <td>0.650163</td>\n",
       "    </tr>\n",
       "    <tr>\n",
       "      <th>2004</th>\n",
       "      <td>0.576975</td>\n",
       "    </tr>\n",
       "    <tr>\n",
       "      <th>2005</th>\n",
       "      <td>0.392080</td>\n",
       "    </tr>\n",
       "    <tr>\n",
       "      <th>2006</th>\n",
       "      <td>0.416770</td>\n",
       "    </tr>\n",
       "  </tbody>\n",
       "</table>\n",
       "</div>"
      ],
      "text/plain": [
       "      fully_funded\n",
       "year              \n",
       "2002      0.609396\n",
       "2003      0.650163\n",
       "2004      0.576975\n",
       "2005      0.392080\n",
       "2006      0.416770"
      ]
     },
     "execution_count": 24,
     "metadata": {},
     "output_type": "execute_result"
    }
   ],
   "source": [
    "plot_hist(df_by_year_mean, 'rate')\n",
    "df_by_year_mean.head()"
   ]
  },
  {
   "cell_type": "markdown",
   "metadata": {},
   "source": [
    "In general, the sum of fully-funded projects increase year by year. Before 2009, the sum of fully-funded projects stablished at a relatively lower level compared to years after 2009. During the year of 2005 to 2008, there was a fluctuation for rate of fully-funded projects before it increased steadily after 2008. \n",
    "\n",
    "In conclusion, the years after 2007 is relatively a good duration to observe and examine funding patterns. "
   ]
  },
  {
   "cell_type": "markdown",
   "metadata": {},
   "source": [
    "### Changes and trends in grants and donors"
   ]
  },
  {
   "cell_type": "code",
   "execution_count": 25,
   "metadata": {},
   "outputs": [
    {
     "data": {
      "text/html": [
       "<div>\n",
       "<style scoped>\n",
       "    .dataframe tbody tr th:only-of-type {\n",
       "        vertical-align: middle;\n",
       "    }\n",
       "\n",
       "    .dataframe tbody tr th {\n",
       "        vertical-align: top;\n",
       "    }\n",
       "\n",
       "    .dataframe thead th {\n",
       "        text-align: right;\n",
       "    }\n",
       "</style>\n",
       "<table border=\"1\" class=\"dataframe\">\n",
       "  <thead>\n",
       "    <tr style=\"text-align: right;\">\n",
       "      <th></th>\n",
       "      <th>donation_to_project</th>\n",
       "      <th>donation_optional_support</th>\n",
       "      <th>donation_total</th>\n",
       "      <th>item_quantity</th>\n",
       "      <th>total_price_including_optional_support</th>\n",
       "    </tr>\n",
       "    <tr>\n",
       "      <th>year</th>\n",
       "      <th></th>\n",
       "      <th></th>\n",
       "      <th></th>\n",
       "      <th></th>\n",
       "      <th></th>\n",
       "    </tr>\n",
       "  </thead>\n",
       "  <tbody>\n",
       "    <tr>\n",
       "      <th>2002</th>\n",
       "      <td>561.368417</td>\n",
       "      <td>41.751107</td>\n",
       "      <td>603.119517</td>\n",
       "      <td>9.705750</td>\n",
       "      <td>2029.885007</td>\n",
       "    </tr>\n",
       "    <tr>\n",
       "      <th>2003</th>\n",
       "      <td>332.782686</td>\n",
       "      <td>46.947805</td>\n",
       "      <td>379.723427</td>\n",
       "      <td>5.484919</td>\n",
       "      <td>16771.333426</td>\n",
       "    </tr>\n",
       "    <tr>\n",
       "      <th>2004</th>\n",
       "      <td>262.941351</td>\n",
       "      <td>38.805454</td>\n",
       "      <td>301.746807</td>\n",
       "      <td>37.283577</td>\n",
       "      <td>774.661285</td>\n",
       "    </tr>\n",
       "    <tr>\n",
       "      <th>2005</th>\n",
       "      <td>214.122841</td>\n",
       "      <td>29.425803</td>\n",
       "      <td>243.550009</td>\n",
       "      <td>4.389194</td>\n",
       "      <td>752.023558</td>\n",
       "    </tr>\n",
       "    <tr>\n",
       "      <th>2006</th>\n",
       "      <td>180.249763</td>\n",
       "      <td>27.211696</td>\n",
       "      <td>207.465539</td>\n",
       "      <td>3.832543</td>\n",
       "      <td>902.639854</td>\n",
       "    </tr>\n",
       "  </tbody>\n",
       "</table>\n",
       "</div>"
      ],
      "text/plain": [
       "      donation_to_project  donation_optional_support  donation_total  \\\n",
       "year                                                                   \n",
       "2002           561.368417                  41.751107      603.119517   \n",
       "2003           332.782686                  46.947805      379.723427   \n",
       "2004           262.941351                  38.805454      301.746807   \n",
       "2005           214.122841                  29.425803      243.550009   \n",
       "2006           180.249763                  27.211696      207.465539   \n",
       "\n",
       "      item_quantity  total_price_including_optional_support  \n",
       "year                                                         \n",
       "2002       9.705750                             2029.885007  \n",
       "2003       5.484919                            16771.333426  \n",
       "2004      37.283577                              774.661285  \n",
       "2005       4.389194                              752.023558  \n",
       "2006       3.832543                              902.639854  "
      ]
     },
     "execution_count": 25,
     "metadata": {},
     "output_type": "execute_result"
    }
   ],
   "source": [
    "mean_cols = ['donation_to_project', 'donation_optional_support', 'donation_total', 'item_quantity', \n",
    "             'total_price_including_optional_support']\n",
    "df_by_day = df[mean_cols + ['date_posted']]\n",
    "df_by_day = df_by_day.set_index('date_posted')\n",
    "df_by_day.index = pd.to_datetime(df_by_day.index)\n",
    "df_by_day['year'] = df_by_day.index.year\n",
    "df_by_year = df_by_day.groupby('year').mean()\n",
    "df_by_year.head()"
   ]
  },
  {
   "cell_type": "code",
   "execution_count": 26,
   "metadata": {
    "scrolled": true
   },
   "outputs": [
    {
     "data": {
      "text/plain": [
       "<Figure size 432x288 with 0 Axes>"
      ]
     },
     "metadata": {},
     "output_type": "display_data"
    },
    {
     "data": {
      "image/png": "[encoded data removed]",
      "text/plain": [
       "<Figure size 720x216 with 1 Axes>"
      ]
     },
     "metadata": {},
     "output_type": "display_data"
    },
    {
     "data": {
      "text/plain": [
       "<Figure size 432x288 with 0 Axes>"
      ]
     },
     "metadata": {},
     "output_type": "display_data"
    },
    {
     "data": {
      "image/png": "[encoded data removed]",
      "text/plain": [
       "<Figure size 720x216 with 1 Axes>"
      ]
     },
     "metadata": {},
     "output_type": "display_data"
    },
    {
     "data": {
      "text/plain": [
       "<Figure size 432x288 with 0 Axes>"
      ]
     },
     "metadata": {},
     "output_type": "display_data"
    },
    {
     "data": {
      "image/png": "[encoded data removed]",
      "text/plain": [
       "<Figure size 720x216 with 1 Axes>"
      ]
     },
     "metadata": {},
     "output_type": "display_data"
    },
    {
     "data": {
      "text/plain": [
       "<Figure size 432x288 with 0 Axes>"
      ]
     },
     "metadata": {},
     "output_type": "display_data"
    },
    {
     "data": {
      "image/png": "[encoded data removed]",
      "text/plain": [
       "<Figure size 720x216 with 1 Axes>"
      ]
     },
     "metadata": {},
     "output_type": "display_data"
    },
    {
     "data": {
      "text/plain": [
       "<Figure size 432x288 with 0 Axes>"
      ]
     },
     "metadata": {},
     "output_type": "display_data"
    },
    {
     "data": {
      "image/png": "[encoded data removed]",
      "text/plain": [
       "<Figure size 720x216 with 1 Axes>"
      ]
     },
     "metadata": {},
     "output_type": "display_data"
    }
   ],
   "source": [
    "plot_hist(df_by_year)"
   ]
  },
  {
   "cell_type": "markdown",
   "metadata": {},
   "source": [
    "In general, the amount of grants decrease since 2002. Although there is a peak during the period of 2003-2004 for the items or total amount of grants, it decrease dramatically after the period."
   ]
  },
  {
   "cell_type": "markdown",
   "metadata": {},
   "source": [
    "## 2.3 Cross-tabs"
   ]
  },
  {
   "cell_type": "markdown",
   "metadata": {},
   "source": [
    "In order to further examine the relations between key factors and fully funded projects, the crosstabs would help us figure out."
   ]
  },
  {
   "cell_type": "code",
   "execution_count": 27,
   "metadata": {},
   "outputs": [
    {
     "data": {
      "image/png": "[encoded data removed]",
      "text/plain": [
       "<Figure size 432x288 with 2 Axes>"
      ]
     },
     "metadata": {},
     "output_type": "display_data"
    },
    {
     "data": {
      "image/png": "[encoded data removed]",
      "text/plain": [
       "<Figure size 432x288 with 2 Axes>"
      ]
     },
     "metadata": {},
     "output_type": "display_data"
    },
    {
     "data": {
      "image/png": "[encoded data removed]",
      "text/plain": [
       "<Figure size 432x288 with 2 Axes>"
      ]
     },
     "metadata": {},
     "output_type": "display_data"
    },
    {
     "data": {
      "image/png": "[encoded data removed]",
      "text/plain": [
       "<Figure size 432x288 with 2 Axes>"
      ]
     },
     "metadata": {},
     "output_type": "display_data"
    },
    {
     "data": {
      "image/png": "[encoded data removed]",
      "text/plain": [
       "<Figure size 432x288 with 2 Axes>"
      ]
     },
     "metadata": {},
     "output_type": "display_data"
    },
    {
     "data": {
      "image/png": "[encoded data removed]",
      "text/plain": [
       "<Figure size 432x288 with 2 Axes>"
      ]
     },
     "metadata": {},
     "output_type": "display_data"
    },
    {
     "data": {
      "image/png": "[encoded data removed]",
      "text/plain": [
       "<Figure size 432x288 with 2 Axes>"
      ]
     },
     "metadata": {},
     "output_type": "display_data"
    }
   ],
   "source": [
    "import seaborn as sns\n",
    "\n",
    "def plot_crosstab(df):\n",
    "    check_df = df.applymap(lambda x: isinstance(x, (int, float)))\n",
    "    cols = [\"teacher_teach_for_america\", \"primary_focus_area\", \"school_charter\", \"school_magnet\", \"grade_level\", \"poverty_level\", \"project_resource_type\"]\n",
    "    for col in cols:\n",
    "        plt.clf()\n",
    "        df_result = pd.crosstab(df['fully_funded'], df[col])\n",
    "        sns.heatmap(df_result, xticklabels=df_result.columns, yticklabels=df_result.index)\n",
    "        plt.show()\n",
    "        \n",
    " \n",
    "plot_crosstab(df)"
   ]
  },
  {
   "cell_type": "markdown",
   "metadata": {},
   "source": [
    "The crosstab results fit what we found in the literature review. Compared to those projects that were not fully-funded, there were more Teach for America teachers in fully funded projects. Most of the highest poverty schools were fully funded. They often received books, and supplies from donors."
   ]
  },
  {
   "cell_type": "markdown",
   "metadata": {},
   "source": [
    "### *Remove id columns, address and essay question entries"
   ]
  },
  {
   "cell_type": "markdown",
   "metadata": {},
   "source": [
    "In order to simplify the data explorations and reduce irrelevant correlations, we select cities, counties or states as representatives of geographic features and remove all the left. IDs of teachers, schools and donors are not the only variables to demonstrate identities, so we remove id columns to reduce training time. In addition, essay questions are out of project scope and we remove them from main data."
   ]
  },
  {
   "cell_type": "code",
   "execution_count": 28,
   "metadata": {},
   "outputs": [
    {
     "data": {
      "text/html": [
       "<div>\n",
       "<style scoped>\n",
       "    .dataframe tbody tr th:only-of-type {\n",
       "        vertical-align: middle;\n",
       "    }\n",
       "\n",
       "    .dataframe tbody tr th {\n",
       "        vertical-align: top;\n",
       "    }\n",
       "\n",
       "    .dataframe thead th {\n",
       "        text-align: right;\n",
       "    }\n",
       "</style>\n",
       "<table border=\"1\" class=\"dataframe\">\n",
       "  <thead>\n",
       "    <tr style=\"text-align: right;\">\n",
       "      <th></th>\n",
       "      <th>school_city</th>\n",
       "      <th>school_state</th>\n",
       "      <th>school_district</th>\n",
       "      <th>school_county</th>\n",
       "      <th>school_charter</th>\n",
       "      <th>school_magnet</th>\n",
       "      <th>school_year_round</th>\n",
       "      <th>school_nlns</th>\n",
       "      <th>school_kipp</th>\n",
       "      <th>school_charter_ready_promise</th>\n",
       "      <th>...</th>\n",
       "      <th>donation_included_optional_support</th>\n",
       "      <th>payment_included_acct_credit</th>\n",
       "      <th>payment_included_campaign_gift_card</th>\n",
       "      <th>payment_included_web_purchased_gift_card</th>\n",
       "      <th>payment_was_promo_matched</th>\n",
       "      <th>via_giving_page</th>\n",
       "      <th>for_honoree</th>\n",
       "      <th>project_resource_type</th>\n",
       "      <th>item_unit_price</th>\n",
       "      <th>item_quantity</th>\n",
       "    </tr>\n",
       "    <tr>\n",
       "      <th>projectid</th>\n",
       "      <th></th>\n",
       "      <th></th>\n",
       "      <th></th>\n",
       "      <th></th>\n",
       "      <th></th>\n",
       "      <th></th>\n",
       "      <th></th>\n",
       "      <th></th>\n",
       "      <th></th>\n",
       "      <th></th>\n",
       "      <th></th>\n",
       "      <th></th>\n",
       "      <th></th>\n",
       "      <th></th>\n",
       "      <th></th>\n",
       "      <th></th>\n",
       "      <th></th>\n",
       "      <th></th>\n",
       "      <th></th>\n",
       "      <th></th>\n",
       "      <th></th>\n",
       "    </tr>\n",
       "  </thead>\n",
       "  <tbody>\n",
       "    <tr>\n",
       "      <th>00001ccc0e81598c4bd86bacb94d7acb</th>\n",
       "      <td>Chicago</td>\n",
       "      <td>IL</td>\n",
       "      <td>Pershing Elem Network</td>\n",
       "      <td>Cook</td>\n",
       "      <td>0</td>\n",
       "      <td>0</td>\n",
       "      <td>0</td>\n",
       "      <td>0</td>\n",
       "      <td>0</td>\n",
       "      <td>0</td>\n",
       "      <td>...</td>\n",
       "      <td>1.0</td>\n",
       "      <td>0.0</td>\n",
       "      <td>0.0</td>\n",
       "      <td>0.0</td>\n",
       "      <td>1.0</td>\n",
       "      <td>0.0</td>\n",
       "      <td>0.0</td>\n",
       "      <td>Supplies</td>\n",
       "      <td>3.99</td>\n",
       "      <td>2.0</td>\n",
       "    </tr>\n",
       "    <tr>\n",
       "      <th>00001ccc0e81598c4bd86bacb94d7acb</th>\n",
       "      <td>Chicago</td>\n",
       "      <td>IL</td>\n",
       "      <td>Pershing Elem Network</td>\n",
       "      <td>Cook</td>\n",
       "      <td>0</td>\n",
       "      <td>0</td>\n",
       "      <td>0</td>\n",
       "      <td>0</td>\n",
       "      <td>0</td>\n",
       "      <td>0</td>\n",
       "      <td>...</td>\n",
       "      <td>1.0</td>\n",
       "      <td>0.0</td>\n",
       "      <td>0.0</td>\n",
       "      <td>0.0</td>\n",
       "      <td>1.0</td>\n",
       "      <td>0.0</td>\n",
       "      <td>0.0</td>\n",
       "      <td>Supplies</td>\n",
       "      <td>9.99</td>\n",
       "      <td>1.0</td>\n",
       "    </tr>\n",
       "    <tr>\n",
       "      <th>00001ccc0e81598c4bd86bacb94d7acb</th>\n",
       "      <td>Chicago</td>\n",
       "      <td>IL</td>\n",
       "      <td>Pershing Elem Network</td>\n",
       "      <td>Cook</td>\n",
       "      <td>0</td>\n",
       "      <td>0</td>\n",
       "      <td>0</td>\n",
       "      <td>0</td>\n",
       "      <td>0</td>\n",
       "      <td>0</td>\n",
       "      <td>...</td>\n",
       "      <td>1.0</td>\n",
       "      <td>0.0</td>\n",
       "      <td>0.0</td>\n",
       "      <td>0.0</td>\n",
       "      <td>1.0</td>\n",
       "      <td>0.0</td>\n",
       "      <td>0.0</td>\n",
       "      <td>Supplies</td>\n",
       "      <td>29.99</td>\n",
       "      <td>1.0</td>\n",
       "    </tr>\n",
       "    <tr>\n",
       "      <th>00001ccc0e81598c4bd86bacb94d7acb</th>\n",
       "      <td>Chicago</td>\n",
       "      <td>IL</td>\n",
       "      <td>Pershing Elem Network</td>\n",
       "      <td>Cook</td>\n",
       "      <td>0</td>\n",
       "      <td>0</td>\n",
       "      <td>0</td>\n",
       "      <td>0</td>\n",
       "      <td>0</td>\n",
       "      <td>0</td>\n",
       "      <td>...</td>\n",
       "      <td>1.0</td>\n",
       "      <td>0.0</td>\n",
       "      <td>0.0</td>\n",
       "      <td>0.0</td>\n",
       "      <td>1.0</td>\n",
       "      <td>0.0</td>\n",
       "      <td>0.0</td>\n",
       "      <td>Supplies</td>\n",
       "      <td>7.99</td>\n",
       "      <td>6.0</td>\n",
       "    </tr>\n",
       "    <tr>\n",
       "      <th>00001ccc0e81598c4bd86bacb94d7acb</th>\n",
       "      <td>Chicago</td>\n",
       "      <td>IL</td>\n",
       "      <td>Pershing Elem Network</td>\n",
       "      <td>Cook</td>\n",
       "      <td>0</td>\n",
       "      <td>0</td>\n",
       "      <td>0</td>\n",
       "      <td>0</td>\n",
       "      <td>0</td>\n",
       "      <td>0</td>\n",
       "      <td>...</td>\n",
       "      <td>1.0</td>\n",
       "      <td>0.0</td>\n",
       "      <td>0.0</td>\n",
       "      <td>0.0</td>\n",
       "      <td>1.0</td>\n",
       "      <td>0.0</td>\n",
       "      <td>0.0</td>\n",
       "      <td>Supplies</td>\n",
       "      <td>12.99</td>\n",
       "      <td>2.0</td>\n",
       "    </tr>\n",
       "  </tbody>\n",
       "</table>\n",
       "<p>5 rows × 56 columns</p>\n",
       "</div>"
      ],
      "text/plain": [
       "                                 school_city school_state  \\\n",
       "projectid                                                   \n",
       "00001ccc0e81598c4bd86bacb94d7acb     Chicago           IL   \n",
       "00001ccc0e81598c4bd86bacb94d7acb     Chicago           IL   \n",
       "00001ccc0e81598c4bd86bacb94d7acb     Chicago           IL   \n",
       "00001ccc0e81598c4bd86bacb94d7acb     Chicago           IL   \n",
       "00001ccc0e81598c4bd86bacb94d7acb     Chicago           IL   \n",
       "\n",
       "                                        school_district school_county  \\\n",
       "projectid                                                               \n",
       "00001ccc0e81598c4bd86bacb94d7acb  Pershing Elem Network          Cook   \n",
       "00001ccc0e81598c4bd86bacb94d7acb  Pershing Elem Network          Cook   \n",
       "00001ccc0e81598c4bd86bacb94d7acb  Pershing Elem Network          Cook   \n",
       "00001ccc0e81598c4bd86bacb94d7acb  Pershing Elem Network          Cook   \n",
       "00001ccc0e81598c4bd86bacb94d7acb  Pershing Elem Network          Cook   \n",
       "\n",
       "                                  school_charter  school_magnet  \\\n",
       "projectid                                                         \n",
       "00001ccc0e81598c4bd86bacb94d7acb               0              0   \n",
       "00001ccc0e81598c4bd86bacb94d7acb               0              0   \n",
       "00001ccc0e81598c4bd86bacb94d7acb               0              0   \n",
       "00001ccc0e81598c4bd86bacb94d7acb               0              0   \n",
       "00001ccc0e81598c4bd86bacb94d7acb               0              0   \n",
       "\n",
       "                                  school_year_round  school_nlns  school_kipp  \\\n",
       "projectid                                                                       \n",
       "00001ccc0e81598c4bd86bacb94d7acb                  0            0            0   \n",
       "00001ccc0e81598c4bd86bacb94d7acb                  0            0            0   \n",
       "00001ccc0e81598c4bd86bacb94d7acb                  0            0            0   \n",
       "00001ccc0e81598c4bd86bacb94d7acb                  0            0            0   \n",
       "00001ccc0e81598c4bd86bacb94d7acb                  0            0            0   \n",
       "\n",
       "                                  school_charter_ready_promise      ...       \\\n",
       "projectid                                                           ...        \n",
       "00001ccc0e81598c4bd86bacb94d7acb                             0      ...        \n",
       "00001ccc0e81598c4bd86bacb94d7acb                             0      ...        \n",
       "00001ccc0e81598c4bd86bacb94d7acb                             0      ...        \n",
       "00001ccc0e81598c4bd86bacb94d7acb                             0      ...        \n",
       "00001ccc0e81598c4bd86bacb94d7acb                             0      ...        \n",
       "\n",
       "                                 donation_included_optional_support  \\\n",
       "projectid                                                             \n",
       "00001ccc0e81598c4bd86bacb94d7acb                                1.0   \n",
       "00001ccc0e81598c4bd86bacb94d7acb                                1.0   \n",
       "00001ccc0e81598c4bd86bacb94d7acb                                1.0   \n",
       "00001ccc0e81598c4bd86bacb94d7acb                                1.0   \n",
       "00001ccc0e81598c4bd86bacb94d7acb                                1.0   \n",
       "\n",
       "                                  payment_included_acct_credit  \\\n",
       "projectid                                                        \n",
       "00001ccc0e81598c4bd86bacb94d7acb                           0.0   \n",
       "00001ccc0e81598c4bd86bacb94d7acb                           0.0   \n",
       "00001ccc0e81598c4bd86bacb94d7acb                           0.0   \n",
       "00001ccc0e81598c4bd86bacb94d7acb                           0.0   \n",
       "00001ccc0e81598c4bd86bacb94d7acb                           0.0   \n",
       "\n",
       "                                  payment_included_campaign_gift_card  \\\n",
       "projectid                                                               \n",
       "00001ccc0e81598c4bd86bacb94d7acb                                  0.0   \n",
       "00001ccc0e81598c4bd86bacb94d7acb                                  0.0   \n",
       "00001ccc0e81598c4bd86bacb94d7acb                                  0.0   \n",
       "00001ccc0e81598c4bd86bacb94d7acb                                  0.0   \n",
       "00001ccc0e81598c4bd86bacb94d7acb                                  0.0   \n",
       "\n",
       "                                 payment_included_web_purchased_gift_card  \\\n",
       "projectid                                                                   \n",
       "00001ccc0e81598c4bd86bacb94d7acb                                      0.0   \n",
       "00001ccc0e81598c4bd86bacb94d7acb                                      0.0   \n",
       "00001ccc0e81598c4bd86bacb94d7acb                                      0.0   \n",
       "00001ccc0e81598c4bd86bacb94d7acb                                      0.0   \n",
       "00001ccc0e81598c4bd86bacb94d7acb                                      0.0   \n",
       "\n",
       "                                 payment_was_promo_matched via_giving_page  \\\n",
       "projectid                                                                    \n",
       "00001ccc0e81598c4bd86bacb94d7acb                       1.0             0.0   \n",
       "00001ccc0e81598c4bd86bacb94d7acb                       1.0             0.0   \n",
       "00001ccc0e81598c4bd86bacb94d7acb                       1.0             0.0   \n",
       "00001ccc0e81598c4bd86bacb94d7acb                       1.0             0.0   \n",
       "00001ccc0e81598c4bd86bacb94d7acb                       1.0             0.0   \n",
       "\n",
       "                                 for_honoree project_resource_type  \\\n",
       "projectid                                                            \n",
       "00001ccc0e81598c4bd86bacb94d7acb         0.0              Supplies   \n",
       "00001ccc0e81598c4bd86bacb94d7acb         0.0              Supplies   \n",
       "00001ccc0e81598c4bd86bacb94d7acb         0.0              Supplies   \n",
       "00001ccc0e81598c4bd86bacb94d7acb         0.0              Supplies   \n",
       "00001ccc0e81598c4bd86bacb94d7acb         0.0              Supplies   \n",
       "\n",
       "                                 item_unit_price item_quantity  \n",
       "projectid                                                       \n",
       "00001ccc0e81598c4bd86bacb94d7acb            3.99           2.0  \n",
       "00001ccc0e81598c4bd86bacb94d7acb            9.99           1.0  \n",
       "00001ccc0e81598c4bd86bacb94d7acb           29.99           1.0  \n",
       "00001ccc0e81598c4bd86bacb94d7acb            7.99           6.0  \n",
       "00001ccc0e81598c4bd86bacb94d7acb           12.99           2.0  \n",
       "\n",
       "[5 rows x 56 columns]"
      ]
     },
     "execution_count": 28,
     "metadata": {},
     "output_type": "execute_result"
    }
   ],
   "source": [
    "df = df.replace('f', 0).replace('t', 1)\n",
    "exclude_cols = ['school_latitude', 'school_longitude', 'school_zip',\n",
    "               'donation_message', 'vendor_name', 'item_name', 'item_number', 'school_metro', 'payment_method']\n",
    "left_cols = [col for col in df.columns if (not col.endswith('id')) and col not in exclude_cols]\n",
    "df = df[left_cols]\n",
    "df.head()"
   ]
  },
  {
   "cell_type": "markdown",
   "metadata": {},
   "source": [
    "## 2.4 Correlations between variables"
   ]
  },
  {
   "cell_type": "markdown",
   "metadata": {},
   "source": [
    "In order to investigate the dependence between multiple variables at the same time, we would like to plot a table with correlation coefficients between each variable and the others. The first step is to calculate the correlation matrix, and then plot the heatmap."
   ]
  },
  {
   "cell_type": "code",
   "execution_count": 29,
   "metadata": {},
   "outputs": [
    {
     "data": {
      "text/plain": [
       "<matplotlib.axes._subplots.AxesSubplot at 0x7f510d7dfa90>"
      ]
     },
     "execution_count": 29,
     "metadata": {},
     "output_type": "execute_result"
    },
    {
     "data": {
      "image/png": "[encoded data removed]",
      "text/plain": [
       "<Figure size 720x720 with 2 Axes>"
      ]
     },
     "metadata": {},
     "output_type": "display_data"
    }
   ],
   "source": [
    "corr = df.corr()\n",
    "\n",
    "fig, ax = plt.subplots(figsize=(10,10))  \n",
    "sns.heatmap(corr, \n",
    "        xticklabels=corr.columns,\n",
    "        yticklabels=corr.columns)"
   ]
  },
  {
   "cell_type": "markdown",
   "metadata": {},
   "source": [
    "# Step 3: Pre Process Data"
   ]
  },
  {
   "cell_type": "code",
   "execution_count": 30,
   "metadata": {},
   "outputs": [],
   "source": [
    "df = df[df['date_posted']> '2006-12-31']\n",
    "df = df[df['date_posted']< '2013-12-31']"
   ]
  },
  {
   "cell_type": "markdown",
   "metadata": {},
   "source": [
    "## Change non-numberic columns into numeric variables"
   ]
  },
  {
   "cell_type": "markdown",
   "metadata": {},
   "source": [
    "We change all of the categorical into numeric variables."
   ]
  },
  {
   "cell_type": "code",
   "execution_count": 31,
   "metadata": {},
   "outputs": [
    {
     "data": {
      "text/html": [
       "<div>\n",
       "<style scoped>\n",
       "    .dataframe tbody tr th:only-of-type {\n",
       "        vertical-align: middle;\n",
       "    }\n",
       "\n",
       "    .dataframe tbody tr th {\n",
       "        vertical-align: top;\n",
       "    }\n",
       "\n",
       "    .dataframe thead th {\n",
       "        text-align: right;\n",
       "    }\n",
       "</style>\n",
       "<table border=\"1\" class=\"dataframe\">\n",
       "  <thead>\n",
       "    <tr style=\"text-align: right;\">\n",
       "      <th></th>\n",
       "      <th>school_city</th>\n",
       "      <th>school_state</th>\n",
       "      <th>school_district</th>\n",
       "      <th>school_county</th>\n",
       "      <th>teacher_prefix</th>\n",
       "      <th>primary_focus_subject</th>\n",
       "      <th>primary_focus_area</th>\n",
       "      <th>secondary_focus_subject</th>\n",
       "      <th>secondary_focus_area</th>\n",
       "      <th>resource_type</th>\n",
       "      <th>poverty_level</th>\n",
       "      <th>grade_level</th>\n",
       "      <th>donor_city</th>\n",
       "      <th>donor_state</th>\n",
       "      <th>dollar_amount</th>\n",
       "      <th>project_resource_type</th>\n",
       "    </tr>\n",
       "    <tr>\n",
       "      <th>projectid</th>\n",
       "      <th></th>\n",
       "      <th></th>\n",
       "      <th></th>\n",
       "      <th></th>\n",
       "      <th></th>\n",
       "      <th></th>\n",
       "      <th></th>\n",
       "      <th></th>\n",
       "      <th></th>\n",
       "      <th></th>\n",
       "      <th></th>\n",
       "      <th></th>\n",
       "      <th></th>\n",
       "      <th></th>\n",
       "      <th></th>\n",
       "      <th></th>\n",
       "    </tr>\n",
       "  </thead>\n",
       "  <tbody>\n",
       "    <tr>\n",
       "      <th>00001ccc0e81598c4bd86bacb94d7acb</th>\n",
       "      <td>Chicago</td>\n",
       "      <td>IL</td>\n",
       "      <td>Pershing Elem Network</td>\n",
       "      <td>Cook</td>\n",
       "      <td>Mrs.</td>\n",
       "      <td>Mathematics</td>\n",
       "      <td>Math &amp; Science</td>\n",
       "      <td>Visual Arts</td>\n",
       "      <td>Music &amp; The Arts</td>\n",
       "      <td>Supplies</td>\n",
       "      <td>highest poverty</td>\n",
       "      <td>Grades PreK-2</td>\n",
       "      <td>Chicago</td>\n",
       "      <td>IL</td>\n",
       "      <td>under_10</td>\n",
       "      <td>Supplies</td>\n",
       "    </tr>\n",
       "    <tr>\n",
       "      <th>00001ccc0e81598c4bd86bacb94d7acb</th>\n",
       "      <td>Chicago</td>\n",
       "      <td>IL</td>\n",
       "      <td>Pershing Elem Network</td>\n",
       "      <td>Cook</td>\n",
       "      <td>Mrs.</td>\n",
       "      <td>Mathematics</td>\n",
       "      <td>Math &amp; Science</td>\n",
       "      <td>Visual Arts</td>\n",
       "      <td>Music &amp; The Arts</td>\n",
       "      <td>Supplies</td>\n",
       "      <td>highest poverty</td>\n",
       "      <td>Grades PreK-2</td>\n",
       "      <td>Chicago</td>\n",
       "      <td>IL</td>\n",
       "      <td>under_10</td>\n",
       "      <td>Supplies</td>\n",
       "    </tr>\n",
       "    <tr>\n",
       "      <th>00001ccc0e81598c4bd86bacb94d7acb</th>\n",
       "      <td>Chicago</td>\n",
       "      <td>IL</td>\n",
       "      <td>Pershing Elem Network</td>\n",
       "      <td>Cook</td>\n",
       "      <td>Mrs.</td>\n",
       "      <td>Mathematics</td>\n",
       "      <td>Math &amp; Science</td>\n",
       "      <td>Visual Arts</td>\n",
       "      <td>Music &amp; The Arts</td>\n",
       "      <td>Supplies</td>\n",
       "      <td>highest poverty</td>\n",
       "      <td>Grades PreK-2</td>\n",
       "      <td>Chicago</td>\n",
       "      <td>IL</td>\n",
       "      <td>under_10</td>\n",
       "      <td>Supplies</td>\n",
       "    </tr>\n",
       "    <tr>\n",
       "      <th>00001ccc0e81598c4bd86bacb94d7acb</th>\n",
       "      <td>Chicago</td>\n",
       "      <td>IL</td>\n",
       "      <td>Pershing Elem Network</td>\n",
       "      <td>Cook</td>\n",
       "      <td>Mrs.</td>\n",
       "      <td>Mathematics</td>\n",
       "      <td>Math &amp; Science</td>\n",
       "      <td>Visual Arts</td>\n",
       "      <td>Music &amp; The Arts</td>\n",
       "      <td>Supplies</td>\n",
       "      <td>highest poverty</td>\n",
       "      <td>Grades PreK-2</td>\n",
       "      <td>Chicago</td>\n",
       "      <td>IL</td>\n",
       "      <td>under_10</td>\n",
       "      <td>Supplies</td>\n",
       "    </tr>\n",
       "    <tr>\n",
       "      <th>00001ccc0e81598c4bd86bacb94d7acb</th>\n",
       "      <td>Chicago</td>\n",
       "      <td>IL</td>\n",
       "      <td>Pershing Elem Network</td>\n",
       "      <td>Cook</td>\n",
       "      <td>Mrs.</td>\n",
       "      <td>Mathematics</td>\n",
       "      <td>Math &amp; Science</td>\n",
       "      <td>Visual Arts</td>\n",
       "      <td>Music &amp; The Arts</td>\n",
       "      <td>Supplies</td>\n",
       "      <td>highest poverty</td>\n",
       "      <td>Grades PreK-2</td>\n",
       "      <td>Chicago</td>\n",
       "      <td>IL</td>\n",
       "      <td>under_10</td>\n",
       "      <td>Supplies</td>\n",
       "    </tr>\n",
       "  </tbody>\n",
       "</table>\n",
       "</div>"
      ],
      "text/plain": [
       "                                 school_city school_state  \\\n",
       "projectid                                                   \n",
       "00001ccc0e81598c4bd86bacb94d7acb     Chicago           IL   \n",
       "00001ccc0e81598c4bd86bacb94d7acb     Chicago           IL   \n",
       "00001ccc0e81598c4bd86bacb94d7acb     Chicago           IL   \n",
       "00001ccc0e81598c4bd86bacb94d7acb     Chicago           IL   \n",
       "00001ccc0e81598c4bd86bacb94d7acb     Chicago           IL   \n",
       "\n",
       "                                        school_district school_county  \\\n",
       "projectid                                                               \n",
       "00001ccc0e81598c4bd86bacb94d7acb  Pershing Elem Network          Cook   \n",
       "00001ccc0e81598c4bd86bacb94d7acb  Pershing Elem Network          Cook   \n",
       "00001ccc0e81598c4bd86bacb94d7acb  Pershing Elem Network          Cook   \n",
       "00001ccc0e81598c4bd86bacb94d7acb  Pershing Elem Network          Cook   \n",
       "00001ccc0e81598c4bd86bacb94d7acb  Pershing Elem Network          Cook   \n",
       "\n",
       "                                 teacher_prefix primary_focus_subject  \\\n",
       "projectid                                                               \n",
       "00001ccc0e81598c4bd86bacb94d7acb           Mrs.           Mathematics   \n",
       "00001ccc0e81598c4bd86bacb94d7acb           Mrs.           Mathematics   \n",
       "00001ccc0e81598c4bd86bacb94d7acb           Mrs.           Mathematics   \n",
       "00001ccc0e81598c4bd86bacb94d7acb           Mrs.           Mathematics   \n",
       "00001ccc0e81598c4bd86bacb94d7acb           Mrs.           Mathematics   \n",
       "\n",
       "                                 primary_focus_area secondary_focus_subject  \\\n",
       "projectid                                                                     \n",
       "00001ccc0e81598c4bd86bacb94d7acb     Math & Science             Visual Arts   \n",
       "00001ccc0e81598c4bd86bacb94d7acb     Math & Science             Visual Arts   \n",
       "00001ccc0e81598c4bd86bacb94d7acb     Math & Science             Visual Arts   \n",
       "00001ccc0e81598c4bd86bacb94d7acb     Math & Science             Visual Arts   \n",
       "00001ccc0e81598c4bd86bacb94d7acb     Math & Science             Visual Arts   \n",
       "\n",
       "                                 secondary_focus_area resource_type  \\\n",
       "projectid                                                             \n",
       "00001ccc0e81598c4bd86bacb94d7acb     Music & The Arts      Supplies   \n",
       "00001ccc0e81598c4bd86bacb94d7acb     Music & The Arts      Supplies   \n",
       "00001ccc0e81598c4bd86bacb94d7acb     Music & The Arts      Supplies   \n",
       "00001ccc0e81598c4bd86bacb94d7acb     Music & The Arts      Supplies   \n",
       "00001ccc0e81598c4bd86bacb94d7acb     Music & The Arts      Supplies   \n",
       "\n",
       "                                    poverty_level    grade_level donor_city  \\\n",
       "projectid                                                                     \n",
       "00001ccc0e81598c4bd86bacb94d7acb  highest poverty  Grades PreK-2    Chicago   \n",
       "00001ccc0e81598c4bd86bacb94d7acb  highest poverty  Grades PreK-2    Chicago   \n",
       "00001ccc0e81598c4bd86bacb94d7acb  highest poverty  Grades PreK-2    Chicago   \n",
       "00001ccc0e81598c4bd86bacb94d7acb  highest poverty  Grades PreK-2    Chicago   \n",
       "00001ccc0e81598c4bd86bacb94d7acb  highest poverty  Grades PreK-2    Chicago   \n",
       "\n",
       "                                 donor_state dollar_amount  \\\n",
       "projectid                                                    \n",
       "00001ccc0e81598c4bd86bacb94d7acb          IL      under_10   \n",
       "00001ccc0e81598c4bd86bacb94d7acb          IL      under_10   \n",
       "00001ccc0e81598c4bd86bacb94d7acb          IL      under_10   \n",
       "00001ccc0e81598c4bd86bacb94d7acb          IL      under_10   \n",
       "00001ccc0e81598c4bd86bacb94d7acb          IL      under_10   \n",
       "\n",
       "                                 project_resource_type  \n",
       "projectid                                               \n",
       "00001ccc0e81598c4bd86bacb94d7acb              Supplies  \n",
       "00001ccc0e81598c4bd86bacb94d7acb              Supplies  \n",
       "00001ccc0e81598c4bd86bacb94d7acb              Supplies  \n",
       "00001ccc0e81598c4bd86bacb94d7acb              Supplies  \n",
       "00001ccc0e81598c4bd86bacb94d7acb              Supplies  "
      ]
     },
     "execution_count": 31,
     "metadata": {},
     "output_type": "execute_result"
    }
   ],
   "source": [
    "def check_not_numberic(df):\n",
    "    check_df = df.applymap(lambda x: isinstance(x, (int, float)))\n",
    "    return [col for col in check_df.columns if any(check_df[col] == False) and col != 'date_posted']\n",
    "str_cols = check_not_numberic(df)\n",
    "df[str_cols].head()"
   ]
  },
  {
   "cell_type": "code",
   "execution_count": 32,
   "metadata": {},
   "outputs": [
    {
     "data": {
      "text/html": [
       "<div>\n",
       "<style scoped>\n",
       "    .dataframe tbody tr th:only-of-type {\n",
       "        vertical-align: middle;\n",
       "    }\n",
       "\n",
       "    .dataframe tbody tr th {\n",
       "        vertical-align: top;\n",
       "    }\n",
       "\n",
       "    .dataframe thead th {\n",
       "        text-align: right;\n",
       "    }\n",
       "</style>\n",
       "<table border=\"1\" class=\"dataframe\">\n",
       "  <thead>\n",
       "    <tr style=\"text-align: right;\">\n",
       "      <th></th>\n",
       "      <th>school_city</th>\n",
       "      <th>school_state</th>\n",
       "      <th>school_district</th>\n",
       "      <th>school_county</th>\n",
       "      <th>school_charter</th>\n",
       "      <th>school_magnet</th>\n",
       "      <th>school_year_round</th>\n",
       "      <th>school_nlns</th>\n",
       "      <th>school_kipp</th>\n",
       "      <th>school_charter_ready_promise</th>\n",
       "      <th>...</th>\n",
       "      <th>donation_included_optional_support</th>\n",
       "      <th>payment_included_acct_credit</th>\n",
       "      <th>payment_included_campaign_gift_card</th>\n",
       "      <th>payment_included_web_purchased_gift_card</th>\n",
       "      <th>payment_was_promo_matched</th>\n",
       "      <th>via_giving_page</th>\n",
       "      <th>for_honoree</th>\n",
       "      <th>project_resource_type</th>\n",
       "      <th>item_unit_price</th>\n",
       "      <th>item_quantity</th>\n",
       "    </tr>\n",
       "    <tr>\n",
       "      <th>projectid</th>\n",
       "      <th></th>\n",
       "      <th></th>\n",
       "      <th></th>\n",
       "      <th></th>\n",
       "      <th></th>\n",
       "      <th></th>\n",
       "      <th></th>\n",
       "      <th></th>\n",
       "      <th></th>\n",
       "      <th></th>\n",
       "      <th></th>\n",
       "      <th></th>\n",
       "      <th></th>\n",
       "      <th></th>\n",
       "      <th></th>\n",
       "      <th></th>\n",
       "      <th></th>\n",
       "      <th></th>\n",
       "      <th></th>\n",
       "      <th></th>\n",
       "      <th></th>\n",
       "    </tr>\n",
       "  </thead>\n",
       "  <tbody>\n",
       "    <tr>\n",
       "      <th>00001ccc0e81598c4bd86bacb94d7acb</th>\n",
       "      <td>1375</td>\n",
       "      <td>14</td>\n",
       "      <td>6165</td>\n",
       "      <td>362</td>\n",
       "      <td>0</td>\n",
       "      <td>0</td>\n",
       "      <td>0</td>\n",
       "      <td>0</td>\n",
       "      <td>0</td>\n",
       "      <td>0</td>\n",
       "      <td>...</td>\n",
       "      <td>1.0</td>\n",
       "      <td>0.0</td>\n",
       "      <td>0.0</td>\n",
       "      <td>0.0</td>\n",
       "      <td>1.0</td>\n",
       "      <td>0.0</td>\n",
       "      <td>0.0</td>\n",
       "      <td>2</td>\n",
       "      <td>3.99</td>\n",
       "      <td>2.0</td>\n",
       "    </tr>\n",
       "    <tr>\n",
       "      <th>00001ccc0e81598c4bd86bacb94d7acb</th>\n",
       "      <td>1375</td>\n",
       "      <td>14</td>\n",
       "      <td>6165</td>\n",
       "      <td>362</td>\n",
       "      <td>0</td>\n",
       "      <td>0</td>\n",
       "      <td>0</td>\n",
       "      <td>0</td>\n",
       "      <td>0</td>\n",
       "      <td>0</td>\n",
       "      <td>...</td>\n",
       "      <td>1.0</td>\n",
       "      <td>0.0</td>\n",
       "      <td>0.0</td>\n",
       "      <td>0.0</td>\n",
       "      <td>1.0</td>\n",
       "      <td>0.0</td>\n",
       "      <td>0.0</td>\n",
       "      <td>2</td>\n",
       "      <td>9.99</td>\n",
       "      <td>1.0</td>\n",
       "    </tr>\n",
       "    <tr>\n",
       "      <th>00001ccc0e81598c4bd86bacb94d7acb</th>\n",
       "      <td>1375</td>\n",
       "      <td>14</td>\n",
       "      <td>6165</td>\n",
       "      <td>362</td>\n",
       "      <td>0</td>\n",
       "      <td>0</td>\n",
       "      <td>0</td>\n",
       "      <td>0</td>\n",
       "      <td>0</td>\n",
       "      <td>0</td>\n",
       "      <td>...</td>\n",
       "      <td>1.0</td>\n",
       "      <td>0.0</td>\n",
       "      <td>0.0</td>\n",
       "      <td>0.0</td>\n",
       "      <td>1.0</td>\n",
       "      <td>0.0</td>\n",
       "      <td>0.0</td>\n",
       "      <td>2</td>\n",
       "      <td>29.99</td>\n",
       "      <td>1.0</td>\n",
       "    </tr>\n",
       "    <tr>\n",
       "      <th>00001ccc0e81598c4bd86bacb94d7acb</th>\n",
       "      <td>1375</td>\n",
       "      <td>14</td>\n",
       "      <td>6165</td>\n",
       "      <td>362</td>\n",
       "      <td>0</td>\n",
       "      <td>0</td>\n",
       "      <td>0</td>\n",
       "      <td>0</td>\n",
       "      <td>0</td>\n",
       "      <td>0</td>\n",
       "      <td>...</td>\n",
       "      <td>1.0</td>\n",
       "      <td>0.0</td>\n",
       "      <td>0.0</td>\n",
       "      <td>0.0</td>\n",
       "      <td>1.0</td>\n",
       "      <td>0.0</td>\n",
       "      <td>0.0</td>\n",
       "      <td>2</td>\n",
       "      <td>7.99</td>\n",
       "      <td>6.0</td>\n",
       "    </tr>\n",
       "    <tr>\n",
       "      <th>00001ccc0e81598c4bd86bacb94d7acb</th>\n",
       "      <td>1375</td>\n",
       "      <td>14</td>\n",
       "      <td>6165</td>\n",
       "      <td>362</td>\n",
       "      <td>0</td>\n",
       "      <td>0</td>\n",
       "      <td>0</td>\n",
       "      <td>0</td>\n",
       "      <td>0</td>\n",
       "      <td>0</td>\n",
       "      <td>...</td>\n",
       "      <td>1.0</td>\n",
       "      <td>0.0</td>\n",
       "      <td>0.0</td>\n",
       "      <td>0.0</td>\n",
       "      <td>1.0</td>\n",
       "      <td>0.0</td>\n",
       "      <td>0.0</td>\n",
       "      <td>2</td>\n",
       "      <td>12.99</td>\n",
       "      <td>2.0</td>\n",
       "    </tr>\n",
       "  </tbody>\n",
       "</table>\n",
       "<p>5 rows × 56 columns</p>\n",
       "</div>"
      ],
      "text/plain": [
       "                                  school_city  school_state  school_district  \\\n",
       "projectid                                                                      \n",
       "00001ccc0e81598c4bd86bacb94d7acb         1375            14             6165   \n",
       "00001ccc0e81598c4bd86bacb94d7acb         1375            14             6165   \n",
       "00001ccc0e81598c4bd86bacb94d7acb         1375            14             6165   \n",
       "00001ccc0e81598c4bd86bacb94d7acb         1375            14             6165   \n",
       "00001ccc0e81598c4bd86bacb94d7acb         1375            14             6165   \n",
       "\n",
       "                                  school_county  school_charter  \\\n",
       "projectid                                                         \n",
       "00001ccc0e81598c4bd86bacb94d7acb            362               0   \n",
       "00001ccc0e81598c4bd86bacb94d7acb            362               0   \n",
       "00001ccc0e81598c4bd86bacb94d7acb            362               0   \n",
       "00001ccc0e81598c4bd86bacb94d7acb            362               0   \n",
       "00001ccc0e81598c4bd86bacb94d7acb            362               0   \n",
       "\n",
       "                                  school_magnet  school_year_round  \\\n",
       "projectid                                                            \n",
       "00001ccc0e81598c4bd86bacb94d7acb              0                  0   \n",
       "00001ccc0e81598c4bd86bacb94d7acb              0                  0   \n",
       "00001ccc0e81598c4bd86bacb94d7acb              0                  0   \n",
       "00001ccc0e81598c4bd86bacb94d7acb              0                  0   \n",
       "00001ccc0e81598c4bd86bacb94d7acb              0                  0   \n",
       "\n",
       "                                  school_nlns  school_kipp  \\\n",
       "projectid                                                    \n",
       "00001ccc0e81598c4bd86bacb94d7acb            0            0   \n",
       "00001ccc0e81598c4bd86bacb94d7acb            0            0   \n",
       "00001ccc0e81598c4bd86bacb94d7acb            0            0   \n",
       "00001ccc0e81598c4bd86bacb94d7acb            0            0   \n",
       "00001ccc0e81598c4bd86bacb94d7acb            0            0   \n",
       "\n",
       "                                  school_charter_ready_promise      ...        \\\n",
       "projectid                                                           ...         \n",
       "00001ccc0e81598c4bd86bacb94d7acb                             0      ...         \n",
       "00001ccc0e81598c4bd86bacb94d7acb                             0      ...         \n",
       "00001ccc0e81598c4bd86bacb94d7acb                             0      ...         \n",
       "00001ccc0e81598c4bd86bacb94d7acb                             0      ...         \n",
       "00001ccc0e81598c4bd86bacb94d7acb                             0      ...         \n",
       "\n",
       "                                  donation_included_optional_support  \\\n",
       "projectid                                                              \n",
       "00001ccc0e81598c4bd86bacb94d7acb                                 1.0   \n",
       "00001ccc0e81598c4bd86bacb94d7acb                                 1.0   \n",
       "00001ccc0e81598c4bd86bacb94d7acb                                 1.0   \n",
       "00001ccc0e81598c4bd86bacb94d7acb                                 1.0   \n",
       "00001ccc0e81598c4bd86bacb94d7acb                                 1.0   \n",
       "\n",
       "                                  payment_included_acct_credit  \\\n",
       "projectid                                                        \n",
       "00001ccc0e81598c4bd86bacb94d7acb                           0.0   \n",
       "00001ccc0e81598c4bd86bacb94d7acb                           0.0   \n",
       "00001ccc0e81598c4bd86bacb94d7acb                           0.0   \n",
       "00001ccc0e81598c4bd86bacb94d7acb                           0.0   \n",
       "00001ccc0e81598c4bd86bacb94d7acb                           0.0   \n",
       "\n",
       "                                  payment_included_campaign_gift_card  \\\n",
       "projectid                                                               \n",
       "00001ccc0e81598c4bd86bacb94d7acb                                  0.0   \n",
       "00001ccc0e81598c4bd86bacb94d7acb                                  0.0   \n",
       "00001ccc0e81598c4bd86bacb94d7acb                                  0.0   \n",
       "00001ccc0e81598c4bd86bacb94d7acb                                  0.0   \n",
       "00001ccc0e81598c4bd86bacb94d7acb                                  0.0   \n",
       "\n",
       "                                  payment_included_web_purchased_gift_card  \\\n",
       "projectid                                                                    \n",
       "00001ccc0e81598c4bd86bacb94d7acb                                       0.0   \n",
       "00001ccc0e81598c4bd86bacb94d7acb                                       0.0   \n",
       "00001ccc0e81598c4bd86bacb94d7acb                                       0.0   \n",
       "00001ccc0e81598c4bd86bacb94d7acb                                       0.0   \n",
       "00001ccc0e81598c4bd86bacb94d7acb                                       0.0   \n",
       "\n",
       "                                  payment_was_promo_matched  via_giving_page  \\\n",
       "projectid                                                                      \n",
       "00001ccc0e81598c4bd86bacb94d7acb                        1.0              0.0   \n",
       "00001ccc0e81598c4bd86bacb94d7acb                        1.0              0.0   \n",
       "00001ccc0e81598c4bd86bacb94d7acb                        1.0              0.0   \n",
       "00001ccc0e81598c4bd86bacb94d7acb                        1.0              0.0   \n",
       "00001ccc0e81598c4bd86bacb94d7acb                        1.0              0.0   \n",
       "\n",
       "                                  for_honoree  project_resource_type  \\\n",
       "projectid                                                              \n",
       "00001ccc0e81598c4bd86bacb94d7acb          0.0                      2   \n",
       "00001ccc0e81598c4bd86bacb94d7acb          0.0                      2   \n",
       "00001ccc0e81598c4bd86bacb94d7acb          0.0                      2   \n",
       "00001ccc0e81598c4bd86bacb94d7acb          0.0                      2   \n",
       "00001ccc0e81598c4bd86bacb94d7acb          0.0                      2   \n",
       "\n",
       "                                  item_unit_price  item_quantity  \n",
       "projectid                                                         \n",
       "00001ccc0e81598c4bd86bacb94d7acb             3.99            2.0  \n",
       "00001ccc0e81598c4bd86bacb94d7acb             9.99            1.0  \n",
       "00001ccc0e81598c4bd86bacb94d7acb            29.99            1.0  \n",
       "00001ccc0e81598c4bd86bacb94d7acb             7.99            6.0  \n",
       "00001ccc0e81598c4bd86bacb94d7acb            12.99            2.0  \n",
       "\n",
       "[5 rows x 56 columns]"
      ]
     },
     "execution_count": 32,
     "metadata": {},
     "output_type": "execute_result"
    }
   ],
   "source": [
    "for col in str_cols:\n",
    "    df[col] = df[col].astype('category').cat.codes\n",
    "\n",
    "df.head()"
   ]
  },
  {
   "cell_type": "markdown",
   "metadata": {},
   "source": [
    "## Check and Fill out missing value"
   ]
  },
  {
   "cell_type": "markdown",
   "metadata": {},
   "source": [
    "A standard and often very good approach is to replace missing values with mean, median and zeros. For numerical values we usually go with mean. If there are some outliers, try median first since it is less sensitive to them."
   ]
  },
  {
   "cell_type": "code",
   "execution_count": 33,
   "metadata": {},
   "outputs": [
    {
     "data": {
      "text/plain": [
       "['fulfillment_labor_materials',\n",
       " 'students_reached',\n",
       " 'at_least_1_teacher_referred_donor',\n",
       " 'at_least_1_green_donation',\n",
       " 'three_or_more_non_teacher_referred_donors',\n",
       " 'one_non_teacher_referred_donor_giving_100_plus',\n",
       " 'donation_from_thoughtful_donor',\n",
       " 'great_messages_proportion',\n",
       " 'teacher_referred_count',\n",
       " 'non_teacher_referred_count',\n",
       " 'donor_zip',\n",
       " 'is_teacher_acct',\n",
       " 'donation_to_project',\n",
       " 'donation_optional_support',\n",
       " 'donation_total',\n",
       " 'donation_included_optional_support',\n",
       " 'payment_included_acct_credit',\n",
       " 'payment_included_campaign_gift_card',\n",
       " 'payment_included_web_purchased_gift_card',\n",
       " 'payment_was_promo_matched',\n",
       " 'via_giving_page',\n",
       " 'for_honoree',\n",
       " 'item_unit_price',\n",
       " 'item_quantity']"
      ]
     },
     "execution_count": 33,
     "metadata": {},
     "output_type": "execute_result"
    }
   ],
   "source": [
    "def check_missing(df):\n",
    "    return [col for col in df.columns if any(df[col].isnull()) == True]\n",
    "\n",
    "def fill_missing(df, col_name, method):\n",
    "    if method == 'mean':\n",
    "        df[col_name] = df[col_name].fillna(df[col_name].mean())\n",
    "    elif method == 'median':\n",
    "        df[col_name] = df[col_name].fillna(df[col_name].median())\n",
    "    elif method == 'zero':\n",
    "        df[col_name] = df[col_name].fillna(0)\n",
    "        \n",
    "missing_cols = check_missing(df)\n",
    "missing_cols"
   ]
  },
  {
   "cell_type": "code",
   "execution_count": 34,
   "metadata": {},
   "outputs": [
    {
     "data": {
      "text/plain": [
       "[]"
      ]
     },
     "execution_count": 34,
     "metadata": {},
     "output_type": "execute_result"
    }
   ],
   "source": [
    "for col in missing_cols:\n",
    "    fill_missing(df, col, 'mean')\n",
    "check_missing(df)"
   ]
  },
  {
   "cell_type": "markdown",
   "metadata": {},
   "source": [
    "As we can see, there is no missing values."
   ]
  },
  {
   "cell_type": "markdown",
   "metadata": {},
   "source": [
    "## Drop out outliers"
   ]
  },
  {
   "cell_type": "markdown",
   "metadata": {},
   "source": [
    "The impact of outliers could be not only seen in predictive modeling but also in statistical tests where it reduced the power of tests. Most paremetric statistics like means, standard deviations and correlations, and every statistics based on these, are highly sensitive to outliers. We care for the impact of outliers in predictivae modeling in this case.\n",
    "\n",
    "From the statistics below, in order to get a better fit and more general solutions, we first detecting outliers, and then use '(data - mean) < 3 * std' to determine whether to drop these outliers."
   ]
  },
  {
   "cell_type": "code",
   "execution_count": 35,
   "metadata": {},
   "outputs": [
    {
     "data": {
      "text/html": [
       "<div>\n",
       "<style scoped>\n",
       "    .dataframe tbody tr th:only-of-type {\n",
       "        vertical-align: middle;\n",
       "    }\n",
       "\n",
       "    .dataframe tbody tr th {\n",
       "        vertical-align: top;\n",
       "    }\n",
       "\n",
       "    .dataframe thead th {\n",
       "        text-align: right;\n",
       "    }\n",
       "</style>\n",
       "<table border=\"1\" class=\"dataframe\">\n",
       "  <thead>\n",
       "    <tr style=\"text-align: right;\">\n",
       "      <th></th>\n",
       "      <th>school_city</th>\n",
       "      <th>school_state</th>\n",
       "      <th>school_district</th>\n",
       "      <th>school_county</th>\n",
       "      <th>school_charter</th>\n",
       "      <th>school_magnet</th>\n",
       "      <th>school_year_round</th>\n",
       "      <th>school_nlns</th>\n",
       "      <th>school_kipp</th>\n",
       "      <th>school_charter_ready_promise</th>\n",
       "      <th>...</th>\n",
       "      <th>donation_included_optional_support</th>\n",
       "      <th>payment_included_acct_credit</th>\n",
       "      <th>payment_included_campaign_gift_card</th>\n",
       "      <th>payment_included_web_purchased_gift_card</th>\n",
       "      <th>payment_was_promo_matched</th>\n",
       "      <th>via_giving_page</th>\n",
       "      <th>for_honoree</th>\n",
       "      <th>project_resource_type</th>\n",
       "      <th>item_unit_price</th>\n",
       "      <th>item_quantity</th>\n",
       "    </tr>\n",
       "  </thead>\n",
       "  <tbody>\n",
       "    <tr>\n",
       "      <th>count</th>\n",
       "      <td>1.843255e+07</td>\n",
       "      <td>1.843255e+07</td>\n",
       "      <td>1.843255e+07</td>\n",
       "      <td>1.843255e+07</td>\n",
       "      <td>1.843255e+07</td>\n",
       "      <td>1.843255e+07</td>\n",
       "      <td>1.843255e+07</td>\n",
       "      <td>1.843255e+07</td>\n",
       "      <td>1.843255e+07</td>\n",
       "      <td>1.843255e+07</td>\n",
       "      <td>...</td>\n",
       "      <td>1.843255e+07</td>\n",
       "      <td>1.843255e+07</td>\n",
       "      <td>1.843255e+07</td>\n",
       "      <td>1.843255e+07</td>\n",
       "      <td>1.843255e+07</td>\n",
       "      <td>1.843255e+07</td>\n",
       "      <td>1.843255e+07</td>\n",
       "      <td>1.843255e+07</td>\n",
       "      <td>1.843255e+07</td>\n",
       "      <td>1.843255e+07</td>\n",
       "    </tr>\n",
       "    <tr>\n",
       "      <th>mean</th>\n",
       "      <td>4.240452e+03</td>\n",
       "      <td>2.186751e+01</td>\n",
       "      <td>4.389053e+03</td>\n",
       "      <td>8.200306e+02</td>\n",
       "      <td>1.137833e-01</td>\n",
       "      <td>9.239753e-02</td>\n",
       "      <td>4.903939e-02</td>\n",
       "      <td>1.855213e-02</td>\n",
       "      <td>1.029147e-02</td>\n",
       "      <td>8.375727e-03</td>\n",
       "      <td>...</td>\n",
       "      <td>9.026181e-01</td>\n",
       "      <td>1.058346e-01</td>\n",
       "      <td>3.298466e-01</td>\n",
       "      <td>5.361745e-02</td>\n",
       "      <td>7.954150e-02</td>\n",
       "      <td>3.389813e-01</td>\n",
       "      <td>2.109519e-02</td>\n",
       "      <td>1.181595e+00</td>\n",
       "      <td>5.732360e+01</td>\n",
       "      <td>2.966075e+00</td>\n",
       "    </tr>\n",
       "    <tr>\n",
       "      <th>std</th>\n",
       "      <td>2.515649e+03</td>\n",
       "      <td>1.523012e+01</td>\n",
       "      <td>2.315285e+03</td>\n",
       "      <td>4.292943e+02</td>\n",
       "      <td>3.175479e-01</td>\n",
       "      <td>2.895863e-01</td>\n",
       "      <td>2.159503e-01</td>\n",
       "      <td>1.349368e-01</td>\n",
       "      <td>1.009235e-01</td>\n",
       "      <td>9.113492e-02</td>\n",
       "      <td>...</td>\n",
       "      <td>2.932332e-01</td>\n",
       "      <td>3.042600e-01</td>\n",
       "      <td>4.650131e-01</td>\n",
       "      <td>2.227966e-01</td>\n",
       "      <td>2.676215e-01</td>\n",
       "      <td>4.681843e-01</td>\n",
       "      <td>1.421295e-01</td>\n",
       "      <td>1.140603e+00</td>\n",
       "      <td>2.362031e+03</td>\n",
       "      <td>1.038708e+01</td>\n",
       "    </tr>\n",
       "    <tr>\n",
       "      <th>min</th>\n",
       "      <td>0.000000e+00</td>\n",
       "      <td>0.000000e+00</td>\n",
       "      <td>-1.000000e+00</td>\n",
       "      <td>-1.000000e+00</td>\n",
       "      <td>0.000000e+00</td>\n",
       "      <td>0.000000e+00</td>\n",
       "      <td>0.000000e+00</td>\n",
       "      <td>0.000000e+00</td>\n",
       "      <td>0.000000e+00</td>\n",
       "      <td>0.000000e+00</td>\n",
       "      <td>...</td>\n",
       "      <td>0.000000e+00</td>\n",
       "      <td>0.000000e+00</td>\n",
       "      <td>0.000000e+00</td>\n",
       "      <td>0.000000e+00</td>\n",
       "      <td>0.000000e+00</td>\n",
       "      <td>0.000000e+00</td>\n",
       "      <td>0.000000e+00</td>\n",
       "      <td>-1.000000e+00</td>\n",
       "      <td>-9.960000e+01</td>\n",
       "      <td>0.000000e+00</td>\n",
       "    </tr>\n",
       "    <tr>\n",
       "      <th>25%</th>\n",
       "      <td>1.725000e+03</td>\n",
       "      <td>6.000000e+00</td>\n",
       "      <td>2.504000e+03</td>\n",
       "      <td>4.480000e+02</td>\n",
       "      <td>0.000000e+00</td>\n",
       "      <td>0.000000e+00</td>\n",
       "      <td>0.000000e+00</td>\n",
       "      <td>0.000000e+00</td>\n",
       "      <td>0.000000e+00</td>\n",
       "      <td>0.000000e+00</td>\n",
       "      <td>...</td>\n",
       "      <td>1.000000e+00</td>\n",
       "      <td>0.000000e+00</td>\n",
       "      <td>0.000000e+00</td>\n",
       "      <td>0.000000e+00</td>\n",
       "      <td>0.000000e+00</td>\n",
       "      <td>0.000000e+00</td>\n",
       "      <td>0.000000e+00</td>\n",
       "      <td>0.000000e+00</td>\n",
       "      <td>6.290000e+00</td>\n",
       "      <td>1.000000e+00</td>\n",
       "    </tr>\n",
       "    <tr>\n",
       "      <th>50%</th>\n",
       "      <td>4.477000e+03</td>\n",
       "      <td>2.000000e+01</td>\n",
       "      <td>4.505000e+03</td>\n",
       "      <td>8.930000e+02</td>\n",
       "      <td>0.000000e+00</td>\n",
       "      <td>0.000000e+00</td>\n",
       "      <td>0.000000e+00</td>\n",
       "      <td>0.000000e+00</td>\n",
       "      <td>0.000000e+00</td>\n",
       "      <td>0.000000e+00</td>\n",
       "      <td>...</td>\n",
       "      <td>1.000000e+00</td>\n",
       "      <td>0.000000e+00</td>\n",
       "      <td>0.000000e+00</td>\n",
       "      <td>0.000000e+00</td>\n",
       "      <td>0.000000e+00</td>\n",
       "      <td>0.000000e+00</td>\n",
       "      <td>0.000000e+00</td>\n",
       "      <td>1.000000e+00</td>\n",
       "      <td>1.386000e+01</td>\n",
       "      <td>1.000000e+00</td>\n",
       "    </tr>\n",
       "    <tr>\n",
       "      <th>75%</th>\n",
       "      <td>6.458000e+03</td>\n",
       "      <td>3.500000e+01</td>\n",
       "      <td>6.014000e+03</td>\n",
       "      <td>1.122000e+03</td>\n",
       "      <td>0.000000e+00</td>\n",
       "      <td>0.000000e+00</td>\n",
       "      <td>0.000000e+00</td>\n",
       "      <td>0.000000e+00</td>\n",
       "      <td>0.000000e+00</td>\n",
       "      <td>0.000000e+00</td>\n",
       "      <td>...</td>\n",
       "      <td>1.000000e+00</td>\n",
       "      <td>0.000000e+00</td>\n",
       "      <td>1.000000e+00</td>\n",
       "      <td>0.000000e+00</td>\n",
       "      <td>0.000000e+00</td>\n",
       "      <td>1.000000e+00</td>\n",
       "      <td>0.000000e+00</td>\n",
       "      <td>2.000000e+00</td>\n",
       "      <td>3.636000e+01</td>\n",
       "      <td>2.000000e+00</td>\n",
       "    </tr>\n",
       "    <tr>\n",
       "      <th>max</th>\n",
       "      <td>8.799000e+03</td>\n",
       "      <td>5.000000e+01</td>\n",
       "      <td>9.024000e+03</td>\n",
       "      <td>1.686000e+03</td>\n",
       "      <td>1.000000e+00</td>\n",
       "      <td>1.000000e+00</td>\n",
       "      <td>1.000000e+00</td>\n",
       "      <td>1.000000e+00</td>\n",
       "      <td>1.000000e+00</td>\n",
       "      <td>1.000000e+00</td>\n",
       "      <td>...</td>\n",
       "      <td>1.000000e+00</td>\n",
       "      <td>1.000000e+00</td>\n",
       "      <td>1.000000e+00</td>\n",
       "      <td>1.000000e+00</td>\n",
       "      <td>1.000000e+00</td>\n",
       "      <td>1.000000e+00</td>\n",
       "      <td>1.000000e+00</td>\n",
       "      <td>5.000000e+00</td>\n",
       "      <td>1.000000e+07</td>\n",
       "      <td>1.050000e+04</td>\n",
       "    </tr>\n",
       "  </tbody>\n",
       "</table>\n",
       "<p>8 rows × 55 columns</p>\n",
       "</div>"
      ],
      "text/plain": [
       "        school_city  school_state  school_district  school_county  \\\n",
       "count  1.843255e+07  1.843255e+07     1.843255e+07   1.843255e+07   \n",
       "mean   4.240452e+03  2.186751e+01     4.389053e+03   8.200306e+02   \n",
       "std    2.515649e+03  1.523012e+01     2.315285e+03   4.292943e+02   \n",
       "min    0.000000e+00  0.000000e+00    -1.000000e+00  -1.000000e+00   \n",
       "25%    1.725000e+03  6.000000e+00     2.504000e+03   4.480000e+02   \n",
       "50%    4.477000e+03  2.000000e+01     4.505000e+03   8.930000e+02   \n",
       "75%    6.458000e+03  3.500000e+01     6.014000e+03   1.122000e+03   \n",
       "max    8.799000e+03  5.000000e+01     9.024000e+03   1.686000e+03   \n",
       "\n",
       "       school_charter  school_magnet  school_year_round   school_nlns  \\\n",
       "count    1.843255e+07   1.843255e+07       1.843255e+07  1.843255e+07   \n",
       "mean     1.137833e-01   9.239753e-02       4.903939e-02  1.855213e-02   \n",
       "std      3.175479e-01   2.895863e-01       2.159503e-01  1.349368e-01   \n",
       "min      0.000000e+00   0.000000e+00       0.000000e+00  0.000000e+00   \n",
       "25%      0.000000e+00   0.000000e+00       0.000000e+00  0.000000e+00   \n",
       "50%      0.000000e+00   0.000000e+00       0.000000e+00  0.000000e+00   \n",
       "75%      0.000000e+00   0.000000e+00       0.000000e+00  0.000000e+00   \n",
       "max      1.000000e+00   1.000000e+00       1.000000e+00  1.000000e+00   \n",
       "\n",
       "        school_kipp  school_charter_ready_promise      ...        \\\n",
       "count  1.843255e+07                  1.843255e+07      ...         \n",
       "mean   1.029147e-02                  8.375727e-03      ...         \n",
       "std    1.009235e-01                  9.113492e-02      ...         \n",
       "min    0.000000e+00                  0.000000e+00      ...         \n",
       "25%    0.000000e+00                  0.000000e+00      ...         \n",
       "50%    0.000000e+00                  0.000000e+00      ...         \n",
       "75%    0.000000e+00                  0.000000e+00      ...         \n",
       "max    1.000000e+00                  1.000000e+00      ...         \n",
       "\n",
       "       donation_included_optional_support  payment_included_acct_credit  \\\n",
       "count                        1.843255e+07                  1.843255e+07   \n",
       "mean                         9.026181e-01                  1.058346e-01   \n",
       "std                          2.932332e-01                  3.042600e-01   \n",
       "min                          0.000000e+00                  0.000000e+00   \n",
       "25%                          1.000000e+00                  0.000000e+00   \n",
       "50%                          1.000000e+00                  0.000000e+00   \n",
       "75%                          1.000000e+00                  0.000000e+00   \n",
       "max                          1.000000e+00                  1.000000e+00   \n",
       "\n",
       "       payment_included_campaign_gift_card  \\\n",
       "count                         1.843255e+07   \n",
       "mean                          3.298466e-01   \n",
       "std                           4.650131e-01   \n",
       "min                           0.000000e+00   \n",
       "25%                           0.000000e+00   \n",
       "50%                           0.000000e+00   \n",
       "75%                           1.000000e+00   \n",
       "max                           1.000000e+00   \n",
       "\n",
       "       payment_included_web_purchased_gift_card  payment_was_promo_matched  \\\n",
       "count                              1.843255e+07               1.843255e+07   \n",
       "mean                               5.361745e-02               7.954150e-02   \n",
       "std                                2.227966e-01               2.676215e-01   \n",
       "min                                0.000000e+00               0.000000e+00   \n",
       "25%                                0.000000e+00               0.000000e+00   \n",
       "50%                                0.000000e+00               0.000000e+00   \n",
       "75%                                0.000000e+00               0.000000e+00   \n",
       "max                                1.000000e+00               1.000000e+00   \n",
       "\n",
       "       via_giving_page   for_honoree  project_resource_type  item_unit_price  \\\n",
       "count     1.843255e+07  1.843255e+07           1.843255e+07     1.843255e+07   \n",
       "mean      3.389813e-01  2.109519e-02           1.181595e+00     5.732360e+01   \n",
       "std       4.681843e-01  1.421295e-01           1.140603e+00     2.362031e+03   \n",
       "min       0.000000e+00  0.000000e+00          -1.000000e+00    -9.960000e+01   \n",
       "25%       0.000000e+00  0.000000e+00           0.000000e+00     6.290000e+00   \n",
       "50%       0.000000e+00  0.000000e+00           1.000000e+00     1.386000e+01   \n",
       "75%       1.000000e+00  0.000000e+00           2.000000e+00     3.636000e+01   \n",
       "max       1.000000e+00  1.000000e+00           5.000000e+00     1.000000e+07   \n",
       "\n",
       "       item_quantity  \n",
       "count   1.843255e+07  \n",
       "mean    2.966075e+00  \n",
       "std     1.038708e+01  \n",
       "min     0.000000e+00  \n",
       "25%     1.000000e+00  \n",
       "50%     1.000000e+00  \n",
       "75%     2.000000e+00  \n",
       "max     1.050000e+04  \n",
       "\n",
       "[8 rows x 55 columns]"
      ]
     },
     "execution_count": 35,
     "metadata": {},
     "output_type": "execute_result"
    }
   ],
   "source": [
    "df.describe()"
   ]
  },
  {
   "cell_type": "code",
   "execution_count": 36,
   "metadata": {},
   "outputs": [
    {
     "data": {
      "text/plain": [
       "[('donation_included_optional_support', 1755932), ('school_magnet', 1703122)]"
      ]
     },
     "execution_count": 36,
     "metadata": {},
     "output_type": "execute_result"
    }
   ],
   "source": [
    "def find_outliers(df, col):\n",
    "    return df[((df[col] - df[col].mean()) / df[col].std()).abs() >= 3]\n",
    "\n",
    "def find_all_outliers(df):\n",
    "    counter = []\n",
    "    for f in df.columns:\n",
    "        if f != 'date_posted':\n",
    "            counter.append((f, len(find_outliers(df, f))))\n",
    "    counter.sort(key=lambda x: x[1], reverse=True)\n",
    "    counter = counter[:2]\n",
    "    return counter\n",
    "        \n",
    "cols = find_all_outliers(df)\n",
    "cols"
   ]
  },
  {
   "cell_type": "code",
   "execution_count": 37,
   "metadata": {},
   "outputs": [
    {
     "name": "stdout",
     "output_type": "stream",
     "text": [
      "drop out 3294125 outliers\n"
     ]
    }
   ],
   "source": [
    "# use (data - mean) < 3 * std to determine whether to drop\n",
    "def drop_outliers(df, col):\n",
    "    return df[((df[col] - df[col].mean()) / df[col].std()).abs() < 3]\n",
    "old_len = len(df)\n",
    "for f, _ in cols:\n",
    "    df = drop_outliers(df, f)\n",
    "\n",
    "print('drop out {} outliers'.format(old_len - len(df)))"
   ]
  },
  {
   "cell_type": "markdown",
   "metadata": {},
   "source": [
    "# Step 4: Generate Features"
   ]
  },
  {
   "cell_type": "markdown",
   "metadata": {},
   "source": [
    "There are 54 variables in our data. Unneeded, irrelevant and redundant attributes from data that do not contribute to the accuracy of a predictive model or may in fact decrease the accuracy of the model. In order to find variables that most contribute to the prediction variable, we first plot and rank features importance through Decision Tree. This step will help us reduce overfitting problem, improve accuracy and reduce training time."
   ]
  },
  {
   "cell_type": "code",
   "execution_count": 38,
   "metadata": {},
   "outputs": [
    {
     "data": {
      "image/png": "[encoded data removed]",
      "text/plain": [
       "<Figure size 576x864 with 1 Axes>"
      ]
     },
     "metadata": {},
     "output_type": "display_data"
    }
   ],
   "source": [
    "def sort_features_through_dt(df_features, df_label):\n",
    "    features = df_features.columns\n",
    "    model = DecisionTreeClassifier()\n",
    "    model.fit(df_features, df_label)\n",
    "    importances = model.feature_importances_\n",
    "    sorted_idx = np.argsort(importances)\n",
    "    padding = np.arange(len(features)) + 0.5\n",
    "    plt.figure(figsize=(8, 12))\n",
    "    plt.barh(padding, importances[sorted_idx], align='center')\n",
    "    plt.yticks(padding, np.asarray(features)[sorted_idx])\n",
    "    plt.xlabel(\"Relative Importance\")\n",
    "    plt.title(\"Features Importance Through DT\")\n",
    "    \n",
    "    return list(np.asarray(features)[sorted_idx][::-1])\n",
    "\n",
    "df['fully_funded'] = df['fully_funded'].astype('int')\n",
    "df['fully_funded'] = 1 - df['fully_funded']\n",
    "all_x= df.drop(['date_posted', 'fully_funded'], axis=1)\n",
    "all_y = df['fully_funded']\n",
    "\n",
    "sorted_train_features = sort_features_through_dt(all_x, all_y)"
   ]
  },
  {
   "cell_type": "markdown",
   "metadata": {},
   "source": [
    "As a result there are the top 17 features in the analysis given the feature importance ranking. "
   ]
  },
  {
   "cell_type": "code",
   "execution_count": 39,
   "metadata": {},
   "outputs": [
    {
     "data": {
      "text/html": [
       "<div>\n",
       "<style scoped>\n",
       "    .dataframe tbody tr th:only-of-type {\n",
       "        vertical-align: middle;\n",
       "    }\n",
       "\n",
       "    .dataframe tbody tr th {\n",
       "        vertical-align: top;\n",
       "    }\n",
       "\n",
       "    .dataframe thead th {\n",
       "        text-align: right;\n",
       "    }\n",
       "</style>\n",
       "<table border=\"1\" class=\"dataframe\">\n",
       "  <thead>\n",
       "    <tr style=\"text-align: right;\">\n",
       "      <th></th>\n",
       "      <th>donation_included_optional_support</th>\n",
       "      <th>non_teacher_referred_count</th>\n",
       "      <th>total_price_including_optional_support</th>\n",
       "      <th>item_unit_price</th>\n",
       "      <th>total_price_excluding_optional_support</th>\n",
       "      <th>school_district</th>\n",
       "      <th>great_messages_proportion</th>\n",
       "      <th>school_city</th>\n",
       "      <th>school_county</th>\n",
       "      <th>students_reached</th>\n",
       "      <th>teacher_referred_count</th>\n",
       "      <th>school_state</th>\n",
       "      <th>donor_zip</th>\n",
       "      <th>donor_state</th>\n",
       "      <th>donation_to_project</th>\n",
       "      <th>donation_optional_support</th>\n",
       "      <th>one_non_teacher_referred_donor_giving_100_plus</th>\n",
       "    </tr>\n",
       "    <tr>\n",
       "      <th>projectid</th>\n",
       "      <th></th>\n",
       "      <th></th>\n",
       "      <th></th>\n",
       "      <th></th>\n",
       "      <th></th>\n",
       "      <th></th>\n",
       "      <th></th>\n",
       "      <th></th>\n",
       "      <th></th>\n",
       "      <th></th>\n",
       "      <th></th>\n",
       "      <th></th>\n",
       "      <th></th>\n",
       "      <th></th>\n",
       "      <th></th>\n",
       "      <th></th>\n",
       "      <th></th>\n",
       "    </tr>\n",
       "  </thead>\n",
       "  <tbody>\n",
       "    <tr>\n",
       "      <th>f31e93845b68cb8f98c7f6a0818b601f</th>\n",
       "      <td>1.0</td>\n",
       "      <td>32.0</td>\n",
       "      <td>690.89</td>\n",
       "      <td>5.12</td>\n",
       "      <td>587.26</td>\n",
       "      <td>4178</td>\n",
       "      <td>60.0</td>\n",
       "      <td>4336</td>\n",
       "      <td>282</td>\n",
       "      <td>25.0</td>\n",
       "      <td>8.0</td>\n",
       "      <td>4</td>\n",
       "      <td>50257.416561</td>\n",
       "      <td>9</td>\n",
       "      <td>2.55</td>\n",
       "      <td>0.45</td>\n",
       "      <td>0.0</td>\n",
       "    </tr>\n",
       "    <tr>\n",
       "      <th>e6ecb283795d0afb2b7de66c116acd19</th>\n",
       "      <td>1.0</td>\n",
       "      <td>6.0</td>\n",
       "      <td>519.07</td>\n",
       "      <td>299.99</td>\n",
       "      <td>441.21</td>\n",
       "      <td>866</td>\n",
       "      <td>83.0</td>\n",
       "      <td>200</td>\n",
       "      <td>38</td>\n",
       "      <td>24.0</td>\n",
       "      <td>0.0</td>\n",
       "      <td>5</td>\n",
       "      <td>12590.000000</td>\n",
       "      <td>41</td>\n",
       "      <td>39.99</td>\n",
       "      <td>7.06</td>\n",
       "      <td>1.0</td>\n",
       "    </tr>\n",
       "    <tr>\n",
       "      <th>296b3f53df62b8c38c1630abb1049550</th>\n",
       "      <td>1.0</td>\n",
       "      <td>4.0</td>\n",
       "      <td>869.49</td>\n",
       "      <td>549.99</td>\n",
       "      <td>739.07</td>\n",
       "      <td>4841</td>\n",
       "      <td>46.0</td>\n",
       "      <td>4949</td>\n",
       "      <td>902</td>\n",
       "      <td>33.0</td>\n",
       "      <td>6.0</td>\n",
       "      <td>4</td>\n",
       "      <td>50257.416561</td>\n",
       "      <td>41</td>\n",
       "      <td>17.00</td>\n",
       "      <td>3.00</td>\n",
       "      <td>1.0</td>\n",
       "    </tr>\n",
       "    <tr>\n",
       "      <th>11001fa11026486d1b848e6ace93e993</th>\n",
       "      <td>1.0</td>\n",
       "      <td>6.0</td>\n",
       "      <td>554.02</td>\n",
       "      <td>6.80</td>\n",
       "      <td>470.92</td>\n",
       "      <td>498</td>\n",
       "      <td>57.0</td>\n",
       "      <td>501</td>\n",
       "      <td>433</td>\n",
       "      <td>90.0</td>\n",
       "      <td>5.0</td>\n",
       "      <td>26</td>\n",
       "      <td>59715.000000</td>\n",
       "      <td>33</td>\n",
       "      <td>34.00</td>\n",
       "      <td>6.00</td>\n",
       "      <td>1.0</td>\n",
       "    </tr>\n",
       "    <tr>\n",
       "      <th>37dc56657c40eef6d85c36d1d77cd742</th>\n",
       "      <td>1.0</td>\n",
       "      <td>7.0</td>\n",
       "      <td>977.28</td>\n",
       "      <td>5.83</td>\n",
       "      <td>830.69</td>\n",
       "      <td>487</td>\n",
       "      <td>75.0</td>\n",
       "      <td>482</td>\n",
       "      <td>1188</td>\n",
       "      <td>30.0</td>\n",
       "      <td>4.0</td>\n",
       "      <td>19</td>\n",
       "      <td>50257.416561</td>\n",
       "      <td>41</td>\n",
       "      <td>85.00</td>\n",
       "      <td>15.00</td>\n",
       "      <td>1.0</td>\n",
       "    </tr>\n",
       "  </tbody>\n",
       "</table>\n",
       "</div>"
      ],
      "text/plain": [
       "                                  donation_included_optional_support  \\\n",
       "projectid                                                              \n",
       "f31e93845b68cb8f98c7f6a0818b601f                                 1.0   \n",
       "e6ecb283795d0afb2b7de66c116acd19                                 1.0   \n",
       "296b3f53df62b8c38c1630abb1049550                                 1.0   \n",
       "11001fa11026486d1b848e6ace93e993                                 1.0   \n",
       "37dc56657c40eef6d85c36d1d77cd742                                 1.0   \n",
       "\n",
       "                                  non_teacher_referred_count  \\\n",
       "projectid                                                      \n",
       "f31e93845b68cb8f98c7f6a0818b601f                        32.0   \n",
       "e6ecb283795d0afb2b7de66c116acd19                         6.0   \n",
       "296b3f53df62b8c38c1630abb1049550                         4.0   \n",
       "11001fa11026486d1b848e6ace93e993                         6.0   \n",
       "37dc56657c40eef6d85c36d1d77cd742                         7.0   \n",
       "\n",
       "                                  total_price_including_optional_support  \\\n",
       "projectid                                                                  \n",
       "f31e93845b68cb8f98c7f6a0818b601f                                  690.89   \n",
       "e6ecb283795d0afb2b7de66c116acd19                                  519.07   \n",
       "296b3f53df62b8c38c1630abb1049550                                  869.49   \n",
       "11001fa11026486d1b848e6ace93e993                                  554.02   \n",
       "37dc56657c40eef6d85c36d1d77cd742                                  977.28   \n",
       "\n",
       "                                  item_unit_price  \\\n",
       "projectid                                           \n",
       "f31e93845b68cb8f98c7f6a0818b601f             5.12   \n",
       "e6ecb283795d0afb2b7de66c116acd19           299.99   \n",
       "296b3f53df62b8c38c1630abb1049550           549.99   \n",
       "11001fa11026486d1b848e6ace93e993             6.80   \n",
       "37dc56657c40eef6d85c36d1d77cd742             5.83   \n",
       "\n",
       "                                  total_price_excluding_optional_support  \\\n",
       "projectid                                                                  \n",
       "f31e93845b68cb8f98c7f6a0818b601f                                  587.26   \n",
       "e6ecb283795d0afb2b7de66c116acd19                                  441.21   \n",
       "296b3f53df62b8c38c1630abb1049550                                  739.07   \n",
       "11001fa11026486d1b848e6ace93e993                                  470.92   \n",
       "37dc56657c40eef6d85c36d1d77cd742                                  830.69   \n",
       "\n",
       "                                  school_district  great_messages_proportion  \\\n",
       "projectid                                                                      \n",
       "f31e93845b68cb8f98c7f6a0818b601f             4178                       60.0   \n",
       "e6ecb283795d0afb2b7de66c116acd19              866                       83.0   \n",
       "296b3f53df62b8c38c1630abb1049550             4841                       46.0   \n",
       "11001fa11026486d1b848e6ace93e993              498                       57.0   \n",
       "37dc56657c40eef6d85c36d1d77cd742              487                       75.0   \n",
       "\n",
       "                                  school_city  school_county  \\\n",
       "projectid                                                      \n",
       "f31e93845b68cb8f98c7f6a0818b601f         4336            282   \n",
       "e6ecb283795d0afb2b7de66c116acd19          200             38   \n",
       "296b3f53df62b8c38c1630abb1049550         4949            902   \n",
       "11001fa11026486d1b848e6ace93e993          501            433   \n",
       "37dc56657c40eef6d85c36d1d77cd742          482           1188   \n",
       "\n",
       "                                  students_reached  teacher_referred_count  \\\n",
       "projectid                                                                    \n",
       "f31e93845b68cb8f98c7f6a0818b601f              25.0                     8.0   \n",
       "e6ecb283795d0afb2b7de66c116acd19              24.0                     0.0   \n",
       "296b3f53df62b8c38c1630abb1049550              33.0                     6.0   \n",
       "11001fa11026486d1b848e6ace93e993              90.0                     5.0   \n",
       "37dc56657c40eef6d85c36d1d77cd742              30.0                     4.0   \n",
       "\n",
       "                                  school_state     donor_zip  donor_state  \\\n",
       "projectid                                                                   \n",
       "f31e93845b68cb8f98c7f6a0818b601f             4  50257.416561            9   \n",
       "e6ecb283795d0afb2b7de66c116acd19             5  12590.000000           41   \n",
       "296b3f53df62b8c38c1630abb1049550             4  50257.416561           41   \n",
       "11001fa11026486d1b848e6ace93e993            26  59715.000000           33   \n",
       "37dc56657c40eef6d85c36d1d77cd742            19  50257.416561           41   \n",
       "\n",
       "                                  donation_to_project  \\\n",
       "projectid                                               \n",
       "f31e93845b68cb8f98c7f6a0818b601f                 2.55   \n",
       "e6ecb283795d0afb2b7de66c116acd19                39.99   \n",
       "296b3f53df62b8c38c1630abb1049550                17.00   \n",
       "11001fa11026486d1b848e6ace93e993                34.00   \n",
       "37dc56657c40eef6d85c36d1d77cd742                85.00   \n",
       "\n",
       "                                  donation_optional_support  \\\n",
       "projectid                                                     \n",
       "f31e93845b68cb8f98c7f6a0818b601f                       0.45   \n",
       "e6ecb283795d0afb2b7de66c116acd19                       7.06   \n",
       "296b3f53df62b8c38c1630abb1049550                       3.00   \n",
       "11001fa11026486d1b848e6ace93e993                       6.00   \n",
       "37dc56657c40eef6d85c36d1d77cd742                      15.00   \n",
       "\n",
       "                                  one_non_teacher_referred_donor_giving_100_plus  \n",
       "projectid                                                                         \n",
       "f31e93845b68cb8f98c7f6a0818b601f                                             0.0  \n",
       "e6ecb283795d0afb2b7de66c116acd19                                             1.0  \n",
       "296b3f53df62b8c38c1630abb1049550                                             1.0  \n",
       "11001fa11026486d1b848e6ace93e993                                             1.0  \n",
       "37dc56657c40eef6d85c36d1d77cd742                                             1.0  "
      ]
     },
     "execution_count": 39,
     "metadata": {},
     "output_type": "execute_result"
    }
   ],
   "source": [
    "count = int(len(sorted_train_features) * 0.33)\n",
    "all_x = all_x[sorted_train_features[:count]]\n",
    "all_x.head()"
   ]
  },
  {
   "cell_type": "markdown",
   "metadata": {},
   "source": [
    "# Step 5: Split Train and Test Set\n",
    "## construct test window"
   ]
  },
  {
   "cell_type": "markdown",
   "metadata": {},
   "source": [
    "We select 2007 to 2014 as main dataframe. In general, we create the training sets for 3 years long and the test sets for the year afterwards. For example, we train 2009-2011, and test 2012. Overall, we will produce 5 train-test windows. The result for each window is also plotted behind."
   ]
  },
  {
   "cell_type": "code",
   "execution_count": 40,
   "metadata": {},
   "outputs": [
    {
     "name": "stdout",
     "output_type": "stream",
     "text": [
      "has construct 4 test window, every three years'data as one\n"
     ]
    },
    {
     "data": {
      "text/plain": [
       "array([[1.00000000e+00, 6.66666667e-02, 3.76169066e-03, 5.15335052e-03,\n",
       "        3.76167111e-03, 2.82466928e-01, 1.00000000e+00, 2.77483080e-01,\n",
       "        2.06545455e-01, 1.26675112e-03, 0.00000000e+00, 2.80000000e-01,\n",
       "        5.02579191e-01, 0.00000000e+00, 1.63631382e-03, 1.31505385e-03,\n",
       "        0.00000000e+00],\n",
       "       [1.00000000e+00, 1.56862745e-02, 4.64958995e-03, 4.63917526e-03,\n",
       "        4.64956481e-03, 5.79467114e-02, 8.30000000e-01, 5.21309676e-02,\n",
       "        4.10909091e-01, 1.26675112e-03, 0.00000000e+00, 6.20000000e-01,\n",
       "        5.02579191e-01, 6.50000000e-01, 1.57842536e-03, 1.57876786e-03,\n",
       "        1.00000000e+00],\n",
       "       [1.00000000e+00, 5.09803922e-02, 4.09036877e-03, 6.94587629e-04,\n",
       "        4.09032970e-03, 6.39090740e-01, 9.10000000e-01, 1.52002927e-01,\n",
       "        2.06545455e-01, 4.93366224e-03, 0.00000000e+00, 2.80000000e-01,\n",
       "        5.02579191e-01, 0.00000000e+00, 3.16070994e-03, 3.16105190e-03,\n",
       "        0.00000000e+00],\n",
       "       [1.00000000e+00, 1.96078431e-02, 9.78025864e-03, 1.75128866e-03,\n",
       "        9.78020556e-03, 7.12129681e-01, 4.20000000e-01, 8.83299799e-01,\n",
       "        7.22909091e-01, 4.73364891e-03, 0.00000000e+00, 9.80000000e-01,\n",
       "        2.65052651e-01, 9.83333333e-01, 6.29054604e-04, 6.29397431e-04,\n",
       "        1.00000000e+00]])"
      ]
     },
     "execution_count": 40,
     "metadata": {},
     "output_type": "execute_result"
    }
   ],
   "source": [
    "def norm(df_features):\n",
    "    # normalize\n",
    "    df_features = preprocessing.MinMaxScaler().fit_transform(df_features)\n",
    "    df_features = preprocessing.normalize(df_features, norm='max')\n",
    "    return df_features\n",
    "\n",
    "def build_test_window(df):\n",
    "    dataset = []\n",
    "    name = 'date_posted'\n",
    "    label_name = 'fully_funded'\n",
    "    start, end = 2007, 2011\n",
    "    for year in range(start, end):\n",
    "        test_year = start + 3\n",
    "        df_left = df[(df[name] >= '{}-01-01'.format(start)) & (df[name] <= '{}-12-31'.format(start+2))]\n",
    "        y_train = df_left[label_name]\n",
    "        x_train = df_left[all_x.columns]\n",
    "        \n",
    "        df_right = df[(df[name] >= '{}-01-01'.format(test_year)) & (df[name] <= '{}-12-31'.format(test_year))]\n",
    "        y_test = df_right[label_name]\n",
    "        x_test = df_right[all_x.columns]\n",
    "        \n",
    "        # normalization\n",
    "        x_train = norm(x_train)\n",
    "        x_test = norm(x_test)\n",
    "        dataset.append((x_train, y_train, x_test, y_test))\n",
    "    return dataset\n",
    "\n",
    "\n",
    "dataset = build_test_window(df)\n",
    "print(\"has construct {} test window, every three years'data as one\".format(len(dataset)))"
   ]
  },
  {
   "cell_type": "code",
   "execution_count": 67,
   "metadata": {},
   "outputs": [
    {
     "name": "stdout",
     "output_type": "stream",
     "text": [
      "================================================================================\n",
      "train: 2007/01/01-2009/12/31, test: 2010/01/01-2010/12/31\n",
      "- - - - - - - - - - - - - - - - - - - - - - - - - - - - - - - - - - - - - - - - \n",
      "x_train >>\n",
      "[[1.         0.06666667 0.00376169 ... 0.00163631 0.00131505 0.        ]\n",
      " [1.         0.01568627 0.00464959 ... 0.00157843 0.00157877 1.        ]\n",
      " [1.         0.05098039 0.00409037 ... 0.00316071 0.00316105 0.        ]\n",
      " ...\n",
      " [1.         0.         0.00554126 ... 0.00316071 0.00316105 0.        ]\n",
      " [1.         0.01176471 0.00564259 ... 0.00595865 0.00478905 1.        ]\n",
      " [1.         0.04705882 0.00508371 ... 0.00189488 0.00189522 1.        ]]\n",
      "- - - - - - - - - - - - - - - - - - - - - - - - - - - - - - - - - - - - - - - - \n",
      "y_train >>\n",
      "[0 1 1 ... 1 1 1]\n",
      "- - - - - - - - - - - - - - - - - - - - - - - - - - - - - - - - - - - - - - - - \n",
      "x_test >>\n",
      "[[1.00000000e+00 1.53846154e-01 1.32995802e-02 ... 7.40297659e-04\n",
      "  7.38329362e-04 0.00000000e+00]\n",
      " [1.00000000e+00 2.88461538e-02 7.43306771e-03 ... 2.41337037e-03\n",
      "  3.00365809e-03 1.00000000e+00]\n",
      " [1.00000000e+00 1.63461538e-01 9.12003916e-03 ... 3.76071211e-03\n",
      "  3.75876766e-03 0.00000000e+00]\n",
      " ...\n",
      " [1.00000000e+00 3.84615385e-02 1.71822014e-02 ... 6.27772415e-03\n",
      "  6.27579958e-03 1.00000000e+00]\n",
      " [0.00000000e+00 5.58233345e-02 1.06505312e-02 ... 2.03068508e-02\n",
      "  1.81315344e-02 7.14388078e-01]\n",
      " [1.00000000e+00 3.84615385e-02 3.12189302e-03 ... 5.71805912e-03\n",
      "  5.72205256e-03 1.00000000e+00]]\n",
      "- - - - - - - - - - - - - - - - - - - - - - - - - - - - - - - - - - - - - - - - \n",
      "y_test >>\n",
      "[0 0 0 ... 0 1 0]\n",
      "- - - - - - - - - - - - - - - - - - - - - - - - - - - - - - - - - - - - - - - - \n",
      "\n",
      "\n",
      "\n",
      "================================================================================\n",
      "train: 2008/01/01-2010/12/31, test: 2011/01/01-2011/12/31\n",
      "- - - - - - - - - - - - - - - - - - - - - - - - - - - - - - - - - - - - - - - - \n",
      "x_train >>\n",
      "[[1.         0.06666667 0.00376169 ... 0.00163631 0.00131505 0.        ]\n",
      " [1.         0.01568627 0.00464959 ... 0.00157843 0.00157877 1.        ]\n",
      " [1.         0.05098039 0.00409037 ... 0.00316071 0.00316105 0.        ]\n",
      " ...\n",
      " [1.         0.         0.00554126 ... 0.00316071 0.00316105 0.        ]\n",
      " [1.         0.01176471 0.00564259 ... 0.00595865 0.00478905 1.        ]\n",
      " [1.         0.04705882 0.00508371 ... 0.00189488 0.00189522 1.        ]]\n",
      "- - - - - - - - - - - - - - - - - - - - - - - - - - - - - - - - - - - - - - - - \n",
      "y_train >>\n",
      "[0 1 1 ... 1 1 1]\n",
      "- - - - - - - - - - - - - - - - - - - - - - - - - - - - - - - - - - - - - - - - \n",
      "x_test >>\n",
      "[[1.00000000e+00 1.53846154e-01 1.32995802e-02 ... 7.40297659e-04\n",
      "  7.38329362e-04 0.00000000e+00]\n",
      " [1.00000000e+00 2.88461538e-02 7.43306771e-03 ... 2.41337037e-03\n",
      "  3.00365809e-03 1.00000000e+00]\n",
      " [1.00000000e+00 1.63461538e-01 9.12003916e-03 ... 3.76071211e-03\n",
      "  3.75876766e-03 0.00000000e+00]\n",
      " ...\n",
      " [1.00000000e+00 3.84615385e-02 1.71822014e-02 ... 6.27772415e-03\n",
      "  6.27579958e-03 1.00000000e+00]\n",
      " [0.00000000e+00 5.58233345e-02 1.06505312e-02 ... 2.03068508e-02\n",
      "  1.81315344e-02 7.14388078e-01]\n",
      " [1.00000000e+00 3.84615385e-02 3.12189302e-03 ... 5.71805912e-03\n",
      "  5.72205256e-03 1.00000000e+00]]\n",
      "- - - - - - - - - - - - - - - - - - - - - - - - - - - - - - - - - - - - - - - - \n",
      "y_test >>\n",
      "[0 0 0 ... 0 1 0]\n",
      "- - - - - - - - - - - - - - - - - - - - - - - - - - - - - - - - - - - - - - - - \n",
      "\n",
      "\n",
      "\n",
      "================================================================================\n",
      "train: 2009/01/01-2011/12/31, test: 2012/01/01-2012/12/31\n",
      "- - - - - - - - - - - - - - - - - - - - - - - - - - - - - - - - - - - - - - - - \n",
      "x_train >>\n",
      "[[1.         0.06666667 0.00376169 ... 0.00163631 0.00131505 0.        ]\n",
      " [1.         0.01568627 0.00464959 ... 0.00157843 0.00157877 1.        ]\n",
      " [1.         0.05098039 0.00409037 ... 0.00316071 0.00316105 0.        ]\n",
      " ...\n",
      " [1.         0.         0.00554126 ... 0.00316071 0.00316105 0.        ]\n",
      " [1.         0.01176471 0.00564259 ... 0.00595865 0.00478905 1.        ]\n",
      " [1.         0.04705882 0.00508371 ... 0.00189488 0.00189522 1.        ]]\n",
      "- - - - - - - - - - - - - - - - - - - - - - - - - - - - - - - - - - - - - - - - \n",
      "y_train >>\n",
      "[0 1 1 ... 1 1 1]\n",
      "- - - - - - - - - - - - - - - - - - - - - - - - - - - - - - - - - - - - - - - - \n",
      "x_test >>\n",
      "[[1.00000000e+00 1.53846154e-01 1.32995802e-02 ... 7.40297659e-04\n",
      "  7.38329362e-04 0.00000000e+00]\n",
      " [1.00000000e+00 2.88461538e-02 7.43306771e-03 ... 2.41337037e-03\n",
      "  3.00365809e-03 1.00000000e+00]\n",
      " [1.00000000e+00 1.63461538e-01 9.12003916e-03 ... 3.76071211e-03\n",
      "  3.75876766e-03 0.00000000e+00]\n",
      " ...\n",
      " [1.00000000e+00 3.84615385e-02 1.71822014e-02 ... 6.27772415e-03\n",
      "  6.27579958e-03 1.00000000e+00]\n",
      " [0.00000000e+00 5.58233345e-02 1.06505312e-02 ... 2.03068508e-02\n",
      "  1.81315344e-02 7.14388078e-01]\n",
      " [1.00000000e+00 3.84615385e-02 3.12189302e-03 ... 5.71805912e-03\n",
      "  5.72205256e-03 1.00000000e+00]]\n",
      "- - - - - - - - - - - - - - - - - - - - - - - - - - - - - - - - - - - - - - - - \n",
      "y_test >>\n",
      "[0 0 0 ... 0 1 0]\n",
      "- - - - - - - - - - - - - - - - - - - - - - - - - - - - - - - - - - - - - - - - \n",
      "\n",
      "\n",
      "\n",
      "================================================================================\n",
      "train: 2010/01/01-2012/12/31, test: 2013/01/01-2013/12/31\n",
      "- - - - - - - - - - - - - - - - - - - - - - - - - - - - - - - - - - - - - - - - \n",
      "x_train >>\n",
      "[[1.         0.06666667 0.00376169 ... 0.00163631 0.00131505 0.        ]\n",
      " [1.         0.01568627 0.00464959 ... 0.00157843 0.00157877 1.        ]\n",
      " [1.         0.05098039 0.00409037 ... 0.00316071 0.00316105 0.        ]\n",
      " ...\n",
      " [1.         0.         0.00554126 ... 0.00316071 0.00316105 0.        ]\n",
      " [1.         0.01176471 0.00564259 ... 0.00595865 0.00478905 1.        ]\n",
      " [1.         0.04705882 0.00508371 ... 0.00189488 0.00189522 1.        ]]\n",
      "- - - - - - - - - - - - - - - - - - - - - - - - - - - - - - - - - - - - - - - - \n",
      "y_train >>\n",
      "[0 1 1 ... 1 1 1]\n",
      "- - - - - - - - - - - - - - - - - - - - - - - - - - - - - - - - - - - - - - - - \n",
      "x_test >>\n",
      "[[1.00000000e+00 1.53846154e-01 1.32995802e-02 ... 7.40297659e-04\n",
      "  7.38329362e-04 0.00000000e+00]\n",
      " [1.00000000e+00 2.88461538e-02 7.43306771e-03 ... 2.41337037e-03\n",
      "  3.00365809e-03 1.00000000e+00]\n",
      " [1.00000000e+00 1.63461538e-01 9.12003916e-03 ... 3.76071211e-03\n",
      "  3.75876766e-03 0.00000000e+00]\n",
      " ...\n",
      " [1.00000000e+00 3.84615385e-02 1.71822014e-02 ... 6.27772415e-03\n",
      "  6.27579958e-03 1.00000000e+00]\n",
      " [0.00000000e+00 5.58233345e-02 1.06505312e-02 ... 2.03068508e-02\n",
      "  1.81315344e-02 7.14388078e-01]\n",
      " [1.00000000e+00 3.84615385e-02 3.12189302e-03 ... 5.71805912e-03\n",
      "  5.72205256e-03 1.00000000e+00]]\n",
      "- - - - - - - - - - - - - - - - - - - - - - - - - - - - - - - - - - - - - - - - \n",
      "y_test >>\n",
      "[0 0 0 ... 0 1 0]\n",
      "- - - - - - - - - - - - - - - - - - - - - - - - - - - - - - - - - - - - - - - - \n",
      "\n",
      "\n",
      "\n"
     ]
    }
   ],
   "source": [
    "data_description = ['train: 2007/01/01-2009/12/31, test: 2010/01/01-2010/12/31', 'train: 2008/01/01-2010/12/31, test: 2011/01/01-2011/12/31',\n",
    "                   'train: 2009/01/01-2011/12/31, test: 2012/01/01-2012/12/31', 'train: 2010/01/01-2012/12/31, test: 2013/01/01-2013/12/31']\n",
    "\n",
    "for idx, (x_train, y_train, x_test, y_test) in enumerate(dataset):\n",
    "    print('='*80)\n",
    "    print(data_description[idx])\n",
    "    print('- '*40)\n",
    "    print(\"x_train >>\")\n",
    "    print(x_train)\n",
    "    print('- '*40)\n",
    "    print(\"y_train >>\")\n",
    "    print(y_train.values)\n",
    "    print('- '*40)\n",
    "    print(\"x_test >>\")\n",
    "    print(x_test)\n",
    "    print('- '*40)\n",
    "    print(\"y_test >>\")\n",
    "    print(y_test.values)\n",
    "    print('- '*40)\n",
    "    print(\"\\n\\n\")"
   ]
  },
  {
   "cell_type": "markdown",
   "metadata": {},
   "source": [
    "# Step 6: Build Classifier"
   ]
  },
  {
   "cell_type": "markdown",
   "metadata": {},
   "source": [
    "Derived from the project descriptions, we use Logistic Regression, K-NN, Decision Trees, SVM, Random Forest, Boosting and Bagging as classifers. For each classifier, we select several default parameters into grid search"
   ]
  },
  {
   "cell_type": "code",
   "execution_count": 41,
   "metadata": {},
   "outputs": [],
   "source": [
    "from sklearn.linear_model import LogisticRegression\n",
    "from sklearn.model_selection import ParameterGrid, GridSearchCV\n",
    "from sklearn.neighbors import KNeighborsClassifier\n",
    "from sklearn.ensemble import (RandomForestClassifier,\n",
    "                              GradientBoostingClassifier,\n",
    "                              BaggingClassifier)\n",
    "from sklearn.svm import SVC\n",
    "from sklearn.model_selection import train_test_split\n",
    "from sklearn.tree import DecisionTreeClassifier\n",
    "from sklearn.dummy import DummyClassifier\n",
    "from sklearn.metrics import (precision_recall_curve, roc_auc_score, roc_curve, auc,\n",
    "                             precision_score, recall_score, f1_score)"
   ]
  },
  {
   "cell_type": "code",
   "execution_count": 42,
   "metadata": {},
   "outputs": [],
   "source": [
    "classifier_constructors = {\n",
    "    'Dummy': DummyClassifier,\n",
    "    'LR': LogisticRegression,\n",
    "    'KNN': KNeighborsClassifier,\n",
    "    'DT': DecisionTreeClassifier,\n",
    "    'SVM': SVC,\n",
    "    'RF': RandomForestClassifier,\n",
    "    'GB': GradientBoostingClassifier,\n",
    "    'BG': BaggingClassifier\n",
    "}\n",
    "\n",
    "grid = dict()\n",
    "grid['Dummy'] = {\n",
    "}\n",
    "grid['LR'] = {\n",
    "    'penalty': ['l1', 'l2'],\n",
    "    'C': [0.0001 * (10**i) for i in range(5)]\n",
    "}\n",
    "grid['DT'] = {\n",
    "    'max_depth': [10, 50, 100],\n",
    "    'criterion': ['gini', 'entropy'],\n",
    "    'min_samples_split': [2, 5, 10],\n",
    "    'min_samples_leaf': [1, 200]\n",
    "}\n",
    "grid['KNN'] = {\n",
    "    'n_neighbors': [5, 50, 100],\n",
    "    'algorithm': ['ball_tree', 'kd_tree'],\n",
    "    'weights': ['uniform', 'distance']\n",
    "}\n",
    "grid['SVM'] = {\n",
    "    'C': [0.00001,0.0001,0.001,0.01,0.1,1,10],\n",
    "    'gamma': [1e-3, 1e-4],\n",
    "    'kernel': ['rbf', 'linear']\n",
    "}\n",
    "grid['RF'] = {\n",
    "    'n_estimators': [10, 100, 1000],\n",
    "    'max_depth': [10, 50, 100], \n",
    "    'max_features': ['sqrt', 'log2'],\n",
    "    'min_samples_split': [2, 5, 10]\n",
    "}\n",
    "grid['GB'] = {\n",
    "    'n_estimators': [10, 100, 1000],\n",
    "    'learning_rate' : [0.1, 0.5]\n",
    "}\n",
    "grid['BG'] = {\n",
    "    'n_estimators': [10, 100, 1000],\n",
    "    \"bootstrap\": [True, False],\n",
    "    \"bootstrap_features\": [True, False]\n",
    "}"
   ]
  },
  {
   "cell_type": "markdown",
   "metadata": {},
   "source": [
    "## Temporal validation\n",
    "Since our data contains time series components, we could not use KFold cross validations. We would like to use f1-score to find the best parameters."
   ]
  },
  {
   "cell_type": "code",
   "execution_count": 43,
   "metadata": {},
   "outputs": [],
   "source": [
    "import warnings\n",
    "warnings.filterwarnings('ignore')\n",
    "\n",
    "def classify(x_train, y_train, x_test, y_test, clf):\n",
    "    clf.fit(x_train, y_train)\n",
    "    y_pre = clf.predict(x_test)\n",
    "    return f1_score(y_test, y_pre)"
   ]
  },
  {
   "cell_type": "code",
   "execution_count": 44,
   "metadata": {},
   "outputs": [],
   "source": [
    "def select_best_parameters(x_train, y_train, x_test, y_test):\n",
    "    # iter three times\n",
    "    number = 3\n",
    "    # store all the scores and parameters\n",
    "    classifiers = {}\n",
    "    results = {}\n",
    "    for k, clf_constructor in classifier_constructors.items():\n",
    "        results[k] = []\n",
    "        params = grid[k]\n",
    "        for p in ParameterGrid(params):\n",
    "            clf = clf_constructor(**p)\n",
    "            f1_scores = [classify(x_train, y_train, x_test, y_test, clf) for i in range(number)]\n",
    "            f1_score_mean = sum(f1_scores) / len(f1_scores)\n",
    "            results[k].append((p, f1_score_mean))\n",
    "    return results"
   ]
  },
  {
   "cell_type": "code",
   "execution_count": 45,
   "metadata": {
    "scrolled": true
   },
   "outputs": [],
   "source": [
    "all_best = {}\n",
    "for x_train, y_train, x_test, y_test in dataset:\n",
    "    results = select_best_parameters(x_train, y_train, x_test, y_test)\n",
    "    for k, p_list in results.items():\n",
    "        p = max(p_list, key=lambda x: x[1])\n",
    "        if k not in all_best:\n",
    "            all_best[k] = [p]\n",
    "        else:\n",
    "            all_best[k].append(p)"
   ]
  },
  {
   "cell_type": "code",
   "execution_count": 46,
   "metadata": {
    "scrolled": true
   },
   "outputs": [
    {
     "name": "stdout",
     "output_type": "stream",
     "text": [
      "Dummy\n",
      "train: 2007-2009, test: 2010 ({}, 0.376524706638994)\n",
      "train: 2008-2010, test: 2011 ({}, 0.37958398962039525)\n",
      "train: 2009-2011, test: 2012 ({}, 0.3789448777779896)\n",
      "train: 2010-2012, test: 2013 ({}, 0.3763517328890804)\n",
      "LR\n",
      "train: 2007-2009, test: 2010 ({'C': 1.0, 'penalty': 'l1'}, 0.4202418319737699)\n",
      "train: 2008-2010, test: 2011 ({'C': 1.0, 'penalty': 'l1'}, 0.420023988933871)\n",
      "train: 2009-2011, test: 2012 ({'C': 1.0, 'penalty': 'l1'}, 0.4202164362925212)\n",
      "train: 2010-2012, test: 2013 ({'C': 1.0, 'penalty': 'l1'}, 0.4200392388989331)\n",
      "KNN\n",
      "train: 2007-2009, test: 2010 ({'algorithm': 'ball_tree', 'n_neighbors': 5, 'weights': 'uniform'}, 0.3948663691982152)\n",
      "train: 2008-2010, test: 2011 ({'algorithm': 'ball_tree', 'n_neighbors': 5, 'weights': 'uniform'}, 0.3948663691982152)\n",
      "train: 2009-2011, test: 2012 ({'algorithm': 'ball_tree', 'n_neighbors': 5, 'weights': 'uniform'}, 0.3948663691982152)\n",
      "train: 2010-2012, test: 2013 ({'algorithm': 'ball_tree', 'n_neighbors': 5, 'weights': 'uniform'}, 0.3948663691982152)\n",
      "DT\n",
      "train: 2007-2009, test: 2010 ({'criterion': 'entropy', 'max_depth': 100, 'min_samples_leaf': 1, 'min_samples_split': 2}, 0.4549704796729024)\n",
      "train: 2008-2010, test: 2011 ({'criterion': 'entropy', 'max_depth': 50, 'min_samples_leaf': 1, 'min_samples_split': 10}, 0.45130845845439954)\n",
      "train: 2009-2011, test: 2012 ({'criterion': 'entropy', 'max_depth': 50, 'min_samples_leaf': 1, 'min_samples_split': 2}, 0.45048352942976405)\n",
      "train: 2010-2012, test: 2013 ({'criterion': 'entropy', 'max_depth': 50, 'min_samples_leaf': 1, 'min_samples_split': 5}, 0.45024590414834725)\n",
      "SVM\n",
      "train: 2007-2009, test: 2010 ({'C': 10, 'gamma': 0.001, 'kernel': 'linear'}, 0.3792507204610951)\n",
      "train: 2008-2010, test: 2011 ({'C': 10, 'gamma': 0.001, 'kernel': 'linear'}, 0.3792507204610951)\n",
      "train: 2009-2011, test: 2012 ({'C': 10, 'gamma': 0.001, 'kernel': 'linear'}, 0.3792507204610951)\n",
      "train: 2010-2012, test: 2013 ({'C': 10, 'gamma': 0.001, 'kernel': 'linear'}, 0.3792507204610951)\n",
      "RF\n",
      "train: 2007-2009, test: 2010 ({'max_depth': 50, 'max_features': 'sqrt', 'min_samples_split': 5, 'n_estimators': 1000}, 0.4757560359036855)\n",
      "train: 2008-2010, test: 2011 ({'max_depth': 50, 'max_features': 'log2', 'min_samples_split': 10, 'n_estimators': 1000}, 0.47494281551523293)\n",
      "train: 2009-2011, test: 2012 ({'max_depth': 100, 'max_features': 'sqrt', 'min_samples_split': 5, 'n_estimators': 1000}, 0.4760671920113018)\n",
      "train: 2010-2012, test: 2013 ({'max_depth': 50, 'max_features': 'log2', 'min_samples_split': 10, 'n_estimators': 100}, 0.47485598082180697)\n",
      "GB\n",
      "train: 2007-2009, test: 2010 ({'learning_rate': 0.1, 'n_estimators': 1000}, 0.46844658569128367)\n",
      "train: 2008-2010, test: 2011 ({'learning_rate': 0.1, 'n_estimators': 1000}, 0.4687688965040719)\n",
      "train: 2009-2011, test: 2012 ({'learning_rate': 0.1, 'n_estimators': 1000}, 0.47025302566145827)\n",
      "train: 2010-2012, test: 2013 ({'learning_rate': 0.1, 'n_estimators': 1000}, 0.4672876651431501)\n",
      "BG\n",
      "train: 2007-2009, test: 2010 ({'bootstrap': True, 'bootstrap_features': True, 'n_estimators': 1000}, 0.46739204268236145)\n",
      "train: 2008-2010, test: 2011 ({'bootstrap': True, 'bootstrap_features': True, 'n_estimators': 1000}, 0.4665257592083523)\n",
      "train: 2009-2011, test: 2012 ({'bootstrap': True, 'bootstrap_features': True, 'n_estimators': 1000}, 0.46519358014141465)\n",
      "train: 2010-2012, test: 2013 ({'bootstrap': True, 'bootstrap_features': True, 'n_estimators': 1000}, 0.46569246885982146)\n"
     ]
    }
   ],
   "source": [
    "# print last 4 window value\n",
    "for k, p in all_best.items():\n",
    "    print(k)\n",
    "    print('train: 2007-2009, test: 2010', p[-4])\n",
    "    print('train: 2008-2010, test: 2011', p[-3])\n",
    "    print('train: 2009-2011, test: 2012', p[-2])\n",
    "    print('train: 2010-2012, test: 2013', p[-1])"
   ]
  },
  {
   "cell_type": "markdown",
   "metadata": {},
   "source": [
    "As we see, when year changes, the best parameters don't change in Gradient Boosting, Bagging, SVM, KNN, LR classifiers.\n",
    "\n",
    "For all classifiers, regarding the F1 score, the 2008-2009/2010 training and test split performs the best in Decision Tree and Bagging classifiers. The 2009-2011/2012 training and test split performs the best in Random Forest and Gradient Boosting classifiers."
   ]
  },
  {
   "cell_type": "markdown",
   "metadata": {},
   "source": [
    "# Step 7: Evaluate Classifier"
   ]
  },
  {
   "cell_type": "markdown",
   "metadata": {},
   "source": [
    "In this section, in order to evaluate the classifers, we plot accuracy, precision at different levels, recall at different levels, F1, area under curve and precision-recall curves. Then we select best perform classifers based on different thresholds, and compare the results with baselines."
   ]
  },
  {
   "cell_type": "code",
   "execution_count": 47,
   "metadata": {},
   "outputs": [],
   "source": [
    "# evalute metrics\n",
    "def evaluate_classifier(y_test, y_pre, y_prob, cost_time=0):\n",
    "    ret = {\n",
    "        'precision': float(\"%.4f\" % precision_score(y_test, y_pre)),\n",
    "        'recall': float(\"%.4f\" % recall_score(y_test, y_pre)),\n",
    "        'f1': float(\"%.4f\" % f1_score(y_test, y_pre)),\n",
    "        'auc': float(\"%.4f\" % roc_auc_score(y_test, y_prob)),\n",
    "        'cost_time': float(\"%.4f\" % cost_time)\n",
    "    }\n",
    "\n",
    "    return ret\n",
    "\n",
    "def evaluate_classifiers(clfs, X_test, y_test, threshold):\n",
    "    metrics = dict()\n",
    "    probas = dict()\n",
    "    for k, clf in clfs.items():\n",
    "        start = time.time()\n",
    "        if hasattr(clf, 'predict_proba'):\n",
    "            y_prob = clf.predict_proba(X_test)[:, 1]\n",
    "        else:\n",
    "            y_prob = clf.decision_function(X_test)\n",
    "        \n",
    "        y_pre = np.asarray([1 if run >= threshold else 0 for run in y_prob])\n",
    "        cost_time = time.time() - start\n",
    "        metric = evaluate_classifier(y_test, y_pre, y_prob, cost_time)\n",
    "        probas[k] = y_prob\n",
    "        \n",
    "        number_scored = len(y_prob)\n",
    "        num_above_thresh = len(y_prob[y_prob >= threshold])\n",
    "        pct_above_thresh = num_above_thresh / float(number_scored)\n",
    "        metric['percent'] = float(\"%.4f\" % pct_above_thresh)\n",
    "        metrics[k] = metric\n",
    "    return metrics, probas"
   ]
  },
  {
   "cell_type": "code",
   "execution_count": 48,
   "metadata": {},
   "outputs": [
    {
     "data": {
      "text/plain": [
       "{'BG': {'auc': 0.615,\n",
       "  'cost_time': 6.0672,\n",
       "  'f1': 0.4771,\n",
       "  'percent': 1.0,\n",
       "  'precision': 0.3133,\n",
       "  'recall': 1.0},\n",
       " 'DT': {'auc': 0.5532,\n",
       "  'cost_time': 0.0139,\n",
       "  'f1': 0.4548,\n",
       "  'percent': 0.5924,\n",
       "  'precision': 0.3477,\n",
       "  'recall': 0.6573},\n",
       " 'Dummy': {'auc': 0.5,\n",
       "  'cost_time': 0.0543,\n",
       "  'f1': 0.3786,\n",
       "  'percent': 0.4784,\n",
       "  'precision': 0.3133,\n",
       "  'recall': 0.4784},\n",
       " 'GB': {'auc': 0.6033,\n",
       "  'cost_time': 0.3455,\n",
       "  'f1': 0.4781,\n",
       "  'percent': 0.9846,\n",
       "  'precision': 0.3151,\n",
       "  'recall': 0.9902},\n",
       " 'KNN': {'auc': 0.5283,\n",
       "  'cost_time': 12.5191,\n",
       "  'f1': 0.4699,\n",
       "  'percent': 0.8855,\n",
       "  'precision': 0.3181,\n",
       "  'recall': 0.899},\n",
       " 'LR': {'auc': 0.5699,\n",
       "  'cost_time': 0.0177,\n",
       "  'f1': 0.4771,\n",
       "  'percent': 1.0,\n",
       "  'precision': 0.3133,\n",
       "  'recall': 1.0},\n",
       " 'RF': {'auc': 0.6265,\n",
       "  'cost_time': 0.5015,\n",
       "  'f1': 0.4771,\n",
       "  'percent': 1.0,\n",
       "  'precision': 0.3133,\n",
       "  'recall': 1.0},\n",
       " 'SVM': {'auc': 0.5738,\n",
       "  'cost_time': 10.0005,\n",
       "  'f1': 0.3761,\n",
       "  'percent': 0.2979,\n",
       "  'precision': 0.3858,\n",
       "  'recall': 0.3669}}"
      ]
     },
     "execution_count": 48,
     "metadata": {},
     "output_type": "execute_result"
    }
   ],
   "source": [
    "#2010-2012/2013\n",
    "classifiers = {}\n",
    "x_train, y_train, x_test, y_test = dataset[-1]\n",
    "\n",
    "for k, p in all_best.items():\n",
    "    clf = classifier_constructors[k](**p[-1][0])\n",
    "    clf.fit(x_train, y_train)\n",
    "    classifiers[k] = clf\n",
    "    \n",
    "metrics, probas = evaluate_classifiers(classifiers, x_test, y_test, 0.1)\n",
    "metrics"
   ]
  },
  {
   "cell_type": "markdown",
   "metadata": {},
   "source": [
    "## Draw AUC, 2010-2012/2013"
   ]
  },
  {
   "cell_type": "code",
   "execution_count": 49,
   "metadata": {},
   "outputs": [
    {
     "data": {
      "image/png": "[encoded data removed]",
      "text/plain": [
       "<Figure size 432x288 with 1 Axes>"
      ]
     },
     "metadata": {},
     "output_type": "display_data"
    }
   ],
   "source": [
    "def draw_auc(probas, y_test):\n",
    "    plt.clf()\n",
    "    auc_list = []\n",
    "    for k, prob in probas.items():\n",
    "        fpr, tpr, thresholds = roc_curve(y_test, prob)\n",
    "        roc_auc = auc(fpr, tpr)\n",
    "        auc_list.append((k, roc_auc))\n",
    "        \n",
    "    auc_list.sort(key=lambda x: x[1], reverse=True)\n",
    "    \n",
    "    for k, roc_auc in auc_list:\n",
    "        fpr, tpr, thresholds = roc_curve(y_test, probas[k])\n",
    "        plt.plot(fpr, tpr, lw=1, label=('%s AUC %.2f' % (k, roc_auc)))\n",
    "    \n",
    "    \n",
    "    plt.plot([0, 1], [0, 1], '--', color=(0.6, 0.6, 0.6), label='Luck')\n",
    "    plt.xlim([-0.05, 1.05])\n",
    "    plt.ylim([-0.05, 1.05])\n",
    "    plt.xlabel('False Positive Rate')\n",
    "    plt.ylabel('True Positive Rate')\n",
    "    plt.title('AUC Graph')\n",
    "    plt.legend(loc=\"lower right\")\n",
    "\n",
    "draw_auc(probas, y_test)"
   ]
  },
  {
   "cell_type": "markdown",
   "metadata": {},
   "source": [
    "## Draw Precision-Recall Curves, 2010-2012/2013"
   ]
  },
  {
   "cell_type": "code",
   "execution_count": 50,
   "metadata": {
    "scrolled": true
   },
   "outputs": [
    {
     "name": "stdout",
     "output_type": "stream",
     "text": [
      "threshold\tpercent\t\tprecision\trecall\n"
     ]
    },
    {
     "data": {
      "text/plain": [
       "<Figure size 432x288 with 0 Axes>"
      ]
     },
     "metadata": {},
     "output_type": "display_data"
    },
    {
     "data": {
      "image/png": "[encoded data removed]",
      "text/plain": [
       "<Figure size 432x288 with 2 Axes>"
      ]
     },
     "metadata": {},
     "output_type": "display_data"
    },
    {
     "name": "stdout",
     "output_type": "stream",
     "text": [
      "threshold\tpercent\t\tprecision\trecall\n"
     ]
    },
    {
     "data": {
      "text/plain": [
       "<Figure size 432x288 with 0 Axes>"
      ]
     },
     "metadata": {},
     "output_type": "display_data"
    },
    {
     "data": {
      "image/png": "[encoded data removed]",
      "text/plain": [
       "<Figure size 432x288 with 2 Axes>"
      ]
     },
     "metadata": {},
     "output_type": "display_data"
    },
    {
     "name": "stdout",
     "output_type": "stream",
     "text": [
      "threshold\tpercent\t\tprecision\trecall\n"
     ]
    },
    {
     "data": {
      "text/plain": [
       "<Figure size 432x288 with 0 Axes>"
      ]
     },
     "metadata": {},
     "output_type": "display_data"
    },
    {
     "data": {
      "image/png": "[encoded data removed]",
      "text/plain": [
       "<Figure size 432x288 with 2 Axes>"
      ]
     },
     "metadata": {},
     "output_type": "display_data"
    },
    {
     "name": "stdout",
     "output_type": "stream",
     "text": [
      "threshold\tpercent\t\tprecision\trecall\n"
     ]
    },
    {
     "data": {
      "text/plain": [
       "<Figure size 432x288 with 0 Axes>"
      ]
     },
     "metadata": {},
     "output_type": "display_data"
    },
    {
     "data": {
      "image/png": "[encoded data removed]",
      "text/plain": [
       "<Figure size 432x288 with 2 Axes>"
      ]
     },
     "metadata": {},
     "output_type": "display_data"
    },
    {
     "name": "stdout",
     "output_type": "stream",
     "text": [
      "threshold\tpercent\t\tprecision\trecall\n"
     ]
    },
    {
     "data": {
      "text/plain": [
       "<Figure size 432x288 with 0 Axes>"
      ]
     },
     "metadata": {},
     "output_type": "display_data"
    },
    {
     "data": {
      "image/png": "[encoded data removed]",
      "text/plain": [
       "<Figure size 432x288 with 2 Axes>"
      ]
     },
     "metadata": {},
     "output_type": "display_data"
    },
    {
     "name": "stdout",
     "output_type": "stream",
     "text": [
      "threshold\tpercent\t\tprecision\trecall\n"
     ]
    },
    {
     "data": {
      "text/plain": [
       "<Figure size 432x288 with 0 Axes>"
      ]
     },
     "metadata": {},
     "output_type": "display_data"
    },
    {
     "data": {
      "image/png": "[encoded data removed]",
      "text/plain": [
       "<Figure size 432x288 with 2 Axes>"
      ]
     },
     "metadata": {},
     "output_type": "display_data"
    },
    {
     "name": "stdout",
     "output_type": "stream",
     "text": [
      "threshold\tpercent\t\tprecision\trecall\n"
     ]
    },
    {
     "data": {
      "text/plain": [
       "<Figure size 432x288 with 0 Axes>"
      ]
     },
     "metadata": {},
     "output_type": "display_data"
    },
    {
     "data": {
      "image/png": "[encoded data removed]",
      "text/plain": [
       "<Figure size 432x288 with 2 Axes>"
      ]
     },
     "metadata": {},
     "output_type": "display_data"
    },
    {
     "name": "stdout",
     "output_type": "stream",
     "text": [
      "threshold\tpercent\t\tprecision\trecall\n"
     ]
    },
    {
     "data": {
      "text/plain": [
       "<Figure size 432x288 with 0 Axes>"
      ]
     },
     "metadata": {},
     "output_type": "display_data"
    },
    {
     "data": {
      "image/png": "[encoded data removed]",
      "text/plain": [
       "<Figure size 432x288 with 2 Axes>"
      ]
     },
     "metadata": {},
     "output_type": "display_data"
    }
   ],
   "source": [
    "def plot_precision_recall(y_test, key):\n",
    "    plt.clf()\n",
    "    y_prob = probas[key]\n",
    "    precision_curve, recall_curve, pr_thresholds = precision_recall_curve(y_test, y_prob)\n",
    "    precision_curve = precision_curve[:-1]\n",
    "    recall_curve = recall_curve[:-1]\n",
    "    pct_per_thresh = []\n",
    "    number_scored = len(y_prob)\n",
    "    print(\"threshold\\tpercent\\t\\tprecision\\trecall\")\n",
    "    for i, value in enumerate(pr_thresholds):\n",
    "        num_above_thresh = len(y_prob[y_prob >= value])\n",
    "        pct_above_thresh = num_above_thresh / float(number_scored)\n",
    "        pct_per_thresh.append(pct_above_thresh)\n",
    "    \n",
    "    pct_per_thresh = np.array(pct_per_thresh)\n",
    "    plt.clf()\n",
    "    fig, ax1 = plt.subplots()\n",
    "    ax1.plot(pct_per_thresh, precision_curve, 'b')\n",
    "    ax1.set_xlabel('percent of population')\n",
    "    ax1.set_ylabel('precision', color='b')\n",
    "    ax1.set_xlim(0, max(pct_per_thresh))\n",
    "    ax2 = ax1.twinx()\n",
    "    ax2.plot(pct_per_thresh, recall_curve, 'y')\n",
    "    ax2.set_ylabel('recall', color='y')\n",
    "    ax2.set_xlim(0, max(pct_per_thresh))\n",
    "    plt.title(key)\n",
    "    plt.show()\n",
    "    \n",
    "for key in probas.keys():\n",
    "    plot_precision_recall(y_test, key)"
   ]
  },
  {
   "cell_type": "markdown",
   "metadata": {},
   "source": [
    "## the precision, recall, AUC and F1 table, 2010-2012/2013, threshold 0.1"
   ]
  },
  {
   "cell_type": "code",
   "execution_count": 51,
   "metadata": {
    "scrolled": false
   },
   "outputs": [
    {
     "data": {
      "text/html": [
       "<div>\n",
       "<style scoped>\n",
       "    .dataframe tbody tr th:only-of-type {\n",
       "        vertical-align: middle;\n",
       "    }\n",
       "\n",
       "    .dataframe tbody tr th {\n",
       "        vertical-align: top;\n",
       "    }\n",
       "\n",
       "    .dataframe thead th {\n",
       "        text-align: right;\n",
       "    }\n",
       "</style>\n",
       "<table border=\"1\" class=\"dataframe\">\n",
       "  <thead>\n",
       "    <tr style=\"text-align: right;\">\n",
       "      <th></th>\n",
       "      <th>BG</th>\n",
       "      <th>DT</th>\n",
       "      <th>Dummy</th>\n",
       "      <th>GB</th>\n",
       "      <th>KNN</th>\n",
       "      <th>LR</th>\n",
       "      <th>RF</th>\n",
       "      <th>SVM</th>\n",
       "    </tr>\n",
       "    <tr>\n",
       "      <th>key</th>\n",
       "      <th></th>\n",
       "      <th></th>\n",
       "      <th></th>\n",
       "      <th></th>\n",
       "      <th></th>\n",
       "      <th></th>\n",
       "      <th></th>\n",
       "      <th></th>\n",
       "    </tr>\n",
       "  </thead>\n",
       "  <tbody>\n",
       "    <tr>\n",
       "      <th>precision</th>\n",
       "      <td>0.3133</td>\n",
       "      <td>0.3477</td>\n",
       "      <td>0.3133</td>\n",
       "      <td>0.3151</td>\n",
       "      <td>0.3181</td>\n",
       "      <td>0.3133</td>\n",
       "      <td>0.3133</td>\n",
       "      <td>0.3858</td>\n",
       "    </tr>\n",
       "    <tr>\n",
       "      <th>recall</th>\n",
       "      <td>1.0000</td>\n",
       "      <td>0.6573</td>\n",
       "      <td>0.4784</td>\n",
       "      <td>0.9902</td>\n",
       "      <td>0.8990</td>\n",
       "      <td>1.0000</td>\n",
       "      <td>1.0000</td>\n",
       "      <td>0.3669</td>\n",
       "    </tr>\n",
       "    <tr>\n",
       "      <th>f1</th>\n",
       "      <td>0.4771</td>\n",
       "      <td>0.4548</td>\n",
       "      <td>0.3786</td>\n",
       "      <td>0.4781</td>\n",
       "      <td>0.4699</td>\n",
       "      <td>0.4771</td>\n",
       "      <td>0.4771</td>\n",
       "      <td>0.3761</td>\n",
       "    </tr>\n",
       "    <tr>\n",
       "      <th>auc</th>\n",
       "      <td>0.6150</td>\n",
       "      <td>0.5532</td>\n",
       "      <td>0.5000</td>\n",
       "      <td>0.6033</td>\n",
       "      <td>0.5283</td>\n",
       "      <td>0.5699</td>\n",
       "      <td>0.6265</td>\n",
       "      <td>0.5738</td>\n",
       "    </tr>\n",
       "    <tr>\n",
       "      <th>cost_time</th>\n",
       "      <td>6.0672</td>\n",
       "      <td>0.0139</td>\n",
       "      <td>0.0543</td>\n",
       "      <td>0.3455</td>\n",
       "      <td>12.5191</td>\n",
       "      <td>0.0177</td>\n",
       "      <td>0.5015</td>\n",
       "      <td>10.0005</td>\n",
       "    </tr>\n",
       "  </tbody>\n",
       "</table>\n",
       "</div>"
      ],
      "text/plain": [
       "               BG      DT   Dummy      GB      KNN      LR      RF      SVM\n",
       "key                                                                        \n",
       "precision  0.3133  0.3477  0.3133  0.3151   0.3181  0.3133  0.3133   0.3858\n",
       "recall     1.0000  0.6573  0.4784  0.9902   0.8990  1.0000  1.0000   0.3669\n",
       "f1         0.4771  0.4548  0.3786  0.4781   0.4699  0.4771  0.4771   0.3761\n",
       "auc        0.6150  0.5532  0.5000  0.6033   0.5283  0.5699  0.6265   0.5738\n",
       "cost_time  6.0672  0.0139  0.0543  0.3455  12.5191  0.0177  0.5015  10.0005"
      ]
     },
     "execution_count": 51,
     "metadata": {},
     "output_type": "execute_result"
    }
   ],
   "source": [
    "data = dict()\n",
    "data['key'] =  ['precision', 'recall', 'f1', 'auc', 'cost_time']\n",
    "\n",
    "for k, metric in metrics.items():\n",
    "    data[k] = [metric[item] for item in data['key']]\n",
    "\n",
    "df_result = pd.DataFrame(data)\n",
    "\n",
    "df_result = df_result.set_index('key')\n",
    "df_result.head()"
   ]
  },
  {
   "cell_type": "markdown",
   "metadata": {},
   "source": [
    "As we can see, this table shows the summary of precision, recall, f1, auc, cost time of these 7 classifers."
   ]
  },
  {
   "cell_type": "code",
   "execution_count": 52,
   "metadata": {
    "scrolled": true
   },
   "outputs": [
    {
     "data": {
      "image/png": "[encoded data removed]",
      "text/plain": [
       "<Figure size 432x288 with 1 Axes>"
      ]
     },
     "metadata": {},
     "output_type": "display_data"
    }
   ],
   "source": [
    "df_result.plot.bar();\n",
    "plt.show()"
   ]
  },
  {
   "cell_type": "markdown",
   "metadata": {},
   "source": [
    "This is the graph for the table above. We can see all of the 7 classifiers maintained high level of the precision, recall, f1, and auc. However, as we compared the cost time for classifiers, the Bagging, SVM and KNN classifiers consume much more time than the other 4 classifers."
   ]
  },
  {
   "cell_type": "markdown",
   "metadata": {},
   "source": [
    "## threshold 0.01, 2010-2012/2013"
   ]
  },
  {
   "cell_type": "code",
   "execution_count": 53,
   "metadata": {
    "scrolled": true
   },
   "outputs": [
    {
     "data": {
      "text/plain": [
       "{'BG': {'auc': 0.6194,\n",
       "  'cost_time': 5.7424,\n",
       "  'f1': 0.4771,\n",
       "  'percent': 1.0,\n",
       "  'precision': 0.3133,\n",
       "  'recall': 1.0},\n",
       " 'DT': {'auc': 0.5452,\n",
       "  'cost_time': 0.0139,\n",
       "  'f1': 0.4479,\n",
       "  'percent': 0.5828,\n",
       "  'precision': 0.3444,\n",
       "  'recall': 0.6406},\n",
       " 'Dummy': {'auc': 0.5011,\n",
       "  'cost_time': 0.0525,\n",
       "  'f1': 0.3781,\n",
       "  'percent': 0.4728,\n",
       "  'precision': 0.3143,\n",
       "  'recall': 0.4743},\n",
       " 'GB': {'auc': 0.6045,\n",
       "  'cost_time': 0.3179,\n",
       "  'f1': 0.4771,\n",
       "  'percent': 0.9997,\n",
       "  'precision': 0.3133,\n",
       "  'recall': 0.9998},\n",
       " 'KNN': {'auc': 0.5283,\n",
       "  'cost_time': 11.9054,\n",
       "  'f1': 0.4699,\n",
       "  'percent': 0.8855,\n",
       "  'precision': 0.3181,\n",
       "  'recall': 0.899},\n",
       " 'LR': {'auc': 0.5697,\n",
       "  'cost_time': 0.0105,\n",
       "  'f1': 0.4771,\n",
       "  'percent': 1.0,\n",
       "  'precision': 0.3133,\n",
       "  'recall': 1.0},\n",
       " 'RF': {'auc': 0.6151,\n",
       "  'cost_time': 0.4606,\n",
       "  'f1': 0.4771,\n",
       "  'percent': 1.0,\n",
       "  'precision': 0.3133,\n",
       "  'recall': 1.0},\n",
       " 'SVM': {'auc': 0.5738,\n",
       "  'cost_time': 9.111,\n",
       "  'f1': 0.3788,\n",
       "  'percent': 0.2992,\n",
       "  'precision': 0.3877,\n",
       "  'recall': 0.3703}}"
      ]
     },
     "execution_count": 53,
     "metadata": {},
     "output_type": "execute_result"
    }
   ],
   "source": [
    "#2010-2012/2013\n",
    "classifiers = {}\n",
    "x_train, y_train, x_test, y_test = dataset[-1]\n",
    "\n",
    "for k, p in all_best.items():\n",
    "    clf = classifier_constructors[k](**p[-1][0])\n",
    "    clf.fit(x_train, y_train)\n",
    "    classifiers[k] = clf\n",
    "    \n",
    "metrics, probas = evaluate_classifiers(classifiers, x_test, y_test, 0.01)\n",
    "metrics"
   ]
  },
  {
   "cell_type": "code",
   "execution_count": 56,
   "metadata": {
    "scrolled": true
   },
   "outputs": [
    {
     "data": {
      "text/html": [
       "<div>\n",
       "<style scoped>\n",
       "    .dataframe tbody tr th:only-of-type {\n",
       "        vertical-align: middle;\n",
       "    }\n",
       "\n",
       "    .dataframe tbody tr th {\n",
       "        vertical-align: top;\n",
       "    }\n",
       "\n",
       "    .dataframe thead th {\n",
       "        text-align: right;\n",
       "    }\n",
       "</style>\n",
       "<table border=\"1\" class=\"dataframe\">\n",
       "  <thead>\n",
       "    <tr style=\"text-align: right;\">\n",
       "      <th></th>\n",
       "      <th>BG</th>\n",
       "      <th>DT</th>\n",
       "      <th>Dummy</th>\n",
       "      <th>GB</th>\n",
       "      <th>KNN</th>\n",
       "      <th>LR</th>\n",
       "      <th>RF</th>\n",
       "      <th>SVM</th>\n",
       "    </tr>\n",
       "    <tr>\n",
       "      <th>key</th>\n",
       "      <th></th>\n",
       "      <th></th>\n",
       "      <th></th>\n",
       "      <th></th>\n",
       "      <th></th>\n",
       "      <th></th>\n",
       "      <th></th>\n",
       "      <th></th>\n",
       "    </tr>\n",
       "  </thead>\n",
       "  <tbody>\n",
       "    <tr>\n",
       "      <th>precision</th>\n",
       "      <td>0.3133</td>\n",
       "      <td>0.3444</td>\n",
       "      <td>0.3143</td>\n",
       "      <td>0.3133</td>\n",
       "      <td>0.3181</td>\n",
       "      <td>0.3133</td>\n",
       "      <td>0.3133</td>\n",
       "      <td>0.3877</td>\n",
       "    </tr>\n",
       "    <tr>\n",
       "      <th>recall</th>\n",
       "      <td>1.0000</td>\n",
       "      <td>0.6406</td>\n",
       "      <td>0.4743</td>\n",
       "      <td>0.9998</td>\n",
       "      <td>0.8990</td>\n",
       "      <td>1.0000</td>\n",
       "      <td>1.0000</td>\n",
       "      <td>0.3703</td>\n",
       "    </tr>\n",
       "    <tr>\n",
       "      <th>f1</th>\n",
       "      <td>0.4771</td>\n",
       "      <td>0.4479</td>\n",
       "      <td>0.3781</td>\n",
       "      <td>0.4771</td>\n",
       "      <td>0.4699</td>\n",
       "      <td>0.4771</td>\n",
       "      <td>0.4771</td>\n",
       "      <td>0.3788</td>\n",
       "    </tr>\n",
       "    <tr>\n",
       "      <th>auc</th>\n",
       "      <td>0.6194</td>\n",
       "      <td>0.5452</td>\n",
       "      <td>0.5011</td>\n",
       "      <td>0.6045</td>\n",
       "      <td>0.5283</td>\n",
       "      <td>0.5697</td>\n",
       "      <td>0.6151</td>\n",
       "      <td>0.5738</td>\n",
       "    </tr>\n",
       "    <tr>\n",
       "      <th>cost_time</th>\n",
       "      <td>5.7424</td>\n",
       "      <td>0.0139</td>\n",
       "      <td>0.0525</td>\n",
       "      <td>0.3179</td>\n",
       "      <td>11.9054</td>\n",
       "      <td>0.0105</td>\n",
       "      <td>0.4606</td>\n",
       "      <td>9.1110</td>\n",
       "    </tr>\n",
       "  </tbody>\n",
       "</table>\n",
       "</div>"
      ],
      "text/plain": [
       "               BG      DT   Dummy      GB      KNN      LR      RF     SVM\n",
       "key                                                                       \n",
       "precision  0.3133  0.3444  0.3143  0.3133   0.3181  0.3133  0.3133  0.3877\n",
       "recall     1.0000  0.6406  0.4743  0.9998   0.8990  1.0000  1.0000  0.3703\n",
       "f1         0.4771  0.4479  0.3781  0.4771   0.4699  0.4771  0.4771  0.3788\n",
       "auc        0.6194  0.5452  0.5011  0.6045   0.5283  0.5697  0.6151  0.5738\n",
       "cost_time  5.7424  0.0139  0.0525  0.3179  11.9054  0.0105  0.4606  9.1110"
      ]
     },
     "execution_count": 56,
     "metadata": {},
     "output_type": "execute_result"
    }
   ],
   "source": [
    "# when precision at 0.01, the models comparison for all evaluation metrics\n",
    "data = dict()\n",
    "data['key'] =  ['precision', 'recall', 'f1', 'auc', 'cost_time']\n",
    "\n",
    "for k, metric in metrics.items():\n",
    "    data[k] = [metric[item] for item in data['key']]\n",
    "\n",
    "df_result = pd.DataFrame(data)\n",
    "\n",
    "df_result = df_result.set_index('key')\n",
    "df_result.head()"
   ]
  },
  {
   "cell_type": "markdown",
   "metadata": {},
   "source": [
    "## Appendix: the evaluation summary for the classifiers at different thresholds, 2010-2012/2013"
   ]
  },
  {
   "cell_type": "code",
   "execution_count": 59,
   "metadata": {},
   "outputs": [
    {
     "name": "stdout",
     "output_type": "stream",
     "text": [
      "--------------------------------------------------------------------------------\n",
      "Threshold:  0.001\n",
      "--------------------------------------------------------------------------------\n",
      "               BG      DT   Dummy      GB      KNN      LR      RF      SVM\n",
      "key                                                                        \n",
      "precision  0.3133  0.3451  0.3183  0.3133   0.3181  0.3133  0.3133   0.3881\n",
      "recall     1.0000  0.6669  0.4858  1.0000   0.8990  1.0000  1.0000   0.3708\n",
      "f1         0.4771  0.4549  0.3846  0.4771   0.4699  0.4771  0.4771   0.3793\n",
      "auc        0.6140  0.5497  0.5056  0.6044   0.5283  0.5701  0.6175   0.5738\n",
      "cost_time  6.2767  0.0142  0.0541  0.3553  11.7964  0.0176  0.5284  10.4293\n",
      "percent    1.0000  0.6055  0.4781  1.0000   0.8855  1.0000  1.0000   0.2994\n",
      "\n",
      "--------------------------------------------------------------------------------\n",
      "Threshold:  0.01\n",
      "--------------------------------------------------------------------------------\n",
      "               BG      DT   Dummy      GB      KNN      LR      RF      SVM\n",
      "key                                                                        \n",
      "precision  0.3133  0.3451  0.3087  0.3133   0.3181  0.3133  0.3133   0.3877\n",
      "recall     1.0000  0.6669  0.4718  0.9999   0.8990  1.0000  1.0000   0.3703\n",
      "f1         0.4771  0.4549  0.3732  0.4771   0.4699  0.4771  0.4771   0.3788\n",
      "auc        0.6140  0.5497  0.4948  0.6044   0.5283  0.5701  0.6175   0.5738\n",
      "cost_time  5.8145  0.0140  0.0570  0.3184  12.7141  0.0092  0.4920  10.0075\n",
      "percent    1.0000  0.6055  0.4789  0.9999   0.8855  1.0000  1.0000   0.2992\n",
      "\n",
      "--------------------------------------------------------------------------------\n",
      "Threshold:  0.02\n",
      "--------------------------------------------------------------------------------\n",
      "               BG      DT   Dummy      GB      KNN      LR      RF      SVM\n",
      "key                                                                        \n",
      "precision  0.3133  0.3451  0.3122  0.3133   0.3181  0.3133  0.3133   0.3873\n",
      "recall     1.0000  0.6669  0.4728  0.9997   0.8990  1.0000  1.0000   0.3696\n",
      "f1         0.4771  0.4549  0.3761  0.4771   0.4699  0.4771  0.4771   0.3782\n",
      "auc        0.6140  0.5497  0.4988  0.6044   0.5283  0.5701  0.6175   0.5738\n",
      "cost_time  6.2374  0.0155  0.0527  0.3486  12.1959  0.0091  0.5079  10.3516\n",
      "percent    1.0000  0.6055  0.4745  0.9995   0.8855  1.0000  1.0000   0.2990\n",
      "\n",
      "--------------------------------------------------------------------------------\n",
      "Threshold:  0.05\n",
      "--------------------------------------------------------------------------------\n",
      "               BG      DT   Dummy      GB      KNN      LR      RF      SVM\n",
      "key                                                                        \n",
      "precision  0.3133  0.3451  0.3149  0.3134   0.3181  0.3133  0.3133   0.3871\n",
      "recall     1.0000  0.6669  0.4789  0.9971   0.8990  1.0000  1.0000   0.3689\n",
      "f1         0.4771  0.4549  0.3800  0.4768   0.4699  0.4771  0.4771   0.3778\n",
      "auc        0.6140  0.5497  0.5017  0.6044   0.5283  0.5701  0.6175   0.5738\n",
      "cost_time  5.8754  0.0151  0.0542  0.3397  12.2025  0.0097  0.4901  10.6902\n",
      "percent    1.0000  0.6055  0.4765  0.9969   0.8855  1.0000  1.0000   0.2986\n",
      "\n",
      "--------------------------------------------------------------------------------\n",
      "Threshold:  0.1\n",
      "--------------------------------------------------------------------------------\n",
      "               BG      DT   Dummy      GB      KNN      LR      RF     SVM\n",
      "key                                                                       \n",
      "precision  0.3133  0.3451  0.3149  0.3148   0.3181  0.3133  0.3133  0.3858\n",
      "recall     1.0000  0.6669  0.4807  0.9903   0.8990  1.0000  1.0000  0.3669\n",
      "f1         0.4771  0.4549  0.3805  0.4777   0.4699  0.4771  0.4771  0.3761\n",
      "auc        0.6140  0.5497  0.5018  0.6044   0.5283  0.5701  0.6175  0.5738\n",
      "cost_time  5.7833  0.0129  0.0645  0.3207  11.8734  0.0113  0.4829  9.3830\n",
      "percent    1.0000  0.6055  0.4783  0.9858   0.8855  1.0000  1.0000  0.2979\n",
      "\n",
      "--------------------------------------------------------------------------------\n",
      "Threshold:  0.2\n",
      "--------------------------------------------------------------------------------\n",
      "               BG      DT   Dummy      GB      KNN      LR      RF     SVM\n",
      "key                                                                       \n",
      "precision  0.3135  0.3451  0.3126  0.3208   0.3181  0.3133  0.3133  0.3820\n",
      "recall     0.9997  0.6669  0.4760  0.9621   0.8990  1.0000  0.9989  0.3610\n",
      "f1         0.4773  0.4549  0.3774  0.4812   0.4699  0.4771  0.4770  0.3712\n",
      "auc        0.6140  0.5497  0.4992  0.6044   0.5283  0.5701  0.6175  0.5738\n",
      "cost_time  6.2254  0.0146  0.0781  0.3519  12.1350  0.0189  0.5132  9.7108\n",
      "percent    0.9992  0.6055  0.4770  0.9396   0.8855  1.0000  0.9990  0.2961\n",
      "\n",
      "--------------------------------------------------------------------------------\n",
      "Threshold:  0.3\n",
      "--------------------------------------------------------------------------------\n",
      "               BG      DT   Dummy      GB      KNN      LR      RF     SVM\n",
      "key                                                                       \n",
      "precision  0.3156  0.3452  0.3090  0.3295   0.3215  0.3131  0.3164  0.3773\n",
      "recall     0.9937  0.6641  0.4689  0.8919   0.7112  0.9991  0.9882  0.3539\n",
      "f1         0.4791  0.4543  0.3725  0.4813   0.4428  0.4768  0.4793  0.3652\n",
      "auc        0.6140  0.5497  0.4952  0.6044   0.5283  0.5701  0.6175  0.5738\n",
      "cost_time  5.7369  0.0149  0.0549  0.3237  12.2423  0.0094  0.4637  9.8635\n",
      "percent    0.9864  0.6027  0.4754  0.8480   0.6932  0.9996  0.9786  0.2939\n",
      "\n",
      "--------------------------------------------------------------------------------\n",
      "Threshold:  0.5\n",
      "--------------------------------------------------------------------------------\n",
      "               BG      DT   Dummy      GB      KNN      LR      RF     SVM\n",
      "key                                                                       \n",
      "precision  0.3707  0.3467  0.3162  0.3651   0.3336  0.3671  0.3638  0.3762\n",
      "recall     0.6176  0.6567  0.4885  0.6533   0.4838  0.4920  0.6486  0.3522\n",
      "f1         0.4633  0.4538  0.3839  0.4684   0.3949  0.4205  0.4661  0.3638\n",
      "auc        0.6140  0.5497  0.5032  0.6044   0.5283  0.5701  0.6175  0.5738\n",
      "cost_time  5.9610  0.0130  0.0509  0.3275  11.9093  0.0095  0.4760  9.4507\n",
      "percent    0.5219  0.5934  0.4841  0.5607   0.4544  0.4199  0.5586  0.2934\n",
      "\n"
     ]
    }
   ],
   "source": [
    "for idx, threshold in enumerate(thresholds):\n",
    "    print('-'*80)\n",
    "    print(\"Threshold: \", threshold)\n",
    "    print('-'*80)\n",
    "\n",
    "    metrics, probas = threshold_metrics[str(threshold)]\n",
    "    data = dict()\n",
    "    data['key'] =  ['precision', 'recall', 'f1', 'auc', 'cost_time', 'percent']\n",
    "\n",
    "    for k, metric in metrics.items():\n",
    "        data[k] = [metric[item] for item in data['key']]\n",
    "\n",
    "    df_result = pd.DataFrame(data)\n",
    "\n",
    "    df_result = df_result.set_index('key')\n",
    "    print(df_result)\n",
    "    print()"
   ]
  },
  {
   "cell_type": "markdown",
   "metadata": {},
   "source": [
    "# Appendix: the evaluation summary for the classifiers at different percents of population over time"
   ]
  },
  {
   "cell_type": "code",
   "execution_count": 66,
   "metadata": {},
   "outputs": [
    {
     "name": "stdout",
     "output_type": "stream",
     "text": [
      "--------------------------------------------------------------------------------\n",
      "train: 2007-2009, test: 2010\n",
      "               BG      DT   Dummy      GB     KNN      LR      RF     SVM\n",
      "key                                                                      \n",
      "top-0.02   0.3133  0.3465  0.3077  0.3133  0.3181  0.3133  0.3133  0.3873\n",
      "top-0.025  0.3133  0.3465  0.3148  0.3133  0.3181  0.3133  0.3133  0.3873\n",
      "top-0.03   0.3133  0.3465  0.3118  0.3133  0.3181  0.3133  0.3133  0.3871\n",
      "top-0.05   0.3133  0.3465  0.3148  0.3133  0.3181  0.3133  0.3133  0.3871\n",
      "top-0.08   0.3133  0.3465  0.3116  0.3143  0.3181  0.3133  0.3133  0.3864\n",
      "top-0.1    0.3133  0.3465  0.3148  0.3149  0.3181  0.3133  0.3133  0.3858\n",
      "top-0.25   0.3141  0.3465  0.3133  0.3255  0.3215  0.3133  0.3140  0.3804\n",
      "--------------------------------------------------------------------------------\n",
      "train: 2008-2010, test: 2011\n",
      "               BG      DT   Dummy      GB     KNN      LR      RF     SVM\n",
      "key                                                                      \n",
      "top-0.02   0.3133  0.3330  0.3112  0.3133  0.3181  0.3133  0.3133  0.3873\n",
      "top-0.025  0.3133  0.3330  0.3124  0.3134  0.3181  0.3133  0.3133  0.3873\n",
      "top-0.03   0.3133  0.3330  0.3146  0.3134  0.3181  0.3133  0.3133  0.3871\n",
      "top-0.05   0.3133  0.3330  0.3182  0.3134  0.3181  0.3133  0.3133  0.3871\n",
      "top-0.08   0.3133  0.3330  0.3116  0.3141  0.3181  0.3133  0.3133  0.3864\n",
      "top-0.1    0.3133  0.3330  0.3163  0.3147  0.3181  0.3133  0.3133  0.3858\n",
      "top-0.25   0.3143  0.3348  0.3122  0.3248  0.3215  0.3133  0.3139  0.3804\n",
      "--------------------------------------------------------------------------------\n",
      "train: 2009-2011, test: 2012\n",
      "               BG      DT   Dummy      GB     KNN      LR      RF     SVM\n",
      "key                                                                      \n",
      "top-0.02   0.3133  0.3559  0.3084  0.3134  0.3181  0.3133  0.3133  0.3873\n",
      "top-0.025  0.3133  0.3559  0.3122  0.3133  0.3181  0.3133  0.3133  0.3873\n",
      "top-0.03   0.3133  0.3559  0.3129  0.3133  0.3181  0.3133  0.3133  0.3871\n",
      "top-0.05   0.3133  0.3559  0.3173  0.3134  0.3181  0.3133  0.3133  0.3871\n",
      "top-0.08   0.3133  0.3559  0.3155  0.3145  0.3181  0.3133  0.3133  0.3864\n",
      "top-0.1    0.3133  0.3559  0.3112  0.3153  0.3181  0.3133  0.3133  0.3858\n",
      "top-0.25   0.3141  0.3559  0.3138  0.3249  0.3215  0.3133  0.3141  0.3804\n",
      "--------------------------------------------------------------------------------\n",
      "train: 2010-2012, test: 2013\n",
      "               BG      DT   Dummy      GB     KNN      LR      RF     SVM\n",
      "key                                                                      \n",
      "top-0.02   0.3133  0.3485  0.3127  0.3133  0.3181  0.3133  0.3133  0.3873\n",
      "top-0.025  0.3133  0.3485  0.3149  0.3134  0.3181  0.3133  0.3133  0.3873\n",
      "top-0.03   0.3133  0.3485  0.3097  0.3134  0.3181  0.3133  0.3133  0.3871\n",
      "top-0.05   0.3133  0.3485  0.3163  0.3133  0.3181  0.3133  0.3133  0.3871\n",
      "top-0.08   0.3133  0.3485  0.3170  0.3143  0.3181  0.3133  0.3133  0.3864\n",
      "top-0.1    0.3133  0.3485  0.3127  0.3150  0.3181  0.3133  0.3133  0.3858\n",
      "top-0.25   0.3141  0.3485  0.3138  0.3249  0.3215  0.3133  0.3142  0.3804\n"
     ]
    }
   ],
   "source": [
    "data_description = ['train: 2007-2009, test: 2010', 'train: 2008-2010, test: 2011',\n",
    "                   'train: 2009-2011, test: 2012', 'train: 2010-2012, test: 2013']\n",
    "\n",
    "percents = [0.02, 0.025, 0.03, 0.05, 0.08, 0.1, 0.25]\n",
    "\n",
    "for idx, (x_train, y_train, x_test, y_test) in enumerate(dataset):\n",
    "    print('-'*80)\n",
    "    print(data_description[idx])\n",
    "\n",
    "    classifiers = train_classifiers(all_best, idx)\n",
    "    \n",
    "    threshold_metrics = {}\n",
    "    for percent in percents:\n",
    "        threshold_metrics[str(percent)] = evaluate_classifiers(classifiers, x_test, y_test, percent)[0]\n",
    "        \n",
    "    data = dict()\n",
    "    data['key'] =  ['top-%s' % item for item in percents]\n",
    "\n",
    "    for k, p in all_best.items():\n",
    "        data[k] = [threshold_metrics[str(percent)][k]['precision'] for percent in percents]\n",
    "\n",
    "    df_result = pd.DataFrame(data)\n",
    "    df_result = df_result.set_index('key')\n",
    "    print(df_result)"
   ]
  }
 ],
 "metadata": {
  "kernelspec": {
   "display_name": "Python 3.6.4",
   "language": "python",
   "name": "python3"
  },
  "language_info": {
   "codemirror_mode": {
    "name": "ipython",
    "version": 3
   },
   "file_extension": ".py",
   "mimetype": "text/x-python",
   "name": "python",
   "nbconvert_exporter": "python",
   "pygments_lexer": "ipython3",
   "version": "3.6.4"
  }
 },
 "nbformat": 4,
 "nbformat_minor": 2
}
